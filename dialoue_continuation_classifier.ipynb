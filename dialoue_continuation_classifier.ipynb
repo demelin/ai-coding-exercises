{
  "nbformat": 4,
  "nbformat_minor": 0,
  "metadata": {
    "colab": {
      "provenance": [],
      "gpuType": "T4",
      "authorship_tag": "ABX9TyNG5Gt9DMtY6EfvnvMwFb1C",
      "include_colab_link": true
    },
    "kernelspec": {
      "name": "python3",
      "display_name": "Python 3"
    },
    "language_info": {
      "name": "python"
    },
    "accelerator": "GPU"
  },
  "cells": [
    {
      "cell_type": "markdown",
      "metadata": {
        "id": "view-in-github",
        "colab_type": "text"
      },
      "source": [
        "<a href=\"https://colab.research.google.com/github/demelin/ai_reimplementations/blob/main/dialoue_continuation_classifier.ipynb\" target=\"_parent\"><img src=\"https://colab.research.google.com/assets/colab-badge.svg\" alt=\"Open In Colab\"/></a>"
      ]
    },
    {
      "cell_type": "code",
      "execution_count": null,
      "metadata": {
        "colab": {
          "base_uri": "https://localhost:8080/"
        },
        "id": "_coCATN7hkOv",
        "outputId": "4c39462b-ebc5-4221-a386-50dd3ca893bb"
      },
      "outputs": [
        {
          "output_type": "stream",
          "name": "stdout",
          "text": [
            "Requirement already satisfied: numba in /usr/local/lib/python3.10/dist-packages (0.58.1)\n",
            "Requirement already satisfied: llvmlite<0.42,>=0.41.0dev0 in /usr/local/lib/python3.10/dist-packages (from numba) (0.41.1)\n",
            "Requirement already satisfied: numpy<1.27,>=1.22 in /usr/local/lib/python3.10/dist-packages (from numba) (1.25.2)\n",
            "Requirement already satisfied: datasets in /usr/local/lib/python3.10/dist-packages (2.18.0)\n",
            "Requirement already satisfied: filelock in /usr/local/lib/python3.10/dist-packages (from datasets) (3.13.4)\n",
            "Requirement already satisfied: numpy>=1.17 in /usr/local/lib/python3.10/dist-packages (from datasets) (1.25.2)\n",
            "Requirement already satisfied: pyarrow>=12.0.0 in /usr/local/lib/python3.10/dist-packages (from datasets) (14.0.2)\n",
            "Requirement already satisfied: pyarrow-hotfix in /usr/local/lib/python3.10/dist-packages (from datasets) (0.6)\n",
            "Requirement already satisfied: dill<0.3.9,>=0.3.0 in /usr/local/lib/python3.10/dist-packages (from datasets) (0.3.8)\n",
            "Requirement already satisfied: pandas in /usr/local/lib/python3.10/dist-packages (from datasets) (2.0.3)\n",
            "Requirement already satisfied: requests>=2.19.0 in /usr/local/lib/python3.10/dist-packages (from datasets) (2.31.0)\n",
            "Requirement already satisfied: tqdm>=4.62.1 in /usr/local/lib/python3.10/dist-packages (from datasets) (4.66.2)\n",
            "Requirement already satisfied: xxhash in /usr/local/lib/python3.10/dist-packages (from datasets) (3.4.1)\n",
            "Requirement already satisfied: multiprocess in /usr/local/lib/python3.10/dist-packages (from datasets) (0.70.16)\n",
            "Requirement already satisfied: fsspec[http]<=2024.2.0,>=2023.1.0 in /usr/local/lib/python3.10/dist-packages (from datasets) (2023.6.0)\n",
            "Requirement already satisfied: aiohttp in /usr/local/lib/python3.10/dist-packages (from datasets) (3.9.3)\n",
            "Requirement already satisfied: huggingface-hub>=0.19.4 in /usr/local/lib/python3.10/dist-packages (from datasets) (0.20.3)\n",
            "Requirement already satisfied: packaging in /usr/local/lib/python3.10/dist-packages (from datasets) (24.0)\n",
            "Requirement already satisfied: pyyaml>=5.1 in /usr/local/lib/python3.10/dist-packages (from datasets) (6.0.1)\n",
            "Requirement already satisfied: aiosignal>=1.1.2 in /usr/local/lib/python3.10/dist-packages (from aiohttp->datasets) (1.3.1)\n",
            "Requirement already satisfied: attrs>=17.3.0 in /usr/local/lib/python3.10/dist-packages (from aiohttp->datasets) (23.2.0)\n",
            "Requirement already satisfied: frozenlist>=1.1.1 in /usr/local/lib/python3.10/dist-packages (from aiohttp->datasets) (1.4.1)\n",
            "Requirement already satisfied: multidict<7.0,>=4.5 in /usr/local/lib/python3.10/dist-packages (from aiohttp->datasets) (6.0.5)\n",
            "Requirement already satisfied: yarl<2.0,>=1.0 in /usr/local/lib/python3.10/dist-packages (from aiohttp->datasets) (1.9.4)\n",
            "Requirement already satisfied: async-timeout<5.0,>=4.0 in /usr/local/lib/python3.10/dist-packages (from aiohttp->datasets) (4.0.3)\n",
            "Requirement already satisfied: typing-extensions>=3.7.4.3 in /usr/local/lib/python3.10/dist-packages (from huggingface-hub>=0.19.4->datasets) (4.11.0)\n",
            "Requirement already satisfied: charset-normalizer<4,>=2 in /usr/local/lib/python3.10/dist-packages (from requests>=2.19.0->datasets) (3.3.2)\n",
            "Requirement already satisfied: idna<4,>=2.5 in /usr/local/lib/python3.10/dist-packages (from requests>=2.19.0->datasets) (3.6)\n",
            "Requirement already satisfied: urllib3<3,>=1.21.1 in /usr/local/lib/python3.10/dist-packages (from requests>=2.19.0->datasets) (2.0.7)\n",
            "Requirement already satisfied: certifi>=2017.4.17 in /usr/local/lib/python3.10/dist-packages (from requests>=2.19.0->datasets) (2024.2.2)\n",
            "Requirement already satisfied: python-dateutil>=2.8.2 in /usr/local/lib/python3.10/dist-packages (from pandas->datasets) (2.8.2)\n",
            "Requirement already satisfied: pytz>=2020.1 in /usr/local/lib/python3.10/dist-packages (from pandas->datasets) (2023.4)\n",
            "Requirement already satisfied: tzdata>=2022.1 in /usr/local/lib/python3.10/dist-packages (from pandas->datasets) (2024.1)\n",
            "Requirement already satisfied: six>=1.5 in /usr/local/lib/python3.10/dist-packages (from python-dateutil>=2.8.2->pandas->datasets) (1.16.0)\n"
          ]
        }
      ],
      "source": [
        "!pip install datasets"
      ]
    },
    {
      "cell_type": "code",
      "source": [
        "import os\n",
        "import json\n",
        "import torch\n",
        "import pickle\n",
        "import random\n",
        "import numpy as np\n",
        "\n",
        "from tqdm import trange, tqdm\n",
        "from torch.utils.data import (\n",
        "    Dataset, DataLoader, RandomSampler, SequentialSampler)\n",
        "from transformers import (\n",
        "    AutoConfig, AutoTokenizer,\n",
        "    AutoModelForSequenceClassification,\n",
        "    get_linear_schedule_with_warmup, get_constant_schedule)\n",
        "from datasets import load_dataset"
      ],
      "metadata": {
        "id": "zfgn7Wuin5A0"
      },
      "execution_count": null,
      "outputs": []
    },
    {
      "cell_type": "code",
      "source": [
        "# Define experiment configuration\n",
        "\n",
        "\n",
        "class Config(object):\n",
        "\n",
        "  \"\"\" Contains default settings for model training and evaluation. \"\"\"\n",
        "\n",
        "  def __init__(\n",
        "      self,\n",
        "      max_seq_len=256,\n",
        "      train_batch_size=32,\n",
        "      eval_batch_size=32,\n",
        "      gradient_accumulation_steps=4,\n",
        "      num_train_steps=1000,\n",
        "      eval_after_steps=50,\n",
        "      patience=3,\n",
        "      learning_rate=1e-5,\n",
        "      weight_decay=0.01,\n",
        "      adam_epsilon=1e-8,\n",
        "      max_grad_norm=1.0,\n",
        "      random_seed=42,\n",
        "      logging_steps=25,\n",
        "      use_cpu=False,\n",
        "      checkpoint=\"facebookAI/roberta-base\",\n",
        "      dataset=\"daily_dialog\"\n",
        "      ):\n",
        "\n",
        "    self.max_seq_len = max_seq_len\n",
        "    self.train_batch_size = train_batch_size\n",
        "    self.eval_batch_size = eval_batch_size\n",
        "    self.gradient_accumulation_steps = gradient_accumulation_steps\n",
        "    self.num_train_steps = num_train_steps\n",
        "    self.learning_rate = learning_rate\n",
        "    self.eval_after_steps = eval_after_steps\n",
        "    self.patience = patience\n",
        "    self.weight_decay = weight_decay\n",
        "    self.adam_epsilon = adam_epsilon\n",
        "    self.max_grad_norm = max_grad_norm\n",
        "\n",
        "    self.use_cpu = use_cpu\n",
        "    self.checkpoint = checkpoint\n",
        "    self.dataset = dataset\n",
        "    self.random_seed = random_seed\n",
        "    self.logging_steps = logging_steps"
      ],
      "metadata": {
        "id": "6hheh7zRoHQf"
      },
      "execution_count": null,
      "outputs": []
    },
    {
      "cell_type": "code",
      "source": [
        "class NewDataset(Dataset):\n",
        "\n",
        "    \"\"\" Dataset object for model training. Expected as input by DataLoader. \"\"\"\n",
        "\n",
        "    def __init__(self, input_ids, attention_masks, labels):\n",
        "\n",
        "        self.input_ids = input_ids\n",
        "        self.attention_masks = attention_masks\n",
        "        self.labels = labels\n",
        "\n",
        "    def __len__(self):\n",
        "\n",
        "        return len(self.labels)\n",
        "\n",
        "    def __getitem__(self, item_id):\n",
        "\n",
        "        input_ids = self.input_ids[item_id]\n",
        "        attention_mask = self.attention_masks[item_id]\n",
        "        label = self.labels[item_id]\n",
        "        sample = {\n",
        "            \"input_ids\": input_ids,\n",
        "            \"labels\": label,\n",
        "            \"attention_mask\": attention_mask,\n",
        "            }\n",
        "\n",
        "        return sample"
      ],
      "metadata": {
        "id": "dp96-TlfMxKY"
      },
      "execution_count": null,
      "outputs": []
    },
    {
      "cell_type": "code",
      "source": [
        "# Prepare data for training / evaluation / testing\n",
        "\n",
        "class DataProcessor(object):\n",
        "\n",
        "  \"\"\" Prepares data for use with the model and returs\n",
        "    data + DataLoader objects. \"\"\"\n",
        "\n",
        "  def __init__(self, config, tokenizer):\n",
        "\n",
        "    self.config = config\n",
        "    self.tokenizer = tokenizer\n",
        "    self.labels_list = [0, 1]\n",
        "    self.num_labels = len(self.labels_list)\n",
        "\n",
        "    # Load data\n",
        "    self.train_data, self.eval_data, self.test_data = self._get_raw_data()\n",
        "    # Transorm data\n",
        "    self.train_data = self._transform_data(self.train_data)\n",
        "    self.eval_data = self._transform_data(self.eval_data)\n",
        "    self.test_data = self._transform_data(self.test_data, is_test=True)\n",
        "    # Embed training and valiadtion data\n",
        "    train_samples = self.encode_truncate_pad(self.train_data)\n",
        "    eval_samples = self.encode_truncate_pad(self.eval_data)\n",
        "    # Create Datasets\n",
        "    train_dataset =  self._make_dataset(train_samples)\n",
        "    eval_dataset =  self._make_dataset(eval_samples)\n",
        "\n",
        "    # Create DataLoaders\n",
        "    # Use a random sampler for training\n",
        "    train_sampler = RandomSampler(train_dataset)\n",
        "    self.train_dataloader = DataLoader(train_dataset,\n",
        "                                       sampler=train_sampler,\n",
        "                                       batch_size=self.config.train_batch_size)\n",
        "\n",
        "    # Use a sequential sampler for evaluation for consistency\n",
        "    eval_sampler = SequentialSampler(eval_dataset)\n",
        "    self.eval_dataloader = DataLoader(eval_dataset,\n",
        "                                      sampler=eval_sampler,\n",
        "                                      batch_size=self.config.eval_batch_size)\n",
        "\n",
        "\n",
        "  def _get_raw_data(self):\n",
        "\n",
        "    \"\"\" Downloads datasets from HuggingFace Datasets;\n",
        "      Assumes use of the DailyDialog dataset, may require adjustment for other\n",
        "      datasets. \"\"\"\n",
        "\n",
        "    print(\"Dowloading data ...\")\n",
        "    # For prototyping purposes, we only look at a subset of the data\n",
        "    train_data = load_dataset(\n",
        "        self.config.dataset, split=\"train\")[\"dialog\"]\n",
        "    eval_data = load_dataset(\n",
        "        self.config.dataset, split=\"validation\")[:500][\"dialog\"]\n",
        "    test_data = load_dataset(\n",
        "        self.config.dataset, split=\"test\")[\"dialog\"]\n",
        "\n",
        "    return train_data, eval_data, test_data\n",
        "\n",
        "\n",
        "  def _transform_data(self, dialog_list, num_distractors=1, is_test=False):\n",
        "\n",
        "    \"\"\" Transforms available dialogs for the dialog-completion task. \"\"\"\n",
        "\n",
        "    print(\"Transforming data ...\")\n",
        "    # Declare dialogue participant \"tags\"; customizable / optional\n",
        "    person_tags = [\"Person 1\", \"Person 2\"]\n",
        "\n",
        "    # dialog_list is a list of lists, with the final element in each list\n",
        "    # representing the target continuation\n",
        "    # 1. Split dialogues into context and target\n",
        "    # 2. Sample distractor continuations form other dialogs for each dialog\n",
        "    # 3. Create model inputs by paring contexts with continuations and assigning\n",
        "    # a label to each sample\n",
        "\n",
        "    # Note: Here the distractors are selected at random, but we can exploit\n",
        "    # semantic similarity and other methods to \"mine\" hard distractors for\n",
        "    # more robust models\n",
        "\n",
        "    # Obtain true samples\n",
        "    true_samples = list()\n",
        "    distractor_bank = set()\n",
        "    for dlg in dialog_list:\n",
        "      # Add person tags to the context sentences (may not be neccessary?)\n",
        "      context_text = dlg[:-1] + [\" \"]\n",
        "      aug_context_text = list()\n",
        "      for turn_id, turn in enumerate(context_text):\n",
        "        turn = \"{:s}: {}\".format(person_tags[turn_id % len(person_tags)],\n",
        "                                 turn.strip())\n",
        "\n",
        "        aug_context_text.append(turn)\n",
        "\n",
        "      new_sample = {\"context\": ' '.join(aug_context_text),\n",
        "                    \"target\": dlg[-1],\n",
        "                    \"label\": 1}\n",
        "      true_samples.append(new_sample)\n",
        "      distractor_bank.add(new_sample[\"target\"])\n",
        "\n",
        "    # Get negative samples for training and eval\n",
        "    if not is_test:\n",
        "      # Obtain false samples\n",
        "      false_samples = list()\n",
        "      distractor_bank = list(distractor_bank)\n",
        "      for ts in true_samples:\n",
        "        for _ in range(num_distractors):\n",
        "          sampled_distractor = random.choice(distractor_bank)\n",
        "          # make sure the distractor is different from the true target\n",
        "          while sampled_distractor == ts[\"target\"]:\n",
        "            sampled_distractor = random.choice(distractor_bank)\n",
        "          false_samples.append({\"context\": ts[\"context\"],\n",
        "                                \"target\": sampled_distractor,\n",
        "                                \"label\": 0})\n",
        "\n",
        "        # Combine and shuffle\n",
        "        all_samples = true_samples + false_samples\n",
        "\n",
        "    else:\n",
        "      # Test data is created differently, by pairing each context with N\n",
        "      # (e.g. 5 here) distractors; in 50% of cases correct continuation is\n",
        "      # replaced with another distractor\n",
        "\n",
        "      random.uniform(0, 1)\n",
        "\n",
        "      # Create test samples\n",
        "      all_samples = list()\n",
        "      distractor_bank = list(distractor_bank)\n",
        "      for ts in true_samples:\n",
        "        keep_true = random.uniform(0., 1.)\n",
        "        if keep_true < 0.5:\n",
        "          # Keep the true continuation\n",
        "          target_list = [ts[\"target\"]]\n",
        "          num_distractors = 5\n",
        "        else:\n",
        "          # Replace true continuation with distractor\n",
        "          target_list = list()\n",
        "          num_distractors = 6\n",
        "\n",
        "        for _ in range(num_distractors):\n",
        "          sampled_distractor = random.choice(distractor_bank)\n",
        "          while sampled_distractor == ts[\"target\"] or sampled_distractor in target_list:\n",
        "            sampled_distractor = random.choice(distractor_bank)\n",
        "          target_list.append(sampled_distractor)\n",
        "\n",
        "        # Get ID of correct continuation\n",
        "        if keep_true < 0.5:\n",
        "          label = ts[\"target\"]\n",
        "        else:\n",
        "          label = -1\n",
        "\n",
        "        all_samples.append({\"context\": ts[\"context\"],\n",
        "                            \"targets\": target_list,\n",
        "                            \"label\": label})\n",
        "\n",
        "    return all_samples\n",
        "\n",
        "\n",
        "  def encode_truncate_pad(self, dialog_samples):\n",
        "      \"\"\" Encodes, truncates, and pads the individual samples. \"\"\"\n",
        "\n",
        "      # RoBERTa specific tokenizer properties for smart-ish truncation\n",
        "      num_special_tokens = 4  # 1 * <s> + 3 * </s>\n",
        "      max_sample_len = self.config.max_seq_len - num_special_tokens\n",
        "\n",
        "      # Truncation strategy: Only runcate the context, by truncating the\n",
        "      # beginning of the context rather than its end, as the context end is\n",
        "      # likely to be more predictive of the dialog continuation\n",
        "      print(\"Encoding data ...\")\n",
        "      encoded_samples = list()\n",
        "      for ds in dialog_samples:\n",
        "        # Encode context and target\n",
        "        context_ids = self.tokenizer.encode(ds[\"context\"], add_special_tokens=False)\n",
        "        target_ids = self.tokenizer.encode(ds[\"target\"], add_special_tokens=False)\n",
        "\n",
        "        # Skip sample if the response is too long\n",
        "        if len(target_ids) >= (max_sample_len - 100):\n",
        "          continue\n",
        "\n",
        "        max_context_len = max_sample_len - len(target_ids)\n",
        "        # Truncate context\n",
        "        truncated_context_ids = context_ids[\n",
        "            max(0, len(context_ids) - max_context_len):]\n",
        "        sample_ids = [self.tokenizer.bos_token_id] + truncated_context_ids + [\n",
        "            self.tokenizer.sep_token_id] * 2 + target_ids\n",
        "        # Create attention mask\n",
        "        attention_mask = [1] * len(sample_ids)\n",
        "        # Pad sequences to max_seq_len if necessary\n",
        "        pad_size = self.config.max_seq_len - len(sample_ids)\n",
        "        if pad_size > 0:\n",
        "            sample_ids += [self.tokenizer.pad_token_id] * pad_size\n",
        "            attention_mask += [0] * pad_size\n",
        "\n",
        "        # Collect\n",
        "        encoded_samples.append({\"input_ids\": sample_ids,\n",
        "                                \"attention_mask\": attention_mask,\n",
        "                                \"label\": ds[\"label\"]})\n",
        "\n",
        "      return encoded_samples\n",
        "\n",
        "\n",
        "  def _make_dataset(self, encoded_samples):\n",
        "\n",
        "    \"\"\" Converts encoded sample into a format usable by the PLM. \"\"\"\n",
        "\n",
        "    # Convert to tensors\n",
        "    feature_dict = {\n",
        "      \"input_ids\": torch.tensor(\n",
        "          [s[\"input_ids\"] for s in encoded_samples], dtype=torch.long),\n",
        "      \"attention_masks\": torch.tensor(\n",
        "          [s[\"attention_mask\"] for s in encoded_samples], dtype=torch.long),\n",
        "      \"labels\": torch.tensor(\n",
        "          [s[\"label\"] for s in encoded_samples], dtype=torch.long)\n",
        "      }\n",
        "\n",
        "    # Create DataSet\n",
        "    return NewDataset(feature_dict[\"input_ids\"],\n",
        "                      feature_dict[\"attention_masks\"],\n",
        "                      feature_dict[\"labels\"])\n"
      ],
      "metadata": {
        "id": "KbLfB5iuCsPa"
      },
      "execution_count": null,
      "outputs": []
    },
    {
      "cell_type": "code",
      "source": [
        "# Models to use for sequence cclassification method: \"xlm-roberta-base\" (implemented here)\n",
        "# Models to use for embedding-based method: \"bert-base\" + transformer layer stack (initialized randomly)\n",
        "# Datasets:\n",
        "#   English-only: DailyDialogue\n",
        "#   Multilingual: Opensubtitles (requires splitting into turns, cleaning; but seems overall promising)\n",
        "#       Model: xlm-roberta\n",
        "\n",
        "\n",
        "class ModelTrainer(object):\n",
        "\n",
        "  \"\"\" Trains and evaluates a dialogue-continuation classifier. \"\"\"\n",
        "\n",
        "  def __init__(self, config, tokenizer, data_processor,\n",
        "               model_id=0, model_path=None):\n",
        "\n",
        "    # Instantiate variables\n",
        "    self.config = config\n",
        "    self.tokenizer = tokenizer\n",
        "    self.data_processor = data_processor\n",
        "\n",
        "    # Initialize model to fine-tune (either from HF or from disc)\n",
        "    # We use two taget labels, one denoting a valid dialogue continuation and\n",
        "    # another denoting an invalid one\n",
        "    if model_path is None:\n",
        "        self.model = AutoModelForSequenceClassification.from_pretrained(\n",
        "            self.config.checkpoint, num_labels=2)\n",
        "    else:\n",
        "        self.model = AutoModelForSequenceClassification.from_pretrained(\n",
        "            model_path)\n",
        "\n",
        "    # Check if GPU can be used\n",
        "    self.device = \"cuda\" if torch.cuda.is_available() and not self.config.use_cpu else \"cpu\"\n",
        "    if self.device == \"cuda\":\n",
        "      print(\"CUDA is available, using GPU for model training and evaluation.\")\n",
        "    else:\n",
        "      print(\"CUDA is unavailable, using CPU for model training and evaluation.\")\n",
        "    self.model.to(self.device)\n",
        "\n",
        "    # Define model name\n",
        "    self.model_name = \"next_sentence_cls_{}\".format(model_id)  # for multiple runs\n",
        "\n",
        "    # Create dataloaders for training and validation\n",
        "    self.train_dataloader = self.data_processor.train_dataloader\n",
        "    self.eval_dataloader = self.data_processor.eval_dataloader\n",
        "    # Get test data for testing\n",
        "    self.test_data = self.data_processor.test_data\n",
        "\n",
        "    # Model saving path\n",
        "    self.root_dir = \"/content/\"\n",
        "    self.model_save_path = \"/content/train_run_{:d}\".format(model_id)\n",
        "    if not os.path.isdir(self.model_save_path):\n",
        "          os.mkdir(self.model_save_path)\n",
        "\n",
        "\n",
        "  def train(self):\n",
        "\n",
        "    \"\"\" Trains the model. \"\"\"\n",
        "\n",
        "    # Compute number of training epochs from total training steps\n",
        "    num_train_epochs = max(1, int(np.round(self.config.num_train_steps // max(\n",
        "        1, (len(self.train_dataloader)) // self.config.gradient_accumulation_steps))))\n",
        "\n",
        "    # Prepare optimizer and schedule (linear warmup and decay)\n",
        "    no_decay = ['bias', 'LayerNorm.weight']\n",
        "    optimizer_grouped_parameters = [\n",
        "        {'params': [p for n, p in self.model.named_parameters() if not any(\n",
        "            nd in n for nd in no_decay)],\n",
        "          'weight_decay': self.config.weight_decay},\n",
        "        {'params': [p for n, p in self.model.named_parameters() if any(\n",
        "            nd in n for nd in no_decay)],\n",
        "          'weight_decay': 0.0}]\n",
        "    optimizer = torch.optim.AdamW(optimizer_grouped_parameters,\n",
        "                                  lr=self.config.learning_rate,\n",
        "                                  eps=self.config.adam_epsilon)\n",
        "    scheduler = get_linear_schedule_with_warmup(\n",
        "        optimizer,\n",
        "        num_warmup_steps=1,\n",
        "        num_training_steps=self.config.num_train_steps)\n",
        "\n",
        "    # Initialize traning variables\n",
        "    step, global_step = 0, 0\n",
        "    tr_loss, last_reported_loss = 0.0, 0.0\n",
        "    mean_training_loss = 0.0\n",
        "    best_eval_acc = 0.\n",
        "    stale_count = 0\n",
        "    # Reset model gradient\n",
        "    self.model.zero_grad()\n",
        "\n",
        "    print(\"Starting training model: {:s}\".format(self.model_name))\n",
        "\n",
        "    # Report hyper-parameters used during training\n",
        "    print('=' * 20)\n",
        "    print('Hyperparameters:')\n",
        "    print(\"\\tmax_seq_len: {}\".format(self.config.max_seq_len))\n",
        "    print(\"\\tgradient_accumulation_steps: {}\".format(\n",
        "        self.config.gradient_accumulation_steps))\n",
        "    print(\"\\tnum_train_steps: {}\".format(self.config.num_train_steps))\n",
        "    print(\"\\tlearning_rate: {}\".format(self.config.learning_rate))\n",
        "    print(\"\\tweight_decay: {}\".format(self.config.weight_decay))\n",
        "    print(\"\\tadam_epsilon: {}\".format(self.config.adam_epsilon))\n",
        "    print(\"\\tmax_grad_norm: {}\".format(self.config.max_grad_norm))\n",
        "    print(\"\\ttrain_batch_size: {}\".format(self.config.train_batch_size))\n",
        "    print(\"\\teval_batch_size: {}\".format(self.config.eval_batch_size))\n",
        "    print('=' * 20)\n",
        "\n",
        "    train_iterator = trange(num_train_epochs, desc=\"Epoch\")\n",
        "    for epoch_id, _ in enumerate(train_iterator):\n",
        "      epoch_iterator = tqdm(self.train_dataloader, desc=\"Iteration\")\n",
        "      for batch_id, batch in enumerate(epoch_iterator):\n",
        "\n",
        "        # Training mode\n",
        "        self.model.train()\n",
        "        batch_inputs = {k: t.to(self.device) for k, t in batch.items()}\n",
        "        outputs = self.model(**batch_inputs)\n",
        "\n",
        "        # Compute model loss\n",
        "        loss = outputs.loss\n",
        "\n",
        "        # Accumulate loss for gradient accumulation\n",
        "        loss = loss / self.config.gradient_accumulation_steps\n",
        "\n",
        "        # Track training loss\n",
        "        tr_loss += loss.item()\n",
        "\n",
        "        # Get gradients\n",
        "        loss.backward()\n",
        "        step += 1\n",
        "\n",
        "        # Update model after N gradient accumulation steps\n",
        "        if step % self.config.gradient_accumulation_steps == 0:\n",
        "          # Backpropagate, reglarize, optimize\n",
        "          torch.nn.utils.clip_grad_norm_(\n",
        "              self.model.parameters(), self.config.max_grad_norm)\n",
        "          optimizer.step()\n",
        "          scheduler.step()\n",
        "          # Reset gradient\n",
        "          self.model.zero_grad()\n",
        "          global_step += 1\n",
        "\n",
        "          # Report\n",
        "          if global_step % self.config.logging_steps == 0:\n",
        "            curr_mean_loss = (\n",
        "                tr_loss - last_reported_loss) / self.config.logging_steps\n",
        "            curr_learning_rate = scheduler.get_last_lr()\n",
        "            last_reported_loss = tr_loss\n",
        "            print(\"\\tGlobal step: {:d} | LR: {} | Avg. loss: {:.3f}\".format(\n",
        "                global_step, curr_learning_rate, curr_mean_loss))\n",
        "\n",
        "          # Evaluate\n",
        "          if global_step % self.config.eval_after_steps == 0:\n",
        "            print(\"=\" * 20)\n",
        "            print(\"\\tEvaluating on valiadtion set!\")\n",
        "            eval_acc = self.eval()\n",
        "            if eval_acc > best_eval_acc:\n",
        "              best_eval_acc = eval_acc\n",
        "              stale_count = 0\n",
        "              # Save best model\n",
        "              self._save_model()\n",
        "            else:\n",
        "              stale_count += 1\n",
        "            print(\"\\tEvaluation accuracy: {:.3f} | Stale count: {:d}\".format(\n",
        "                eval_acc, stale_count))\n",
        "            print(\"=\" * 20)\n",
        "            if stale_count >= self.config.patience:\n",
        "              print(\"Early stop!\")\n",
        "              break\n",
        "\n",
        "        # Stop iteration after maximum number of training steps\n",
        "        if self.config.num_train_steps < global_step:\n",
        "          epoch_iterator.close()\n",
        "          break\n",
        "\n",
        "      # Stop iteration after maximum number of training steps\n",
        "      if 0 < self.config.num_train_steps < global_step or stale_count >= self.config.patience:\n",
        "        train_iterator.close()\n",
        "        mean_training_loss = tr_loss / global_step\n",
        "        print(\"== Finished training model: {:s} ==\".format(self.model_name))\n",
        "        print(\"\\tMean training loss: {:.3f}\".format(mean_training_loss))\n",
        "        break\n",
        "\n",
        "    # Report mean training loss for weighted logit combination\n",
        "    return global_step, mean_training_loss\n",
        "\n",
        "\n",
        "  def eval(self):\n",
        "\n",
        "    \"\"\" Evaluates the model. \"\"\"\n",
        "\n",
        "    # Track performance\n",
        "    eval_step = 0\n",
        "    eval_acc = 0.\n",
        "\n",
        "    # Iterate over evaluation data\n",
        "    for batch_id, batch in enumerate(\n",
        "        tqdm(self.eval_dataloader, desc=\"Evaluating\")):\n",
        "\n",
        "      # Evaluation mode\n",
        "      self.model.eval()\n",
        "\n",
        "      # Iterate over evaluation data\n",
        "      with torch.no_grad():\n",
        "        # Prepare inputs\n",
        "        batch_inputs = {\n",
        "            \"input_ids\": batch[\"input_ids\"],\n",
        "            \"attention_mask\": batch[\"attention_mask\"]\n",
        "            }\n",
        "        labels = batch[\"labels\"].to(self.device)\n",
        "\n",
        "        batch_inputs = {k: t.to(self.device) for k, t in batch_inputs.items()}\n",
        "        # Get outputs\n",
        "        outputs = self.model(**batch_inputs)\n",
        "        # Get model loss\n",
        "        logits = outputs[0]\n",
        "\n",
        "      # Compute model accuracy\n",
        "      batch_acc = self._compute_accuracy(logits, labels)\n",
        "      print(batch_acc)\n",
        "      eval_acc += batch_acc\n",
        "      eval_step += 1\n",
        "\n",
        "    # Report model accuracy on the evaluation set\n",
        "    mean_eval_acc = eval_acc / eval_step\n",
        "    print(\"== Finished evaluating model: {:s} ==\".format(self.model_name))\n",
        "    print(\"\\tMean evaluation acc: {:.3f}\".format(mean_eval_acc))\n",
        "\n",
        "    return mean_eval_acc\n",
        "\n",
        "\n",
        "  def test(self, context=None, targets=None, label=None):\n",
        "\n",
        "    \"\"\" Tests the model on some arbitrary context-target pair.\n",
        "      In case multiple continuations are marked as valid, returns the one that\n",
        "      the model is most confident in. \"\"\"\n",
        "\n",
        "    # Prepare data for input to model\n",
        "    # If no data was provided by user, sample from test data\n",
        "\n",
        "    if context is None or targets is None:\n",
        "      print(\"Sampling a test item from the test data!\")\n",
        "      test_sample = random.choice(self.test_data)\n",
        "      context = test_sample[\"context\"]\n",
        "      targets = test_sample[\"targets\"]\n",
        "      label = test_sample[\"label\"]\n",
        "    else:\n",
        "      if type(context) == list:\n",
        "        context = \" \".join([c.strip() for c in context])\n",
        "\n",
        "    print(\"Context: {}\".format(context))\n",
        "    print(\"Targets: {}\".format(targets))\n",
        "    print(\"Expected output: {}\".format(label))\n",
        "\n",
        "    # Create test samples\n",
        "    test_samples = list()\n",
        "    for tgt in targets:\n",
        "      test_samples.append({\"context\": context,\n",
        "                           \"target\": tgt,\n",
        "                           \"label\": int(tgt == label)})\n",
        "    test_samples = self.data_processor.encode_truncate_pad(test_samples)\n",
        "\n",
        "\n",
        "    # Evaluation mode\n",
        "    self.model.eval()\n",
        "\n",
        "    out_id = None\n",
        "    max_conf = 0.\n",
        "    # Iterate over continuations\n",
        "    for smp_id, smp in enumerate(test_samples):\n",
        "\n",
        "      with torch.no_grad():\n",
        "        # Prepare inputs\n",
        "        input_ids = torch.tensor([smp[\"input_ids\"]], dtype=torch.long)\n",
        "        attention_mask = torch.tensor([smp[\"attention_mask\"]], dtype=torch.long)\n",
        "        batch_inputs = {\n",
        "          \"input_ids\": input_ids,\n",
        "          \"attention_mask\": attention_mask\n",
        "          }\n",
        "        batch_inputs = {k: t.to(self.device) for k, t in batch_inputs.items()}\n",
        "        # Get outputs\n",
        "        outputs = self.model(**batch_inputs)\n",
        "        # Get model loss\n",
        "        logits = outputs[0]\n",
        "        # Get model prediction and confidence\n",
        "        probs = torch.nn.functional.softmax(logits, dim=-1)\n",
        "        conf, cls = torch.max(probs, -1)\n",
        "        if cls == 1:\n",
        "          if conf > max_conf:\n",
        "            out_id = smp_id\n",
        "            max_conf = conf\n",
        "\n",
        "    if out_id is None:\n",
        "      return -1\n",
        "\n",
        "    else:\n",
        "      return targets[out_id]\n",
        "\n",
        "\n",
        "  @staticmethod\n",
        "  def _compute_accuracy(preds, labels):\n",
        "\n",
        "    \"\"\" Helper for computing evaluation accuracy \"\"\"\n",
        "\n",
        "    return (torch.argmax(preds, -1) == labels).float().mean().item()\n",
        "\n",
        "\n",
        "  def _save_model(self):\n",
        "\n",
        "    \"\"\" Saves a model checkpoint to disk. \"\"\"\n",
        "\n",
        "    # Save model\n",
        "    model = self.model.module if hasattr(self.model, 'module') else self.model\n",
        "    model.save_pretrained(self.model_save_path)\n",
        "\n"
      ],
      "metadata": {
        "id": "F9T0K-pKrUqw"
      },
      "execution_count": null,
      "outputs": []
    },
    {
      "cell_type": "code",
      "source": [
        "# Initialize config\n",
        "config = Config()\n",
        "\n",
        "# Set random seed\n",
        "random.seed(config.random_seed)\n",
        "torch.manual_seed(config.random_seed)\n",
        "if torch.cuda.is_available():\n",
        "  torch.cuda.manual_seed_all(config.random_seed)\n",
        "\n",
        "# Initialize tokenizer\n",
        "tokenizer = AutoTokenizer.from_pretrained(config.checkpoint)"
      ],
      "metadata": {
        "colab": {
          "base_uri": "https://localhost:8080/"
        },
        "id": "fE5KvfijxLzB",
        "outputId": "b3ad6a75-1631-4a01-e528-84d502d6564b"
      },
      "execution_count": null,
      "outputs": [
        {
          "output_type": "stream",
          "name": "stderr",
          "text": [
            "/usr/local/lib/python3.10/dist-packages/huggingface_hub/utils/_token.py:88: UserWarning: \n",
            "The secret `HF_TOKEN` does not exist in your Colab secrets.\n",
            "To authenticate with the Hugging Face Hub, create a token in your settings tab (https://huggingface.co/settings/tokens), set it as secret in your Google Colab and restart your session.\n",
            "You will be able to reuse this secret in all of your notebooks.\n",
            "Please note that authentication is recommended but still optional to access public models or datasets.\n",
            "  warnings.warn(\n"
          ]
        }
      ]
    },
    {
      "cell_type": "code",
      "source": [
        "# Prepare data\n",
        "data_processor = DataProcessor(config, tokenizer)"
      ],
      "metadata": {
        "colab": {
          "base_uri": "https://localhost:8080/"
        },
        "id": "C3Z3mQdke3_X",
        "outputId": "f7ade206-d683-4b10-a146-5ad6c472c6e3"
      },
      "execution_count": null,
      "outputs": [
        {
          "output_type": "stream",
          "name": "stdout",
          "text": [
            "Dowloading data ...\n",
            "Transforming data ...\n",
            "Transforming data ...\n",
            "Transforming data ...\n",
            "Encoding data ...\n"
          ]
        },
        {
          "output_type": "stream",
          "name": "stderr",
          "text": [
            "Token indices sequence length is longer than the specified maximum sequence length for this model (785 > 512). Running this sequence through the model will result in indexing errors\n"
          ]
        },
        {
          "output_type": "stream",
          "name": "stdout",
          "text": [
            "Encoding data ...\n"
          ]
        }
      ]
    },
    {
      "cell_type": "code",
      "source": [
        "# Reset GPU\n",
        "torch.cuda.empty_cache()"
      ],
      "metadata": {
        "id": "LcO34oyU6G5f"
      },
      "execution_count": null,
      "outputs": []
    },
    {
      "cell_type": "code",
      "source": [
        "trainer = ModelTrainer(config, tokenizer, data_processor)\n"
      ],
      "metadata": {
        "colab": {
          "base_uri": "https://localhost:8080/"
        },
        "id": "HbM4Eot_zbFn",
        "outputId": "a525807c-eb80-437d-9d38-af381fcf8d57"
      },
      "execution_count": null,
      "outputs": [
        {
          "output_type": "stream",
          "name": "stderr",
          "text": [
            "Some weights of RobertaForSequenceClassification were not initialized from the model checkpoint at facebookAI/roberta-base and are newly initialized: ['classifier.dense.bias', 'classifier.dense.weight', 'classifier.out_proj.bias', 'classifier.out_proj.weight']\n",
            "You should probably TRAIN this model on a down-stream task to be able to use it for predictions and inference.\n"
          ]
        },
        {
          "output_type": "stream",
          "name": "stdout",
          "text": [
            "CUDA is available, using GPU for model training and evaluation.\n"
          ]
        }
      ]
    },
    {
      "cell_type": "code",
      "source": [
        "# Train model\n",
        "trainer.train()\n"
      ],
      "metadata": {
        "colab": {
          "base_uri": "https://localhost:8080/"
        },
        "id": "Cl-r-Jr3cRk0",
        "outputId": "f112f43c-629b-4d48-f7f8-52096355b441"
      },
      "execution_count": null,
      "outputs": [
        {
          "output_type": "stream",
          "name": "stdout",
          "text": [
            "Starting training model: next_sentence_cls_0\n",
            "====================\n",
            "Hyperparameters:\n",
            "\tmax_seq_len: 256\n",
            "\tgradient_accumulation_steps: 4\n",
            "\tnum_train_steps: 1000\n",
            "\tlearning_rate: 1e-05\n",
            "\tweight_decay: 0.01\n",
            "\tadam_epsilon: 1e-08\n",
            "\tmax_grad_norm: 1.0\n",
            "\ttrain_batch_size: 32\n",
            "\teval_batch_size: 32\n",
            "====================\n"
          ]
        },
        {
          "output_type": "stream",
          "name": "stderr",
          "text": [
            "Epoch:   0%|          | 0/5 [00:00<?, ?it/s]\n",
            "Iteration:   0%|          | 0/695 [00:00<?, ?it/s]\u001b[A\n",
            "Iteration:   0%|          | 1/695 [00:01<20:20,  1.76s/it]\u001b[A\n",
            "Iteration:   0%|          | 2/695 [00:02<11:27,  1.01it/s]\u001b[A\n",
            "Iteration:   0%|          | 3/695 [00:03<12:29,  1.08s/it]\u001b[A\n",
            "Iteration:   1%|          | 4/695 [00:05<16:53,  1.47s/it]\u001b[A\n",
            "Iteration:   1%|          | 5/695 [00:05<12:41,  1.10s/it]\u001b[A\n",
            "Iteration:   1%|          | 6/695 [00:07<13:06,  1.14s/it]\u001b[A\n",
            "Iteration:   1%|          | 7/695 [00:08<13:19,  1.16s/it]\u001b[A\n",
            "Iteration:   1%|          | 8/695 [00:09<13:28,  1.18s/it]\u001b[A\n",
            "Iteration:   1%|▏         | 9/695 [00:10<13:45,  1.20s/it]\u001b[A\n",
            "Iteration:   1%|▏         | 10/695 [00:12<13:50,  1.21s/it]\u001b[A\n",
            "Iteration:   2%|▏         | 11/695 [00:13<13:53,  1.22s/it]\u001b[A\n",
            "Iteration:   2%|▏         | 12/695 [00:14<13:57,  1.23s/it]\u001b[A\n",
            "Iteration:   2%|▏         | 13/695 [00:15<14:06,  1.24s/it]\u001b[A\n",
            "Iteration:   2%|▏         | 14/695 [00:17<14:06,  1.24s/it]\u001b[A\n",
            "Iteration:   2%|▏         | 15/695 [00:18<14:09,  1.25s/it]\u001b[A\n",
            "Iteration:   2%|▏         | 16/695 [00:19<14:12,  1.26s/it]\u001b[A\n",
            "Iteration:   2%|▏         | 17/695 [00:20<14:16,  1.26s/it]\u001b[A\n",
            "Iteration:   3%|▎         | 18/695 [00:22<14:13,  1.26s/it]\u001b[A\n",
            "Iteration:   3%|▎         | 19/695 [00:23<14:11,  1.26s/it]\u001b[A\n",
            "Iteration:   3%|▎         | 20/695 [00:24<14:09,  1.26s/it]\u001b[A\n",
            "Iteration:   3%|▎         | 21/695 [00:25<14:18,  1.27s/it]\u001b[A\n",
            "Iteration:   3%|▎         | 22/695 [00:27<14:14,  1.27s/it]\u001b[A\n",
            "Iteration:   3%|▎         | 23/695 [00:28<14:11,  1.27s/it]\u001b[A\n",
            "Iteration:   3%|▎         | 24/695 [00:29<14:13,  1.27s/it]\u001b[A\n",
            "Iteration:   4%|▎         | 25/695 [00:31<14:23,  1.29s/it]\u001b[A\n",
            "Iteration:   4%|▎         | 26/695 [00:32<14:18,  1.28s/it]\u001b[A\n",
            "Iteration:   4%|▍         | 27/695 [00:33<14:15,  1.28s/it]\u001b[A\n",
            "Iteration:   4%|▍         | 28/695 [00:34<14:17,  1.29s/it]\u001b[A\n",
            "Iteration:   4%|▍         | 29/695 [00:36<14:23,  1.30s/it]\u001b[A\n",
            "Iteration:   4%|▍         | 30/695 [00:37<14:22,  1.30s/it]\u001b[A\n",
            "Iteration:   4%|▍         | 31/695 [00:38<14:24,  1.30s/it]\u001b[A\n",
            "Iteration:   5%|▍         | 32/695 [00:40<14:24,  1.30s/it]\u001b[A\n",
            "Iteration:   5%|▍         | 33/695 [00:41<14:28,  1.31s/it]\u001b[A\n",
            "Iteration:   5%|▍         | 34/695 [00:42<14:21,  1.30s/it]\u001b[A\n",
            "Iteration:   5%|▌         | 35/695 [00:44<14:18,  1.30s/it]\u001b[A\n",
            "Iteration:   5%|▌         | 36/695 [00:45<14:15,  1.30s/it]\u001b[A\n",
            "Iteration:   5%|▌         | 37/695 [00:46<14:18,  1.31s/it]\u001b[A\n",
            "Iteration:   5%|▌         | 38/695 [00:47<14:11,  1.30s/it]\u001b[A\n",
            "Iteration:   6%|▌         | 39/695 [00:49<14:09,  1.29s/it]\u001b[A\n",
            "Iteration:   6%|▌         | 40/695 [00:50<14:05,  1.29s/it]\u001b[A\n",
            "Iteration:   6%|▌         | 41/695 [00:51<14:06,  1.29s/it]\u001b[A\n",
            "Iteration:   6%|▌         | 42/695 [00:53<14:00,  1.29s/it]\u001b[A\n",
            "Iteration:   6%|▌         | 43/695 [00:54<13:56,  1.28s/it]\u001b[A\n",
            "Iteration:   6%|▋         | 44/695 [00:55<14:21,  1.32s/it]\u001b[A\n",
            "Iteration:   6%|▋         | 45/695 [00:57<14:06,  1.30s/it]\u001b[A\n",
            "Iteration:   7%|▋         | 46/695 [00:58<13:39,  1.26s/it]\u001b[A\n",
            "Iteration:   7%|▋         | 47/695 [00:59<13:37,  1.26s/it]\u001b[A\n",
            "Iteration:   7%|▋         | 48/695 [01:00<13:37,  1.26s/it]\u001b[A\n",
            "Iteration:   7%|▋         | 49/695 [01:02<13:44,  1.28s/it]\u001b[A\n",
            "Iteration:   7%|▋         | 50/695 [01:03<13:40,  1.27s/it]\u001b[A\n",
            "Iteration:   7%|▋         | 51/695 [01:04<13:36,  1.27s/it]\u001b[A\n",
            "Iteration:   7%|▋         | 52/695 [01:05<13:33,  1.27s/it]\u001b[A\n",
            "Iteration:   8%|▊         | 53/695 [01:07<13:36,  1.27s/it]\u001b[A\n",
            "Iteration:   8%|▊         | 54/695 [01:08<13:33,  1.27s/it]\u001b[A\n",
            "Iteration:   8%|▊         | 55/695 [01:09<13:26,  1.26s/it]\u001b[A\n",
            "Iteration:   8%|▊         | 56/695 [01:10<13:25,  1.26s/it]\u001b[A\n",
            "Iteration:   8%|▊         | 57/695 [01:12<13:31,  1.27s/it]\u001b[A\n",
            "Iteration:   8%|▊         | 58/695 [01:13<13:27,  1.27s/it]\u001b[A\n",
            "Iteration:   8%|▊         | 59/695 [01:14<13:20,  1.26s/it]\u001b[A\n",
            "Iteration:   9%|▊         | 60/695 [01:15<13:19,  1.26s/it]\u001b[A\n",
            "Iteration:   9%|▉         | 61/695 [01:17<13:23,  1.27s/it]\u001b[A\n",
            "Iteration:   9%|▉         | 62/695 [01:18<13:18,  1.26s/it]\u001b[A\n",
            "Iteration:   9%|▉         | 63/695 [01:19<13:14,  1.26s/it]\u001b[A\n",
            "Iteration:   9%|▉         | 64/695 [01:20<13:11,  1.26s/it]\u001b[A\n",
            "Iteration:   9%|▉         | 65/695 [01:22<13:13,  1.26s/it]\u001b[A\n",
            "Iteration:   9%|▉         | 66/695 [01:23<13:08,  1.25s/it]\u001b[A\n",
            "Iteration:  10%|▉         | 67/695 [01:24<13:06,  1.25s/it]\u001b[A\n",
            "Iteration:  10%|▉         | 68/695 [01:25<13:04,  1.25s/it]\u001b[A\n",
            "Iteration:  10%|▉         | 69/695 [01:27<13:10,  1.26s/it]\u001b[A\n",
            "Iteration:  10%|█         | 70/695 [01:28<13:03,  1.25s/it]\u001b[A\n",
            "Iteration:  10%|█         | 71/695 [01:29<13:02,  1.25s/it]\u001b[A\n",
            "Iteration:  10%|█         | 72/695 [01:30<12:59,  1.25s/it]\u001b[A\n",
            "Iteration:  11%|█         | 73/695 [01:32<13:04,  1.26s/it]\u001b[A\n",
            "Iteration:  11%|█         | 74/695 [01:33<13:00,  1.26s/it]\u001b[A\n",
            "Iteration:  11%|█         | 75/695 [01:34<12:56,  1.25s/it]\u001b[A\n",
            "Iteration:  11%|█         | 76/695 [01:36<12:56,  1.26s/it]\u001b[A\n",
            "Iteration:  11%|█         | 77/695 [01:37<13:01,  1.26s/it]\u001b[A\n",
            "Iteration:  11%|█         | 78/695 [01:38<12:58,  1.26s/it]\u001b[A\n",
            "Iteration:  11%|█▏        | 79/695 [01:39<12:52,  1.25s/it]\u001b[A\n",
            "Iteration:  12%|█▏        | 80/695 [01:41<12:50,  1.25s/it]\u001b[A\n",
            "Iteration:  12%|█▏        | 81/695 [01:42<12:53,  1.26s/it]\u001b[A\n",
            "Iteration:  12%|█▏        | 82/695 [01:43<12:50,  1.26s/it]\u001b[A\n",
            "Iteration:  12%|█▏        | 83/695 [01:44<12:50,  1.26s/it]\u001b[A\n",
            "Iteration:  12%|█▏        | 84/695 [01:46<12:48,  1.26s/it]\u001b[A\n",
            "Iteration:  12%|█▏        | 85/695 [01:47<12:51,  1.27s/it]\u001b[A\n",
            "Iteration:  12%|█▏        | 86/695 [01:48<12:46,  1.26s/it]\u001b[A\n",
            "Iteration:  13%|█▎        | 87/695 [01:49<12:44,  1.26s/it]\u001b[A\n",
            "Iteration:  13%|█▎        | 88/695 [01:51<12:45,  1.26s/it]\u001b[A\n",
            "Iteration:  13%|█▎        | 89/695 [01:52<12:53,  1.28s/it]\u001b[A\n",
            "Iteration:  13%|█▎        | 90/695 [01:53<12:47,  1.27s/it]\u001b[A\n",
            "Iteration:  13%|█▎        | 91/695 [01:54<12:43,  1.26s/it]\u001b[A\n",
            "Iteration:  13%|█▎        | 92/695 [01:56<12:42,  1.26s/it]\u001b[A\n",
            "Iteration:  13%|█▎        | 93/695 [01:57<12:48,  1.28s/it]\u001b[A\n",
            "Iteration:  14%|█▎        | 94/695 [01:58<12:41,  1.27s/it]\u001b[A\n",
            "Iteration:  14%|█▎        | 95/695 [02:00<12:37,  1.26s/it]\u001b[A\n",
            "Iteration:  14%|█▍        | 96/695 [02:01<12:38,  1.27s/it]\u001b[A\n",
            "Iteration:  14%|█▍        | 97/695 [02:02<12:41,  1.27s/it]\u001b[A\n",
            "Iteration:  14%|█▍        | 98/695 [02:03<12:37,  1.27s/it]\u001b[A\n",
            "Iteration:  14%|█▍        | 99/695 [02:05<12:33,  1.26s/it]\u001b[A\n",
            "Iteration:  14%|█▍        | 100/695 [02:06<12:34,  1.27s/it]\u001b[A"
          ]
        },
        {
          "output_type": "stream",
          "name": "stdout",
          "text": [
            "\tGlobal step: 25 | LR: [9.75975975975976e-06, 9.75975975975976e-06] | Avg. loss: 0.697\n"
          ]
        },
        {
          "output_type": "stream",
          "name": "stderr",
          "text": [
            "\n",
            "Iteration:  15%|█▍        | 101/695 [02:07<12:36,  1.27s/it]\u001b[A\n",
            "Iteration:  15%|█▍        | 102/695 [02:08<12:35,  1.27s/it]\u001b[A\n",
            "Iteration:  15%|█▍        | 103/695 [02:10<12:32,  1.27s/it]\u001b[A\n",
            "Iteration:  15%|█▍        | 104/695 [02:11<12:31,  1.27s/it]\u001b[A\n",
            "Iteration:  15%|█▌        | 105/695 [02:12<12:35,  1.28s/it]\u001b[A\n",
            "Iteration:  15%|█▌        | 106/695 [02:14<12:31,  1.28s/it]\u001b[A\n",
            "Iteration:  15%|█▌        | 107/695 [02:15<12:28,  1.27s/it]\u001b[A\n",
            "Iteration:  16%|█▌        | 108/695 [02:16<12:24,  1.27s/it]\u001b[A\n",
            "Iteration:  16%|█▌        | 109/695 [02:17<12:28,  1.28s/it]\u001b[A\n",
            "Iteration:  16%|█▌        | 110/695 [02:19<12:23,  1.27s/it]\u001b[A\n",
            "Iteration:  16%|█▌        | 111/695 [02:20<12:24,  1.27s/it]\u001b[A\n",
            "Iteration:  16%|█▌        | 112/695 [02:21<12:26,  1.28s/it]\u001b[A\n",
            "Iteration:  16%|█▋        | 113/695 [02:22<12:26,  1.28s/it]\u001b[A\n",
            "Iteration:  16%|█▋        | 114/695 [02:24<12:19,  1.27s/it]\u001b[A\n",
            "Iteration:  17%|█▋        | 115/695 [02:25<12:17,  1.27s/it]\u001b[A\n",
            "Iteration:  17%|█▋        | 116/695 [02:26<12:13,  1.27s/it]\u001b[A\n",
            "Iteration:  17%|█▋        | 117/695 [02:28<12:17,  1.28s/it]\u001b[A\n",
            "Iteration:  17%|█▋        | 118/695 [02:29<12:13,  1.27s/it]\u001b[A\n",
            "Iteration:  17%|█▋        | 119/695 [02:30<12:09,  1.27s/it]\u001b[A\n",
            "Iteration:  17%|█▋        | 120/695 [02:31<12:07,  1.27s/it]\u001b[A\n",
            "Iteration:  17%|█▋        | 121/695 [02:33<12:12,  1.28s/it]\u001b[A\n",
            "Iteration:  18%|█▊        | 122/695 [02:34<12:08,  1.27s/it]\u001b[A\n",
            "Iteration:  18%|█▊        | 123/695 [02:35<12:04,  1.27s/it]\u001b[A\n",
            "Iteration:  18%|█▊        | 124/695 [02:36<12:02,  1.27s/it]\u001b[A\n",
            "Iteration:  18%|█▊        | 125/695 [02:38<12:05,  1.27s/it]\u001b[A\n",
            "Iteration:  18%|█▊        | 126/695 [02:39<12:00,  1.27s/it]\u001b[A\n",
            "Iteration:  18%|█▊        | 127/695 [02:40<11:57,  1.26s/it]\u001b[A\n",
            "Iteration:  18%|█▊        | 128/695 [02:41<11:56,  1.26s/it]\u001b[A\n",
            "Iteration:  19%|█▊        | 129/695 [02:43<12:00,  1.27s/it]\u001b[A\n",
            "Iteration:  19%|█▊        | 130/695 [02:44<11:55,  1.27s/it]\u001b[A\n",
            "Iteration:  19%|█▉        | 131/695 [02:45<11:53,  1.26s/it]\u001b[A\n",
            "Iteration:  19%|█▉        | 132/695 [02:47<11:48,  1.26s/it]\u001b[A\n",
            "Iteration:  19%|█▉        | 133/695 [02:48<11:51,  1.27s/it]\u001b[A\n",
            "Iteration:  19%|█▉        | 134/695 [02:49<11:46,  1.26s/it]\u001b[A\n",
            "Iteration:  19%|█▉        | 135/695 [02:50<11:45,  1.26s/it]\u001b[A\n",
            "Iteration:  20%|█▉        | 136/695 [02:52<11:44,  1.26s/it]\u001b[A\n",
            "Iteration:  20%|█▉        | 137/695 [02:53<11:48,  1.27s/it]\u001b[A\n",
            "Iteration:  20%|█▉        | 138/695 [02:54<11:43,  1.26s/it]\u001b[A\n",
            "Iteration:  20%|██        | 139/695 [02:55<11:40,  1.26s/it]\u001b[A\n",
            "Iteration:  20%|██        | 140/695 [02:57<11:41,  1.26s/it]\u001b[A\n",
            "Iteration:  20%|██        | 141/695 [02:58<11:44,  1.27s/it]\u001b[A\n",
            "Iteration:  20%|██        | 142/695 [02:59<11:41,  1.27s/it]\u001b[A\n",
            "Iteration:  21%|██        | 143/695 [03:00<11:38,  1.27s/it]\u001b[A\n",
            "Iteration:  21%|██        | 144/695 [03:02<11:35,  1.26s/it]\u001b[A\n",
            "Iteration:  21%|██        | 145/695 [03:03<11:39,  1.27s/it]\u001b[A\n",
            "Iteration:  21%|██        | 146/695 [03:04<11:33,  1.26s/it]\u001b[A\n",
            "Iteration:  21%|██        | 147/695 [03:05<11:30,  1.26s/it]\u001b[A\n",
            "Iteration:  21%|██▏       | 148/695 [03:07<11:29,  1.26s/it]\u001b[A\n",
            "Iteration:  21%|██▏       | 149/695 [03:08<11:35,  1.27s/it]\u001b[A\n",
            "Iteration:  22%|██▏       | 150/695 [03:09<11:29,  1.27s/it]\u001b[A\n",
            "Iteration:  22%|██▏       | 151/695 [03:11<11:25,  1.26s/it]\u001b[A\n",
            "Iteration:  22%|██▏       | 152/695 [03:12<11:23,  1.26s/it]\u001b[A\n",
            "Iteration:  22%|██▏       | 153/695 [03:13<11:29,  1.27s/it]\u001b[A\n",
            "Iteration:  22%|██▏       | 154/695 [03:14<11:23,  1.26s/it]\u001b[A\n",
            "Iteration:  22%|██▏       | 155/695 [03:16<11:21,  1.26s/it]\u001b[A\n",
            "Iteration:  22%|██▏       | 156/695 [03:17<11:19,  1.26s/it]\u001b[A\n",
            "Iteration:  23%|██▎       | 157/695 [03:18<11:22,  1.27s/it]\u001b[A\n",
            "Iteration:  23%|██▎       | 158/695 [03:19<11:18,  1.26s/it]\u001b[A\n",
            "Iteration:  23%|██▎       | 159/695 [03:21<11:16,  1.26s/it]\u001b[A\n",
            "Iteration:  23%|██▎       | 160/695 [03:22<11:17,  1.27s/it]\u001b[A\n",
            "Iteration:  23%|██▎       | 161/695 [03:23<11:18,  1.27s/it]\u001b[A\n",
            "Iteration:  23%|██▎       | 162/695 [03:24<11:12,  1.26s/it]\u001b[A\n",
            "Iteration:  23%|██▎       | 163/695 [03:26<11:12,  1.26s/it]\u001b[A\n",
            "Iteration:  24%|██▎       | 164/695 [03:27<11:10,  1.26s/it]\u001b[A\n",
            "Iteration:  24%|██▎       | 165/695 [03:28<11:13,  1.27s/it]\u001b[A\n",
            "Iteration:  24%|██▍       | 166/695 [03:30<11:09,  1.27s/it]\u001b[A\n",
            "Iteration:  24%|██▍       | 167/695 [03:31<11:06,  1.26s/it]\u001b[A\n",
            "Iteration:  24%|██▍       | 168/695 [03:32<11:06,  1.26s/it]\u001b[A\n",
            "Iteration:  24%|██▍       | 169/695 [03:33<11:10,  1.27s/it]\u001b[A\n",
            "Iteration:  24%|██▍       | 170/695 [03:35<11:05,  1.27s/it]\u001b[A\n",
            "Iteration:  25%|██▍       | 171/695 [03:36<11:02,  1.26s/it]\u001b[A\n",
            "Iteration:  25%|██▍       | 172/695 [03:37<11:02,  1.27s/it]\u001b[A\n",
            "Iteration:  25%|██▍       | 173/695 [03:38<11:05,  1.27s/it]\u001b[A\n",
            "Iteration:  25%|██▌       | 174/695 [03:40<11:01,  1.27s/it]\u001b[A\n",
            "Iteration:  25%|██▌       | 175/695 [03:41<10:57,  1.27s/it]\u001b[A\n",
            "Iteration:  25%|██▌       | 176/695 [03:42<10:56,  1.26s/it]\u001b[A\n",
            "Iteration:  25%|██▌       | 177/695 [03:44<11:01,  1.28s/it]\u001b[A\n",
            "Iteration:  26%|██▌       | 178/695 [03:45<10:57,  1.27s/it]\u001b[A\n",
            "Iteration:  26%|██▌       | 179/695 [03:46<10:55,  1.27s/it]\u001b[A\n",
            "Iteration:  26%|██▌       | 180/695 [03:47<10:50,  1.26s/it]\u001b[A\n",
            "Iteration:  26%|██▌       | 181/695 [03:49<10:55,  1.27s/it]\u001b[A\n",
            "Iteration:  26%|██▌       | 182/695 [03:50<10:51,  1.27s/it]\u001b[A\n",
            "Iteration:  26%|██▋       | 183/695 [03:51<10:48,  1.27s/it]\u001b[A\n",
            "Iteration:  26%|██▋       | 184/695 [03:52<10:46,  1.26s/it]\u001b[A\n",
            "Iteration:  27%|██▋       | 185/695 [03:54<10:51,  1.28s/it]\u001b[A\n",
            "Iteration:  27%|██▋       | 186/695 [03:55<10:46,  1.27s/it]\u001b[A\n",
            "Iteration:  27%|██▋       | 187/695 [03:56<10:44,  1.27s/it]\u001b[A\n",
            "Iteration:  27%|██▋       | 188/695 [03:57<10:44,  1.27s/it]\u001b[A\n",
            "Iteration:  27%|██▋       | 189/695 [03:59<10:44,  1.27s/it]\u001b[A\n",
            "Iteration:  27%|██▋       | 190/695 [04:00<10:40,  1.27s/it]\u001b[A\n",
            "Iteration:  27%|██▋       | 191/695 [04:01<10:37,  1.27s/it]\u001b[A\n",
            "Iteration:  28%|██▊       | 192/695 [04:03<10:37,  1.27s/it]\u001b[A\n",
            "Iteration:  28%|██▊       | 193/695 [04:04<10:42,  1.28s/it]\u001b[A\n",
            "Iteration:  28%|██▊       | 194/695 [04:05<10:37,  1.27s/it]\u001b[A\n",
            "Iteration:  28%|██▊       | 195/695 [04:06<10:33,  1.27s/it]\u001b[A\n",
            "Iteration:  28%|██▊       | 196/695 [04:08<10:32,  1.27s/it]\u001b[A\n",
            "Iteration:  28%|██▊       | 197/695 [04:09<10:35,  1.28s/it]\u001b[A\n",
            "Iteration:  28%|██▊       | 198/695 [04:10<10:32,  1.27s/it]\u001b[A\n",
            "Iteration:  29%|██▊       | 199/695 [04:11<10:26,  1.26s/it]\u001b[A"
          ]
        },
        {
          "output_type": "stream",
          "name": "stdout",
          "text": [
            "\tGlobal step: 50 | LR: [9.50950950950951e-06, 9.50950950950951e-06] | Avg. loss: 0.683\n",
            "====================\n",
            "\tEvaluating on valiadtion set!\n"
          ]
        },
        {
          "output_type": "stream",
          "name": "stderr",
          "text": [
            "\n",
            "\n",
            "Evaluating:   0%|          | 0/32 [00:00<?, ?it/s]\u001b[A\u001b[A\n",
            "\n",
            "Evaluating:   3%|▎         | 1/32 [00:01<00:38,  1.25s/it]\u001b[A\u001b[A"
          ]
        },
        {
          "output_type": "stream",
          "name": "stdout",
          "text": [
            "0.84375\n"
          ]
        },
        {
          "output_type": "stream",
          "name": "stderr",
          "text": [
            "\n",
            "\n",
            "Evaluating:   6%|▋         | 2/32 [00:01<00:23,  1.29it/s]\u001b[A\u001b[A"
          ]
        },
        {
          "output_type": "stream",
          "name": "stdout",
          "text": [
            "0.65625\n"
          ]
        },
        {
          "output_type": "stream",
          "name": "stderr",
          "text": [
            "\n",
            "\n",
            "Evaluating:   9%|▉         | 3/32 [00:02<00:18,  1.61it/s]\u001b[A\u001b[A"
          ]
        },
        {
          "output_type": "stream",
          "name": "stdout",
          "text": [
            "0.75\n"
          ]
        },
        {
          "output_type": "stream",
          "name": "stderr",
          "text": [
            "\n",
            "\n",
            "Evaluating:  12%|█▎        | 4/32 [00:02<00:15,  1.82it/s]\u001b[A\u001b[A"
          ]
        },
        {
          "output_type": "stream",
          "name": "stdout",
          "text": [
            "0.75\n"
          ]
        },
        {
          "output_type": "stream",
          "name": "stderr",
          "text": [
            "\n",
            "\n",
            "Evaluating:  16%|█▌        | 5/32 [00:03<00:13,  1.96it/s]\u001b[A\u001b[A"
          ]
        },
        {
          "output_type": "stream",
          "name": "stdout",
          "text": [
            "0.84375\n"
          ]
        },
        {
          "output_type": "stream",
          "name": "stderr",
          "text": [
            "\n",
            "\n",
            "Evaluating:  19%|█▉        | 6/32 [00:03<00:12,  2.06it/s]\u001b[A\u001b[A"
          ]
        },
        {
          "output_type": "stream",
          "name": "stdout",
          "text": [
            "0.75\n"
          ]
        },
        {
          "output_type": "stream",
          "name": "stderr",
          "text": [
            "\n",
            "\n",
            "Evaluating:  22%|██▏       | 7/32 [00:03<00:11,  2.12it/s]\u001b[A\u001b[A"
          ]
        },
        {
          "output_type": "stream",
          "name": "stdout",
          "text": [
            "0.625\n"
          ]
        },
        {
          "output_type": "stream",
          "name": "stderr",
          "text": [
            "\n",
            "\n",
            "Evaluating:  25%|██▌       | 8/32 [00:04<00:11,  2.16it/s]\u001b[A\u001b[A"
          ]
        },
        {
          "output_type": "stream",
          "name": "stdout",
          "text": [
            "0.8125\n"
          ]
        },
        {
          "output_type": "stream",
          "name": "stderr",
          "text": [
            "\n",
            "\n",
            "Evaluating:  28%|██▊       | 9/32 [00:04<00:10,  2.20it/s]\u001b[A\u001b[A"
          ]
        },
        {
          "output_type": "stream",
          "name": "stdout",
          "text": [
            "0.78125\n"
          ]
        },
        {
          "output_type": "stream",
          "name": "stderr",
          "text": [
            "\n",
            "\n",
            "Evaluating:  31%|███▏      | 10/32 [00:05<00:09,  2.22it/s]\u001b[A\u001b[A"
          ]
        },
        {
          "output_type": "stream",
          "name": "stdout",
          "text": [
            "0.78125\n"
          ]
        },
        {
          "output_type": "stream",
          "name": "stderr",
          "text": [
            "\n",
            "\n",
            "Evaluating:  34%|███▍      | 11/32 [00:05<00:09,  2.23it/s]\u001b[A\u001b[A"
          ]
        },
        {
          "output_type": "stream",
          "name": "stdout",
          "text": [
            "0.75\n"
          ]
        },
        {
          "output_type": "stream",
          "name": "stderr",
          "text": [
            "\n",
            "\n",
            "Evaluating:  38%|███▊      | 12/32 [00:06<00:08,  2.25it/s]\u001b[A\u001b[A"
          ]
        },
        {
          "output_type": "stream",
          "name": "stdout",
          "text": [
            "0.90625\n"
          ]
        },
        {
          "output_type": "stream",
          "name": "stderr",
          "text": [
            "\n",
            "\n",
            "Evaluating:  41%|████      | 13/32 [00:06<00:08,  2.26it/s]\u001b[A\u001b[A"
          ]
        },
        {
          "output_type": "stream",
          "name": "stdout",
          "text": [
            "0.71875\n"
          ]
        },
        {
          "output_type": "stream",
          "name": "stderr",
          "text": [
            "\n",
            "\n",
            "Evaluating:  44%|████▍     | 14/32 [00:06<00:07,  2.25it/s]\u001b[A\u001b[A"
          ]
        },
        {
          "output_type": "stream",
          "name": "stdout",
          "text": [
            "0.78125\n"
          ]
        },
        {
          "output_type": "stream",
          "name": "stderr",
          "text": [
            "\n",
            "\n",
            "Evaluating:  47%|████▋     | 15/32 [00:07<00:07,  2.26it/s]\u001b[A\u001b[A"
          ]
        },
        {
          "output_type": "stream",
          "name": "stdout",
          "text": [
            "0.65625\n"
          ]
        },
        {
          "output_type": "stream",
          "name": "stderr",
          "text": [
            "\n",
            "\n",
            "Evaluating:  50%|█████     | 16/32 [00:07<00:07,  2.27it/s]\u001b[A\u001b[A"
          ]
        },
        {
          "output_type": "stream",
          "name": "stdout",
          "text": [
            "0.71875\n"
          ]
        },
        {
          "output_type": "stream",
          "name": "stderr",
          "text": [
            "\n",
            "\n",
            "Evaluating:  53%|█████▎    | 17/32 [00:08<00:06,  2.26it/s]\u001b[A\u001b[A"
          ]
        },
        {
          "output_type": "stream",
          "name": "stdout",
          "text": [
            "0.71875\n"
          ]
        },
        {
          "output_type": "stream",
          "name": "stderr",
          "text": [
            "\n",
            "\n",
            "Evaluating:  56%|█████▋    | 18/32 [00:08<00:06,  2.27it/s]\u001b[A\u001b[A"
          ]
        },
        {
          "output_type": "stream",
          "name": "stdout",
          "text": [
            "0.625\n"
          ]
        },
        {
          "output_type": "stream",
          "name": "stderr",
          "text": [
            "\n",
            "\n",
            "Evaluating:  59%|█████▉    | 19/32 [00:09<00:05,  2.26it/s]\u001b[A\u001b[A"
          ]
        },
        {
          "output_type": "stream",
          "name": "stdout",
          "text": [
            "0.8125\n"
          ]
        },
        {
          "output_type": "stream",
          "name": "stderr",
          "text": [
            "\n",
            "\n",
            "Evaluating:  62%|██████▎   | 20/32 [00:09<00:05,  2.27it/s]\u001b[A\u001b[A"
          ]
        },
        {
          "output_type": "stream",
          "name": "stdout",
          "text": [
            "0.625\n"
          ]
        },
        {
          "output_type": "stream",
          "name": "stderr",
          "text": [
            "\n",
            "\n",
            "Evaluating:  66%|██████▌   | 21/32 [00:10<00:04,  2.27it/s]\u001b[A\u001b[A"
          ]
        },
        {
          "output_type": "stream",
          "name": "stdout",
          "text": [
            "0.6875\n"
          ]
        },
        {
          "output_type": "stream",
          "name": "stderr",
          "text": [
            "\n",
            "\n",
            "Evaluating:  69%|██████▉   | 22/32 [00:10<00:04,  2.27it/s]\u001b[A\u001b[A"
          ]
        },
        {
          "output_type": "stream",
          "name": "stdout",
          "text": [
            "0.65625\n"
          ]
        },
        {
          "output_type": "stream",
          "name": "stderr",
          "text": [
            "\n",
            "\n",
            "Evaluating:  72%|███████▏  | 23/32 [00:10<00:03,  2.27it/s]\u001b[A\u001b[A"
          ]
        },
        {
          "output_type": "stream",
          "name": "stdout",
          "text": [
            "0.625\n"
          ]
        },
        {
          "output_type": "stream",
          "name": "stderr",
          "text": [
            "\n",
            "\n",
            "Evaluating:  75%|███████▌  | 24/32 [00:11<00:03,  2.27it/s]\u001b[A\u001b[A"
          ]
        },
        {
          "output_type": "stream",
          "name": "stdout",
          "text": [
            "0.75\n"
          ]
        },
        {
          "output_type": "stream",
          "name": "stderr",
          "text": [
            "\n",
            "\n",
            "Evaluating:  78%|███████▊  | 25/32 [00:11<00:03,  2.27it/s]\u001b[A\u001b[A"
          ]
        },
        {
          "output_type": "stream",
          "name": "stdout",
          "text": [
            "0.65625\n"
          ]
        },
        {
          "output_type": "stream",
          "name": "stderr",
          "text": [
            "\n",
            "\n",
            "Evaluating:  81%|████████▏ | 26/32 [00:12<00:02,  2.26it/s]\u001b[A\u001b[A"
          ]
        },
        {
          "output_type": "stream",
          "name": "stdout",
          "text": [
            "0.75\n"
          ]
        },
        {
          "output_type": "stream",
          "name": "stderr",
          "text": [
            "\n",
            "\n",
            "Evaluating:  84%|████████▍ | 27/32 [00:12<00:02,  2.27it/s]\u001b[A\u001b[A"
          ]
        },
        {
          "output_type": "stream",
          "name": "stdout",
          "text": [
            "0.71875\n"
          ]
        },
        {
          "output_type": "stream",
          "name": "stderr",
          "text": [
            "\n",
            "\n",
            "Evaluating:  88%|████████▊ | 28/32 [00:13<00:01,  2.27it/s]\u001b[A\u001b[A"
          ]
        },
        {
          "output_type": "stream",
          "name": "stdout",
          "text": [
            "0.65625\n"
          ]
        },
        {
          "output_type": "stream",
          "name": "stderr",
          "text": [
            "\n",
            "\n",
            "Evaluating:  91%|█████████ | 29/32 [00:13<00:01,  2.27it/s]\u001b[A\u001b[A"
          ]
        },
        {
          "output_type": "stream",
          "name": "stdout",
          "text": [
            "0.59375\n"
          ]
        },
        {
          "output_type": "stream",
          "name": "stderr",
          "text": [
            "\n",
            "\n",
            "Evaluating:  94%|█████████▍| 30/32 [00:14<00:00,  2.27it/s]\u001b[A\u001b[A"
          ]
        },
        {
          "output_type": "stream",
          "name": "stdout",
          "text": [
            "0.71875\n"
          ]
        },
        {
          "output_type": "stream",
          "name": "stderr",
          "text": [
            "\n",
            "\n",
            "Evaluating:  97%|█████████▋| 31/32 [00:14<00:00,  2.27it/s]\u001b[A\u001b[A\n",
            "\n",
            "Evaluating: 100%|██████████| 32/32 [00:14<00:00,  2.19it/s]"
          ]
        },
        {
          "output_type": "stream",
          "name": "stdout",
          "text": [
            "0.625\n",
            "0.75\n",
            "== Finished evaluating model: next_sentence_cls_0 ==\n",
            "\tMean evaluation acc: 0.722\n"
          ]
        },
        {
          "output_type": "stream",
          "name": "stderr",
          "text": [
            "\n",
            "\n",
            "Iteration:  29%|██▉       | 200/695 [04:29<51:24,  6.23s/it]\u001b[A"
          ]
        },
        {
          "output_type": "stream",
          "name": "stdout",
          "text": [
            "\tEvaluation accuracy: 0.722 | Stale count: 0\n",
            "====================\n"
          ]
        },
        {
          "output_type": "stream",
          "name": "stderr",
          "text": [
            "\n",
            "Iteration:  29%|██▉       | 201/695 [04:30<37:12,  4.52s/it]\u001b[A\n",
            "Iteration:  29%|██▉       | 202/695 [04:31<29:03,  3.54s/it]\u001b[A\n",
            "Iteration:  29%|██▉       | 203/695 [04:32<23:22,  2.85s/it]\u001b[A\n",
            "Iteration:  29%|██▉       | 204/695 [04:34<19:27,  2.38s/it]\u001b[A\n",
            "Iteration:  29%|██▉       | 205/695 [04:35<16:42,  2.05s/it]\u001b[A\n",
            "Iteration:  30%|██▉       | 206/695 [04:36<14:42,  1.80s/it]\u001b[A\n",
            "Iteration:  30%|██▉       | 207/695 [04:37<13:19,  1.64s/it]\u001b[A\n",
            "Iteration:  30%|██▉       | 208/695 [04:39<12:22,  1.52s/it]\u001b[A\n",
            "Iteration:  30%|███       | 209/695 [04:40<11:46,  1.45s/it]\u001b[A\n",
            "Iteration:  30%|███       | 210/695 [04:41<11:15,  1.39s/it]\u001b[A\n",
            "Iteration:  30%|███       | 211/695 [04:42<10:55,  1.35s/it]\u001b[A\n",
            "Iteration:  31%|███       | 212/695 [04:44<10:41,  1.33s/it]\u001b[A\n",
            "Iteration:  31%|███       | 213/695 [04:45<10:35,  1.32s/it]\u001b[A\n",
            "Iteration:  31%|███       | 214/695 [04:46<10:25,  1.30s/it]\u001b[A\n",
            "Iteration:  31%|███       | 215/695 [04:47<10:16,  1.28s/it]\u001b[A\n",
            "Iteration:  31%|███       | 216/695 [04:49<10:16,  1.29s/it]\u001b[A\n",
            "Iteration:  31%|███       | 217/695 [04:50<10:15,  1.29s/it]\u001b[A\n",
            "Iteration:  31%|███▏      | 218/695 [04:51<10:08,  1.28s/it]\u001b[A\n",
            "Iteration:  32%|███▏      | 219/695 [04:53<10:04,  1.27s/it]\u001b[A\n",
            "Iteration:  32%|███▏      | 220/695 [04:54<10:02,  1.27s/it]\u001b[A\n",
            "Iteration:  32%|███▏      | 221/695 [04:55<10:04,  1.28s/it]\u001b[A\n",
            "Iteration:  32%|███▏      | 222/695 [04:56<10:00,  1.27s/it]\u001b[A\n",
            "Iteration:  32%|███▏      | 223/695 [04:58<09:58,  1.27s/it]\u001b[A\n",
            "Iteration:  32%|███▏      | 224/695 [04:59<09:54,  1.26s/it]\u001b[A\n",
            "Iteration:  32%|███▏      | 225/695 [05:00<09:59,  1.28s/it]\u001b[A\n",
            "Iteration:  33%|███▎      | 226/695 [05:01<09:55,  1.27s/it]\u001b[A\n",
            "Iteration:  33%|███▎      | 227/695 [05:03<09:52,  1.27s/it]\u001b[A\n",
            "Iteration:  33%|███▎      | 228/695 [05:04<09:52,  1.27s/it]\u001b[A\n",
            "Iteration:  33%|███▎      | 229/695 [05:05<09:53,  1.27s/it]\u001b[A\n",
            "Iteration:  33%|███▎      | 230/695 [05:06<09:49,  1.27s/it]\u001b[A\n",
            "Iteration:  33%|███▎      | 231/695 [05:08<09:49,  1.27s/it]\u001b[A\n",
            "Iteration:  33%|███▎      | 232/695 [05:09<09:48,  1.27s/it]\u001b[A\n",
            "Iteration:  34%|███▎      | 233/695 [05:10<09:50,  1.28s/it]\u001b[A\n",
            "Iteration:  34%|███▎      | 234/695 [05:12<09:45,  1.27s/it]\u001b[A\n",
            "Iteration:  34%|███▍      | 235/695 [05:13<09:42,  1.27s/it]\u001b[A\n",
            "Iteration:  34%|███▍      | 236/695 [05:14<09:42,  1.27s/it]\u001b[A\n",
            "Iteration:  34%|███▍      | 237/695 [05:15<09:46,  1.28s/it]\u001b[A\n",
            "Iteration:  34%|███▍      | 238/695 [05:17<09:40,  1.27s/it]\u001b[A\n",
            "Iteration:  34%|███▍      | 239/695 [05:18<09:37,  1.27s/it]\u001b[A\n",
            "Iteration:  35%|███▍      | 240/695 [05:19<09:36,  1.27s/it]\u001b[A\n",
            "Iteration:  35%|███▍      | 241/695 [05:20<09:39,  1.28s/it]\u001b[A\n",
            "Iteration:  35%|███▍      | 242/695 [05:22<09:35,  1.27s/it]\u001b[A\n",
            "Iteration:  35%|███▍      | 243/695 [05:23<09:32,  1.27s/it]\u001b[A\n",
            "Iteration:  35%|███▌      | 244/695 [05:24<09:31,  1.27s/it]\u001b[A\n",
            "Iteration:  35%|███▌      | 245/695 [05:26<09:34,  1.28s/it]\u001b[A\n",
            "Iteration:  35%|███▌      | 246/695 [05:27<09:29,  1.27s/it]\u001b[A\n",
            "Iteration:  36%|███▌      | 247/695 [05:28<09:26,  1.27s/it]\u001b[A\n",
            "Iteration:  36%|███▌      | 248/695 [05:29<09:24,  1.26s/it]\u001b[A\n",
            "Iteration:  36%|███▌      | 249/695 [05:31<09:26,  1.27s/it]\u001b[A\n",
            "Iteration:  36%|███▌      | 250/695 [05:32<09:23,  1.27s/it]\u001b[A\n",
            "Iteration:  36%|███▌      | 251/695 [05:33<09:20,  1.26s/it]\u001b[A\n",
            "Iteration:  36%|███▋      | 252/695 [05:34<09:20,  1.27s/it]\u001b[A\n",
            "Iteration:  36%|███▋      | 253/695 [05:36<09:21,  1.27s/it]\u001b[A\n",
            "Iteration:  37%|███▋      | 254/695 [05:37<09:18,  1.27s/it]\u001b[A\n",
            "Iteration:  37%|███▋      | 255/695 [05:38<09:16,  1.27s/it]\u001b[A\n",
            "Iteration:  37%|███▋      | 256/695 [05:39<09:13,  1.26s/it]\u001b[A\n",
            "Iteration:  37%|███▋      | 257/695 [05:41<09:17,  1.27s/it]\u001b[A\n",
            "Iteration:  37%|███▋      | 258/695 [05:42<09:14,  1.27s/it]\u001b[A\n",
            "Iteration:  37%|███▋      | 259/695 [05:43<09:11,  1.26s/it]\u001b[A\n",
            "Iteration:  37%|███▋      | 260/695 [05:45<09:09,  1.26s/it]\u001b[A\n",
            "Iteration:  38%|███▊      | 261/695 [05:46<09:13,  1.28s/it]\u001b[A\n",
            "Iteration:  38%|███▊      | 262/695 [05:47<09:09,  1.27s/it]\u001b[A\n",
            "Iteration:  38%|███▊      | 263/695 [05:48<09:07,  1.27s/it]\u001b[A\n",
            "Iteration:  38%|███▊      | 264/695 [05:50<09:03,  1.26s/it]\u001b[A\n",
            "Iteration:  38%|███▊      | 265/695 [05:51<09:05,  1.27s/it]\u001b[A\n",
            "Iteration:  38%|███▊      | 266/695 [05:52<09:02,  1.26s/it]\u001b[A\n",
            "Iteration:  38%|███▊      | 267/695 [05:53<09:00,  1.26s/it]\u001b[A\n",
            "Iteration:  39%|███▊      | 268/695 [05:55<08:59,  1.26s/it]\u001b[A\n",
            "Iteration:  39%|███▊      | 269/695 [05:56<09:00,  1.27s/it]\u001b[A\n",
            "Iteration:  39%|███▉      | 270/695 [05:57<08:58,  1.27s/it]\u001b[A\n",
            "Iteration:  39%|███▉      | 271/695 [05:58<08:56,  1.27s/it]\u001b[A\n",
            "Iteration:  39%|███▉      | 272/695 [06:00<08:53,  1.26s/it]\u001b[A\n",
            "Iteration:  39%|███▉      | 273/695 [06:01<08:55,  1.27s/it]\u001b[A\n",
            "Iteration:  39%|███▉      | 274/695 [06:02<08:52,  1.26s/it]\u001b[A\n",
            "Iteration:  40%|███▉      | 275/695 [06:04<08:50,  1.26s/it]\u001b[A\n",
            "Iteration:  40%|███▉      | 276/695 [06:05<08:48,  1.26s/it]\u001b[A\n",
            "Iteration:  40%|███▉      | 277/695 [06:06<08:50,  1.27s/it]\u001b[A\n",
            "Iteration:  40%|████      | 278/695 [06:07<08:46,  1.26s/it]\u001b[A\n",
            "Iteration:  40%|████      | 279/695 [06:09<08:44,  1.26s/it]\u001b[A\n",
            "Iteration:  40%|████      | 280/695 [06:10<08:45,  1.27s/it]\u001b[A\n",
            "Iteration:  40%|████      | 281/695 [06:11<08:47,  1.27s/it]\u001b[A\n",
            "Iteration:  41%|████      | 282/695 [06:12<08:42,  1.26s/it]\u001b[A\n",
            "Iteration:  41%|████      | 283/695 [06:14<08:38,  1.26s/it]\u001b[A\n",
            "Iteration:  41%|████      | 284/695 [06:15<08:37,  1.26s/it]\u001b[A\n",
            "Iteration:  41%|████      | 285/695 [06:16<08:40,  1.27s/it]\u001b[A\n",
            "Iteration:  41%|████      | 286/695 [06:17<08:37,  1.27s/it]\u001b[A\n",
            "Iteration:  41%|████▏     | 287/695 [06:19<08:35,  1.26s/it]\u001b[A\n",
            "Iteration:  41%|████▏     | 288/695 [06:20<08:34,  1.26s/it]\u001b[A\n",
            "Iteration:  42%|████▏     | 289/695 [06:21<08:37,  1.27s/it]\u001b[A\n",
            "Iteration:  42%|████▏     | 290/695 [06:23<08:33,  1.27s/it]\u001b[A\n",
            "Iteration:  42%|████▏     | 291/695 [06:24<08:28,  1.26s/it]\u001b[A\n",
            "Iteration:  42%|████▏     | 292/695 [06:25<08:28,  1.26s/it]\u001b[A\n",
            "Iteration:  42%|████▏     | 293/695 [06:26<08:31,  1.27s/it]\u001b[A\n",
            "Iteration:  42%|████▏     | 294/695 [06:28<08:28,  1.27s/it]\u001b[A\n",
            "Iteration:  42%|████▏     | 295/695 [06:29<08:25,  1.26s/it]\u001b[A\n",
            "Iteration:  43%|████▎     | 296/695 [06:30<08:23,  1.26s/it]\u001b[A\n",
            "Iteration:  43%|████▎     | 297/695 [06:31<08:25,  1.27s/it]\u001b[A\n",
            "Iteration:  43%|████▎     | 298/695 [06:33<08:21,  1.26s/it]\u001b[A\n",
            "Iteration:  43%|████▎     | 299/695 [06:34<08:20,  1.26s/it]\u001b[A\n",
            "Iteration:  43%|████▎     | 300/695 [06:35<08:19,  1.27s/it]\u001b[A"
          ]
        },
        {
          "output_type": "stream",
          "name": "stdout",
          "text": [
            "\tGlobal step: 75 | LR: [9.25925925925926e-06, 9.25925925925926e-06] | Avg. loss: 0.634\n"
          ]
        },
        {
          "output_type": "stream",
          "name": "stderr",
          "text": [
            "\n",
            "Iteration:  43%|████▎     | 301/695 [06:36<08:19,  1.27s/it]\u001b[A\n",
            "Iteration:  43%|████▎     | 302/695 [06:38<08:16,  1.26s/it]\u001b[A\n",
            "Iteration:  44%|████▎     | 303/695 [06:39<08:14,  1.26s/it]\u001b[A\n",
            "Iteration:  44%|████▎     | 304/695 [06:40<08:12,  1.26s/it]\u001b[A\n",
            "Iteration:  44%|████▍     | 305/695 [06:41<08:15,  1.27s/it]\u001b[A\n",
            "Iteration:  44%|████▍     | 306/695 [06:43<08:11,  1.26s/it]\u001b[A\n",
            "Iteration:  44%|████▍     | 307/695 [06:44<08:09,  1.26s/it]\u001b[A\n",
            "Iteration:  44%|████▍     | 308/695 [06:45<08:07,  1.26s/it]\u001b[A\n",
            "Iteration:  44%|████▍     | 309/695 [06:47<08:10,  1.27s/it]\u001b[A\n",
            "Iteration:  45%|████▍     | 310/695 [06:48<08:06,  1.26s/it]\u001b[A\n",
            "Iteration:  45%|████▍     | 311/695 [06:49<08:05,  1.26s/it]\u001b[A\n",
            "Iteration:  45%|████▍     | 312/695 [06:50<08:05,  1.27s/it]\u001b[A\n",
            "Iteration:  45%|████▌     | 313/695 [06:52<08:05,  1.27s/it]\u001b[A\n",
            "Iteration:  45%|████▌     | 314/695 [06:53<08:02,  1.27s/it]\u001b[A\n",
            "Iteration:  45%|████▌     | 315/695 [06:54<08:00,  1.27s/it]\u001b[A\n",
            "Iteration:  45%|████▌     | 316/695 [06:55<07:58,  1.26s/it]\u001b[A\n",
            "Iteration:  46%|████▌     | 317/695 [06:57<08:00,  1.27s/it]\u001b[A\n",
            "Iteration:  46%|████▌     | 318/695 [06:58<07:56,  1.26s/it]\u001b[A\n",
            "Iteration:  46%|████▌     | 319/695 [06:59<07:55,  1.27s/it]\u001b[A\n",
            "Iteration:  46%|████▌     | 320/695 [07:00<07:52,  1.26s/it]\u001b[A\n",
            "Iteration:  46%|████▌     | 321/695 [07:02<07:53,  1.27s/it]\u001b[A\n",
            "Iteration:  46%|████▋     | 322/695 [07:03<07:51,  1.26s/it]\u001b[A\n",
            "Iteration:  46%|████▋     | 323/695 [07:04<07:49,  1.26s/it]\u001b[A\n",
            "Iteration:  47%|████▋     | 324/695 [07:06<07:47,  1.26s/it]\u001b[A\n",
            "Iteration:  47%|████▋     | 325/695 [07:07<07:49,  1.27s/it]\u001b[A\n",
            "Iteration:  47%|████▋     | 326/695 [07:08<07:46,  1.27s/it]\u001b[A\n",
            "Iteration:  47%|████▋     | 327/695 [07:09<07:46,  1.27s/it]\u001b[A\n",
            "Iteration:  47%|████▋     | 328/695 [07:11<07:45,  1.27s/it]\u001b[A\n",
            "Iteration:  47%|████▋     | 329/695 [07:12<07:47,  1.28s/it]\u001b[A\n",
            "Iteration:  47%|████▋     | 330/695 [07:13<07:43,  1.27s/it]\u001b[A\n",
            "Iteration:  48%|████▊     | 331/695 [07:14<07:41,  1.27s/it]\u001b[A\n",
            "Iteration:  48%|████▊     | 332/695 [07:16<07:38,  1.26s/it]\u001b[A\n",
            "Iteration:  48%|████▊     | 333/695 [07:17<07:40,  1.27s/it]\u001b[A\n",
            "Iteration:  48%|████▊     | 334/695 [07:18<07:37,  1.27s/it]\u001b[A\n",
            "Iteration:  48%|████▊     | 335/695 [07:19<07:34,  1.26s/it]\u001b[A\n",
            "Iteration:  48%|████▊     | 336/695 [07:21<07:33,  1.26s/it]\u001b[A\n",
            "Iteration:  48%|████▊     | 337/695 [07:22<07:35,  1.27s/it]\u001b[A\n",
            "Iteration:  49%|████▊     | 338/695 [07:23<07:31,  1.27s/it]\u001b[A\n",
            "Iteration:  49%|████▉     | 339/695 [07:25<07:29,  1.26s/it]\u001b[A\n",
            "Iteration:  49%|████▉     | 340/695 [07:26<07:29,  1.26s/it]\u001b[A\n",
            "Iteration:  49%|████▉     | 341/695 [07:27<07:29,  1.27s/it]\u001b[A\n",
            "Iteration:  49%|████▉     | 342/695 [07:28<07:26,  1.27s/it]\u001b[A\n",
            "Iteration:  49%|████▉     | 343/695 [07:30<07:24,  1.26s/it]\u001b[A\n",
            "Iteration:  49%|████▉     | 344/695 [07:31<07:22,  1.26s/it]\u001b[A\n",
            "Iteration:  50%|████▉     | 345/695 [07:32<07:26,  1.27s/it]\u001b[A\n",
            "Iteration:  50%|████▉     | 346/695 [07:33<07:22,  1.27s/it]\u001b[A\n",
            "Iteration:  50%|████▉     | 347/695 [07:35<07:20,  1.27s/it]\u001b[A\n",
            "Iteration:  50%|█████     | 348/695 [07:36<07:18,  1.26s/it]\u001b[A\n",
            "Iteration:  50%|█████     | 349/695 [07:37<07:21,  1.28s/it]\u001b[A\n",
            "Iteration:  50%|█████     | 350/695 [07:38<07:17,  1.27s/it]\u001b[A\n",
            "Iteration:  51%|█████     | 351/695 [07:40<07:14,  1.26s/it]\u001b[A\n",
            "Iteration:  51%|█████     | 352/695 [07:41<07:13,  1.26s/it]\u001b[A\n",
            "Iteration:  51%|█████     | 353/695 [07:42<07:16,  1.28s/it]\u001b[A\n",
            "Iteration:  51%|█████     | 354/695 [07:44<07:12,  1.27s/it]\u001b[A\n",
            "Iteration:  51%|█████     | 355/695 [07:45<07:10,  1.26s/it]\u001b[A\n",
            "Iteration:  51%|█████     | 356/695 [07:46<07:09,  1.27s/it]\u001b[A\n",
            "Iteration:  51%|█████▏    | 357/695 [07:47<07:11,  1.28s/it]\u001b[A\n",
            "Iteration:  52%|█████▏    | 358/695 [07:49<07:07,  1.27s/it]\u001b[A\n",
            "Iteration:  52%|█████▏    | 359/695 [07:50<07:04,  1.26s/it]\u001b[A\n",
            "Iteration:  52%|█████▏    | 360/695 [07:51<07:03,  1.27s/it]\u001b[A\n",
            "Iteration:  52%|█████▏    | 361/695 [07:52<07:06,  1.28s/it]\u001b[A\n",
            "Iteration:  52%|█████▏    | 362/695 [07:54<07:03,  1.27s/it]\u001b[A\n",
            "Iteration:  52%|█████▏    | 363/695 [07:55<07:01,  1.27s/it]\u001b[A\n",
            "Iteration:  52%|█████▏    | 364/695 [07:56<06:59,  1.27s/it]\u001b[A\n",
            "Iteration:  53%|█████▎    | 365/695 [07:58<07:01,  1.28s/it]\u001b[A\n",
            "Iteration:  53%|█████▎    | 366/695 [07:59<06:58,  1.27s/it]\u001b[A\n",
            "Iteration:  53%|█████▎    | 367/695 [08:00<06:54,  1.26s/it]\u001b[A\n",
            "Iteration:  53%|█████▎    | 368/695 [08:01<06:53,  1.26s/it]\u001b[A\n",
            "Iteration:  53%|█████▎    | 369/695 [08:03<06:54,  1.27s/it]\u001b[A\n",
            "Iteration:  53%|█████▎    | 370/695 [08:04<06:50,  1.26s/it]\u001b[A\n",
            "Iteration:  53%|█████▎    | 371/695 [08:05<06:48,  1.26s/it]\u001b[A\n",
            "Iteration:  54%|█████▎    | 372/695 [08:06<06:47,  1.26s/it]\u001b[A\n",
            "Iteration:  54%|█████▎    | 373/695 [08:08<06:48,  1.27s/it]\u001b[A\n",
            "Iteration:  54%|█████▍    | 374/695 [08:09<06:46,  1.27s/it]\u001b[A\n",
            "Iteration:  54%|█████▍    | 375/695 [08:10<06:44,  1.26s/it]\u001b[A\n",
            "Iteration:  54%|█████▍    | 376/695 [08:11<06:43,  1.26s/it]\u001b[A\n",
            "Iteration:  54%|█████▍    | 377/695 [08:13<06:44,  1.27s/it]\u001b[A\n",
            "Iteration:  54%|█████▍    | 378/695 [08:14<06:40,  1.26s/it]\u001b[A\n",
            "Iteration:  55%|█████▍    | 379/695 [08:15<06:38,  1.26s/it]\u001b[A\n",
            "Iteration:  55%|█████▍    | 380/695 [08:16<06:37,  1.26s/it]\u001b[A\n",
            "Iteration:  55%|█████▍    | 381/695 [08:18<06:40,  1.27s/it]\u001b[A\n",
            "Iteration:  55%|█████▍    | 382/695 [08:19<06:37,  1.27s/it]\u001b[A\n",
            "Iteration:  55%|█████▌    | 383/695 [08:20<06:34,  1.27s/it]\u001b[A\n",
            "Iteration:  55%|█████▌    | 384/695 [08:22<06:33,  1.27s/it]\u001b[A\n",
            "Iteration:  55%|█████▌    | 385/695 [08:23<06:36,  1.28s/it]\u001b[A\n",
            "Iteration:  56%|█████▌    | 386/695 [08:24<06:32,  1.27s/it]\u001b[A\n",
            "Iteration:  56%|█████▌    | 387/695 [08:25<06:30,  1.27s/it]\u001b[A\n",
            "Iteration:  56%|█████▌    | 388/695 [08:27<06:27,  1.26s/it]\u001b[A\n",
            "Iteration:  56%|█████▌    | 389/695 [08:28<06:28,  1.27s/it]\u001b[A\n",
            "Iteration:  56%|█████▌    | 390/695 [08:29<06:25,  1.26s/it]\u001b[A\n",
            "Iteration:  56%|█████▋    | 391/695 [08:30<06:23,  1.26s/it]\u001b[A\n",
            "Iteration:  56%|█████▋    | 392/695 [08:32<06:23,  1.27s/it]\u001b[A\n",
            "Iteration:  57%|█████▋    | 393/695 [08:33<06:24,  1.27s/it]\u001b[A\n",
            "Iteration:  57%|█████▋    | 394/695 [08:34<06:21,  1.27s/it]\u001b[A\n",
            "Iteration:  57%|█████▋    | 395/695 [08:36<06:19,  1.26s/it]\u001b[A\n",
            "Iteration:  57%|█████▋    | 396/695 [08:37<06:17,  1.26s/it]\u001b[A\n",
            "Iteration:  57%|█████▋    | 397/695 [08:38<06:17,  1.27s/it]\u001b[A\n",
            "Iteration:  57%|█████▋    | 398/695 [08:39<06:14,  1.26s/it]\u001b[A\n",
            "Iteration:  57%|█████▋    | 399/695 [08:41<06:13,  1.26s/it]\u001b[A"
          ]
        },
        {
          "output_type": "stream",
          "name": "stdout",
          "text": [
            "\tGlobal step: 100 | LR: [9.00900900900901e-06, 9.00900900900901e-06] | Avg. loss: 0.563\n",
            "====================\n",
            "\tEvaluating on valiadtion set!\n"
          ]
        },
        {
          "output_type": "stream",
          "name": "stderr",
          "text": [
            "\n",
            "\n",
            "Evaluating:   0%|          | 0/32 [00:00<?, ?it/s]\u001b[A\u001b[A\n",
            "\n",
            "Evaluating:   3%|▎         | 1/32 [00:01<00:38,  1.25s/it]\u001b[A\u001b[A"
          ]
        },
        {
          "output_type": "stream",
          "name": "stdout",
          "text": [
            "0.65625\n"
          ]
        },
        {
          "output_type": "stream",
          "name": "stderr",
          "text": [
            "\n",
            "\n",
            "Evaluating:   6%|▋         | 2/32 [00:01<00:23,  1.30it/s]\u001b[A\u001b[A"
          ]
        },
        {
          "output_type": "stream",
          "name": "stdout",
          "text": [
            "0.5\n"
          ]
        },
        {
          "output_type": "stream",
          "name": "stderr",
          "text": [
            "\n",
            "\n",
            "Evaluating:   9%|▉         | 3/32 [00:02<00:17,  1.61it/s]\u001b[A\u001b[A"
          ]
        },
        {
          "output_type": "stream",
          "name": "stdout",
          "text": [
            "0.625\n"
          ]
        },
        {
          "output_type": "stream",
          "name": "stderr",
          "text": [
            "\n",
            "\n",
            "Evaluating:  12%|█▎        | 4/32 [00:02<00:15,  1.82it/s]\u001b[A\u001b[A"
          ]
        },
        {
          "output_type": "stream",
          "name": "stdout",
          "text": [
            "0.625\n"
          ]
        },
        {
          "output_type": "stream",
          "name": "stderr",
          "text": [
            "\n",
            "\n",
            "Evaluating:  16%|█▌        | 5/32 [00:03<00:13,  1.96it/s]\u001b[A\u001b[A"
          ]
        },
        {
          "output_type": "stream",
          "name": "stdout",
          "text": [
            "0.625\n"
          ]
        },
        {
          "output_type": "stream",
          "name": "stderr",
          "text": [
            "\n",
            "\n",
            "Evaluating:  19%|█▉        | 6/32 [00:03<00:12,  2.06it/s]\u001b[A\u001b[A"
          ]
        },
        {
          "output_type": "stream",
          "name": "stdout",
          "text": [
            "0.71875\n"
          ]
        },
        {
          "output_type": "stream",
          "name": "stderr",
          "text": [
            "\n",
            "\n",
            "Evaluating:  22%|██▏       | 7/32 [00:03<00:11,  2.12it/s]\u001b[A\u001b[A"
          ]
        },
        {
          "output_type": "stream",
          "name": "stdout",
          "text": [
            "0.5625\n"
          ]
        },
        {
          "output_type": "stream",
          "name": "stderr",
          "text": [
            "\n",
            "\n",
            "Evaluating:  25%|██▌       | 8/32 [00:04<00:11,  2.16it/s]\u001b[A\u001b[A"
          ]
        },
        {
          "output_type": "stream",
          "name": "stdout",
          "text": [
            "0.78125\n"
          ]
        },
        {
          "output_type": "stream",
          "name": "stderr",
          "text": [
            "\n",
            "\n",
            "Evaluating:  28%|██▊       | 9/32 [00:04<00:10,  2.20it/s]\u001b[A\u001b[A"
          ]
        },
        {
          "output_type": "stream",
          "name": "stdout",
          "text": [
            "0.625\n"
          ]
        },
        {
          "output_type": "stream",
          "name": "stderr",
          "text": [
            "\n",
            "\n",
            "Evaluating:  31%|███▏      | 10/32 [00:05<00:09,  2.22it/s]\u001b[A\u001b[A"
          ]
        },
        {
          "output_type": "stream",
          "name": "stdout",
          "text": [
            "0.65625\n"
          ]
        },
        {
          "output_type": "stream",
          "name": "stderr",
          "text": [
            "\n",
            "\n",
            "Evaluating:  34%|███▍      | 11/32 [00:05<00:09,  2.23it/s]\u001b[A\u001b[A"
          ]
        },
        {
          "output_type": "stream",
          "name": "stdout",
          "text": [
            "0.71875\n"
          ]
        },
        {
          "output_type": "stream",
          "name": "stderr",
          "text": [
            "\n",
            "\n",
            "Evaluating:  38%|███▊      | 12/32 [00:06<00:08,  2.25it/s]\u001b[A\u001b[A"
          ]
        },
        {
          "output_type": "stream",
          "name": "stdout",
          "text": [
            "0.78125\n"
          ]
        },
        {
          "output_type": "stream",
          "name": "stderr",
          "text": [
            "\n",
            "\n",
            "Evaluating:  41%|████      | 13/32 [00:06<00:08,  2.26it/s]\u001b[A\u001b[A"
          ]
        },
        {
          "output_type": "stream",
          "name": "stdout",
          "text": [
            "0.5\n"
          ]
        },
        {
          "output_type": "stream",
          "name": "stderr",
          "text": [
            "\n",
            "\n",
            "Evaluating:  44%|████▍     | 14/32 [00:06<00:07,  2.25it/s]\u001b[A\u001b[A"
          ]
        },
        {
          "output_type": "stream",
          "name": "stdout",
          "text": [
            "0.65625\n"
          ]
        },
        {
          "output_type": "stream",
          "name": "stderr",
          "text": [
            "\n",
            "\n",
            "Evaluating:  47%|████▋     | 15/32 [00:07<00:07,  2.26it/s]\u001b[A\u001b[A"
          ]
        },
        {
          "output_type": "stream",
          "name": "stdout",
          "text": [
            "0.5\n"
          ]
        },
        {
          "output_type": "stream",
          "name": "stderr",
          "text": [
            "\n",
            "\n",
            "Evaluating:  50%|█████     | 16/32 [00:07<00:07,  2.26it/s]\u001b[A\u001b[A"
          ]
        },
        {
          "output_type": "stream",
          "name": "stdout",
          "text": [
            "0.71875\n"
          ]
        },
        {
          "output_type": "stream",
          "name": "stderr",
          "text": [
            "\n",
            "\n",
            "Evaluating:  53%|█████▎    | 17/32 [00:08<00:06,  2.27it/s]\u001b[A\u001b[A"
          ]
        },
        {
          "output_type": "stream",
          "name": "stdout",
          "text": [
            "0.90625\n"
          ]
        },
        {
          "output_type": "stream",
          "name": "stderr",
          "text": [
            "\n",
            "\n",
            "Evaluating:  56%|█████▋    | 18/32 [00:08<00:06,  2.27it/s]\u001b[A\u001b[A"
          ]
        },
        {
          "output_type": "stream",
          "name": "stdout",
          "text": [
            "0.84375\n"
          ]
        },
        {
          "output_type": "stream",
          "name": "stderr",
          "text": [
            "\n",
            "\n",
            "Evaluating:  59%|█████▉    | 19/32 [00:09<00:05,  2.26it/s]\u001b[A\u001b[A"
          ]
        },
        {
          "output_type": "stream",
          "name": "stdout",
          "text": [
            "0.84375\n"
          ]
        },
        {
          "output_type": "stream",
          "name": "stderr",
          "text": [
            "\n",
            "\n",
            "Evaluating:  62%|██████▎   | 20/32 [00:09<00:05,  2.27it/s]\u001b[A\u001b[A"
          ]
        },
        {
          "output_type": "stream",
          "name": "stdout",
          "text": [
            "0.9375\n"
          ]
        },
        {
          "output_type": "stream",
          "name": "stderr",
          "text": [
            "\n",
            "\n",
            "Evaluating:  66%|██████▌   | 21/32 [00:10<00:04,  2.27it/s]\u001b[A\u001b[A"
          ]
        },
        {
          "output_type": "stream",
          "name": "stdout",
          "text": [
            "0.8125\n"
          ]
        },
        {
          "output_type": "stream",
          "name": "stderr",
          "text": [
            "\n",
            "\n",
            "Evaluating:  69%|██████▉   | 22/32 [00:10<00:04,  2.28it/s]\u001b[A\u001b[A"
          ]
        },
        {
          "output_type": "stream",
          "name": "stdout",
          "text": [
            "0.78125\n"
          ]
        },
        {
          "output_type": "stream",
          "name": "stderr",
          "text": [
            "\n",
            "\n",
            "Evaluating:  72%|███████▏  | 23/32 [00:10<00:03,  2.27it/s]\u001b[A\u001b[A"
          ]
        },
        {
          "output_type": "stream",
          "name": "stdout",
          "text": [
            "0.90625\n"
          ]
        },
        {
          "output_type": "stream",
          "name": "stderr",
          "text": [
            "\n",
            "\n",
            "Evaluating:  75%|███████▌  | 24/32 [00:11<00:03,  2.27it/s]\u001b[A\u001b[A"
          ]
        },
        {
          "output_type": "stream",
          "name": "stdout",
          "text": [
            "0.875\n"
          ]
        },
        {
          "output_type": "stream",
          "name": "stderr",
          "text": [
            "\n",
            "\n",
            "Evaluating:  78%|███████▊  | 25/32 [00:11<00:03,  2.27it/s]\u001b[A\u001b[A"
          ]
        },
        {
          "output_type": "stream",
          "name": "stdout",
          "text": [
            "0.875\n"
          ]
        },
        {
          "output_type": "stream",
          "name": "stderr",
          "text": [
            "\n",
            "\n",
            "Evaluating:  81%|████████▏ | 26/32 [00:12<00:02,  2.26it/s]\u001b[A\u001b[A"
          ]
        },
        {
          "output_type": "stream",
          "name": "stdout",
          "text": [
            "0.90625\n"
          ]
        },
        {
          "output_type": "stream",
          "name": "stderr",
          "text": [
            "\n",
            "\n",
            "Evaluating:  84%|████████▍ | 27/32 [00:12<00:02,  2.27it/s]\u001b[A\u001b[A"
          ]
        },
        {
          "output_type": "stream",
          "name": "stdout",
          "text": [
            "0.84375\n"
          ]
        },
        {
          "output_type": "stream",
          "name": "stderr",
          "text": [
            "\n",
            "\n",
            "Evaluating:  88%|████████▊ | 28/32 [00:13<00:01,  2.27it/s]\u001b[A\u001b[A"
          ]
        },
        {
          "output_type": "stream",
          "name": "stdout",
          "text": [
            "0.90625\n"
          ]
        },
        {
          "output_type": "stream",
          "name": "stderr",
          "text": [
            "\n",
            "\n",
            "Evaluating:  91%|█████████ | 29/32 [00:13<00:01,  2.27it/s]\u001b[A\u001b[A"
          ]
        },
        {
          "output_type": "stream",
          "name": "stdout",
          "text": [
            "0.9375\n"
          ]
        },
        {
          "output_type": "stream",
          "name": "stderr",
          "text": [
            "\n",
            "\n",
            "Evaluating:  94%|█████████▍| 30/32 [00:14<00:00,  2.27it/s]\u001b[A\u001b[A"
          ]
        },
        {
          "output_type": "stream",
          "name": "stdout",
          "text": [
            "0.875\n"
          ]
        },
        {
          "output_type": "stream",
          "name": "stderr",
          "text": [
            "\n",
            "\n",
            "Evaluating:  97%|█████████▋| 31/32 [00:14<00:00,  2.27it/s]\u001b[A\u001b[A\n",
            "\n",
            "Evaluating: 100%|██████████| 32/32 [00:14<00:00,  2.19it/s]"
          ]
        },
        {
          "output_type": "stream",
          "name": "stdout",
          "text": [
            "0.875\n",
            "1.0\n",
            "== Finished evaluating model: next_sentence_cls_0 ==\n",
            "\tMean evaluation acc: 0.762\n"
          ]
        },
        {
          "output_type": "stream",
          "name": "stderr",
          "text": [
            "\n",
            "\n",
            "Iteration:  58%|█████▊    | 400/695 [09:00<33:44,  6.86s/it]\u001b[A"
          ]
        },
        {
          "output_type": "stream",
          "name": "stdout",
          "text": [
            "\tEvaluation accuracy: 0.762 | Stale count: 0\n",
            "====================\n"
          ]
        },
        {
          "output_type": "stream",
          "name": "stderr",
          "text": [
            "\n",
            "Iteration:  58%|█████▊    | 401/695 [09:01<24:21,  4.97s/it]\u001b[A\n",
            "Iteration:  58%|█████▊    | 402/695 [09:02<18:48,  3.85s/it]\u001b[A\n",
            "Iteration:  58%|█████▊    | 403/695 [09:04<14:55,  3.07s/it]\u001b[A\n",
            "Iteration:  58%|█████▊    | 404/695 [09:05<12:14,  2.52s/it]\u001b[A\n",
            "Iteration:  58%|█████▊    | 405/695 [09:06<10:24,  2.15s/it]\u001b[A\n",
            "Iteration:  58%|█████▊    | 406/695 [09:07<09:04,  1.88s/it]\u001b[A\n",
            "Iteration:  59%|█████▊    | 407/695 [09:09<08:08,  1.69s/it]\u001b[A\n",
            "Iteration:  59%|█████▊    | 408/695 [09:10<07:29,  1.57s/it]\u001b[A\n",
            "Iteration:  59%|█████▉    | 409/695 [09:11<07:05,  1.49s/it]\u001b[A\n",
            "Iteration:  59%|█████▉    | 410/695 [09:12<06:42,  1.41s/it]\u001b[A\n",
            "Iteration:  59%|█████▉    | 411/695 [09:14<06:27,  1.36s/it]\u001b[A\n",
            "Iteration:  59%|█████▉    | 412/695 [09:15<06:17,  1.34s/it]\u001b[A\n",
            "Iteration:  59%|█████▉    | 413/695 [09:16<06:13,  1.32s/it]\u001b[A\n",
            "Iteration:  60%|█████▉    | 414/695 [09:17<06:06,  1.30s/it]\u001b[A\n",
            "Iteration:  60%|█████▉    | 415/695 [09:19<06:00,  1.29s/it]\u001b[A\n",
            "Iteration:  60%|█████▉    | 416/695 [09:20<05:57,  1.28s/it]\u001b[A\n",
            "Iteration:  60%|██████    | 417/695 [09:21<05:58,  1.29s/it]\u001b[A\n",
            "Iteration:  60%|██████    | 418/695 [09:23<05:54,  1.28s/it]\u001b[A\n",
            "Iteration:  60%|██████    | 419/695 [09:24<05:51,  1.27s/it]\u001b[A\n",
            "Iteration:  60%|██████    | 420/695 [09:25<05:48,  1.27s/it]\u001b[A\n",
            "Iteration:  61%|██████    | 421/695 [09:26<05:50,  1.28s/it]\u001b[A\n",
            "Iteration:  61%|██████    | 422/695 [09:28<05:47,  1.27s/it]\u001b[A\n",
            "Iteration:  61%|██████    | 423/695 [09:29<05:45,  1.27s/it]\u001b[A\n",
            "Iteration:  61%|██████    | 424/695 [09:30<05:43,  1.27s/it]\u001b[A\n",
            "Iteration:  61%|██████    | 425/695 [09:31<05:43,  1.27s/it]\u001b[A\n",
            "Iteration:  61%|██████▏   | 426/695 [09:33<05:40,  1.27s/it]\u001b[A\n",
            "Iteration:  61%|██████▏   | 427/695 [09:34<05:39,  1.27s/it]\u001b[A\n",
            "Iteration:  62%|██████▏   | 428/695 [09:35<05:39,  1.27s/it]\u001b[A\n",
            "Iteration:  62%|██████▏   | 429/695 [09:37<05:39,  1.28s/it]\u001b[A\n",
            "Iteration:  62%|██████▏   | 430/695 [09:38<05:35,  1.27s/it]\u001b[A\n",
            "Iteration:  62%|██████▏   | 431/695 [09:39<05:33,  1.26s/it]\u001b[A\n",
            "Iteration:  62%|██████▏   | 432/695 [09:40<05:32,  1.27s/it]\u001b[A\n",
            "Iteration:  62%|██████▏   | 433/695 [09:42<05:33,  1.27s/it]\u001b[A\n",
            "Iteration:  62%|██████▏   | 434/695 [09:43<05:30,  1.27s/it]\u001b[A\n",
            "Iteration:  63%|██████▎   | 435/695 [09:44<05:29,  1.27s/it]\u001b[A\n",
            "Iteration:  63%|██████▎   | 436/695 [09:45<05:28,  1.27s/it]\u001b[A\n",
            "Iteration:  63%|██████▎   | 437/695 [09:47<05:30,  1.28s/it]\u001b[A\n",
            "Iteration:  63%|██████▎   | 438/695 [09:48<05:27,  1.27s/it]\u001b[A\n",
            "Iteration:  63%|██████▎   | 439/695 [09:49<05:24,  1.27s/it]\u001b[A\n",
            "Iteration:  63%|██████▎   | 440/695 [09:50<05:22,  1.26s/it]\u001b[A\n",
            "Iteration:  63%|██████▎   | 441/695 [09:52<05:24,  1.28s/it]\u001b[A\n",
            "Iteration:  64%|██████▎   | 442/695 [09:53<05:21,  1.27s/it]\u001b[A\n",
            "Iteration:  64%|██████▎   | 443/695 [09:54<05:19,  1.27s/it]\u001b[A\n",
            "Iteration:  64%|██████▍   | 444/695 [09:56<05:16,  1.26s/it]\u001b[A\n",
            "Iteration:  64%|██████▍   | 445/695 [09:57<05:17,  1.27s/it]\u001b[A\n",
            "Iteration:  64%|██████▍   | 446/695 [09:58<05:14,  1.26s/it]\u001b[A\n",
            "Iteration:  64%|██████▍   | 447/695 [09:59<05:13,  1.26s/it]\u001b[A\n",
            "Iteration:  64%|██████▍   | 448/695 [10:01<05:13,  1.27s/it]\u001b[A\n",
            "Iteration:  65%|██████▍   | 449/695 [10:02<05:12,  1.27s/it]\u001b[A\n",
            "Iteration:  65%|██████▍   | 450/695 [10:03<05:10,  1.27s/it]\u001b[A\n",
            "Iteration:  65%|██████▍   | 451/695 [10:04<05:08,  1.26s/it]\u001b[A\n",
            "Iteration:  65%|██████▌   | 452/695 [10:06<05:06,  1.26s/it]\u001b[A\n",
            "Iteration:  65%|██████▌   | 453/695 [10:07<05:06,  1.27s/it]\u001b[A\n",
            "Iteration:  65%|██████▌   | 454/695 [10:08<05:04,  1.26s/it]\u001b[A\n",
            "Iteration:  65%|██████▌   | 455/695 [10:09<05:02,  1.26s/it]\u001b[A\n",
            "Iteration:  66%|██████▌   | 456/695 [10:11<05:02,  1.26s/it]\u001b[A\n",
            "Iteration:  66%|██████▌   | 457/695 [10:12<05:01,  1.27s/it]\u001b[A\n",
            "Iteration:  66%|██████▌   | 458/695 [10:13<04:59,  1.26s/it]\u001b[A\n",
            "Iteration:  66%|██████▌   | 459/695 [10:14<04:56,  1.26s/it]\u001b[A\n",
            "Iteration:  66%|██████▌   | 460/695 [10:16<04:55,  1.26s/it]\u001b[A\n",
            "Iteration:  66%|██████▋   | 461/695 [10:17<04:55,  1.26s/it]\u001b[A\n",
            "Iteration:  66%|██████▋   | 462/695 [10:18<04:53,  1.26s/it]\u001b[A\n",
            "Iteration:  67%|██████▋   | 463/695 [10:20<04:51,  1.26s/it]\u001b[A\n",
            "Iteration:  67%|██████▋   | 464/695 [10:21<04:50,  1.26s/it]\u001b[A\n",
            "Iteration:  67%|██████▋   | 465/695 [10:22<04:51,  1.27s/it]\u001b[A\n",
            "Iteration:  67%|██████▋   | 466/695 [10:23<04:49,  1.27s/it]\u001b[A\n",
            "Iteration:  67%|██████▋   | 467/695 [10:25<04:47,  1.26s/it]\u001b[A\n",
            "Iteration:  67%|██████▋   | 468/695 [10:26<04:44,  1.26s/it]\u001b[A\n",
            "Iteration:  67%|██████▋   | 469/695 [10:27<04:46,  1.27s/it]\u001b[A\n",
            "Iteration:  68%|██████▊   | 470/695 [10:28<04:44,  1.26s/it]\u001b[A\n",
            "Iteration:  68%|██████▊   | 471/695 [10:30<04:42,  1.26s/it]\u001b[A\n",
            "Iteration:  68%|██████▊   | 472/695 [10:31<04:40,  1.26s/it]\u001b[A\n",
            "Iteration:  68%|██████▊   | 473/695 [10:32<04:40,  1.26s/it]\u001b[A\n",
            "Iteration:  68%|██████▊   | 474/695 [10:33<04:38,  1.26s/it]\u001b[A\n",
            "Iteration:  68%|██████▊   | 475/695 [10:35<04:37,  1.26s/it]\u001b[A\n",
            "Iteration:  68%|██████▊   | 476/695 [10:36<04:37,  1.27s/it]\u001b[A\n",
            "Iteration:  69%|██████▊   | 477/695 [10:37<04:37,  1.27s/it]\u001b[A\n",
            "Iteration:  69%|██████▉   | 478/695 [10:39<04:35,  1.27s/it]\u001b[A\n",
            "Iteration:  69%|██████▉   | 479/695 [10:40<04:32,  1.26s/it]\u001b[A\n",
            "Iteration:  69%|██████▉   | 480/695 [10:41<04:31,  1.26s/it]\u001b[A\n",
            "Iteration:  69%|██████▉   | 481/695 [10:42<04:31,  1.27s/it]\u001b[A\n",
            "Iteration:  69%|██████▉   | 482/695 [10:44<04:29,  1.26s/it]\u001b[A\n",
            "Iteration:  69%|██████▉   | 483/695 [10:45<04:27,  1.26s/it]\u001b[A\n",
            "Iteration:  70%|██████▉   | 484/695 [10:46<04:26,  1.26s/it]\u001b[A\n",
            "Iteration:  70%|██████▉   | 485/695 [10:47<04:27,  1.27s/it]\u001b[A\n",
            "Iteration:  70%|██████▉   | 486/695 [10:49<04:25,  1.27s/it]\u001b[A\n",
            "Iteration:  70%|███████   | 487/695 [10:50<04:22,  1.26s/it]\u001b[A\n",
            "Iteration:  70%|███████   | 488/695 [10:51<04:21,  1.26s/it]\u001b[A\n",
            "Iteration:  70%|███████   | 489/695 [10:52<04:22,  1.27s/it]\u001b[A\n",
            "Iteration:  71%|███████   | 490/695 [10:54<04:19,  1.27s/it]\u001b[A\n",
            "Iteration:  71%|███████   | 491/695 [10:55<04:17,  1.26s/it]\u001b[A\n",
            "Iteration:  71%|███████   | 492/695 [10:56<04:16,  1.26s/it]\u001b[A\n",
            "Iteration:  71%|███████   | 493/695 [10:58<04:17,  1.27s/it]\u001b[A\n",
            "Iteration:  71%|███████   | 494/695 [10:59<04:14,  1.26s/it]\u001b[A\n",
            "Iteration:  71%|███████   | 495/695 [11:00<04:12,  1.26s/it]\u001b[A\n",
            "Iteration:  71%|███████▏  | 496/695 [11:01<04:10,  1.26s/it]\u001b[A\n",
            "Iteration:  72%|███████▏  | 497/695 [11:03<04:11,  1.27s/it]\u001b[A\n",
            "Iteration:  72%|███████▏  | 498/695 [11:04<04:09,  1.27s/it]\u001b[A\n",
            "Iteration:  72%|███████▏  | 499/695 [11:05<04:07,  1.26s/it]\u001b[A\n",
            "Iteration:  72%|███████▏  | 500/695 [11:06<04:05,  1.26s/it]\u001b[A"
          ]
        },
        {
          "output_type": "stream",
          "name": "stdout",
          "text": [
            "\tGlobal step: 125 | LR: [8.75875875875876e-06, 8.75875875875876e-06] | Avg. loss: 0.514\n"
          ]
        },
        {
          "output_type": "stream",
          "name": "stderr",
          "text": [
            "\n",
            "Iteration:  72%|███████▏  | 501/695 [11:08<04:06,  1.27s/it]\u001b[A\n",
            "Iteration:  72%|███████▏  | 502/695 [11:09<04:03,  1.26s/it]\u001b[A\n",
            "Iteration:  72%|███████▏  | 503/695 [11:10<04:01,  1.26s/it]\u001b[A\n",
            "Iteration:  73%|███████▎  | 504/695 [11:11<04:01,  1.26s/it]\u001b[A\n",
            "Iteration:  73%|███████▎  | 505/695 [11:13<04:02,  1.28s/it]\u001b[A\n",
            "Iteration:  73%|███████▎  | 506/695 [11:14<03:59,  1.27s/it]\u001b[A\n",
            "Iteration:  73%|███████▎  | 507/695 [11:15<03:58,  1.27s/it]\u001b[A\n",
            "Iteration:  73%|███████▎  | 508/695 [11:16<03:56,  1.27s/it]\u001b[A\n",
            "Iteration:  73%|███████▎  | 509/695 [11:18<03:56,  1.27s/it]\u001b[A\n",
            "Iteration:  73%|███████▎  | 510/695 [11:19<03:54,  1.27s/it]\u001b[A\n",
            "Iteration:  74%|███████▎  | 511/695 [11:20<03:52,  1.26s/it]\u001b[A\n",
            "Iteration:  74%|███████▎  | 512/695 [11:22<03:51,  1.26s/it]\u001b[A\n",
            "Iteration:  74%|███████▍  | 513/695 [11:23<03:51,  1.27s/it]\u001b[A\n",
            "Iteration:  74%|███████▍  | 514/695 [11:24<03:48,  1.26s/it]\u001b[A\n",
            "Iteration:  74%|███████▍  | 515/695 [11:25<03:46,  1.26s/it]\u001b[A\n",
            "Iteration:  74%|███████▍  | 516/695 [11:27<03:46,  1.26s/it]\u001b[A\n",
            "Iteration:  74%|███████▍  | 517/695 [11:28<03:46,  1.27s/it]\u001b[A\n",
            "Iteration:  75%|███████▍  | 518/695 [11:29<03:44,  1.27s/it]\u001b[A\n",
            "Iteration:  75%|███████▍  | 519/695 [11:30<03:42,  1.26s/it]\u001b[A\n",
            "Iteration:  75%|███████▍  | 520/695 [11:32<03:41,  1.27s/it]\u001b[A\n",
            "Iteration:  75%|███████▍  | 521/695 [11:33<03:41,  1.28s/it]\u001b[A\n",
            "Iteration:  75%|███████▌  | 522/695 [11:34<03:39,  1.27s/it]\u001b[A\n",
            "Iteration:  75%|███████▌  | 523/695 [11:35<03:37,  1.27s/it]\u001b[A\n",
            "Iteration:  75%|███████▌  | 524/695 [11:37<03:36,  1.27s/it]\u001b[A\n",
            "Iteration:  76%|███████▌  | 525/695 [11:38<03:36,  1.27s/it]\u001b[A\n",
            "Iteration:  76%|███████▌  | 526/695 [11:39<03:34,  1.27s/it]\u001b[A\n",
            "Iteration:  76%|███████▌  | 527/695 [11:41<03:32,  1.27s/it]\u001b[A\n",
            "Iteration:  76%|███████▌  | 528/695 [11:42<03:31,  1.27s/it]\u001b[A\n",
            "Iteration:  76%|███████▌  | 529/695 [11:43<03:31,  1.28s/it]\u001b[A\n",
            "Iteration:  76%|███████▋  | 530/695 [11:44<03:29,  1.27s/it]\u001b[A\n",
            "Iteration:  76%|███████▋  | 531/695 [11:46<03:27,  1.27s/it]\u001b[A\n",
            "Iteration:  77%|███████▋  | 532/695 [11:47<03:27,  1.27s/it]\u001b[A\n",
            "Iteration:  77%|███████▋  | 533/695 [11:48<03:26,  1.28s/it]\u001b[A\n",
            "Iteration:  77%|███████▋  | 534/695 [11:49<03:23,  1.27s/it]\u001b[A\n",
            "Iteration:  77%|███████▋  | 535/695 [11:51<03:22,  1.26s/it]\u001b[A\n",
            "Iteration:  77%|███████▋  | 536/695 [11:52<03:20,  1.26s/it]\u001b[A\n",
            "Iteration:  77%|███████▋  | 537/695 [11:53<03:21,  1.27s/it]\u001b[A\n",
            "Iteration:  77%|███████▋  | 538/695 [11:55<03:19,  1.27s/it]\u001b[A\n",
            "Iteration:  78%|███████▊  | 539/695 [11:56<03:18,  1.27s/it]\u001b[A\n",
            "Iteration:  78%|███████▊  | 540/695 [11:57<03:16,  1.27s/it]\u001b[A\n",
            "Iteration:  78%|███████▊  | 541/695 [11:58<03:16,  1.27s/it]\u001b[A\n",
            "Iteration:  78%|███████▊  | 542/695 [12:00<03:14,  1.27s/it]\u001b[A\n",
            "Iteration:  78%|███████▊  | 543/695 [12:01<03:13,  1.27s/it]\u001b[A\n",
            "Iteration:  78%|███████▊  | 544/695 [12:02<03:11,  1.27s/it]\u001b[A\n",
            "Iteration:  78%|███████▊  | 545/695 [12:03<03:10,  1.27s/it]\u001b[A\n",
            "Iteration:  79%|███████▊  | 546/695 [12:05<03:08,  1.26s/it]\u001b[A\n",
            "Iteration:  79%|███████▊  | 547/695 [12:06<03:07,  1.26s/it]\u001b[A\n",
            "Iteration:  79%|███████▉  | 548/695 [12:07<03:06,  1.27s/it]\u001b[A\n",
            "Iteration:  79%|███████▉  | 549/695 [12:08<03:06,  1.28s/it]\u001b[A\n",
            "Iteration:  79%|███████▉  | 550/695 [12:10<03:04,  1.27s/it]\u001b[A\n",
            "Iteration:  79%|███████▉  | 551/695 [12:11<03:02,  1.27s/it]\u001b[A\n",
            "Iteration:  79%|███████▉  | 552/695 [12:12<03:01,  1.27s/it]\u001b[A\n",
            "Iteration:  80%|███████▉  | 553/695 [12:14<03:00,  1.27s/it]\u001b[A\n",
            "Iteration:  80%|███████▉  | 554/695 [12:15<02:58,  1.26s/it]\u001b[A\n",
            "Iteration:  80%|███████▉  | 555/695 [12:16<02:56,  1.26s/it]\u001b[A\n",
            "Iteration:  80%|████████  | 556/695 [12:17<02:55,  1.26s/it]\u001b[A\n",
            "Iteration:  80%|████████  | 557/695 [12:19<02:55,  1.27s/it]\u001b[A\n",
            "Iteration:  80%|████████  | 558/695 [12:20<02:53,  1.27s/it]\u001b[A\n",
            "Iteration:  80%|████████  | 559/695 [12:21<02:52,  1.27s/it]\u001b[A\n",
            "Iteration:  81%|████████  | 560/695 [12:22<02:51,  1.27s/it]\u001b[A\n",
            "Iteration:  81%|████████  | 561/695 [12:24<02:51,  1.28s/it]\u001b[A\n",
            "Iteration:  81%|████████  | 562/695 [12:25<02:49,  1.27s/it]\u001b[A\n",
            "Iteration:  81%|████████  | 563/695 [12:26<02:46,  1.26s/it]\u001b[A\n",
            "Iteration:  81%|████████  | 564/695 [12:27<02:45,  1.27s/it]\u001b[A\n",
            "Iteration:  81%|████████▏ | 565/695 [12:29<02:45,  1.27s/it]\u001b[A\n",
            "Iteration:  81%|████████▏ | 566/695 [12:30<02:43,  1.27s/it]\u001b[A\n",
            "Iteration:  82%|████████▏ | 567/695 [12:31<02:41,  1.26s/it]\u001b[A\n",
            "Iteration:  82%|████████▏ | 568/695 [12:33<02:40,  1.27s/it]\u001b[A\n",
            "Iteration:  82%|████████▏ | 569/695 [12:34<02:40,  1.28s/it]\u001b[A\n",
            "Iteration:  82%|████████▏ | 570/695 [12:35<02:39,  1.27s/it]\u001b[A\n",
            "Iteration:  82%|████████▏ | 571/695 [12:36<02:37,  1.27s/it]\u001b[A\n",
            "Iteration:  82%|████████▏ | 572/695 [12:38<02:36,  1.27s/it]\u001b[A\n",
            "Iteration:  82%|████████▏ | 573/695 [12:39<02:35,  1.27s/it]\u001b[A\n",
            "Iteration:  83%|████████▎ | 574/695 [12:40<02:33,  1.27s/it]\u001b[A\n",
            "Iteration:  83%|████████▎ | 575/695 [12:41<02:31,  1.27s/it]\u001b[A\n",
            "Iteration:  83%|████████▎ | 576/695 [12:43<02:30,  1.27s/it]\u001b[A\n",
            "Iteration:  83%|████████▎ | 577/695 [12:44<02:30,  1.27s/it]\u001b[A\n",
            "Iteration:  83%|████████▎ | 578/695 [12:45<02:28,  1.27s/it]\u001b[A\n",
            "Iteration:  83%|████████▎ | 579/695 [12:47<02:26,  1.26s/it]\u001b[A\n",
            "Iteration:  83%|████████▎ | 580/695 [12:48<02:25,  1.27s/it]\u001b[A\n",
            "Iteration:  84%|████████▎ | 581/695 [12:49<02:25,  1.28s/it]\u001b[A\n",
            "Iteration:  84%|████████▎ | 582/695 [12:50<02:23,  1.27s/it]\u001b[A\n",
            "Iteration:  84%|████████▍ | 583/695 [12:52<02:21,  1.27s/it]\u001b[A\n",
            "Iteration:  84%|████████▍ | 584/695 [12:53<02:20,  1.26s/it]\u001b[A\n",
            "Iteration:  84%|████████▍ | 585/695 [12:54<02:20,  1.28s/it]\u001b[A\n",
            "Iteration:  84%|████████▍ | 586/695 [12:55<02:18,  1.27s/it]\u001b[A\n",
            "Iteration:  84%|████████▍ | 587/695 [12:57<02:17,  1.27s/it]\u001b[A\n",
            "Iteration:  85%|████████▍ | 588/695 [12:58<02:15,  1.27s/it]\u001b[A\n",
            "Iteration:  85%|████████▍ | 589/695 [12:59<02:15,  1.28s/it]\u001b[A\n",
            "Iteration:  85%|████████▍ | 590/695 [13:01<02:13,  1.27s/it]\u001b[A\n",
            "Iteration:  85%|████████▌ | 591/695 [13:02<02:12,  1.27s/it]\u001b[A\n",
            "Iteration:  85%|████████▌ | 592/695 [13:03<02:10,  1.26s/it]\u001b[A\n",
            "Iteration:  85%|████████▌ | 593/695 [13:04<02:09,  1.27s/it]\u001b[A\n",
            "Iteration:  85%|████████▌ | 594/695 [13:06<02:07,  1.26s/it]\u001b[A\n",
            "Iteration:  86%|████████▌ | 595/695 [13:07<02:06,  1.26s/it]\u001b[A\n",
            "Iteration:  86%|████████▌ | 596/695 [13:08<02:05,  1.27s/it]\u001b[A\n",
            "Iteration:  86%|████████▌ | 597/695 [13:09<02:05,  1.28s/it]\u001b[A\n",
            "Iteration:  86%|████████▌ | 598/695 [13:11<02:02,  1.27s/it]\u001b[A\n",
            "Iteration:  86%|████████▌ | 599/695 [13:12<02:01,  1.26s/it]\u001b[A"
          ]
        },
        {
          "output_type": "stream",
          "name": "stdout",
          "text": [
            "\tGlobal step: 150 | LR: [8.50850850850851e-06, 8.50850850850851e-06] | Avg. loss: 0.464\n",
            "====================\n",
            "\tEvaluating on valiadtion set!\n"
          ]
        },
        {
          "output_type": "stream",
          "name": "stderr",
          "text": [
            "\n",
            "\n",
            "Evaluating:   0%|          | 0/32 [00:00<?, ?it/s]\u001b[A\u001b[A\n",
            "\n",
            "Evaluating:   3%|▎         | 1/32 [00:01<00:38,  1.23s/it]\u001b[A\u001b[A"
          ]
        },
        {
          "output_type": "stream",
          "name": "stdout",
          "text": [
            "0.90625\n"
          ]
        },
        {
          "output_type": "stream",
          "name": "stderr",
          "text": [
            "\n",
            "\n",
            "Evaluating:   6%|▋         | 2/32 [00:01<00:22,  1.31it/s]\u001b[A\u001b[A"
          ]
        },
        {
          "output_type": "stream",
          "name": "stdout",
          "text": [
            "0.65625\n"
          ]
        },
        {
          "output_type": "stream",
          "name": "stderr",
          "text": [
            "\n",
            "\n",
            "Evaluating:   9%|▉         | 3/32 [00:02<00:17,  1.62it/s]\u001b[A\u001b[A"
          ]
        },
        {
          "output_type": "stream",
          "name": "stdout",
          "text": [
            "0.875\n"
          ]
        },
        {
          "output_type": "stream",
          "name": "stderr",
          "text": [
            "\n",
            "\n",
            "Evaluating:  12%|█▎        | 4/32 [00:02<00:15,  1.83it/s]\u001b[A\u001b[A"
          ]
        },
        {
          "output_type": "stream",
          "name": "stdout",
          "text": [
            "0.8125\n"
          ]
        },
        {
          "output_type": "stream",
          "name": "stderr",
          "text": [
            "\n",
            "\n",
            "Evaluating:  16%|█▌        | 5/32 [00:02<00:13,  1.97it/s]\u001b[A\u001b[A"
          ]
        },
        {
          "output_type": "stream",
          "name": "stdout",
          "text": [
            "0.75\n"
          ]
        },
        {
          "output_type": "stream",
          "name": "stderr",
          "text": [
            "\n",
            "\n",
            "Evaluating:  19%|█▉        | 6/32 [00:03<00:12,  2.07it/s]\u001b[A\u001b[A"
          ]
        },
        {
          "output_type": "stream",
          "name": "stdout",
          "text": [
            "0.875\n"
          ]
        },
        {
          "output_type": "stream",
          "name": "stderr",
          "text": [
            "\n",
            "\n",
            "Evaluating:  22%|██▏       | 7/32 [00:03<00:11,  2.13it/s]\u001b[A\u001b[A"
          ]
        },
        {
          "output_type": "stream",
          "name": "stdout",
          "text": [
            "0.78125\n"
          ]
        },
        {
          "output_type": "stream",
          "name": "stderr",
          "text": [
            "\n",
            "\n",
            "Evaluating:  25%|██▌       | 8/32 [00:04<00:11,  2.17it/s]\u001b[A\u001b[A"
          ]
        },
        {
          "output_type": "stream",
          "name": "stdout",
          "text": [
            "0.875\n"
          ]
        },
        {
          "output_type": "stream",
          "name": "stderr",
          "text": [
            "\n",
            "\n",
            "Evaluating:  28%|██▊       | 9/32 [00:04<00:10,  2.20it/s]\u001b[A\u001b[A"
          ]
        },
        {
          "output_type": "stream",
          "name": "stdout",
          "text": [
            "0.84375\n"
          ]
        },
        {
          "output_type": "stream",
          "name": "stderr",
          "text": [
            "\n",
            "\n",
            "Evaluating:  31%|███▏      | 10/32 [00:05<00:09,  2.22it/s]\u001b[A\u001b[A"
          ]
        },
        {
          "output_type": "stream",
          "name": "stdout",
          "text": [
            "0.8125\n"
          ]
        },
        {
          "output_type": "stream",
          "name": "stderr",
          "text": [
            "\n",
            "\n",
            "Evaluating:  34%|███▍      | 11/32 [00:05<00:09,  2.23it/s]\u001b[A\u001b[A"
          ]
        },
        {
          "output_type": "stream",
          "name": "stdout",
          "text": [
            "0.9375\n"
          ]
        },
        {
          "output_type": "stream",
          "name": "stderr",
          "text": [
            "\n",
            "\n",
            "Evaluating:  38%|███▊      | 12/32 [00:06<00:08,  2.25it/s]\u001b[A\u001b[A"
          ]
        },
        {
          "output_type": "stream",
          "name": "stdout",
          "text": [
            "0.84375\n"
          ]
        },
        {
          "output_type": "stream",
          "name": "stderr",
          "text": [
            "\n",
            "\n",
            "Evaluating:  41%|████      | 13/32 [00:06<00:08,  2.26it/s]\u001b[A\u001b[A"
          ]
        },
        {
          "output_type": "stream",
          "name": "stdout",
          "text": [
            "0.8125\n"
          ]
        },
        {
          "output_type": "stream",
          "name": "stderr",
          "text": [
            "\n",
            "\n",
            "Evaluating:  44%|████▍     | 14/32 [00:06<00:07,  2.26it/s]\u001b[A\u001b[A"
          ]
        },
        {
          "output_type": "stream",
          "name": "stdout",
          "text": [
            "0.75\n"
          ]
        },
        {
          "output_type": "stream",
          "name": "stderr",
          "text": [
            "\n",
            "\n",
            "Evaluating:  47%|████▋     | 15/32 [00:07<00:07,  2.26it/s]\u001b[A\u001b[A"
          ]
        },
        {
          "output_type": "stream",
          "name": "stdout",
          "text": [
            "0.6875\n"
          ]
        },
        {
          "output_type": "stream",
          "name": "stderr",
          "text": [
            "\n",
            "\n",
            "Evaluating:  50%|█████     | 16/32 [00:07<00:07,  2.27it/s]\u001b[A\u001b[A"
          ]
        },
        {
          "output_type": "stream",
          "name": "stdout",
          "text": [
            "0.78125\n"
          ]
        },
        {
          "output_type": "stream",
          "name": "stderr",
          "text": [
            "\n",
            "\n",
            "Evaluating:  53%|█████▎    | 17/32 [00:08<00:06,  2.27it/s]\u001b[A\u001b[A"
          ]
        },
        {
          "output_type": "stream",
          "name": "stdout",
          "text": [
            "0.875\n"
          ]
        },
        {
          "output_type": "stream",
          "name": "stderr",
          "text": [
            "\n",
            "\n",
            "Evaluating:  56%|█████▋    | 18/32 [00:08<00:06,  2.26it/s]\u001b[A\u001b[A"
          ]
        },
        {
          "output_type": "stream",
          "name": "stdout",
          "text": [
            "0.75\n"
          ]
        },
        {
          "output_type": "stream",
          "name": "stderr",
          "text": [
            "\n",
            "\n",
            "Evaluating:  59%|█████▉    | 19/32 [00:09<00:05,  2.26it/s]\u001b[A\u001b[A"
          ]
        },
        {
          "output_type": "stream",
          "name": "stdout",
          "text": [
            "0.8125\n"
          ]
        },
        {
          "output_type": "stream",
          "name": "stderr",
          "text": [
            "\n",
            "\n",
            "Evaluating:  62%|██████▎   | 20/32 [00:09<00:05,  2.26it/s]\u001b[A\u001b[A"
          ]
        },
        {
          "output_type": "stream",
          "name": "stdout",
          "text": [
            "0.78125\n"
          ]
        },
        {
          "output_type": "stream",
          "name": "stderr",
          "text": [
            "\n",
            "\n",
            "Evaluating:  66%|██████▌   | 21/32 [00:10<00:04,  2.27it/s]\u001b[A\u001b[A"
          ]
        },
        {
          "output_type": "stream",
          "name": "stdout",
          "text": [
            "0.75\n"
          ]
        },
        {
          "output_type": "stream",
          "name": "stderr",
          "text": [
            "\n",
            "\n",
            "Evaluating:  69%|██████▉   | 22/32 [00:10<00:04,  2.27it/s]\u001b[A\u001b[A"
          ]
        },
        {
          "output_type": "stream",
          "name": "stdout",
          "text": [
            "0.8125\n"
          ]
        },
        {
          "output_type": "stream",
          "name": "stderr",
          "text": [
            "\n",
            "\n",
            "Evaluating:  72%|███████▏  | 23/32 [00:10<00:03,  2.27it/s]\u001b[A\u001b[A"
          ]
        },
        {
          "output_type": "stream",
          "name": "stdout",
          "text": [
            "0.875\n"
          ]
        },
        {
          "output_type": "stream",
          "name": "stderr",
          "text": [
            "\n",
            "\n",
            "Evaluating:  75%|███████▌  | 24/32 [00:11<00:03,  2.26it/s]\u001b[A\u001b[A"
          ]
        },
        {
          "output_type": "stream",
          "name": "stdout",
          "text": [
            "0.8125\n"
          ]
        },
        {
          "output_type": "stream",
          "name": "stderr",
          "text": [
            "\n",
            "\n",
            "Evaluating:  78%|███████▊  | 25/32 [00:11<00:03,  2.26it/s]\u001b[A\u001b[A"
          ]
        },
        {
          "output_type": "stream",
          "name": "stdout",
          "text": [
            "0.8125\n"
          ]
        },
        {
          "output_type": "stream",
          "name": "stderr",
          "text": [
            "\n",
            "\n",
            "Evaluating:  81%|████████▏ | 26/32 [00:12<00:02,  2.25it/s]\u001b[A\u001b[A"
          ]
        },
        {
          "output_type": "stream",
          "name": "stdout",
          "text": [
            "0.8125\n"
          ]
        },
        {
          "output_type": "stream",
          "name": "stderr",
          "text": [
            "\n",
            "\n",
            "Evaluating:  84%|████████▍ | 27/32 [00:12<00:02,  2.26it/s]\u001b[A\u001b[A"
          ]
        },
        {
          "output_type": "stream",
          "name": "stdout",
          "text": [
            "0.8125\n"
          ]
        },
        {
          "output_type": "stream",
          "name": "stderr",
          "text": [
            "\n",
            "\n",
            "Evaluating:  88%|████████▊ | 28/32 [00:13<00:01,  2.27it/s]\u001b[A\u001b[A"
          ]
        },
        {
          "output_type": "stream",
          "name": "stdout",
          "text": [
            "0.8125\n"
          ]
        },
        {
          "output_type": "stream",
          "name": "stderr",
          "text": [
            "\n",
            "\n",
            "Evaluating:  91%|█████████ | 29/32 [00:13<00:01,  2.27it/s]\u001b[A\u001b[A"
          ]
        },
        {
          "output_type": "stream",
          "name": "stdout",
          "text": [
            "0.8125\n"
          ]
        },
        {
          "output_type": "stream",
          "name": "stderr",
          "text": [
            "\n",
            "\n",
            "Evaluating:  94%|█████████▍| 30/32 [00:14<00:00,  2.27it/s]\u001b[A\u001b[A"
          ]
        },
        {
          "output_type": "stream",
          "name": "stdout",
          "text": [
            "0.8125\n"
          ]
        },
        {
          "output_type": "stream",
          "name": "stderr",
          "text": [
            "\n",
            "\n",
            "Evaluating:  97%|█████████▋| 31/32 [00:14<00:00,  2.27it/s]\u001b[A\u001b[A\n",
            "\n",
            "Evaluating: 100%|██████████| 32/32 [00:14<00:00,  2.19it/s]"
          ]
        },
        {
          "output_type": "stream",
          "name": "stdout",
          "text": [
            "0.71875\n",
            "1.0\n",
            "== Finished evaluating model: next_sentence_cls_0 ==\n",
            "\tMean evaluation acc: 0.814\n"
          ]
        },
        {
          "output_type": "stream",
          "name": "stderr",
          "text": [
            "\n",
            "\n",
            "Iteration:  86%|████████▋ | 600/695 [13:34<11:44,  7.42s/it]\u001b[A"
          ]
        },
        {
          "output_type": "stream",
          "name": "stdout",
          "text": [
            "\tEvaluation accuracy: 0.814 | Stale count: 0\n",
            "====================\n"
          ]
        },
        {
          "output_type": "stream",
          "name": "stderr",
          "text": [
            "\n",
            "Iteration:  86%|████████▋ | 601/695 [13:34<08:23,  5.36s/it]\u001b[A\n",
            "Iteration:  87%|████████▋ | 602/695 [13:35<06:23,  4.12s/it]\u001b[A\n",
            "Iteration:  87%|████████▋ | 603/695 [13:37<04:59,  3.26s/it]\u001b[A\n",
            "Iteration:  87%|████████▋ | 604/695 [13:38<04:02,  2.67s/it]\u001b[A\n",
            "Iteration:  87%|████████▋ | 605/695 [13:39<03:21,  2.24s/it]\u001b[A\n",
            "Iteration:  87%|████████▋ | 606/695 [13:40<02:52,  1.94s/it]\u001b[A\n",
            "Iteration:  87%|████████▋ | 607/695 [13:42<02:32,  1.74s/it]\u001b[A\n",
            "Iteration:  87%|████████▋ | 608/695 [13:43<02:18,  1.60s/it]\u001b[A\n",
            "Iteration:  88%|████████▊ | 609/695 [13:44<02:09,  1.50s/it]\u001b[A\n",
            "Iteration:  88%|████████▊ | 610/695 [13:46<02:01,  1.43s/it]\u001b[A\n",
            "Iteration:  88%|████████▊ | 611/695 [13:47<01:55,  1.38s/it]\u001b[A\n",
            "Iteration:  88%|████████▊ | 612/695 [13:48<01:52,  1.35s/it]\u001b[A\n",
            "Iteration:  88%|████████▊ | 613/695 [13:49<01:49,  1.34s/it]\u001b[A\n",
            "Iteration:  88%|████████▊ | 614/695 [13:51<01:46,  1.31s/it]\u001b[A\n",
            "Iteration:  88%|████████▊ | 615/695 [13:52<01:43,  1.30s/it]\u001b[A\n",
            "Iteration:  89%|████████▊ | 616/695 [13:53<01:41,  1.29s/it]\u001b[A\n",
            "Iteration:  89%|████████▉ | 617/695 [13:54<01:40,  1.29s/it]\u001b[A\n",
            "Iteration:  89%|████████▉ | 618/695 [13:56<01:38,  1.28s/it]\u001b[A\n",
            "Iteration:  89%|████████▉ | 619/695 [13:57<01:37,  1.28s/it]\u001b[A\n",
            "Iteration:  89%|████████▉ | 620/695 [13:58<01:36,  1.28s/it]\u001b[A\n",
            "Iteration:  89%|████████▉ | 621/695 [14:00<01:35,  1.29s/it]\u001b[A\n",
            "Iteration:  89%|████████▉ | 622/695 [14:01<01:33,  1.28s/it]\u001b[A\n",
            "Iteration:  90%|████████▉ | 623/695 [14:02<01:32,  1.28s/it]\u001b[A\n",
            "Iteration:  90%|████████▉ | 624/695 [14:03<01:30,  1.27s/it]\u001b[A\n",
            "Iteration:  90%|████████▉ | 625/695 [14:05<01:29,  1.28s/it]\u001b[A\n",
            "Iteration:  90%|█████████ | 626/695 [14:06<01:28,  1.28s/it]\u001b[A\n",
            "Iteration:  90%|█████████ | 627/695 [14:07<01:26,  1.27s/it]\u001b[A\n",
            "Iteration:  90%|█████████ | 628/695 [14:09<01:25,  1.27s/it]\u001b[A\n",
            "Iteration:  91%|█████████ | 629/695 [14:10<01:24,  1.28s/it]\u001b[A\n",
            "Iteration:  91%|█████████ | 630/695 [14:11<01:22,  1.28s/it]\u001b[A\n",
            "Iteration:  91%|█████████ | 631/695 [14:12<01:21,  1.27s/it]\u001b[A\n",
            "Iteration:  91%|█████████ | 632/695 [14:14<01:20,  1.28s/it]\u001b[A\n",
            "Iteration:  91%|█████████ | 633/695 [14:15<01:19,  1.28s/it]\u001b[A\n",
            "Iteration:  91%|█████████ | 634/695 [14:16<01:17,  1.27s/it]\u001b[A\n",
            "Iteration:  91%|█████████▏| 635/695 [14:17<01:16,  1.27s/it]\u001b[A\n",
            "Iteration:  92%|█████████▏| 636/695 [14:19<01:15,  1.27s/it]\u001b[A\n",
            "Iteration:  92%|█████████▏| 637/695 [14:20<01:14,  1.28s/it]\u001b[A\n",
            "Iteration:  92%|█████████▏| 638/695 [14:21<01:12,  1.27s/it]\u001b[A\n",
            "Iteration:  92%|█████████▏| 639/695 [14:23<01:10,  1.27s/it]\u001b[A\n",
            "Iteration:  92%|█████████▏| 640/695 [14:24<01:09,  1.26s/it]\u001b[A\n",
            "Iteration:  92%|█████████▏| 641/695 [14:25<01:08,  1.28s/it]\u001b[A\n",
            "Iteration:  92%|█████████▏| 642/695 [14:26<01:07,  1.27s/it]\u001b[A\n",
            "Iteration:  93%|█████████▎| 643/695 [14:28<01:05,  1.26s/it]\u001b[A\n",
            "Iteration:  93%|█████████▎| 644/695 [14:29<01:04,  1.27s/it]\u001b[A\n",
            "Iteration:  93%|█████████▎| 645/695 [14:30<01:03,  1.28s/it]\u001b[A\n",
            "Iteration:  93%|█████████▎| 646/695 [14:31<01:02,  1.27s/it]\u001b[A\n",
            "Iteration:  93%|█████████▎| 647/695 [14:33<01:00,  1.26s/it]\u001b[A\n",
            "Iteration:  93%|█████████▎| 648/695 [14:34<00:59,  1.27s/it]\u001b[A\n",
            "Iteration:  93%|█████████▎| 649/695 [14:35<00:58,  1.27s/it]\u001b[A\n",
            "Iteration:  94%|█████████▎| 650/695 [14:36<00:57,  1.27s/it]\u001b[A\n",
            "Iteration:  94%|█████████▎| 651/695 [14:38<00:55,  1.27s/it]\u001b[A\n",
            "Iteration:  94%|█████████▍| 652/695 [14:39<00:54,  1.26s/it]\u001b[A\n",
            "Iteration:  94%|█████████▍| 653/695 [14:40<00:53,  1.27s/it]\u001b[A\n",
            "Iteration:  94%|█████████▍| 654/695 [14:42<00:51,  1.26s/it]\u001b[A\n",
            "Iteration:  94%|█████████▍| 655/695 [14:43<00:50,  1.26s/it]\u001b[A\n",
            "Iteration:  94%|█████████▍| 656/695 [14:44<00:49,  1.26s/it]\u001b[A\n",
            "Iteration:  95%|█████████▍| 657/695 [14:45<00:48,  1.27s/it]\u001b[A\n",
            "Iteration:  95%|█████████▍| 658/695 [14:47<00:46,  1.26s/it]\u001b[A\n",
            "Iteration:  95%|█████████▍| 659/695 [14:48<00:45,  1.26s/it]\u001b[A\n",
            "Iteration:  95%|█████████▍| 660/695 [14:49<00:44,  1.27s/it]\u001b[A\n",
            "Iteration:  95%|█████████▌| 661/695 [14:50<00:43,  1.27s/it]\u001b[A\n",
            "Iteration:  95%|█████████▌| 662/695 [14:52<00:41,  1.26s/it]\u001b[A\n",
            "Iteration:  95%|█████████▌| 663/695 [14:53<00:40,  1.26s/it]\u001b[A\n",
            "Iteration:  96%|█████████▌| 664/695 [14:54<00:39,  1.26s/it]\u001b[A\n",
            "Iteration:  96%|█████████▌| 665/695 [14:55<00:38,  1.27s/it]\u001b[A\n",
            "Iteration:  96%|█████████▌| 666/695 [14:57<00:36,  1.26s/it]\u001b[A\n",
            "Iteration:  96%|█████████▌| 667/695 [14:58<00:35,  1.26s/it]\u001b[A\n",
            "Iteration:  96%|█████████▌| 668/695 [14:59<00:34,  1.26s/it]\u001b[A\n",
            "Iteration:  96%|█████████▋| 669/695 [15:01<00:33,  1.27s/it]\u001b[A\n",
            "Iteration:  96%|█████████▋| 670/695 [15:02<00:31,  1.27s/it]\u001b[A\n",
            "Iteration:  97%|█████████▋| 671/695 [15:03<00:30,  1.27s/it]\u001b[A\n",
            "Iteration:  97%|█████████▋| 672/695 [15:04<00:29,  1.26s/it]\u001b[A\n",
            "Iteration:  97%|█████████▋| 673/695 [15:06<00:27,  1.27s/it]\u001b[A\n",
            "Iteration:  97%|█████████▋| 674/695 [15:07<00:26,  1.26s/it]\u001b[A\n",
            "Iteration:  97%|█████████▋| 675/695 [15:08<00:25,  1.26s/it]\u001b[A\n",
            "Iteration:  97%|█████████▋| 676/695 [15:09<00:23,  1.26s/it]\u001b[A\n",
            "Iteration:  97%|█████████▋| 677/695 [15:11<00:22,  1.27s/it]\u001b[A\n",
            "Iteration:  98%|█████████▊| 678/695 [15:12<00:21,  1.26s/it]\u001b[A\n",
            "Iteration:  98%|█████████▊| 679/695 [15:13<00:20,  1.26s/it]\u001b[A\n",
            "Iteration:  98%|█████████▊| 680/695 [15:14<00:18,  1.26s/it]\u001b[A\n",
            "Iteration:  98%|█████████▊| 681/695 [15:16<00:17,  1.27s/it]\u001b[A\n",
            "Iteration:  98%|█████████▊| 682/695 [15:17<00:16,  1.26s/it]\u001b[A\n",
            "Iteration:  98%|█████████▊| 683/695 [15:18<00:15,  1.26s/it]\u001b[A\n",
            "Iteration:  98%|█████████▊| 684/695 [15:19<00:13,  1.26s/it]\u001b[A\n",
            "Iteration:  99%|█████████▊| 685/695 [15:21<00:12,  1.27s/it]\u001b[A\n",
            "Iteration:  99%|█████████▊| 686/695 [15:22<00:11,  1.27s/it]\u001b[A\n",
            "Iteration:  99%|█████████▉| 687/695 [15:23<00:10,  1.26s/it]\u001b[A\n",
            "Iteration:  99%|█████████▉| 688/695 [15:25<00:08,  1.27s/it]\u001b[A\n",
            "Iteration:  99%|█████████▉| 689/695 [15:26<00:07,  1.28s/it]\u001b[A\n",
            "Iteration:  99%|█████████▉| 690/695 [15:27<00:06,  1.27s/it]\u001b[A\n",
            "Iteration:  99%|█████████▉| 691/695 [15:28<00:05,  1.26s/it]\u001b[A\n",
            "Iteration: 100%|█████████▉| 692/695 [15:30<00:03,  1.27s/it]\u001b[A\n",
            "Iteration: 100%|█████████▉| 693/695 [15:31<00:02,  1.27s/it]\u001b[A\n",
            "Iteration: 100%|█████████▉| 694/695 [15:32<00:01,  1.27s/it]\u001b[A\n",
            "Iteration: 100%|██████████| 695/695 [15:33<00:00,  1.34s/it]\n",
            "Epoch:  20%|██        | 1/5 [15:33<1:02:15, 933.85s/it]\n",
            "Iteration:   0%|          | 0/695 [00:00<?, ?it/s]\u001b[A\n",
            "Iteration:   0%|          | 1/695 [00:01<13:05,  1.13s/it]\u001b[A\n",
            "Iteration:   0%|          | 2/695 [00:02<14:14,  1.23s/it]\u001b[A\n",
            "Iteration:   0%|          | 3/695 [00:03<14:16,  1.24s/it]\u001b[A\n",
            "Iteration:   1%|          | 4/695 [00:04<14:20,  1.25s/it]\u001b[A\n",
            "Iteration:   1%|          | 5/695 [00:06<14:22,  1.25s/it]\u001b[A"
          ]
        },
        {
          "output_type": "stream",
          "name": "stdout",
          "text": [
            "\tGlobal step: 175 | LR: [8.258258258258259e-06, 8.258258258258259e-06] | Avg. loss: 0.444\n"
          ]
        },
        {
          "output_type": "stream",
          "name": "stderr",
          "text": [
            "\n",
            "Iteration:   1%|          | 6/695 [00:07<14:32,  1.27s/it]\u001b[A\n",
            "Iteration:   1%|          | 7/695 [00:08<14:30,  1.26s/it]\u001b[A\n",
            "Iteration:   1%|          | 8/695 [00:10<14:28,  1.26s/it]\u001b[A\n",
            "Iteration:   1%|▏         | 9/695 [00:11<14:28,  1.27s/it]\u001b[A\n",
            "Iteration:   1%|▏         | 10/695 [00:12<14:34,  1.28s/it]\u001b[A\n",
            "Iteration:   2%|▏         | 11/695 [00:13<14:29,  1.27s/it]\u001b[A\n",
            "Iteration:   2%|▏         | 12/695 [00:15<14:25,  1.27s/it]\u001b[A\n",
            "Iteration:   2%|▏         | 13/695 [00:16<14:25,  1.27s/it]\u001b[A\n",
            "Iteration:   2%|▏         | 14/695 [00:17<14:27,  1.27s/it]\u001b[A\n",
            "Iteration:   2%|▏         | 15/695 [00:18<14:23,  1.27s/it]\u001b[A\n",
            "Iteration:   2%|▏         | 16/695 [00:20<14:19,  1.27s/it]\u001b[A\n",
            "Iteration:   2%|▏         | 17/695 [00:21<14:20,  1.27s/it]\u001b[A\n",
            "Iteration:   3%|▎         | 18/695 [00:22<14:26,  1.28s/it]\u001b[A\n",
            "Iteration:   3%|▎         | 19/695 [00:24<14:20,  1.27s/it]\u001b[A\n",
            "Iteration:   3%|▎         | 20/695 [00:25<14:17,  1.27s/it]\u001b[A\n",
            "Iteration:   3%|▎         | 21/695 [00:26<14:13,  1.27s/it]\u001b[A\n",
            "Iteration:   3%|▎         | 22/695 [00:27<14:16,  1.27s/it]\u001b[A\n",
            "Iteration:   3%|▎         | 23/695 [00:29<14:13,  1.27s/it]\u001b[A\n",
            "Iteration:   3%|▎         | 24/695 [00:30<14:07,  1.26s/it]\u001b[A\n",
            "Iteration:   4%|▎         | 25/695 [00:31<14:07,  1.27s/it]\u001b[A\n",
            "Iteration:   4%|▎         | 26/695 [00:32<14:13,  1.28s/it]\u001b[A\n",
            "Iteration:   4%|▍         | 27/695 [00:34<14:08,  1.27s/it]\u001b[A\n",
            "Iteration:   4%|▍         | 28/695 [00:35<14:05,  1.27s/it]\u001b[A\n",
            "Iteration:   4%|▍         | 29/695 [00:36<14:05,  1.27s/it]\u001b[A\n",
            "Iteration:   4%|▍         | 30/695 [00:37<14:07,  1.27s/it]\u001b[A\n",
            "Iteration:   4%|▍         | 31/695 [00:39<14:02,  1.27s/it]\u001b[A\n",
            "Iteration:   5%|▍         | 32/695 [00:40<14:03,  1.27s/it]\u001b[A\n",
            "Iteration:   5%|▍         | 33/695 [00:41<14:00,  1.27s/it]\u001b[A\n",
            "Iteration:   5%|▍         | 34/695 [00:43<14:04,  1.28s/it]\u001b[A\n",
            "Iteration:   5%|▌         | 35/695 [00:44<13:58,  1.27s/it]\u001b[A\n",
            "Iteration:   5%|▌         | 36/695 [00:45<13:54,  1.27s/it]\u001b[A\n",
            "Iteration:   5%|▌         | 37/695 [00:46<13:56,  1.27s/it]\u001b[A\n",
            "Iteration:   5%|▌         | 38/695 [00:48<13:59,  1.28s/it]\u001b[A\n",
            "Iteration:   6%|▌         | 39/695 [00:49<13:52,  1.27s/it]\u001b[A\n",
            "Iteration:   6%|▌         | 40/695 [00:50<13:47,  1.26s/it]\u001b[A\n",
            "Iteration:   6%|▌         | 41/695 [00:51<13:46,  1.26s/it]\u001b[A\n",
            "Iteration:   6%|▌         | 42/695 [00:53<13:51,  1.27s/it]\u001b[A\n",
            "Iteration:   6%|▌         | 43/695 [00:54<13:48,  1.27s/it]\u001b[A\n",
            "Iteration:   6%|▋         | 44/695 [00:55<13:42,  1.26s/it]\u001b[A\n",
            "Iteration:   6%|▋         | 45/695 [00:56<13:40,  1.26s/it]\u001b[A\n",
            "Iteration:   7%|▋         | 46/695 [00:58<13:44,  1.27s/it]\u001b[A\n",
            "Iteration:   7%|▋         | 47/695 [00:59<13:40,  1.27s/it]\u001b[A\n",
            "Iteration:   7%|▋         | 48/695 [01:00<13:37,  1.26s/it]\u001b[A\n",
            "Iteration:   7%|▋         | 49/695 [01:02<13:36,  1.26s/it]\u001b[A\n",
            "Iteration:   7%|▋         | 50/695 [01:03<13:40,  1.27s/it]\u001b[A\n",
            "Iteration:   7%|▋         | 51/695 [01:04<13:39,  1.27s/it]\u001b[A\n",
            "Iteration:   7%|▋         | 52/695 [01:05<13:33,  1.27s/it]\u001b[A\n",
            "Iteration:   8%|▊         | 53/695 [01:07<13:32,  1.27s/it]\u001b[A\n",
            "Iteration:   8%|▊         | 54/695 [01:08<13:36,  1.27s/it]\u001b[A\n",
            "Iteration:   8%|▊         | 55/695 [01:09<13:31,  1.27s/it]\u001b[A\n",
            "Iteration:   8%|▊         | 56/695 [01:10<13:27,  1.26s/it]\u001b[A\n",
            "Iteration:   8%|▊         | 57/695 [01:12<13:28,  1.27s/it]\u001b[A\n",
            "Iteration:   8%|▊         | 58/695 [01:13<13:31,  1.27s/it]\u001b[A\n",
            "Iteration:   8%|▊         | 59/695 [01:14<13:29,  1.27s/it]\u001b[A\n",
            "Iteration:   9%|▊         | 60/695 [01:16<13:25,  1.27s/it]\u001b[A\n",
            "Iteration:   9%|▉         | 61/695 [01:17<13:24,  1.27s/it]\u001b[A\n",
            "Iteration:   9%|▉         | 62/695 [01:18<13:27,  1.28s/it]\u001b[A\n",
            "Iteration:   9%|▉         | 63/695 [01:19<13:18,  1.26s/it]\u001b[A\n",
            "Iteration:   9%|▉         | 64/695 [01:21<13:18,  1.27s/it]\u001b[A\n",
            "Iteration:   9%|▉         | 65/695 [01:22<13:16,  1.26s/it]\u001b[A\n",
            "Iteration:   9%|▉         | 66/695 [01:23<13:20,  1.27s/it]\u001b[A\n",
            "Iteration:  10%|▉         | 67/695 [01:24<13:19,  1.27s/it]\u001b[A\n",
            "Iteration:  10%|▉         | 68/695 [01:26<13:15,  1.27s/it]\u001b[A\n",
            "Iteration:  10%|▉         | 69/695 [01:27<13:14,  1.27s/it]\u001b[A\n",
            "Iteration:  10%|█         | 70/695 [01:28<13:20,  1.28s/it]\u001b[A\n",
            "Iteration:  10%|█         | 71/695 [01:30<13:15,  1.28s/it]\u001b[A\n",
            "Iteration:  10%|█         | 72/695 [01:31<13:08,  1.27s/it]\u001b[A\n",
            "Iteration:  11%|█         | 73/695 [01:32<13:07,  1.27s/it]\u001b[A\n",
            "Iteration:  11%|█         | 74/695 [01:33<13:11,  1.27s/it]\u001b[A\n",
            "Iteration:  11%|█         | 75/695 [01:35<13:08,  1.27s/it]\u001b[A\n",
            "Iteration:  11%|█         | 76/695 [01:36<13:05,  1.27s/it]\u001b[A\n",
            "Iteration:  11%|█         | 77/695 [01:37<13:03,  1.27s/it]\u001b[A\n",
            "Iteration:  11%|█         | 78/695 [01:38<13:06,  1.27s/it]\u001b[A\n",
            "Iteration:  11%|█▏        | 79/695 [01:40<12:59,  1.27s/it]\u001b[A\n",
            "Iteration:  12%|█▏        | 80/695 [01:41<12:57,  1.26s/it]\u001b[A\n",
            "Iteration:  12%|█▏        | 81/695 [01:42<12:57,  1.27s/it]\u001b[A\n",
            "Iteration:  12%|█▏        | 82/695 [01:43<13:00,  1.27s/it]\u001b[A\n",
            "Iteration:  12%|█▏        | 83/695 [01:45<12:57,  1.27s/it]\u001b[A\n",
            "Iteration:  12%|█▏        | 84/695 [01:46<12:54,  1.27s/it]\u001b[A\n",
            "Iteration:  12%|█▏        | 85/695 [01:47<12:53,  1.27s/it]\u001b[A\n",
            "Iteration:  12%|█▏        | 86/695 [01:49<12:57,  1.28s/it]\u001b[A\n",
            "Iteration:  13%|█▎        | 87/695 [01:50<12:54,  1.27s/it]\u001b[A\n",
            "Iteration:  13%|█▎        | 88/695 [01:51<12:53,  1.27s/it]\u001b[A\n",
            "Iteration:  13%|█▎        | 89/695 [01:52<12:50,  1.27s/it]\u001b[A\n",
            "Iteration:  13%|█▎        | 90/695 [01:54<12:54,  1.28s/it]\u001b[A\n",
            "Iteration:  13%|█▎        | 91/695 [01:55<12:48,  1.27s/it]\u001b[A\n",
            "Iteration:  13%|█▎        | 92/695 [01:56<12:47,  1.27s/it]\u001b[A\n",
            "Iteration:  13%|█▎        | 93/695 [01:57<12:46,  1.27s/it]\u001b[A\n",
            "Iteration:  14%|█▎        | 94/695 [01:59<12:50,  1.28s/it]\u001b[A\n",
            "Iteration:  14%|█▎        | 95/695 [02:00<12:42,  1.27s/it]\u001b[A\n",
            "Iteration:  14%|█▍        | 96/695 [02:01<12:38,  1.27s/it]\u001b[A\n",
            "Iteration:  14%|█▍        | 97/695 [02:03<12:35,  1.26s/it]\u001b[A\n",
            "Iteration:  14%|█▍        | 98/695 [02:04<12:38,  1.27s/it]\u001b[A\n",
            "Iteration:  14%|█▍        | 99/695 [02:05<12:36,  1.27s/it]\u001b[A\n",
            "Iteration:  14%|█▍        | 100/695 [02:06<12:34,  1.27s/it]\u001b[A\n",
            "Iteration:  15%|█▍        | 101/695 [02:08<12:30,  1.26s/it]\u001b[A\n",
            "Iteration:  15%|█▍        | 102/695 [02:09<12:35,  1.27s/it]\u001b[A\n",
            "Iteration:  15%|█▍        | 103/695 [02:10<12:30,  1.27s/it]\u001b[A\n",
            "Iteration:  15%|█▍        | 104/695 [02:11<12:27,  1.26s/it]\u001b[A"
          ]
        },
        {
          "output_type": "stream",
          "name": "stdout",
          "text": [
            "\tGlobal step: 200 | LR: [8.00800800800801e-06, 8.00800800800801e-06] | Avg. loss: 0.413\n",
            "====================\n",
            "\tEvaluating on valiadtion set!\n"
          ]
        },
        {
          "output_type": "stream",
          "name": "stderr",
          "text": [
            "\n",
            "\n",
            "Evaluating:   0%|          | 0/32 [00:00<?, ?it/s]\u001b[A\u001b[A\n",
            "\n",
            "Evaluating:   3%|▎         | 1/32 [00:01<00:37,  1.22s/it]\u001b[A\u001b[A"
          ]
        },
        {
          "output_type": "stream",
          "name": "stdout",
          "text": [
            "1.0\n"
          ]
        },
        {
          "output_type": "stream",
          "name": "stderr",
          "text": [
            "\n",
            "\n",
            "Evaluating:   6%|▋         | 2/32 [00:01<00:22,  1.31it/s]\u001b[A\u001b[A"
          ]
        },
        {
          "output_type": "stream",
          "name": "stdout",
          "text": [
            "0.6875\n"
          ]
        },
        {
          "output_type": "stream",
          "name": "stderr",
          "text": [
            "\n",
            "\n",
            "Evaluating:   9%|▉         | 3/32 [00:02<00:17,  1.62it/s]\u001b[A\u001b[A"
          ]
        },
        {
          "output_type": "stream",
          "name": "stdout",
          "text": [
            "0.84375\n"
          ]
        },
        {
          "output_type": "stream",
          "name": "stderr",
          "text": [
            "\n",
            "\n",
            "Evaluating:  12%|█▎        | 4/32 [00:02<00:15,  1.82it/s]\u001b[A\u001b[A"
          ]
        },
        {
          "output_type": "stream",
          "name": "stdout",
          "text": [
            "0.84375\n"
          ]
        },
        {
          "output_type": "stream",
          "name": "stderr",
          "text": [
            "\n",
            "\n",
            "Evaluating:  16%|█▌        | 5/32 [00:02<00:13,  1.96it/s]\u001b[A\u001b[A"
          ]
        },
        {
          "output_type": "stream",
          "name": "stdout",
          "text": [
            "0.90625\n"
          ]
        },
        {
          "output_type": "stream",
          "name": "stderr",
          "text": [
            "\n",
            "\n",
            "Evaluating:  19%|█▉        | 6/32 [00:03<00:12,  2.06it/s]\u001b[A\u001b[A"
          ]
        },
        {
          "output_type": "stream",
          "name": "stdout",
          "text": [
            "0.875\n"
          ]
        },
        {
          "output_type": "stream",
          "name": "stderr",
          "text": [
            "\n",
            "\n",
            "Evaluating:  22%|██▏       | 7/32 [00:03<00:11,  2.12it/s]\u001b[A\u001b[A"
          ]
        },
        {
          "output_type": "stream",
          "name": "stdout",
          "text": [
            "0.84375\n"
          ]
        },
        {
          "output_type": "stream",
          "name": "stderr",
          "text": [
            "\n",
            "\n",
            "Evaluating:  25%|██▌       | 8/32 [00:04<00:11,  2.16it/s]\u001b[A\u001b[A"
          ]
        },
        {
          "output_type": "stream",
          "name": "stdout",
          "text": [
            "0.90625\n"
          ]
        },
        {
          "output_type": "stream",
          "name": "stderr",
          "text": [
            "\n",
            "\n",
            "Evaluating:  28%|██▊       | 9/32 [00:04<00:10,  2.19it/s]\u001b[A\u001b[A"
          ]
        },
        {
          "output_type": "stream",
          "name": "stdout",
          "text": [
            "0.875\n"
          ]
        },
        {
          "output_type": "stream",
          "name": "stderr",
          "text": [
            "\n",
            "\n",
            "Evaluating:  31%|███▏      | 10/32 [00:05<00:09,  2.21it/s]\u001b[A\u001b[A"
          ]
        },
        {
          "output_type": "stream",
          "name": "stdout",
          "text": [
            "0.875\n"
          ]
        },
        {
          "output_type": "stream",
          "name": "stderr",
          "text": [
            "\n",
            "\n",
            "Evaluating:  34%|███▍      | 11/32 [00:05<00:09,  2.23it/s]\u001b[A\u001b[A"
          ]
        },
        {
          "output_type": "stream",
          "name": "stdout",
          "text": [
            "0.90625\n"
          ]
        },
        {
          "output_type": "stream",
          "name": "stderr",
          "text": [
            "\n",
            "\n",
            "Evaluating:  38%|███▊      | 12/32 [00:06<00:08,  2.24it/s]\u001b[A\u001b[A"
          ]
        },
        {
          "output_type": "stream",
          "name": "stdout",
          "text": [
            "0.84375\n"
          ]
        },
        {
          "output_type": "stream",
          "name": "stderr",
          "text": [
            "\n",
            "\n",
            "Evaluating:  41%|████      | 13/32 [00:06<00:08,  2.25it/s]\u001b[A\u001b[A"
          ]
        },
        {
          "output_type": "stream",
          "name": "stdout",
          "text": [
            "0.78125\n"
          ]
        },
        {
          "output_type": "stream",
          "name": "stderr",
          "text": [
            "\n",
            "\n",
            "Evaluating:  44%|████▍     | 14/32 [00:06<00:08,  2.25it/s]\u001b[A\u001b[A"
          ]
        },
        {
          "output_type": "stream",
          "name": "stdout",
          "text": [
            "0.9375\n"
          ]
        },
        {
          "output_type": "stream",
          "name": "stderr",
          "text": [
            "\n",
            "\n",
            "Evaluating:  47%|████▋     | 15/32 [00:07<00:07,  2.26it/s]\u001b[A\u001b[A"
          ]
        },
        {
          "output_type": "stream",
          "name": "stdout",
          "text": [
            "0.75\n"
          ]
        },
        {
          "output_type": "stream",
          "name": "stderr",
          "text": [
            "\n",
            "\n",
            "Evaluating:  50%|█████     | 16/32 [00:07<00:07,  2.27it/s]\u001b[A\u001b[A"
          ]
        },
        {
          "output_type": "stream",
          "name": "stdout",
          "text": [
            "0.84375\n"
          ]
        },
        {
          "output_type": "stream",
          "name": "stderr",
          "text": [
            "\n",
            "\n",
            "Evaluating:  53%|█████▎    | 17/32 [00:08<00:06,  2.27it/s]\u001b[A\u001b[A"
          ]
        },
        {
          "output_type": "stream",
          "name": "stdout",
          "text": [
            "0.84375\n"
          ]
        },
        {
          "output_type": "stream",
          "name": "stderr",
          "text": [
            "\n",
            "\n",
            "Evaluating:  56%|█████▋    | 18/32 [00:08<00:06,  2.27it/s]\u001b[A\u001b[A"
          ]
        },
        {
          "output_type": "stream",
          "name": "stdout",
          "text": [
            "0.78125\n"
          ]
        },
        {
          "output_type": "stream",
          "name": "stderr",
          "text": [
            "\n",
            "\n",
            "Evaluating:  59%|█████▉    | 19/32 [00:09<00:05,  2.26it/s]\u001b[A\u001b[A"
          ]
        },
        {
          "output_type": "stream",
          "name": "stdout",
          "text": [
            "0.75\n"
          ]
        },
        {
          "output_type": "stream",
          "name": "stderr",
          "text": [
            "\n",
            "\n",
            "Evaluating:  62%|██████▎   | 20/32 [00:09<00:05,  2.26it/s]\u001b[A\u001b[A"
          ]
        },
        {
          "output_type": "stream",
          "name": "stdout",
          "text": [
            "0.78125\n"
          ]
        },
        {
          "output_type": "stream",
          "name": "stderr",
          "text": [
            "\n",
            "\n",
            "Evaluating:  66%|██████▌   | 21/32 [00:10<00:04,  2.27it/s]\u001b[A\u001b[A"
          ]
        },
        {
          "output_type": "stream",
          "name": "stdout",
          "text": [
            "0.71875\n"
          ]
        },
        {
          "output_type": "stream",
          "name": "stderr",
          "text": [
            "\n",
            "\n",
            "Evaluating:  69%|██████▉   | 22/32 [00:10<00:04,  2.27it/s]\u001b[A\u001b[A"
          ]
        },
        {
          "output_type": "stream",
          "name": "stdout",
          "text": [
            "0.75\n"
          ]
        },
        {
          "output_type": "stream",
          "name": "stderr",
          "text": [
            "\n",
            "\n",
            "Evaluating:  72%|███████▏  | 23/32 [00:10<00:03,  2.26it/s]\u001b[A\u001b[A"
          ]
        },
        {
          "output_type": "stream",
          "name": "stdout",
          "text": [
            "0.78125\n"
          ]
        },
        {
          "output_type": "stream",
          "name": "stderr",
          "text": [
            "\n",
            "\n",
            "Evaluating:  75%|███████▌  | 24/32 [00:11<00:03,  2.27it/s]\u001b[A\u001b[A"
          ]
        },
        {
          "output_type": "stream",
          "name": "stdout",
          "text": [
            "0.6875\n"
          ]
        },
        {
          "output_type": "stream",
          "name": "stderr",
          "text": [
            "\n",
            "\n",
            "Evaluating:  78%|███████▊  | 25/32 [00:11<00:03,  2.27it/s]\u001b[A\u001b[A"
          ]
        },
        {
          "output_type": "stream",
          "name": "stdout",
          "text": [
            "0.78125\n"
          ]
        },
        {
          "output_type": "stream",
          "name": "stderr",
          "text": [
            "\n",
            "\n",
            "Evaluating:  81%|████████▏ | 26/32 [00:12<00:02,  2.26it/s]\u001b[A\u001b[A"
          ]
        },
        {
          "output_type": "stream",
          "name": "stdout",
          "text": [
            "0.6875\n"
          ]
        },
        {
          "output_type": "stream",
          "name": "stderr",
          "text": [
            "\n",
            "\n",
            "Evaluating:  84%|████████▍ | 27/32 [00:12<00:02,  2.27it/s]\u001b[A\u001b[A"
          ]
        },
        {
          "output_type": "stream",
          "name": "stdout",
          "text": [
            "0.78125\n"
          ]
        },
        {
          "output_type": "stream",
          "name": "stderr",
          "text": [
            "\n",
            "\n",
            "Evaluating:  88%|████████▊ | 28/32 [00:13<00:01,  2.27it/s]\u001b[A\u001b[A"
          ]
        },
        {
          "output_type": "stream",
          "name": "stdout",
          "text": [
            "0.84375\n"
          ]
        },
        {
          "output_type": "stream",
          "name": "stderr",
          "text": [
            "\n",
            "\n",
            "Evaluating:  91%|█████████ | 29/32 [00:13<00:01,  2.27it/s]\u001b[A\u001b[A"
          ]
        },
        {
          "output_type": "stream",
          "name": "stdout",
          "text": [
            "0.75\n"
          ]
        },
        {
          "output_type": "stream",
          "name": "stderr",
          "text": [
            "\n",
            "\n",
            "Evaluating:  94%|█████████▍| 30/32 [00:14<00:00,  2.27it/s]\u001b[A\u001b[A"
          ]
        },
        {
          "output_type": "stream",
          "name": "stdout",
          "text": [
            "0.75\n"
          ]
        },
        {
          "output_type": "stream",
          "name": "stderr",
          "text": [
            "\n",
            "\n",
            "Evaluating:  97%|█████████▋| 31/32 [00:14<00:00,  2.27it/s]\u001b[A\u001b[A\n",
            "\n",
            "Evaluating: 100%|██████████| 32/32 [00:14<00:00,  2.19it/s]\n",
            "\n",
            "Iteration:  15%|█▌        | 105/695 [02:27<55:31,  5.65s/it]\u001b[A"
          ]
        },
        {
          "output_type": "stream",
          "name": "stdout",
          "text": [
            "0.6875\n",
            "0.875\n",
            "== Finished evaluating model: next_sentence_cls_0 ==\n",
            "\tMean evaluation acc: 0.812\n",
            "\tEvaluation accuracy: 0.812 | Stale count: 1\n",
            "====================\n"
          ]
        },
        {
          "output_type": "stream",
          "name": "stderr",
          "text": [
            "\n",
            "Iteration:  15%|█▌        | 106/695 [02:28<40:14,  4.10s/it]\u001b[A\n",
            "Iteration:  15%|█▌        | 107/695 [02:29<31:50,  3.25s/it]\u001b[A\n",
            "Iteration:  16%|█▌        | 108/695 [02:30<25:57,  2.65s/it]\u001b[A\n",
            "Iteration:  16%|█▌        | 109/695 [02:32<21:51,  2.24s/it]\u001b[A\n",
            "Iteration:  16%|█▌        | 110/695 [02:33<19:05,  1.96s/it]\u001b[A\n",
            "Iteration:  16%|█▌        | 111/695 [02:34<17:00,  1.75s/it]\u001b[A\n",
            "Iteration:  16%|█▌        | 112/695 [02:35<15:32,  1.60s/it]\u001b[A\n",
            "Iteration:  16%|█▋        | 113/695 [02:37<14:32,  1.50s/it]\u001b[A\n",
            "Iteration:  16%|█▋        | 114/695 [02:38<13:56,  1.44s/it]\u001b[A\n",
            "Iteration:  17%|█▋        | 115/695 [02:39<13:23,  1.39s/it]\u001b[A\n",
            "Iteration:  17%|█▋        | 116/695 [02:40<12:59,  1.35s/it]\u001b[A\n",
            "Iteration:  17%|█▋        | 117/695 [02:42<12:45,  1.32s/it]\u001b[A\n",
            "Iteration:  17%|█▋        | 118/695 [02:43<12:40,  1.32s/it]\u001b[A\n",
            "Iteration:  17%|█▋        | 119/695 [02:44<12:28,  1.30s/it]\u001b[A\n",
            "Iteration:  17%|█▋        | 120/695 [02:46<12:18,  1.28s/it]\u001b[A\n",
            "Iteration:  17%|█▋        | 121/695 [02:47<12:13,  1.28s/it]\u001b[A\n",
            "Iteration:  18%|█▊        | 122/695 [02:48<12:16,  1.29s/it]\u001b[A\n",
            "Iteration:  18%|█▊        | 123/695 [02:49<12:10,  1.28s/it]\u001b[A\n",
            "Iteration:  18%|█▊        | 124/695 [02:51<12:05,  1.27s/it]\u001b[A\n",
            "Iteration:  18%|█▊        | 125/695 [02:52<12:03,  1.27s/it]\u001b[A\n",
            "Iteration:  18%|█▊        | 126/695 [02:53<12:09,  1.28s/it]\u001b[A\n",
            "Iteration:  18%|█▊        | 127/695 [02:54<12:02,  1.27s/it]\u001b[A\n",
            "Iteration:  18%|█▊        | 128/695 [02:56<11:59,  1.27s/it]\u001b[A\n",
            "Iteration:  19%|█▊        | 129/695 [02:57<11:58,  1.27s/it]\u001b[A\n",
            "Iteration:  19%|█▊        | 130/695 [02:58<12:01,  1.28s/it]\u001b[A\n",
            "Iteration:  19%|█▉        | 131/695 [03:00<11:55,  1.27s/it]\u001b[A\n",
            "Iteration:  19%|█▉        | 132/695 [03:01<11:51,  1.26s/it]\u001b[A\n",
            "Iteration:  19%|█▉        | 133/695 [03:02<11:52,  1.27s/it]\u001b[A\n",
            "Iteration:  19%|█▉        | 134/695 [03:03<11:57,  1.28s/it]\u001b[A\n",
            "Iteration:  19%|█▉        | 135/695 [03:05<11:52,  1.27s/it]\u001b[A\n",
            "Iteration:  20%|█▉        | 136/695 [03:06<11:50,  1.27s/it]\u001b[A\n",
            "Iteration:  20%|█▉        | 137/695 [03:07<11:52,  1.28s/it]\u001b[A\n",
            "Iteration:  20%|█▉        | 138/695 [03:08<11:50,  1.28s/it]\u001b[A\n",
            "Iteration:  20%|██        | 139/695 [03:10<11:45,  1.27s/it]\u001b[A\n",
            "Iteration:  20%|██        | 140/695 [03:11<11:41,  1.26s/it]\u001b[A\n",
            "Iteration:  20%|██        | 141/695 [03:12<11:40,  1.26s/it]\u001b[A\n",
            "Iteration:  20%|██        | 142/695 [03:14<11:44,  1.27s/it]\u001b[A\n",
            "Iteration:  21%|██        | 143/695 [03:15<11:39,  1.27s/it]\u001b[A\n",
            "Iteration:  21%|██        | 144/695 [03:16<11:37,  1.27s/it]\u001b[A\n",
            "Iteration:  21%|██        | 145/695 [03:17<11:37,  1.27s/it]\u001b[A\n",
            "Iteration:  21%|██        | 146/695 [03:19<11:40,  1.28s/it]\u001b[A\n",
            "Iteration:  21%|██        | 147/695 [03:20<11:34,  1.27s/it]\u001b[A\n",
            "Iteration:  21%|██▏       | 148/695 [03:21<11:31,  1.27s/it]\u001b[A\n",
            "Iteration:  21%|██▏       | 149/695 [03:22<11:28,  1.26s/it]\u001b[A\n",
            "Iteration:  22%|██▏       | 150/695 [03:24<11:34,  1.27s/it]\u001b[A\n",
            "Iteration:  22%|██▏       | 151/695 [03:25<11:29,  1.27s/it]\u001b[A\n",
            "Iteration:  22%|██▏       | 152/695 [03:26<11:25,  1.26s/it]\u001b[A\n",
            "Iteration:  22%|██▏       | 153/695 [03:27<11:24,  1.26s/it]\u001b[A\n",
            "Iteration:  22%|██▏       | 154/695 [03:29<11:31,  1.28s/it]\u001b[A\n",
            "Iteration:  22%|██▏       | 155/695 [03:30<11:25,  1.27s/it]\u001b[A\n",
            "Iteration:  22%|██▏       | 156/695 [03:31<11:25,  1.27s/it]\u001b[A\n",
            "Iteration:  23%|██▎       | 157/695 [03:33<11:20,  1.27s/it]\u001b[A\n",
            "Iteration:  23%|██▎       | 158/695 [03:34<11:22,  1.27s/it]\u001b[A\n",
            "Iteration:  23%|██▎       | 159/695 [03:35<11:19,  1.27s/it]\u001b[A\n",
            "Iteration:  23%|██▎       | 160/695 [03:36<11:15,  1.26s/it]\u001b[A\n",
            "Iteration:  23%|██▎       | 161/695 [03:38<11:13,  1.26s/it]\u001b[A\n",
            "Iteration:  23%|██▎       | 162/695 [03:39<11:18,  1.27s/it]\u001b[A\n",
            "Iteration:  23%|██▎       | 163/695 [03:40<11:15,  1.27s/it]\u001b[A\n",
            "Iteration:  24%|██▎       | 164/695 [03:41<11:12,  1.27s/it]\u001b[A\n",
            "Iteration:  24%|██▎       | 165/695 [03:43<11:10,  1.27s/it]\u001b[A\n",
            "Iteration:  24%|██▍       | 166/695 [03:44<11:14,  1.27s/it]\u001b[A\n",
            "Iteration:  24%|██▍       | 167/695 [03:45<11:10,  1.27s/it]\u001b[A\n",
            "Iteration:  24%|██▍       | 168/695 [03:46<11:06,  1.27s/it]\u001b[A\n",
            "Iteration:  24%|██▍       | 169/695 [03:48<11:04,  1.26s/it]\u001b[A\n",
            "Iteration:  24%|██▍       | 170/695 [03:49<11:08,  1.27s/it]\u001b[A\n",
            "Iteration:  25%|██▍       | 171/695 [03:50<11:03,  1.27s/it]\u001b[A\n",
            "Iteration:  25%|██▍       | 172/695 [03:52<11:00,  1.26s/it]\u001b[A\n",
            "Iteration:  25%|██▍       | 173/695 [03:53<10:58,  1.26s/it]\u001b[A\n",
            "Iteration:  25%|██▌       | 174/695 [03:54<11:04,  1.28s/it]\u001b[A\n",
            "Iteration:  25%|██▌       | 175/695 [03:55<11:03,  1.28s/it]\u001b[A\n",
            "Iteration:  25%|██▌       | 176/695 [03:57<10:55,  1.26s/it]\u001b[A\n",
            "Iteration:  25%|██▌       | 177/695 [03:58<10:53,  1.26s/it]\u001b[A\n",
            "Iteration:  26%|██▌       | 178/695 [03:59<10:56,  1.27s/it]\u001b[A\n",
            "Iteration:  26%|██▌       | 179/695 [04:00<10:52,  1.27s/it]\u001b[A\n",
            "Iteration:  26%|██▌       | 180/695 [04:02<10:50,  1.26s/it]\u001b[A\n",
            "Iteration:  26%|██▌       | 181/695 [04:03<10:51,  1.27s/it]\u001b[A\n",
            "Iteration:  26%|██▌       | 182/695 [04:04<10:56,  1.28s/it]\u001b[A\n",
            "Iteration:  26%|██▋       | 183/695 [04:06<10:51,  1.27s/it]\u001b[A\n",
            "Iteration:  26%|██▋       | 184/695 [04:07<10:49,  1.27s/it]\u001b[A\n",
            "Iteration:  27%|██▋       | 185/695 [04:08<10:46,  1.27s/it]\u001b[A\n",
            "Iteration:  27%|██▋       | 186/695 [04:09<10:48,  1.27s/it]\u001b[A\n",
            "Iteration:  27%|██▋       | 187/695 [04:11<10:44,  1.27s/it]\u001b[A\n",
            "Iteration:  27%|██▋       | 188/695 [04:12<10:42,  1.27s/it]\u001b[A\n",
            "Iteration:  27%|██▋       | 189/695 [04:13<10:40,  1.27s/it]\u001b[A\n",
            "Iteration:  27%|██▋       | 190/695 [04:14<10:42,  1.27s/it]\u001b[A\n",
            "Iteration:  27%|██▋       | 191/695 [04:16<10:38,  1.27s/it]\u001b[A\n",
            "Iteration:  28%|██▊       | 192/695 [04:17<10:35,  1.26s/it]\u001b[A\n",
            "Iteration:  28%|██▊       | 193/695 [04:18<10:37,  1.27s/it]\u001b[A\n",
            "Iteration:  28%|██▊       | 194/695 [04:19<10:40,  1.28s/it]\u001b[A\n",
            "Iteration:  28%|██▊       | 195/695 [04:21<10:32,  1.27s/it]\u001b[A\n",
            "Iteration:  28%|██▊       | 196/695 [04:22<10:30,  1.26s/it]\u001b[A\n",
            "Iteration:  28%|██▊       | 197/695 [04:23<10:28,  1.26s/it]\u001b[A\n",
            "Iteration:  28%|██▊       | 198/695 [04:25<10:31,  1.27s/it]\u001b[A\n",
            "Iteration:  29%|██▊       | 199/695 [04:26<10:26,  1.26s/it]\u001b[A\n",
            "Iteration:  29%|██▉       | 200/695 [04:27<10:23,  1.26s/it]\u001b[A\n",
            "Iteration:  29%|██▉       | 201/695 [04:28<10:23,  1.26s/it]\u001b[A\n",
            "Iteration:  29%|██▉       | 202/695 [04:30<10:26,  1.27s/it]\u001b[A\n",
            "Iteration:  29%|██▉       | 203/695 [04:31<10:24,  1.27s/it]\u001b[A\n",
            "Iteration:  29%|██▉       | 204/695 [04:32<10:20,  1.26s/it]\u001b[A\n",
            "Iteration:  29%|██▉       | 205/695 [04:33<10:18,  1.26s/it]\u001b[A"
          ]
        },
        {
          "output_type": "stream",
          "name": "stdout",
          "text": [
            "\tGlobal step: 225 | LR: [7.757757757757758e-06, 7.757757757757758e-06] | Avg. loss: 0.397\n"
          ]
        },
        {
          "output_type": "stream",
          "name": "stderr",
          "text": [
            "\n",
            "Iteration:  30%|██▉       | 206/695 [04:35<10:22,  1.27s/it]\u001b[A\n",
            "Iteration:  30%|██▉       | 207/695 [04:36<10:19,  1.27s/it]\u001b[A\n",
            "Iteration:  30%|██▉       | 208/695 [04:37<10:15,  1.26s/it]\u001b[A\n",
            "Iteration:  30%|███       | 209/695 [04:38<10:13,  1.26s/it]\u001b[A\n",
            "Iteration:  30%|███       | 210/695 [04:40<10:17,  1.27s/it]\u001b[A\n",
            "Iteration:  30%|███       | 211/695 [04:41<10:15,  1.27s/it]\u001b[A\n",
            "Iteration:  31%|███       | 212/695 [04:42<10:13,  1.27s/it]\u001b[A\n",
            "Iteration:  31%|███       | 213/695 [04:44<10:13,  1.27s/it]\u001b[A\n",
            "Iteration:  31%|███       | 214/695 [04:45<10:14,  1.28s/it]\u001b[A\n",
            "Iteration:  31%|███       | 215/695 [04:46<10:10,  1.27s/it]\u001b[A\n",
            "Iteration:  31%|███       | 216/695 [04:47<10:06,  1.27s/it]\u001b[A\n",
            "Iteration:  31%|███       | 217/695 [04:49<10:06,  1.27s/it]\u001b[A\n",
            "Iteration:  31%|███▏      | 218/695 [04:50<10:08,  1.28s/it]\u001b[A\n",
            "Iteration:  32%|███▏      | 219/695 [04:51<10:04,  1.27s/it]\u001b[A\n",
            "Iteration:  32%|███▏      | 220/695 [04:52<10:01,  1.27s/it]\u001b[A\n",
            "Iteration:  32%|███▏      | 221/695 [04:54<09:59,  1.26s/it]\u001b[A\n",
            "Iteration:  32%|███▏      | 222/695 [04:55<10:02,  1.27s/it]\u001b[A\n",
            "Iteration:  32%|███▏      | 223/695 [04:56<09:59,  1.27s/it]\u001b[A\n",
            "Iteration:  32%|███▏      | 224/695 [04:58<09:56,  1.27s/it]\u001b[A\n",
            "Iteration:  32%|███▏      | 225/695 [04:59<09:55,  1.27s/it]\u001b[A\n",
            "Iteration:  33%|███▎      | 226/695 [05:00<09:57,  1.27s/it]\u001b[A\n",
            "Iteration:  33%|███▎      | 227/695 [05:01<09:53,  1.27s/it]\u001b[A\n",
            "Iteration:  33%|███▎      | 228/695 [05:03<09:51,  1.27s/it]\u001b[A\n",
            "Iteration:  33%|███▎      | 229/695 [05:04<09:49,  1.27s/it]\u001b[A\n",
            "Iteration:  33%|███▎      | 230/695 [05:05<09:51,  1.27s/it]\u001b[A\n",
            "Iteration:  33%|███▎      | 231/695 [05:06<09:50,  1.27s/it]\u001b[A\n",
            "Iteration:  33%|███▎      | 232/695 [05:08<09:45,  1.26s/it]\u001b[A\n",
            "Iteration:  34%|███▎      | 233/695 [05:09<09:42,  1.26s/it]\u001b[A\n",
            "Iteration:  34%|███▎      | 234/695 [05:10<09:45,  1.27s/it]\u001b[A\n",
            "Iteration:  34%|███▍      | 235/695 [05:11<09:40,  1.26s/it]\u001b[A\n",
            "Iteration:  34%|███▍      | 236/695 [05:13<09:38,  1.26s/it]\u001b[A\n",
            "Iteration:  34%|███▍      | 237/695 [05:14<09:37,  1.26s/it]\u001b[A\n",
            "Iteration:  34%|███▍      | 238/695 [05:15<09:39,  1.27s/it]\u001b[A\n",
            "Iteration:  34%|███▍      | 239/695 [05:17<09:36,  1.26s/it]\u001b[A\n",
            "Iteration:  35%|███▍      | 240/695 [05:18<09:33,  1.26s/it]\u001b[A\n",
            "Iteration:  35%|███▍      | 241/695 [05:19<09:34,  1.26s/it]\u001b[A\n",
            "Iteration:  35%|███▍      | 242/695 [05:20<09:37,  1.27s/it]\u001b[A\n",
            "Iteration:  35%|███▍      | 243/695 [05:22<09:30,  1.26s/it]\u001b[A\n",
            "Iteration:  35%|███▌      | 244/695 [05:23<09:27,  1.26s/it]\u001b[A\n",
            "Iteration:  35%|███▌      | 245/695 [05:24<09:27,  1.26s/it]\u001b[A\n",
            "Iteration:  35%|███▌      | 246/695 [05:25<09:30,  1.27s/it]\u001b[A\n",
            "Iteration:  36%|███▌      | 247/695 [05:27<09:25,  1.26s/it]\u001b[A\n",
            "Iteration:  36%|███▌      | 248/695 [05:28<09:25,  1.26s/it]\u001b[A\n",
            "Iteration:  36%|███▌      | 249/695 [05:29<09:24,  1.27s/it]\u001b[A\n",
            "Iteration:  36%|███▌      | 250/695 [05:30<09:27,  1.28s/it]\u001b[A\n",
            "Iteration:  36%|███▌      | 251/695 [05:32<09:24,  1.27s/it]\u001b[A\n",
            "Iteration:  36%|███▋      | 252/695 [05:33<09:21,  1.27s/it]\u001b[A\n",
            "Iteration:  36%|███▋      | 253/695 [05:34<09:20,  1.27s/it]\u001b[A\n",
            "Iteration:  37%|███▋      | 254/695 [05:36<09:21,  1.27s/it]\u001b[A\n",
            "Iteration:  37%|███▋      | 255/695 [05:37<09:18,  1.27s/it]\u001b[A\n",
            "Iteration:  37%|███▋      | 256/695 [05:38<09:18,  1.27s/it]\u001b[A\n",
            "Iteration:  37%|███▋      | 257/695 [05:39<09:14,  1.27s/it]\u001b[A\n",
            "Iteration:  37%|███▋      | 258/695 [05:41<09:15,  1.27s/it]\u001b[A\n",
            "Iteration:  37%|███▋      | 259/695 [05:42<09:12,  1.27s/it]\u001b[A\n",
            "Iteration:  37%|███▋      | 260/695 [05:43<09:10,  1.26s/it]\u001b[A\n",
            "Iteration:  38%|███▊      | 261/695 [05:44<09:10,  1.27s/it]\u001b[A\n",
            "Iteration:  38%|███▊      | 262/695 [05:46<09:10,  1.27s/it]\u001b[A\n",
            "Iteration:  38%|███▊      | 263/695 [05:47<09:07,  1.27s/it]\u001b[A\n",
            "Iteration:  38%|███▊      | 264/695 [05:48<09:06,  1.27s/it]\u001b[A\n",
            "Iteration:  38%|███▊      | 265/695 [05:49<09:05,  1.27s/it]\u001b[A\n",
            "Iteration:  38%|███▊      | 266/695 [05:51<09:05,  1.27s/it]\u001b[A\n",
            "Iteration:  38%|███▊      | 267/695 [05:52<09:02,  1.27s/it]\u001b[A\n",
            "Iteration:  39%|███▊      | 268/695 [05:53<09:00,  1.27s/it]\u001b[A\n",
            "Iteration:  39%|███▊      | 269/695 [05:55<08:59,  1.27s/it]\u001b[A\n",
            "Iteration:  39%|███▉      | 270/695 [05:56<09:05,  1.28s/it]\u001b[A\n",
            "Iteration:  39%|███▉      | 271/695 [05:57<08:58,  1.27s/it]\u001b[A\n",
            "Iteration:  39%|███▉      | 272/695 [05:58<08:57,  1.27s/it]\u001b[A\n",
            "Iteration:  39%|███▉      | 273/695 [06:00<08:56,  1.27s/it]\u001b[A\n",
            "Iteration:  39%|███▉      | 274/695 [06:01<08:57,  1.28s/it]\u001b[A\n",
            "Iteration:  40%|███▉      | 275/695 [06:02<08:51,  1.27s/it]\u001b[A\n",
            "Iteration:  40%|███▉      | 276/695 [06:03<08:49,  1.26s/it]\u001b[A\n",
            "Iteration:  40%|███▉      | 277/695 [06:05<08:49,  1.27s/it]\u001b[A\n",
            "Iteration:  40%|████      | 278/695 [06:06<08:51,  1.27s/it]\u001b[A\n",
            "Iteration:  40%|████      | 279/695 [06:07<08:49,  1.27s/it]\u001b[A\n",
            "Iteration:  40%|████      | 280/695 [06:09<08:46,  1.27s/it]\u001b[A\n",
            "Iteration:  40%|████      | 281/695 [06:10<08:43,  1.26s/it]\u001b[A\n",
            "Iteration:  41%|████      | 282/695 [06:11<08:46,  1.27s/it]\u001b[A\n",
            "Iteration:  41%|████      | 283/695 [06:12<08:42,  1.27s/it]\u001b[A\n",
            "Iteration:  41%|████      | 284/695 [06:14<08:40,  1.27s/it]\u001b[A\n",
            "Iteration:  41%|████      | 285/695 [06:15<08:38,  1.26s/it]\u001b[A\n",
            "Iteration:  41%|████      | 286/695 [06:16<08:41,  1.28s/it]\u001b[A\n",
            "Iteration:  41%|████▏     | 287/695 [06:17<08:38,  1.27s/it]\u001b[A\n",
            "Iteration:  41%|████▏     | 288/695 [06:19<08:35,  1.27s/it]\u001b[A\n",
            "Iteration:  42%|████▏     | 289/695 [06:20<08:34,  1.27s/it]\u001b[A\n",
            "Iteration:  42%|████▏     | 290/695 [06:21<08:36,  1.28s/it]\u001b[A\n",
            "Iteration:  42%|████▏     | 291/695 [06:22<08:33,  1.27s/it]\u001b[A\n",
            "Iteration:  42%|████▏     | 292/695 [06:24<08:29,  1.27s/it]\u001b[A\n",
            "Iteration:  42%|████▏     | 293/695 [06:25<08:28,  1.26s/it]\u001b[A\n",
            "Iteration:  42%|████▏     | 294/695 [06:26<08:31,  1.28s/it]\u001b[A\n",
            "Iteration:  42%|████▏     | 295/695 [06:28<08:28,  1.27s/it]\u001b[A\n",
            "Iteration:  43%|████▎     | 296/695 [06:29<08:24,  1.26s/it]\u001b[A\n",
            "Iteration:  43%|████▎     | 297/695 [06:30<08:25,  1.27s/it]\u001b[A\n",
            "Iteration:  43%|████▎     | 298/695 [06:31<08:27,  1.28s/it]\u001b[A\n",
            "Iteration:  43%|████▎     | 299/695 [06:33<08:22,  1.27s/it]\u001b[A\n",
            "Iteration:  43%|████▎     | 300/695 [06:34<08:20,  1.27s/it]\u001b[A\n",
            "Iteration:  43%|████▎     | 301/695 [06:35<08:19,  1.27s/it]\u001b[A\n",
            "Iteration:  43%|████▎     | 302/695 [06:36<08:20,  1.27s/it]\u001b[A\n",
            "Iteration:  44%|████▎     | 303/695 [06:38<08:16,  1.27s/it]\u001b[A\n",
            "Iteration:  44%|████▎     | 304/695 [06:39<08:13,  1.26s/it]\u001b[A"
          ]
        },
        {
          "output_type": "stream",
          "name": "stdout",
          "text": [
            "\tGlobal step: 250 | LR: [7.507507507507507e-06, 7.507507507507507e-06] | Avg. loss: 0.384\n",
            "====================\n",
            "\tEvaluating on valiadtion set!\n"
          ]
        },
        {
          "output_type": "stream",
          "name": "stderr",
          "text": [
            "\n",
            "\n",
            "Evaluating:   0%|          | 0/32 [00:00<?, ?it/s]\u001b[A\u001b[A\n",
            "\n",
            "Evaluating:   3%|▎         | 1/32 [00:01<00:38,  1.23s/it]\u001b[A\u001b[A"
          ]
        },
        {
          "output_type": "stream",
          "name": "stdout",
          "text": [
            "1.0\n"
          ]
        },
        {
          "output_type": "stream",
          "name": "stderr",
          "text": [
            "\n",
            "\n",
            "Evaluating:   6%|▋         | 2/32 [00:01<00:23,  1.30it/s]\u001b[A\u001b[A"
          ]
        },
        {
          "output_type": "stream",
          "name": "stdout",
          "text": [
            "0.90625\n"
          ]
        },
        {
          "output_type": "stream",
          "name": "stderr",
          "text": [
            "\n",
            "\n",
            "Evaluating:   9%|▉         | 3/32 [00:02<00:17,  1.61it/s]\u001b[A\u001b[A"
          ]
        },
        {
          "output_type": "stream",
          "name": "stdout",
          "text": [
            "0.9375\n"
          ]
        },
        {
          "output_type": "stream",
          "name": "stderr",
          "text": [
            "\n",
            "\n",
            "Evaluating:  12%|█▎        | 4/32 [00:02<00:15,  1.83it/s]\u001b[A\u001b[A"
          ]
        },
        {
          "output_type": "stream",
          "name": "stdout",
          "text": [
            "0.90625\n"
          ]
        },
        {
          "output_type": "stream",
          "name": "stderr",
          "text": [
            "\n",
            "\n",
            "Evaluating:  16%|█▌        | 5/32 [00:02<00:13,  1.97it/s]\u001b[A\u001b[A"
          ]
        },
        {
          "output_type": "stream",
          "name": "stdout",
          "text": [
            "0.96875\n"
          ]
        },
        {
          "output_type": "stream",
          "name": "stderr",
          "text": [
            "\n",
            "\n",
            "Evaluating:  19%|█▉        | 6/32 [00:03<00:12,  2.07it/s]\u001b[A\u001b[A"
          ]
        },
        {
          "output_type": "stream",
          "name": "stdout",
          "text": [
            "0.9375\n"
          ]
        },
        {
          "output_type": "stream",
          "name": "stderr",
          "text": [
            "\n",
            "\n",
            "Evaluating:  22%|██▏       | 7/32 [00:03<00:11,  2.12it/s]\u001b[A\u001b[A"
          ]
        },
        {
          "output_type": "stream",
          "name": "stdout",
          "text": [
            "0.90625\n"
          ]
        },
        {
          "output_type": "stream",
          "name": "stderr",
          "text": [
            "\n",
            "\n",
            "Evaluating:  25%|██▌       | 8/32 [00:04<00:11,  2.17it/s]\u001b[A\u001b[A"
          ]
        },
        {
          "output_type": "stream",
          "name": "stdout",
          "text": [
            "0.90625\n"
          ]
        },
        {
          "output_type": "stream",
          "name": "stderr",
          "text": [
            "\n",
            "\n",
            "Evaluating:  28%|██▊       | 9/32 [00:04<00:10,  2.20it/s]\u001b[A\u001b[A"
          ]
        },
        {
          "output_type": "stream",
          "name": "stdout",
          "text": [
            "0.96875\n"
          ]
        },
        {
          "output_type": "stream",
          "name": "stderr",
          "text": [
            "\n",
            "\n",
            "Evaluating:  31%|███▏      | 10/32 [00:05<00:09,  2.22it/s]\u001b[A\u001b[A"
          ]
        },
        {
          "output_type": "stream",
          "name": "stdout",
          "text": [
            "0.875\n"
          ]
        },
        {
          "output_type": "stream",
          "name": "stderr",
          "text": [
            "\n",
            "\n",
            "Evaluating:  34%|███▍      | 11/32 [00:05<00:09,  2.23it/s]\u001b[A\u001b[A"
          ]
        },
        {
          "output_type": "stream",
          "name": "stdout",
          "text": [
            "0.96875\n"
          ]
        },
        {
          "output_type": "stream",
          "name": "stderr",
          "text": [
            "\n",
            "\n",
            "Evaluating:  38%|███▊      | 12/32 [00:06<00:08,  2.25it/s]\u001b[A\u001b[A"
          ]
        },
        {
          "output_type": "stream",
          "name": "stdout",
          "text": [
            "0.90625\n"
          ]
        },
        {
          "output_type": "stream",
          "name": "stderr",
          "text": [
            "\n",
            "\n",
            "Evaluating:  41%|████      | 13/32 [00:06<00:08,  2.26it/s]\u001b[A\u001b[A"
          ]
        },
        {
          "output_type": "stream",
          "name": "stdout",
          "text": [
            "0.9375\n"
          ]
        },
        {
          "output_type": "stream",
          "name": "stderr",
          "text": [
            "\n",
            "\n",
            "Evaluating:  44%|████▍     | 14/32 [00:06<00:07,  2.25it/s]\u001b[A\u001b[A"
          ]
        },
        {
          "output_type": "stream",
          "name": "stdout",
          "text": [
            "0.90625\n"
          ]
        },
        {
          "output_type": "stream",
          "name": "stderr",
          "text": [
            "\n",
            "\n",
            "Evaluating:  47%|████▋     | 15/32 [00:07<00:07,  2.27it/s]\u001b[A\u001b[A"
          ]
        },
        {
          "output_type": "stream",
          "name": "stdout",
          "text": [
            "0.84375\n"
          ]
        },
        {
          "output_type": "stream",
          "name": "stderr",
          "text": [
            "\n",
            "\n",
            "Evaluating:  50%|█████     | 16/32 [00:07<00:07,  2.27it/s]\u001b[A\u001b[A"
          ]
        },
        {
          "output_type": "stream",
          "name": "stdout",
          "text": [
            "0.90625\n"
          ]
        },
        {
          "output_type": "stream",
          "name": "stderr",
          "text": [
            "\n",
            "\n",
            "Evaluating:  53%|█████▎    | 17/32 [00:08<00:06,  2.27it/s]\u001b[A\u001b[A"
          ]
        },
        {
          "output_type": "stream",
          "name": "stdout",
          "text": [
            "0.90625\n"
          ]
        },
        {
          "output_type": "stream",
          "name": "stderr",
          "text": [
            "\n",
            "\n",
            "Evaluating:  56%|█████▋    | 18/32 [00:08<00:06,  2.27it/s]\u001b[A\u001b[A"
          ]
        },
        {
          "output_type": "stream",
          "name": "stdout",
          "text": [
            "0.65625\n"
          ]
        },
        {
          "output_type": "stream",
          "name": "stderr",
          "text": [
            "\n",
            "\n",
            "Evaluating:  59%|█████▉    | 19/32 [00:09<00:05,  2.26it/s]\u001b[A\u001b[A"
          ]
        },
        {
          "output_type": "stream",
          "name": "stdout",
          "text": [
            "0.71875\n"
          ]
        },
        {
          "output_type": "stream",
          "name": "stderr",
          "text": [
            "\n",
            "\n",
            "Evaluating:  62%|██████▎   | 20/32 [00:09<00:05,  2.27it/s]\u001b[A\u001b[A"
          ]
        },
        {
          "output_type": "stream",
          "name": "stdout",
          "text": [
            "0.75\n"
          ]
        },
        {
          "output_type": "stream",
          "name": "stderr",
          "text": [
            "\n",
            "\n",
            "Evaluating:  66%|██████▌   | 21/32 [00:10<00:04,  2.27it/s]\u001b[A\u001b[A"
          ]
        },
        {
          "output_type": "stream",
          "name": "stdout",
          "text": [
            "0.6875\n"
          ]
        },
        {
          "output_type": "stream",
          "name": "stderr",
          "text": [
            "\n",
            "\n",
            "Evaluating:  69%|██████▉   | 22/32 [00:10<00:04,  2.28it/s]\u001b[A\u001b[A"
          ]
        },
        {
          "output_type": "stream",
          "name": "stdout",
          "text": [
            "0.8125\n"
          ]
        },
        {
          "output_type": "stream",
          "name": "stderr",
          "text": [
            "\n",
            "\n",
            "Evaluating:  72%|███████▏  | 23/32 [00:10<00:03,  2.27it/s]\u001b[A\u001b[A"
          ]
        },
        {
          "output_type": "stream",
          "name": "stdout",
          "text": [
            "0.8125\n"
          ]
        },
        {
          "output_type": "stream",
          "name": "stderr",
          "text": [
            "\n",
            "\n",
            "Evaluating:  75%|███████▌  | 24/32 [00:11<00:03,  2.27it/s]\u001b[A\u001b[A"
          ]
        },
        {
          "output_type": "stream",
          "name": "stdout",
          "text": [
            "0.6875\n"
          ]
        },
        {
          "output_type": "stream",
          "name": "stderr",
          "text": [
            "\n",
            "\n",
            "Evaluating:  78%|███████▊  | 25/32 [00:11<00:03,  2.27it/s]\u001b[A\u001b[A"
          ]
        },
        {
          "output_type": "stream",
          "name": "stdout",
          "text": [
            "0.78125\n"
          ]
        },
        {
          "output_type": "stream",
          "name": "stderr",
          "text": [
            "\n",
            "\n",
            "Evaluating:  81%|████████▏ | 26/32 [00:12<00:02,  2.26it/s]\u001b[A\u001b[A"
          ]
        },
        {
          "output_type": "stream",
          "name": "stdout",
          "text": [
            "0.6875\n"
          ]
        },
        {
          "output_type": "stream",
          "name": "stderr",
          "text": [
            "\n",
            "\n",
            "Evaluating:  84%|████████▍ | 27/32 [00:12<00:02,  2.27it/s]\u001b[A\u001b[A"
          ]
        },
        {
          "output_type": "stream",
          "name": "stdout",
          "text": [
            "0.75\n"
          ]
        },
        {
          "output_type": "stream",
          "name": "stderr",
          "text": [
            "\n",
            "\n",
            "Evaluating:  88%|████████▊ | 28/32 [00:13<00:01,  2.28it/s]\u001b[A\u001b[A"
          ]
        },
        {
          "output_type": "stream",
          "name": "stdout",
          "text": [
            "0.71875\n"
          ]
        },
        {
          "output_type": "stream",
          "name": "stderr",
          "text": [
            "\n",
            "\n",
            "Evaluating:  91%|█████████ | 29/32 [00:13<00:01,  2.27it/s]\u001b[A\u001b[A"
          ]
        },
        {
          "output_type": "stream",
          "name": "stdout",
          "text": [
            "0.6875\n"
          ]
        },
        {
          "output_type": "stream",
          "name": "stderr",
          "text": [
            "\n",
            "\n",
            "Evaluating:  94%|█████████▍| 30/32 [00:14<00:00,  2.27it/s]\u001b[A\u001b[A"
          ]
        },
        {
          "output_type": "stream",
          "name": "stdout",
          "text": [
            "0.71875\n"
          ]
        },
        {
          "output_type": "stream",
          "name": "stderr",
          "text": [
            "\n",
            "\n",
            "Evaluating:  97%|█████████▋| 31/32 [00:14<00:00,  2.28it/s]\u001b[A\u001b[A\n",
            "\n",
            "Evaluating: 100%|██████████| 32/32 [00:14<00:00,  2.20it/s]"
          ]
        },
        {
          "output_type": "stream",
          "name": "stdout",
          "text": [
            "0.5625\n",
            "0.875\n",
            "== Finished evaluating model: next_sentence_cls_0 ==\n",
            "\tMean evaluation acc: 0.831\n"
          ]
        },
        {
          "output_type": "stream",
          "name": "stderr",
          "text": [
            "\n",
            "\n",
            "Iteration:  44%|████▍     | 305/695 [07:05<56:58,  8.77s/it]\u001b[A"
          ]
        },
        {
          "output_type": "stream",
          "name": "stdout",
          "text": [
            "\tEvaluation accuracy: 0.831 | Stale count: 0\n",
            "====================\n"
          ]
        },
        {
          "output_type": "stream",
          "name": "stderr",
          "text": [
            "\n",
            "Iteration:  44%|████▍     | 306/695 [07:06<40:51,  6.30s/it]\u001b[A\n",
            "Iteration:  44%|████▍     | 307/695 [07:07<30:55,  4.78s/it]\u001b[A\n",
            "Iteration:  44%|████▍     | 308/695 [07:08<23:59,  3.72s/it]\u001b[A\n",
            "Iteration:  44%|████▍     | 309/695 [07:09<19:06,  2.97s/it]\u001b[A\n",
            "Iteration:  45%|████▍     | 310/695 [07:11<15:47,  2.46s/it]\u001b[A\n",
            "Iteration:  45%|████▍     | 311/695 [07:12<13:24,  2.10s/it]\u001b[A\n",
            "Iteration:  45%|████▍     | 312/695 [07:13<11:46,  1.85s/it]\u001b[A\n",
            "Iteration:  45%|████▌     | 313/695 [07:15<10:37,  1.67s/it]\u001b[A\n",
            "Iteration:  45%|████▌     | 314/695 [07:16<09:52,  1.56s/it]\u001b[A\n",
            "Iteration:  45%|████▌     | 315/695 [07:17<09:16,  1.46s/it]\u001b[A\n",
            "Iteration:  45%|████▌     | 316/695 [07:18<08:51,  1.40s/it]\u001b[A\n",
            "Iteration:  46%|████▌     | 317/695 [07:20<08:36,  1.37s/it]\u001b[A\n",
            "Iteration:  46%|████▌     | 318/695 [07:21<08:27,  1.35s/it]\u001b[A\n",
            "Iteration:  46%|████▌     | 319/695 [07:22<08:15,  1.32s/it]\u001b[A\n",
            "Iteration:  46%|████▌     | 320/695 [07:23<08:07,  1.30s/it]\u001b[A\n",
            "Iteration:  46%|████▌     | 321/695 [07:25<08:05,  1.30s/it]\u001b[A\n",
            "Iteration:  46%|████▋     | 322/695 [07:26<08:06,  1.30s/it]\u001b[A\n",
            "Iteration:  46%|████▋     | 323/695 [07:27<08:02,  1.30s/it]\u001b[A\n",
            "Iteration:  47%|████▋     | 324/695 [07:29<08:00,  1.29s/it]\u001b[A\n",
            "Iteration:  47%|████▋     | 325/695 [07:30<07:58,  1.29s/it]\u001b[A\n",
            "Iteration:  47%|████▋     | 326/695 [07:31<08:01,  1.30s/it]\u001b[A\n",
            "Iteration:  47%|████▋     | 327/695 [07:33<07:58,  1.30s/it]\u001b[A\n",
            "Iteration:  47%|████▋     | 328/695 [07:34<07:55,  1.29s/it]\u001b[A\n",
            "Iteration:  47%|████▋     | 329/695 [07:35<07:54,  1.30s/it]\u001b[A\n",
            "Iteration:  47%|████▋     | 330/695 [07:36<07:56,  1.30s/it]\u001b[A\n",
            "Iteration:  48%|████▊     | 331/695 [07:38<07:52,  1.30s/it]\u001b[A\n",
            "Iteration:  48%|████▊     | 332/695 [07:39<07:51,  1.30s/it]\u001b[A\n",
            "Iteration:  48%|████▊     | 333/695 [07:40<07:48,  1.29s/it]\u001b[A\n",
            "Iteration:  48%|████▊     | 334/695 [07:42<07:50,  1.30s/it]\u001b[A\n",
            "Iteration:  48%|████▊     | 335/695 [07:43<07:46,  1.30s/it]\u001b[A\n",
            "Iteration:  48%|████▊     | 336/695 [07:44<07:43,  1.29s/it]\u001b[A\n",
            "Iteration:  48%|████▊     | 337/695 [07:45<07:40,  1.29s/it]\u001b[A\n",
            "Iteration:  49%|████▊     | 338/695 [07:47<07:42,  1.30s/it]\u001b[A\n",
            "Iteration:  49%|████▉     | 339/695 [07:48<07:38,  1.29s/it]\u001b[A\n",
            "Iteration:  49%|████▉     | 340/695 [07:49<07:35,  1.28s/it]\u001b[A\n",
            "Iteration:  49%|████▉     | 341/695 [07:51<07:33,  1.28s/it]\u001b[A\n",
            "Iteration:  49%|████▉     | 342/695 [07:52<07:34,  1.29s/it]\u001b[A\n",
            "Iteration:  49%|████▉     | 343/695 [07:53<07:30,  1.28s/it]\u001b[A\n",
            "Iteration:  49%|████▉     | 344/695 [07:54<07:27,  1.28s/it]\u001b[A\n",
            "Iteration:  50%|████▉     | 345/695 [07:56<07:27,  1.28s/it]\u001b[A\n",
            "Iteration:  50%|████▉     | 346/695 [07:57<07:28,  1.28s/it]\u001b[A\n",
            "Iteration:  50%|████▉     | 347/695 [07:58<07:23,  1.27s/it]\u001b[A\n",
            "Iteration:  50%|█████     | 348/695 [07:59<07:20,  1.27s/it]\u001b[A\n",
            "Iteration:  50%|█████     | 349/695 [08:01<07:19,  1.27s/it]\u001b[A\n",
            "Iteration:  50%|█████     | 350/695 [08:02<07:19,  1.27s/it]\u001b[A\n",
            "Iteration:  51%|█████     | 351/695 [08:03<07:16,  1.27s/it]\u001b[A\n",
            "Iteration:  51%|█████     | 352/695 [08:05<07:14,  1.27s/it]\u001b[A\n",
            "Iteration:  51%|█████     | 353/695 [08:06<07:13,  1.27s/it]\u001b[A\n",
            "Iteration:  51%|█████     | 354/695 [08:07<07:14,  1.27s/it]\u001b[A\n",
            "Iteration:  51%|█████     | 355/695 [08:08<07:11,  1.27s/it]\u001b[A\n",
            "Iteration:  51%|█████     | 356/695 [08:10<07:08,  1.26s/it]\u001b[A\n",
            "Iteration:  51%|█████▏    | 357/695 [08:11<07:06,  1.26s/it]\u001b[A\n",
            "Iteration:  52%|█████▏    | 358/695 [08:12<07:07,  1.27s/it]\u001b[A\n",
            "Iteration:  52%|█████▏    | 359/695 [08:13<07:04,  1.26s/it]\u001b[A\n",
            "Iteration:  52%|█████▏    | 360/695 [08:15<07:01,  1.26s/it]\u001b[A\n",
            "Iteration:  52%|█████▏    | 361/695 [08:16<06:59,  1.26s/it]\u001b[A\n",
            "Iteration:  52%|█████▏    | 362/695 [08:17<07:01,  1.26s/it]\u001b[A\n",
            "Iteration:  52%|█████▏    | 363/695 [08:18<06:57,  1.26s/it]\u001b[A\n",
            "Iteration:  52%|█████▏    | 364/695 [08:20<06:56,  1.26s/it]\u001b[A\n",
            "Iteration:  53%|█████▎    | 365/695 [08:21<06:55,  1.26s/it]\u001b[A\n",
            "Iteration:  53%|█████▎    | 366/695 [08:22<06:56,  1.26s/it]\u001b[A\n",
            "Iteration:  53%|█████▎    | 367/695 [08:23<06:52,  1.26s/it]\u001b[A\n",
            "Iteration:  53%|█████▎    | 368/695 [08:25<06:50,  1.26s/it]\u001b[A\n",
            "Iteration:  53%|█████▎    | 369/695 [08:26<06:50,  1.26s/it]\u001b[A\n",
            "Iteration:  53%|█████▎    | 370/695 [08:27<06:51,  1.27s/it]\u001b[A\n",
            "Iteration:  53%|█████▎    | 371/695 [08:29<06:49,  1.26s/it]\u001b[A\n",
            "Iteration:  54%|█████▎    | 372/695 [08:30<06:46,  1.26s/it]\u001b[A\n",
            "Iteration:  54%|█████▎    | 373/695 [08:31<06:45,  1.26s/it]\u001b[A\n",
            "Iteration:  54%|█████▍    | 374/695 [08:32<06:46,  1.27s/it]\u001b[A\n",
            "Iteration:  54%|█████▍    | 375/695 [08:34<06:43,  1.26s/it]\u001b[A\n",
            "Iteration:  54%|█████▍    | 376/695 [08:35<06:41,  1.26s/it]\u001b[A\n",
            "Iteration:  54%|█████▍    | 377/695 [08:36<06:40,  1.26s/it]\u001b[A\n",
            "Iteration:  54%|█████▍    | 378/695 [08:37<06:41,  1.27s/it]\u001b[A\n",
            "Iteration:  55%|█████▍    | 379/695 [08:39<06:39,  1.26s/it]\u001b[A\n",
            "Iteration:  55%|█████▍    | 380/695 [08:40<06:37,  1.26s/it]\u001b[A\n",
            "Iteration:  55%|█████▍    | 381/695 [08:41<06:35,  1.26s/it]\u001b[A\n",
            "Iteration:  55%|█████▍    | 382/695 [08:42<06:37,  1.27s/it]\u001b[A\n",
            "Iteration:  55%|█████▌    | 383/695 [08:44<06:35,  1.27s/it]\u001b[A\n",
            "Iteration:  55%|█████▌    | 384/695 [08:45<06:33,  1.27s/it]\u001b[A\n",
            "Iteration:  55%|█████▌    | 385/695 [08:46<06:30,  1.26s/it]\u001b[A\n",
            "Iteration:  56%|█████▌    | 386/695 [08:48<06:32,  1.27s/it]\u001b[A\n",
            "Iteration:  56%|█████▌    | 387/695 [08:49<06:29,  1.26s/it]\u001b[A\n",
            "Iteration:  56%|█████▌    | 388/695 [08:50<06:28,  1.27s/it]\u001b[A\n",
            "Iteration:  56%|█████▌    | 389/695 [08:51<06:27,  1.27s/it]\u001b[A\n",
            "Iteration:  56%|█████▌    | 390/695 [08:53<06:28,  1.27s/it]\u001b[A\n",
            "Iteration:  56%|█████▋    | 391/695 [08:54<06:25,  1.27s/it]\u001b[A\n",
            "Iteration:  56%|█████▋    | 392/695 [08:55<06:23,  1.27s/it]\u001b[A\n",
            "Iteration:  57%|█████▋    | 393/695 [08:56<06:22,  1.27s/it]\u001b[A\n",
            "Iteration:  57%|█████▋    | 394/695 [08:58<06:25,  1.28s/it]\u001b[A\n",
            "Iteration:  57%|█████▋    | 395/695 [08:59<06:21,  1.27s/it]\u001b[A\n",
            "Iteration:  57%|█████▋    | 396/695 [09:00<06:19,  1.27s/it]\u001b[A\n",
            "Iteration:  57%|█████▋    | 397/695 [09:01<06:17,  1.27s/it]\u001b[A\n",
            "Iteration:  57%|█████▋    | 398/695 [09:03<06:19,  1.28s/it]\u001b[A\n",
            "Iteration:  57%|█████▋    | 399/695 [09:04<06:15,  1.27s/it]\u001b[A\n",
            "Iteration:  58%|█████▊    | 400/695 [09:05<06:13,  1.27s/it]\u001b[A\n",
            "Iteration:  58%|█████▊    | 401/695 [09:07<06:12,  1.27s/it]\u001b[A\n",
            "Iteration:  58%|█████▊    | 402/695 [09:08<06:15,  1.28s/it]\u001b[A\n",
            "Iteration:  58%|█████▊    | 403/695 [09:09<06:12,  1.27s/it]\u001b[A\n",
            "Iteration:  58%|█████▊    | 404/695 [09:10<06:08,  1.27s/it]\u001b[A\n",
            "Iteration:  58%|█████▊    | 405/695 [09:12<06:07,  1.27s/it]\u001b[A"
          ]
        },
        {
          "output_type": "stream",
          "name": "stdout",
          "text": [
            "\tGlobal step: 275 | LR: [7.257257257257258e-06, 7.257257257257258e-06] | Avg. loss: 0.352\n"
          ]
        },
        {
          "output_type": "stream",
          "name": "stderr",
          "text": [
            "\n",
            "Iteration:  58%|█████▊    | 406/695 [09:13<06:08,  1.27s/it]\u001b[A\n",
            "Iteration:  59%|█████▊    | 407/695 [09:14<06:05,  1.27s/it]\u001b[A\n",
            "Iteration:  59%|█████▊    | 408/695 [09:15<06:03,  1.27s/it]\u001b[A\n",
            "Iteration:  59%|█████▉    | 409/695 [09:17<06:01,  1.26s/it]\u001b[A\n",
            "Iteration:  59%|█████▉    | 410/695 [09:18<06:02,  1.27s/it]\u001b[A\n",
            "Iteration:  59%|█████▉    | 411/695 [09:19<05:59,  1.26s/it]\u001b[A\n",
            "Iteration:  59%|█████▉    | 412/695 [09:21<05:58,  1.27s/it]\u001b[A\n",
            "Iteration:  59%|█████▉    | 413/695 [09:22<05:57,  1.27s/it]\u001b[A\n",
            "Iteration:  60%|█████▉    | 414/695 [09:23<05:57,  1.27s/it]\u001b[A\n",
            "Iteration:  60%|█████▉    | 415/695 [09:24<05:54,  1.27s/it]\u001b[A\n",
            "Iteration:  60%|█████▉    | 416/695 [09:26<05:52,  1.26s/it]\u001b[A\n",
            "Iteration:  60%|██████    | 417/695 [09:27<05:50,  1.26s/it]\u001b[A\n",
            "Iteration:  60%|██████    | 418/695 [09:28<05:53,  1.28s/it]\u001b[A\n",
            "Iteration:  60%|██████    | 419/695 [09:29<05:50,  1.27s/it]\u001b[A\n",
            "Iteration:  60%|██████    | 420/695 [09:31<05:47,  1.26s/it]\u001b[A\n",
            "Iteration:  61%|██████    | 421/695 [09:32<05:47,  1.27s/it]\u001b[A\n",
            "Iteration:  61%|██████    | 422/695 [09:33<05:48,  1.28s/it]\u001b[A\n",
            "Iteration:  61%|██████    | 423/695 [09:34<05:43,  1.26s/it]\u001b[A\n",
            "Iteration:  61%|██████    | 424/695 [09:36<05:41,  1.26s/it]\u001b[A\n",
            "Iteration:  61%|██████    | 425/695 [09:37<05:40,  1.26s/it]\u001b[A\n",
            "Iteration:  61%|██████▏   | 426/695 [09:38<05:41,  1.27s/it]\u001b[A\n",
            "Iteration:  61%|██████▏   | 427/695 [09:40<05:39,  1.27s/it]\u001b[A\n",
            "Iteration:  62%|██████▏   | 428/695 [09:41<05:37,  1.26s/it]\u001b[A\n",
            "Iteration:  62%|██████▏   | 429/695 [09:42<05:36,  1.27s/it]\u001b[A\n",
            "Iteration:  62%|██████▏   | 430/695 [09:43<05:37,  1.27s/it]\u001b[A\n",
            "Iteration:  62%|██████▏   | 431/695 [09:45<05:34,  1.27s/it]\u001b[A\n",
            "Iteration:  62%|██████▏   | 432/695 [09:46<05:32,  1.27s/it]\u001b[A\n",
            "Iteration:  62%|██████▏   | 433/695 [09:47<05:30,  1.26s/it]\u001b[A\n",
            "Iteration:  62%|██████▏   | 434/695 [09:48<05:32,  1.27s/it]\u001b[A\n",
            "Iteration:  63%|██████▎   | 435/695 [09:50<05:29,  1.27s/it]\u001b[A\n",
            "Iteration:  63%|██████▎   | 436/695 [09:51<05:26,  1.26s/it]\u001b[A\n",
            "Iteration:  63%|██████▎   | 437/695 [09:52<05:25,  1.26s/it]\u001b[A\n",
            "Iteration:  63%|██████▎   | 438/695 [09:53<05:26,  1.27s/it]\u001b[A\n",
            "Iteration:  63%|██████▎   | 439/695 [09:55<05:23,  1.26s/it]\u001b[A\n",
            "Iteration:  63%|██████▎   | 440/695 [09:56<05:21,  1.26s/it]\u001b[A\n",
            "Iteration:  63%|██████▎   | 441/695 [09:57<05:20,  1.26s/it]\u001b[A\n",
            "Iteration:  64%|██████▎   | 442/695 [09:58<05:20,  1.27s/it]\u001b[A\n",
            "Iteration:  64%|██████▎   | 443/695 [10:00<05:18,  1.26s/it]\u001b[A\n",
            "Iteration:  64%|██████▍   | 444/695 [10:01<05:16,  1.26s/it]\u001b[A\n",
            "Iteration:  64%|██████▍   | 445/695 [10:02<05:15,  1.26s/it]\u001b[A\n",
            "Iteration:  64%|██████▍   | 446/695 [10:04<05:16,  1.27s/it]\u001b[A\n",
            "Iteration:  64%|██████▍   | 447/695 [10:05<05:13,  1.26s/it]\u001b[A\n",
            "Iteration:  64%|██████▍   | 448/695 [10:06<05:11,  1.26s/it]\u001b[A\n",
            "Iteration:  65%|██████▍   | 449/695 [10:07<05:10,  1.26s/it]\u001b[A\n",
            "Iteration:  65%|██████▍   | 450/695 [10:09<05:11,  1.27s/it]\u001b[A\n",
            "Iteration:  65%|██████▍   | 451/695 [10:10<05:10,  1.27s/it]\u001b[A\n",
            "Iteration:  65%|██████▌   | 452/695 [10:11<05:06,  1.26s/it]\u001b[A\n",
            "Iteration:  65%|██████▌   | 453/695 [10:12<05:05,  1.26s/it]\u001b[A\n",
            "Iteration:  65%|██████▌   | 454/695 [10:14<05:05,  1.27s/it]\u001b[A\n",
            "Iteration:  65%|██████▌   | 455/695 [10:15<05:03,  1.26s/it]\u001b[A\n",
            "Iteration:  66%|██████▌   | 456/695 [10:16<05:01,  1.26s/it]\u001b[A\n",
            "Iteration:  66%|██████▌   | 457/695 [10:17<05:01,  1.27s/it]\u001b[A\n",
            "Iteration:  66%|██████▌   | 458/695 [10:19<05:01,  1.27s/it]\u001b[A\n",
            "Iteration:  66%|██████▌   | 459/695 [10:20<04:59,  1.27s/it]\u001b[A\n",
            "Iteration:  66%|██████▌   | 460/695 [10:21<04:56,  1.26s/it]\u001b[A\n",
            "Iteration:  66%|██████▋   | 461/695 [10:23<04:55,  1.26s/it]\u001b[A\n",
            "Iteration:  66%|██████▋   | 462/695 [10:24<04:55,  1.27s/it]\u001b[A\n",
            "Iteration:  67%|██████▋   | 463/695 [10:25<04:53,  1.26s/it]\u001b[A\n",
            "Iteration:  67%|██████▋   | 464/695 [10:26<04:51,  1.26s/it]\u001b[A\n",
            "Iteration:  67%|██████▋   | 465/695 [10:28<04:51,  1.27s/it]\u001b[A\n",
            "Iteration:  67%|██████▋   | 466/695 [10:29<04:52,  1.28s/it]\u001b[A\n",
            "Iteration:  67%|██████▋   | 467/695 [10:30<04:48,  1.27s/it]\u001b[A\n",
            "Iteration:  67%|██████▋   | 468/695 [10:31<04:47,  1.27s/it]\u001b[A\n",
            "Iteration:  67%|██████▋   | 469/695 [10:33<04:47,  1.27s/it]\u001b[A\n",
            "Iteration:  68%|██████▊   | 470/695 [10:34<04:47,  1.28s/it]\u001b[A\n",
            "Iteration:  68%|██████▊   | 471/695 [10:35<04:43,  1.27s/it]\u001b[A\n",
            "Iteration:  68%|██████▊   | 472/695 [10:36<04:41,  1.26s/it]\u001b[A\n",
            "Iteration:  68%|██████▊   | 473/695 [10:38<04:40,  1.26s/it]\u001b[A\n",
            "Iteration:  68%|██████▊   | 474/695 [10:39<04:41,  1.27s/it]\u001b[A\n",
            "Iteration:  68%|██████▊   | 475/695 [10:40<04:38,  1.27s/it]\u001b[A\n",
            "Iteration:  68%|██████▊   | 476/695 [10:42<04:36,  1.26s/it]\u001b[A\n",
            "Iteration:  69%|██████▊   | 477/695 [10:43<04:34,  1.26s/it]\u001b[A\n",
            "Iteration:  69%|██████▉   | 478/695 [10:44<04:36,  1.28s/it]\u001b[A\n",
            "Iteration:  69%|██████▉   | 479/695 [10:45<04:34,  1.27s/it]\u001b[A\n",
            "Iteration:  69%|██████▉   | 480/695 [10:47<04:32,  1.27s/it]\u001b[A\n",
            "Iteration:  69%|██████▉   | 481/695 [10:48<04:30,  1.27s/it]\u001b[A\n",
            "Iteration:  69%|██████▉   | 482/695 [10:49<04:31,  1.27s/it]\u001b[A\n",
            "Iteration:  69%|██████▉   | 483/695 [10:50<04:29,  1.27s/it]\u001b[A\n",
            "Iteration:  70%|██████▉   | 484/695 [10:52<04:26,  1.26s/it]\u001b[A\n",
            "Iteration:  70%|██████▉   | 485/695 [10:53<04:26,  1.27s/it]\u001b[A\n",
            "Iteration:  70%|██████▉   | 486/695 [10:54<04:27,  1.28s/it]\u001b[A\n",
            "Iteration:  70%|███████   | 487/695 [10:56<04:24,  1.27s/it]\u001b[A\n",
            "Iteration:  70%|███████   | 488/695 [10:57<04:22,  1.27s/it]\u001b[A\n",
            "Iteration:  70%|███████   | 489/695 [10:58<04:21,  1.27s/it]\u001b[A\n",
            "Iteration:  71%|███████   | 490/695 [10:59<04:21,  1.27s/it]\u001b[A\n",
            "Iteration:  71%|███████   | 491/695 [11:01<04:18,  1.27s/it]\u001b[A\n",
            "Iteration:  71%|███████   | 492/695 [11:02<04:17,  1.27s/it]\u001b[A\n",
            "Iteration:  71%|███████   | 493/695 [11:03<04:15,  1.27s/it]\u001b[A\n",
            "Iteration:  71%|███████   | 494/695 [11:04<04:16,  1.27s/it]\u001b[A\n",
            "Iteration:  71%|███████   | 495/695 [11:06<04:13,  1.27s/it]\u001b[A\n",
            "Iteration:  71%|███████▏  | 496/695 [11:07<04:11,  1.26s/it]\u001b[A\n",
            "Iteration:  72%|███████▏  | 497/695 [11:08<04:10,  1.27s/it]\u001b[A\n",
            "Iteration:  72%|███████▏  | 498/695 [11:09<04:12,  1.28s/it]\u001b[A\n",
            "Iteration:  72%|███████▏  | 499/695 [11:11<04:09,  1.27s/it]\u001b[A\n",
            "Iteration:  72%|███████▏  | 500/695 [11:12<04:07,  1.27s/it]\u001b[A\n",
            "Iteration:  72%|███████▏  | 501/695 [11:13<04:05,  1.27s/it]\u001b[A\n",
            "Iteration:  72%|███████▏  | 502/695 [11:15<04:06,  1.27s/it]\u001b[A\n",
            "Iteration:  72%|███████▏  | 503/695 [11:16<04:03,  1.27s/it]\u001b[A\n",
            "Iteration:  73%|███████▎  | 504/695 [11:17<04:01,  1.26s/it]\u001b[A"
          ]
        },
        {
          "output_type": "stream",
          "name": "stdout",
          "text": [
            "\tGlobal step: 300 | LR: [7.007007007007007e-06, 7.007007007007007e-06] | Avg. loss: 0.377\n",
            "====================\n",
            "\tEvaluating on valiadtion set!\n"
          ]
        },
        {
          "output_type": "stream",
          "name": "stderr",
          "text": [
            "\n",
            "\n",
            "Evaluating:   0%|          | 0/32 [00:00<?, ?it/s]\u001b[A\u001b[A\n",
            "\n",
            "Evaluating:   3%|▎         | 1/32 [00:01<00:38,  1.23s/it]\u001b[A\u001b[A"
          ]
        },
        {
          "output_type": "stream",
          "name": "stdout",
          "text": [
            "0.96875\n"
          ]
        },
        {
          "output_type": "stream",
          "name": "stderr",
          "text": [
            "\n",
            "\n",
            "Evaluating:   6%|▋         | 2/32 [00:01<00:23,  1.30it/s]\u001b[A\u001b[A"
          ]
        },
        {
          "output_type": "stream",
          "name": "stdout",
          "text": [
            "0.8125\n"
          ]
        },
        {
          "output_type": "stream",
          "name": "stderr",
          "text": [
            "\n",
            "\n",
            "Evaluating:   9%|▉         | 3/32 [00:02<00:17,  1.61it/s]\u001b[A\u001b[A"
          ]
        },
        {
          "output_type": "stream",
          "name": "stdout",
          "text": [
            "0.90625\n"
          ]
        },
        {
          "output_type": "stream",
          "name": "stderr",
          "text": [
            "\n",
            "\n",
            "Evaluating:  12%|█▎        | 4/32 [00:02<00:15,  1.82it/s]\u001b[A\u001b[A"
          ]
        },
        {
          "output_type": "stream",
          "name": "stdout",
          "text": [
            "0.8125\n"
          ]
        },
        {
          "output_type": "stream",
          "name": "stderr",
          "text": [
            "\n",
            "\n",
            "Evaluating:  16%|█▌        | 5/32 [00:03<00:13,  1.96it/s]\u001b[A\u001b[A"
          ]
        },
        {
          "output_type": "stream",
          "name": "stdout",
          "text": [
            "0.8125\n"
          ]
        },
        {
          "output_type": "stream",
          "name": "stderr",
          "text": [
            "\n",
            "\n",
            "Evaluating:  19%|█▉        | 6/32 [00:03<00:12,  2.06it/s]\u001b[A\u001b[A"
          ]
        },
        {
          "output_type": "stream",
          "name": "stdout",
          "text": [
            "0.84375\n"
          ]
        },
        {
          "output_type": "stream",
          "name": "stderr",
          "text": [
            "\n",
            "\n",
            "Evaluating:  22%|██▏       | 7/32 [00:03<00:11,  2.11it/s]\u001b[A\u001b[A"
          ]
        },
        {
          "output_type": "stream",
          "name": "stdout",
          "text": [
            "0.875\n"
          ]
        },
        {
          "output_type": "stream",
          "name": "stderr",
          "text": [
            "\n",
            "\n",
            "Evaluating:  25%|██▌       | 8/32 [00:04<00:11,  2.15it/s]\u001b[A\u001b[A"
          ]
        },
        {
          "output_type": "stream",
          "name": "stdout",
          "text": [
            "0.8125\n"
          ]
        },
        {
          "output_type": "stream",
          "name": "stderr",
          "text": [
            "\n",
            "\n",
            "Evaluating:  28%|██▊       | 9/32 [00:04<00:10,  2.19it/s]\u001b[A\u001b[A"
          ]
        },
        {
          "output_type": "stream",
          "name": "stdout",
          "text": [
            "0.875\n"
          ]
        },
        {
          "output_type": "stream",
          "name": "stderr",
          "text": [
            "\n",
            "\n",
            "Evaluating:  31%|███▏      | 10/32 [00:05<00:09,  2.22it/s]\u001b[A\u001b[A"
          ]
        },
        {
          "output_type": "stream",
          "name": "stdout",
          "text": [
            "0.84375\n"
          ]
        },
        {
          "output_type": "stream",
          "name": "stderr",
          "text": [
            "\n",
            "\n",
            "Evaluating:  34%|███▍      | 11/32 [00:05<00:09,  2.23it/s]\u001b[A\u001b[A"
          ]
        },
        {
          "output_type": "stream",
          "name": "stdout",
          "text": [
            "0.9375\n"
          ]
        },
        {
          "output_type": "stream",
          "name": "stderr",
          "text": [
            "\n",
            "\n",
            "Evaluating:  38%|███▊      | 12/32 [00:06<00:08,  2.25it/s]\u001b[A\u001b[A"
          ]
        },
        {
          "output_type": "stream",
          "name": "stdout",
          "text": [
            "0.90625\n"
          ]
        },
        {
          "output_type": "stream",
          "name": "stderr",
          "text": [
            "\n",
            "\n",
            "Evaluating:  41%|████      | 13/32 [00:06<00:08,  2.26it/s]\u001b[A\u001b[A"
          ]
        },
        {
          "output_type": "stream",
          "name": "stdout",
          "text": [
            "0.875\n"
          ]
        },
        {
          "output_type": "stream",
          "name": "stderr",
          "text": [
            "\n",
            "\n",
            "Evaluating:  44%|████▍     | 14/32 [00:06<00:07,  2.25it/s]\u001b[A\u001b[A"
          ]
        },
        {
          "output_type": "stream",
          "name": "stdout",
          "text": [
            "0.90625\n"
          ]
        },
        {
          "output_type": "stream",
          "name": "stderr",
          "text": [
            "\n",
            "\n",
            "Evaluating:  47%|████▋     | 15/32 [00:07<00:07,  2.27it/s]\u001b[A\u001b[A"
          ]
        },
        {
          "output_type": "stream",
          "name": "stdout",
          "text": [
            "0.78125\n"
          ]
        },
        {
          "output_type": "stream",
          "name": "stderr",
          "text": [
            "\n",
            "\n",
            "Evaluating:  50%|█████     | 16/32 [00:07<00:07,  2.27it/s]\u001b[A\u001b[A"
          ]
        },
        {
          "output_type": "stream",
          "name": "stdout",
          "text": [
            "0.875\n"
          ]
        },
        {
          "output_type": "stream",
          "name": "stderr",
          "text": [
            "\n",
            "\n",
            "Evaluating:  53%|█████▎    | 17/32 [00:08<00:06,  2.26it/s]\u001b[A\u001b[A"
          ]
        },
        {
          "output_type": "stream",
          "name": "stdout",
          "text": [
            "0.9375\n"
          ]
        },
        {
          "output_type": "stream",
          "name": "stderr",
          "text": [
            "\n",
            "\n",
            "Evaluating:  56%|█████▋    | 18/32 [00:08<00:06,  2.26it/s]\u001b[A\u001b[A"
          ]
        },
        {
          "output_type": "stream",
          "name": "stdout",
          "text": [
            "0.875\n"
          ]
        },
        {
          "output_type": "stream",
          "name": "stderr",
          "text": [
            "\n",
            "\n",
            "Evaluating:  59%|█████▉    | 19/32 [00:09<00:05,  2.26it/s]\u001b[A\u001b[A"
          ]
        },
        {
          "output_type": "stream",
          "name": "stdout",
          "text": [
            "0.78125\n"
          ]
        },
        {
          "output_type": "stream",
          "name": "stderr",
          "text": [
            "\n",
            "\n",
            "Evaluating:  62%|██████▎   | 20/32 [00:09<00:05,  2.26it/s]\u001b[A\u001b[A"
          ]
        },
        {
          "output_type": "stream",
          "name": "stdout",
          "text": [
            "0.875\n"
          ]
        },
        {
          "output_type": "stream",
          "name": "stderr",
          "text": [
            "\n",
            "\n",
            "Evaluating:  66%|██████▌   | 21/32 [00:10<00:04,  2.27it/s]\u001b[A\u001b[A"
          ]
        },
        {
          "output_type": "stream",
          "name": "stdout",
          "text": [
            "0.8125\n"
          ]
        },
        {
          "output_type": "stream",
          "name": "stderr",
          "text": [
            "\n",
            "\n",
            "Evaluating:  69%|██████▉   | 22/32 [00:10<00:04,  2.27it/s]\u001b[A\u001b[A"
          ]
        },
        {
          "output_type": "stream",
          "name": "stdout",
          "text": [
            "0.78125\n"
          ]
        },
        {
          "output_type": "stream",
          "name": "stderr",
          "text": [
            "\n",
            "\n",
            "Evaluating:  72%|███████▏  | 23/32 [00:10<00:03,  2.26it/s]\u001b[A\u001b[A"
          ]
        },
        {
          "output_type": "stream",
          "name": "stdout",
          "text": [
            "0.90625\n"
          ]
        },
        {
          "output_type": "stream",
          "name": "stderr",
          "text": [
            "\n",
            "\n",
            "Evaluating:  75%|███████▌  | 24/32 [00:11<00:03,  2.26it/s]\u001b[A\u001b[A"
          ]
        },
        {
          "output_type": "stream",
          "name": "stdout",
          "text": [
            "0.75\n"
          ]
        },
        {
          "output_type": "stream",
          "name": "stderr",
          "text": [
            "\n",
            "\n",
            "Evaluating:  78%|███████▊  | 25/32 [00:11<00:03,  2.27it/s]\u001b[A\u001b[A"
          ]
        },
        {
          "output_type": "stream",
          "name": "stdout",
          "text": [
            "0.8125\n"
          ]
        },
        {
          "output_type": "stream",
          "name": "stderr",
          "text": [
            "\n",
            "\n",
            "Evaluating:  81%|████████▏ | 26/32 [00:12<00:02,  2.26it/s]\u001b[A\u001b[A"
          ]
        },
        {
          "output_type": "stream",
          "name": "stdout",
          "text": [
            "0.71875\n"
          ]
        },
        {
          "output_type": "stream",
          "name": "stderr",
          "text": [
            "\n",
            "\n",
            "Evaluating:  84%|████████▍ | 27/32 [00:12<00:02,  2.27it/s]\u001b[A\u001b[A"
          ]
        },
        {
          "output_type": "stream",
          "name": "stdout",
          "text": [
            "0.8125\n"
          ]
        },
        {
          "output_type": "stream",
          "name": "stderr",
          "text": [
            "\n",
            "\n",
            "Evaluating:  88%|████████▊ | 28/32 [00:13<00:01,  2.27it/s]\u001b[A\u001b[A"
          ]
        },
        {
          "output_type": "stream",
          "name": "stdout",
          "text": [
            "0.875\n"
          ]
        },
        {
          "output_type": "stream",
          "name": "stderr",
          "text": [
            "\n",
            "\n",
            "Evaluating:  91%|█████████ | 29/32 [00:13<00:01,  2.27it/s]\u001b[A\u001b[A"
          ]
        },
        {
          "output_type": "stream",
          "name": "stdout",
          "text": [
            "0.90625\n"
          ]
        },
        {
          "output_type": "stream",
          "name": "stderr",
          "text": [
            "\n",
            "\n",
            "Evaluating:  94%|█████████▍| 30/32 [00:14<00:00,  2.27it/s]\u001b[A\u001b[A"
          ]
        },
        {
          "output_type": "stream",
          "name": "stdout",
          "text": [
            "0.78125\n"
          ]
        },
        {
          "output_type": "stream",
          "name": "stderr",
          "text": [
            "\n",
            "\n",
            "Evaluating:  97%|█████████▋| 31/32 [00:14<00:00,  2.27it/s]\u001b[A\u001b[A\n",
            "\n",
            "Evaluating: 100%|██████████| 32/32 [00:14<00:00,  2.19it/s]"
          ]
        },
        {
          "output_type": "stream",
          "name": "stdout",
          "text": [
            "0.6875\n",
            "1.0\n",
            "== Finished evaluating model: next_sentence_cls_0 ==\n",
            "\tMean evaluation acc: 0.849\n"
          ]
        },
        {
          "output_type": "stream",
          "name": "stderr",
          "text": [
            "\n",
            "\n",
            "Iteration:  73%|███████▎  | 505/695 [11:43<27:48,  8.78s/it]\u001b[A"
          ]
        },
        {
          "output_type": "stream",
          "name": "stdout",
          "text": [
            "\tEvaluation accuracy: 0.849 | Stale count: 0\n",
            "====================\n"
          ]
        },
        {
          "output_type": "stream",
          "name": "stderr",
          "text": [
            "\n",
            "Iteration:  73%|███████▎  | 506/695 [11:44<19:51,  6.31s/it]\u001b[A\n",
            "Iteration:  73%|███████▎  | 507/695 [11:45<14:59,  4.78s/it]\u001b[A\n",
            "Iteration:  73%|███████▎  | 508/695 [11:46<11:35,  3.72s/it]\u001b[A\n",
            "Iteration:  73%|███████▎  | 509/695 [11:48<09:13,  2.97s/it]\u001b[A\n",
            "Iteration:  73%|███████▎  | 510/695 [11:49<07:36,  2.47s/it]\u001b[A\n",
            "Iteration:  74%|███████▎  | 511/695 [11:50<06:25,  2.10s/it]\u001b[A\n",
            "Iteration:  74%|███████▎  | 512/695 [11:51<05:36,  1.84s/it]\u001b[A\n",
            "Iteration:  74%|███████▍  | 513/695 [11:53<05:02,  1.66s/it]\u001b[A\n",
            "Iteration:  74%|███████▍  | 514/695 [11:54<04:41,  1.55s/it]\u001b[A\n",
            "Iteration:  74%|███████▍  | 515/695 [11:55<04:23,  1.46s/it]\u001b[A\n",
            "Iteration:  74%|███████▍  | 516/695 [11:56<04:11,  1.40s/it]\u001b[A\n",
            "Iteration:  74%|███████▍  | 517/695 [11:58<04:02,  1.36s/it]\u001b[A\n",
            "Iteration:  75%|███████▍  | 518/695 [11:59<03:57,  1.34s/it]\u001b[A\n",
            "Iteration:  75%|███████▍  | 519/695 [12:00<03:51,  1.32s/it]\u001b[A\n",
            "Iteration:  75%|███████▍  | 520/695 [12:02<03:48,  1.31s/it]\u001b[A\n",
            "Iteration:  75%|███████▍  | 521/695 [12:03<03:45,  1.30s/it]\u001b[A\n",
            "Iteration:  75%|███████▌  | 522/695 [12:04<03:45,  1.30s/it]\u001b[A\n",
            "Iteration:  75%|███████▌  | 523/695 [12:05<03:42,  1.29s/it]\u001b[A\n",
            "Iteration:  75%|███████▌  | 524/695 [12:07<03:41,  1.29s/it]\u001b[A\n",
            "Iteration:  76%|███████▌  | 525/695 [12:08<03:40,  1.30s/it]\u001b[A\n",
            "Iteration:  76%|███████▌  | 526/695 [12:09<03:41,  1.31s/it]\u001b[A\n",
            "Iteration:  76%|███████▌  | 527/695 [12:11<03:39,  1.30s/it]\u001b[A\n",
            "Iteration:  76%|███████▌  | 528/695 [12:12<03:36,  1.30s/it]\u001b[A\n",
            "Iteration:  76%|███████▌  | 529/695 [12:13<03:35,  1.30s/it]\u001b[A\n",
            "Iteration:  76%|███████▋  | 530/695 [12:15<03:34,  1.30s/it]\u001b[A\n",
            "Iteration:  76%|███████▋  | 531/695 [12:16<03:32,  1.30s/it]\u001b[A\n",
            "Iteration:  77%|███████▋  | 532/695 [12:17<03:30,  1.29s/it]\u001b[A\n",
            "Iteration:  77%|███████▋  | 533/695 [12:18<03:28,  1.29s/it]\u001b[A\n",
            "Iteration:  77%|███████▋  | 534/695 [12:20<03:29,  1.30s/it]\u001b[A\n",
            "Iteration:  77%|███████▋  | 535/695 [12:21<03:26,  1.29s/it]\u001b[A\n",
            "Iteration:  77%|███████▋  | 536/695 [12:22<03:24,  1.29s/it]\u001b[A\n",
            "Iteration:  77%|███████▋  | 537/695 [12:24<03:23,  1.29s/it]\u001b[A\n",
            "Iteration:  77%|███████▋  | 538/695 [12:25<03:23,  1.30s/it]\u001b[A\n",
            "Iteration:  78%|███████▊  | 539/695 [12:26<03:20,  1.29s/it]\u001b[A\n",
            "Iteration:  78%|███████▊  | 540/695 [12:27<03:18,  1.28s/it]\u001b[A\n",
            "Iteration:  78%|███████▊  | 541/695 [12:29<03:17,  1.28s/it]\u001b[A\n",
            "Iteration:  78%|███████▊  | 542/695 [12:30<03:16,  1.29s/it]\u001b[A\n",
            "Iteration:  78%|███████▊  | 543/695 [12:31<03:14,  1.28s/it]\u001b[A\n",
            "Iteration:  78%|███████▊  | 544/695 [12:32<03:12,  1.27s/it]\u001b[A\n",
            "Iteration:  78%|███████▊  | 545/695 [12:34<03:11,  1.28s/it]\u001b[A\n",
            "Iteration:  79%|███████▊  | 546/695 [12:35<03:11,  1.28s/it]\u001b[A\n",
            "Iteration:  79%|███████▊  | 547/695 [12:36<03:07,  1.27s/it]\u001b[A\n",
            "Iteration:  79%|███████▉  | 548/695 [12:38<03:06,  1.27s/it]\u001b[A\n",
            "Iteration:  79%|███████▉  | 549/695 [12:39<03:05,  1.27s/it]\u001b[A\n",
            "Iteration:  79%|███████▉  | 550/695 [12:40<03:05,  1.28s/it]\u001b[A\n",
            "Iteration:  79%|███████▉  | 551/695 [12:41<03:02,  1.27s/it]\u001b[A\n",
            "Iteration:  79%|███████▉  | 552/695 [12:43<03:00,  1.26s/it]\u001b[A\n",
            "Iteration:  80%|███████▉  | 553/695 [12:44<02:59,  1.26s/it]\u001b[A\n",
            "Iteration:  80%|███████▉  | 554/695 [12:45<02:59,  1.27s/it]\u001b[A\n",
            "Iteration:  80%|███████▉  | 555/695 [12:46<02:57,  1.27s/it]\u001b[A\n",
            "Iteration:  80%|████████  | 556/695 [12:48<02:55,  1.26s/it]\u001b[A\n",
            "Iteration:  80%|████████  | 557/695 [12:49<02:53,  1.26s/it]\u001b[A\n",
            "Iteration:  80%|████████  | 558/695 [12:50<02:53,  1.27s/it]\u001b[A\n",
            "Iteration:  80%|████████  | 559/695 [12:51<02:51,  1.26s/it]\u001b[A\n",
            "Iteration:  81%|████████  | 560/695 [12:53<02:49,  1.26s/it]\u001b[A\n",
            "Iteration:  81%|████████  | 561/695 [12:54<02:47,  1.25s/it]\u001b[A\n",
            "Iteration:  81%|████████  | 562/695 [12:55<02:48,  1.26s/it]\u001b[A\n",
            "Iteration:  81%|████████  | 563/695 [12:57<02:46,  1.26s/it]\u001b[A\n",
            "Iteration:  81%|████████  | 564/695 [12:58<02:44,  1.26s/it]\u001b[A\n",
            "Iteration:  81%|████████▏ | 565/695 [12:59<02:43,  1.26s/it]\u001b[A\n",
            "Iteration:  81%|████████▏ | 566/695 [13:00<02:42,  1.26s/it]\u001b[A\n",
            "Iteration:  82%|████████▏ | 567/695 [13:02<02:41,  1.26s/it]\u001b[A\n",
            "Iteration:  82%|████████▏ | 568/695 [13:03<02:39,  1.25s/it]\u001b[A\n",
            "Iteration:  82%|████████▏ | 569/695 [13:04<02:37,  1.25s/it]\u001b[A\n",
            "Iteration:  82%|████████▏ | 570/695 [13:05<02:37,  1.26s/it]\u001b[A\n",
            "Iteration:  82%|████████▏ | 571/695 [13:07<02:36,  1.26s/it]\u001b[A\n",
            "Iteration:  82%|████████▏ | 572/695 [13:08<02:34,  1.26s/it]\u001b[A\n",
            "Iteration:  82%|████████▏ | 573/695 [13:09<02:33,  1.26s/it]\u001b[A\n",
            "Iteration:  83%|████████▎ | 574/695 [13:10<02:33,  1.27s/it]\u001b[A\n",
            "Iteration:  83%|████████▎ | 575/695 [13:12<02:31,  1.26s/it]\u001b[A\n",
            "Iteration:  83%|████████▎ | 576/695 [13:13<02:29,  1.26s/it]\u001b[A\n",
            "Iteration:  83%|████████▎ | 577/695 [13:14<02:28,  1.26s/it]\u001b[A\n",
            "Iteration:  83%|████████▎ | 578/695 [13:15<02:28,  1.27s/it]\u001b[A\n",
            "Iteration:  83%|████████▎ | 579/695 [13:17<02:26,  1.26s/it]\u001b[A\n",
            "Iteration:  83%|████████▎ | 580/695 [13:18<02:24,  1.26s/it]\u001b[A\n",
            "Iteration:  84%|████████▎ | 581/695 [13:19<02:23,  1.26s/it]\u001b[A\n",
            "Iteration:  84%|████████▎ | 582/695 [13:20<02:23,  1.27s/it]\u001b[A\n",
            "Iteration:  84%|████████▍ | 583/695 [13:22<02:21,  1.26s/it]\u001b[A\n",
            "Iteration:  84%|████████▍ | 584/695 [13:23<02:19,  1.26s/it]\u001b[A\n",
            "Iteration:  84%|████████▍ | 585/695 [13:24<02:18,  1.26s/it]\u001b[A\n",
            "Iteration:  84%|████████▍ | 586/695 [13:26<02:18,  1.27s/it]\u001b[A\n",
            "Iteration:  84%|████████▍ | 587/695 [13:27<02:16,  1.26s/it]\u001b[A\n",
            "Iteration:  85%|████████▍ | 588/695 [13:28<02:14,  1.26s/it]\u001b[A\n",
            "Iteration:  85%|████████▍ | 589/695 [13:29<02:13,  1.26s/it]\u001b[A\n",
            "Iteration:  85%|████████▍ | 590/695 [13:31<02:13,  1.27s/it]\u001b[A\n",
            "Iteration:  85%|████████▌ | 591/695 [13:32<02:11,  1.27s/it]\u001b[A\n",
            "Iteration:  85%|████████▌ | 592/695 [13:33<02:10,  1.26s/it]\u001b[A\n",
            "Iteration:  85%|████████▌ | 593/695 [13:34<02:09,  1.27s/it]\u001b[A\n",
            "Iteration:  85%|████████▌ | 594/695 [13:36<02:08,  1.27s/it]\u001b[A\n",
            "Iteration:  86%|████████▌ | 595/695 [13:37<02:06,  1.27s/it]\u001b[A\n",
            "Iteration:  86%|████████▌ | 596/695 [13:38<02:05,  1.27s/it]\u001b[A\n",
            "Iteration:  86%|████████▌ | 597/695 [13:39<02:04,  1.27s/it]\u001b[A\n",
            "Iteration:  86%|████████▌ | 598/695 [13:41<02:03,  1.28s/it]\u001b[A\n",
            "Iteration:  86%|████████▌ | 599/695 [13:42<02:02,  1.27s/it]\u001b[A\n",
            "Iteration:  86%|████████▋ | 600/695 [13:43<02:00,  1.27s/it]\u001b[A\n",
            "Iteration:  86%|████████▋ | 601/695 [13:45<01:59,  1.27s/it]\u001b[A\n",
            "Iteration:  87%|████████▋ | 602/695 [13:46<01:58,  1.28s/it]\u001b[A\n",
            "Iteration:  87%|████████▋ | 603/695 [13:47<01:56,  1.27s/it]\u001b[A\n",
            "Iteration:  87%|████████▋ | 604/695 [13:48<01:54,  1.26s/it]\u001b[A\n",
            "Iteration:  87%|████████▋ | 605/695 [13:50<01:54,  1.27s/it]\u001b[A"
          ]
        },
        {
          "output_type": "stream",
          "name": "stdout",
          "text": [
            "\tGlobal step: 325 | LR: [6.7567567567567575e-06, 6.7567567567567575e-06] | Avg. loss: 0.346\n"
          ]
        },
        {
          "output_type": "stream",
          "name": "stderr",
          "text": [
            "\n",
            "Iteration:  87%|████████▋ | 606/695 [13:51<01:53,  1.28s/it]\u001b[A\n",
            "Iteration:  87%|████████▋ | 607/695 [13:52<01:51,  1.27s/it]\u001b[A\n",
            "Iteration:  87%|████████▋ | 608/695 [13:53<01:50,  1.27s/it]\u001b[A\n",
            "Iteration:  88%|████████▊ | 609/695 [13:55<01:49,  1.27s/it]\u001b[A\n",
            "Iteration:  88%|████████▊ | 610/695 [13:56<01:48,  1.28s/it]\u001b[A\n",
            "Iteration:  88%|████████▊ | 611/695 [13:57<01:47,  1.28s/it]\u001b[A\n",
            "Iteration:  88%|████████▊ | 612/695 [13:59<01:45,  1.27s/it]\u001b[A\n",
            "Iteration:  88%|████████▊ | 613/695 [14:00<01:43,  1.27s/it]\u001b[A\n",
            "Iteration:  88%|████████▊ | 614/695 [14:01<01:43,  1.27s/it]\u001b[A\n",
            "Iteration:  88%|████████▊ | 615/695 [14:02<01:41,  1.27s/it]\u001b[A\n",
            "Iteration:  89%|████████▊ | 616/695 [14:04<01:40,  1.27s/it]\u001b[A\n",
            "Iteration:  89%|████████▉ | 617/695 [14:05<01:38,  1.27s/it]\u001b[A\n",
            "Iteration:  89%|████████▉ | 618/695 [14:06<01:38,  1.28s/it]\u001b[A\n",
            "Iteration:  89%|████████▉ | 619/695 [14:07<01:36,  1.27s/it]\u001b[A\n",
            "Iteration:  89%|████████▉ | 620/695 [14:09<01:35,  1.27s/it]\u001b[A\n",
            "Iteration:  89%|████████▉ | 621/695 [14:10<01:33,  1.27s/it]\u001b[A\n",
            "Iteration:  89%|████████▉ | 622/695 [14:11<01:33,  1.28s/it]\u001b[A\n",
            "Iteration:  90%|████████▉ | 623/695 [14:13<01:31,  1.27s/it]\u001b[A\n",
            "Iteration:  90%|████████▉ | 624/695 [14:14<01:29,  1.27s/it]\u001b[A\n",
            "Iteration:  90%|████████▉ | 625/695 [14:15<01:28,  1.26s/it]\u001b[A\n",
            "Iteration:  90%|█████████ | 626/695 [14:16<01:27,  1.27s/it]\u001b[A\n",
            "Iteration:  90%|█████████ | 627/695 [14:18<01:25,  1.26s/it]\u001b[A\n",
            "Iteration:  90%|█████████ | 628/695 [14:19<01:24,  1.26s/it]\u001b[A\n",
            "Iteration:  91%|█████████ | 629/695 [14:20<01:23,  1.26s/it]\u001b[A\n",
            "Iteration:  91%|█████████ | 630/695 [14:21<01:22,  1.27s/it]\u001b[A\n",
            "Iteration:  91%|█████████ | 631/695 [14:23<01:21,  1.27s/it]\u001b[A\n",
            "Iteration:  91%|█████████ | 632/695 [14:24<01:19,  1.26s/it]\u001b[A\n",
            "Iteration:  91%|█████████ | 633/695 [14:25<01:18,  1.26s/it]\u001b[A\n",
            "Iteration:  91%|█████████ | 634/695 [14:26<01:17,  1.27s/it]\u001b[A\n",
            "Iteration:  91%|█████████▏| 635/695 [14:28<01:15,  1.26s/it]\u001b[A\n",
            "Iteration:  92%|█████████▏| 636/695 [14:29<01:14,  1.26s/it]\u001b[A\n",
            "Iteration:  92%|█████████▏| 637/695 [14:30<01:13,  1.26s/it]\u001b[A\n",
            "Iteration:  92%|█████████▏| 638/695 [14:31<01:12,  1.27s/it]\u001b[A\n",
            "Iteration:  92%|█████████▏| 639/695 [14:33<01:10,  1.26s/it]\u001b[A\n",
            "Iteration:  92%|█████████▏| 640/695 [14:34<01:09,  1.26s/it]\u001b[A\n",
            "Iteration:  92%|█████████▏| 641/695 [14:35<01:08,  1.27s/it]\u001b[A\n",
            "Iteration:  92%|█████████▏| 642/695 [14:37<01:07,  1.27s/it]\u001b[A\n",
            "Iteration:  93%|█████████▎| 643/695 [14:38<01:05,  1.26s/it]\u001b[A\n",
            "Iteration:  93%|█████████▎| 644/695 [14:39<01:04,  1.26s/it]\u001b[A\n",
            "Iteration:  93%|█████████▎| 645/695 [14:40<01:03,  1.26s/it]\u001b[A\n",
            "Iteration:  93%|█████████▎| 646/695 [14:42<01:02,  1.27s/it]\u001b[A\n",
            "Iteration:  93%|█████████▎| 647/695 [14:43<01:00,  1.26s/it]\u001b[A\n",
            "Iteration:  93%|█████████▎| 648/695 [14:44<00:59,  1.26s/it]\u001b[A\n",
            "Iteration:  93%|█████████▎| 649/695 [14:45<00:57,  1.26s/it]\u001b[A\n",
            "Iteration:  94%|█████████▎| 650/695 [14:47<00:57,  1.27s/it]\u001b[A\n",
            "Iteration:  94%|█████████▎| 651/695 [14:48<00:55,  1.26s/it]\u001b[A\n",
            "Iteration:  94%|█████████▍| 652/695 [14:49<00:54,  1.26s/it]\u001b[A\n",
            "Iteration:  94%|█████████▍| 653/695 [14:50<00:53,  1.27s/it]\u001b[A\n",
            "Iteration:  94%|█████████▍| 654/695 [14:52<00:52,  1.27s/it]\u001b[A\n",
            "Iteration:  94%|█████████▍| 655/695 [14:53<00:50,  1.27s/it]\u001b[A\n",
            "Iteration:  94%|█████████▍| 656/695 [14:54<00:49,  1.26s/it]\u001b[A\n",
            "Iteration:  95%|█████████▍| 657/695 [14:56<00:47,  1.26s/it]\u001b[A\n",
            "Iteration:  95%|█████████▍| 658/695 [14:57<00:47,  1.27s/it]\u001b[A\n",
            "Iteration:  95%|█████████▍| 659/695 [14:58<00:45,  1.27s/it]\u001b[A\n",
            "Iteration:  95%|█████████▍| 660/695 [14:59<00:44,  1.27s/it]\u001b[A\n",
            "Iteration:  95%|█████████▌| 661/695 [15:01<00:42,  1.26s/it]\u001b[A\n",
            "Iteration:  95%|█████████▌| 662/695 [15:02<00:41,  1.27s/it]\u001b[A\n",
            "Iteration:  95%|█████████▌| 663/695 [15:03<00:40,  1.27s/it]\u001b[A\n",
            "Iteration:  96%|█████████▌| 664/695 [15:04<00:39,  1.26s/it]\u001b[A\n",
            "Iteration:  96%|█████████▌| 665/695 [15:06<00:37,  1.26s/it]\u001b[A\n",
            "Iteration:  96%|█████████▌| 666/695 [15:07<00:36,  1.27s/it]\u001b[A\n",
            "Iteration:  96%|█████████▌| 667/695 [15:08<00:35,  1.27s/it]\u001b[A\n",
            "Iteration:  96%|█████████▌| 668/695 [15:09<00:34,  1.26s/it]\u001b[A\n",
            "Iteration:  96%|█████████▋| 669/695 [15:11<00:32,  1.27s/it]\u001b[A\n",
            "Iteration:  96%|█████████▋| 670/695 [15:12<00:31,  1.27s/it]\u001b[A\n",
            "Iteration:  97%|█████████▋| 671/695 [15:13<00:30,  1.27s/it]\u001b[A\n",
            "Iteration:  97%|█████████▋| 672/695 [15:15<00:29,  1.26s/it]\u001b[A\n",
            "Iteration:  97%|█████████▋| 673/695 [15:16<00:27,  1.26s/it]\u001b[A\n",
            "Iteration:  97%|█████████▋| 674/695 [15:17<00:26,  1.27s/it]\u001b[A\n",
            "Iteration:  97%|█████████▋| 675/695 [15:18<00:25,  1.27s/it]\u001b[A\n",
            "Iteration:  97%|█████████▋| 676/695 [15:20<00:24,  1.26s/it]\u001b[A\n",
            "Iteration:  97%|█████████▋| 677/695 [15:21<00:22,  1.26s/it]\u001b[A\n",
            "Iteration:  98%|█████████▊| 678/695 [15:22<00:21,  1.28s/it]\u001b[A\n",
            "Iteration:  98%|█████████▊| 679/695 [15:23<00:20,  1.27s/it]\u001b[A\n",
            "Iteration:  98%|█████████▊| 680/695 [15:25<00:18,  1.27s/it]\u001b[A\n",
            "Iteration:  98%|█████████▊| 681/695 [15:26<00:17,  1.26s/it]\u001b[A\n",
            "Iteration:  98%|█████████▊| 682/695 [15:27<00:16,  1.28s/it]\u001b[A\n",
            "Iteration:  98%|█████████▊| 683/695 [15:28<00:15,  1.27s/it]\u001b[A\n",
            "Iteration:  98%|█████████▊| 684/695 [15:30<00:13,  1.26s/it]\u001b[A\n",
            "Iteration:  99%|█████████▊| 685/695 [15:31<00:12,  1.27s/it]\u001b[A\n",
            "Iteration:  99%|█████████▊| 686/695 [15:32<00:11,  1.28s/it]\u001b[A\n",
            "Iteration:  99%|█████████▉| 687/695 [15:34<00:10,  1.27s/it]\u001b[A\n",
            "Iteration:  99%|█████████▉| 688/695 [15:35<00:08,  1.27s/it]\u001b[A\n",
            "Iteration:  99%|█████████▉| 689/695 [15:36<00:07,  1.27s/it]\u001b[A\n",
            "Iteration:  99%|█████████▉| 690/695 [15:37<00:06,  1.27s/it]\u001b[A\n",
            "Iteration:  99%|█████████▉| 691/695 [15:39<00:05,  1.27s/it]\u001b[A\n",
            "Iteration: 100%|█████████▉| 692/695 [15:40<00:03,  1.26s/it]\u001b[A\n",
            "Iteration: 100%|█████████▉| 693/695 [15:41<00:02,  1.26s/it]\u001b[A\n",
            "Iteration: 100%|█████████▉| 694/695 [15:42<00:01,  1.27s/it]\u001b[A\n",
            "Iteration: 100%|██████████| 695/695 [15:44<00:00,  1.36s/it]\n",
            "Epoch:  40%|████      | 2/5 [31:17<46:59, 939.90s/it]  \n",
            "Iteration:   0%|          | 0/695 [00:00<?, ?it/s]\u001b[A\n",
            "Iteration:   0%|          | 1/695 [00:01<12:57,  1.12s/it]\u001b[A\n",
            "Iteration:   0%|          | 2/695 [00:02<14:00,  1.21s/it]\u001b[A\n",
            "Iteration:   0%|          | 3/695 [00:03<14:27,  1.25s/it]\u001b[A\n",
            "Iteration:   1%|          | 4/695 [00:04<14:23,  1.25s/it]\u001b[A\n",
            "Iteration:   1%|          | 5/695 [00:06<14:24,  1.25s/it]\u001b[A\n",
            "Iteration:   1%|          | 6/695 [00:07<14:27,  1.26s/it]\u001b[A\n",
            "Iteration:   1%|          | 7/695 [00:08<14:32,  1.27s/it]\u001b[A\n",
            "Iteration:   1%|          | 8/695 [00:10<14:28,  1.26s/it]\u001b[A\n",
            "Iteration:   1%|▏         | 9/695 [00:11<14:25,  1.26s/it]\u001b[A"
          ]
        },
        {
          "output_type": "stream",
          "name": "stdout",
          "text": [
            "\tGlobal step: 350 | LR: [6.506506506506507e-06, 6.506506506506507e-06] | Avg. loss: 0.347\n",
            "====================\n",
            "\tEvaluating on valiadtion set!\n"
          ]
        },
        {
          "output_type": "stream",
          "name": "stderr",
          "text": [
            "\n",
            "\n",
            "Evaluating:   0%|          | 0/32 [00:00<?, ?it/s]\u001b[A\u001b[A\n",
            "\n",
            "Evaluating:   3%|▎         | 1/32 [00:01<00:38,  1.23s/it]\u001b[A\u001b[A"
          ]
        },
        {
          "output_type": "stream",
          "name": "stdout",
          "text": [
            "0.96875\n"
          ]
        },
        {
          "output_type": "stream",
          "name": "stderr",
          "text": [
            "\n",
            "\n",
            "Evaluating:   6%|▋         | 2/32 [00:01<00:23,  1.30it/s]\u001b[A\u001b[A"
          ]
        },
        {
          "output_type": "stream",
          "name": "stdout",
          "text": [
            "0.8125\n"
          ]
        },
        {
          "output_type": "stream",
          "name": "stderr",
          "text": [
            "\n",
            "\n",
            "Evaluating:   9%|▉         | 3/32 [00:02<00:17,  1.62it/s]\u001b[A\u001b[A"
          ]
        },
        {
          "output_type": "stream",
          "name": "stdout",
          "text": [
            "0.875\n"
          ]
        },
        {
          "output_type": "stream",
          "name": "stderr",
          "text": [
            "\n",
            "\n",
            "Evaluating:  12%|█▎        | 4/32 [00:02<00:15,  1.83it/s]\u001b[A\u001b[A"
          ]
        },
        {
          "output_type": "stream",
          "name": "stdout",
          "text": [
            "0.84375\n"
          ]
        },
        {
          "output_type": "stream",
          "name": "stderr",
          "text": [
            "\n",
            "\n",
            "Evaluating:  16%|█▌        | 5/32 [00:02<00:13,  1.97it/s]\u001b[A\u001b[A"
          ]
        },
        {
          "output_type": "stream",
          "name": "stdout",
          "text": [
            "0.90625\n"
          ]
        },
        {
          "output_type": "stream",
          "name": "stderr",
          "text": [
            "\n",
            "\n",
            "Evaluating:  19%|█▉        | 6/32 [00:03<00:12,  2.06it/s]\u001b[A\u001b[A"
          ]
        },
        {
          "output_type": "stream",
          "name": "stdout",
          "text": [
            "0.875\n"
          ]
        },
        {
          "output_type": "stream",
          "name": "stderr",
          "text": [
            "\n",
            "\n",
            "Evaluating:  22%|██▏       | 7/32 [00:03<00:11,  2.12it/s]\u001b[A\u001b[A"
          ]
        },
        {
          "output_type": "stream",
          "name": "stdout",
          "text": [
            "0.84375\n"
          ]
        },
        {
          "output_type": "stream",
          "name": "stderr",
          "text": [
            "\n",
            "\n",
            "Evaluating:  25%|██▌       | 8/32 [00:04<00:11,  2.17it/s]\u001b[A\u001b[A"
          ]
        },
        {
          "output_type": "stream",
          "name": "stdout",
          "text": [
            "0.84375\n"
          ]
        },
        {
          "output_type": "stream",
          "name": "stderr",
          "text": [
            "\n",
            "\n",
            "Evaluating:  28%|██▊       | 9/32 [00:04<00:10,  2.21it/s]\u001b[A\u001b[A"
          ]
        },
        {
          "output_type": "stream",
          "name": "stdout",
          "text": [
            "0.8125\n"
          ]
        },
        {
          "output_type": "stream",
          "name": "stderr",
          "text": [
            "\n",
            "\n",
            "Evaluating:  31%|███▏      | 10/32 [00:05<00:09,  2.22it/s]\u001b[A\u001b[A"
          ]
        },
        {
          "output_type": "stream",
          "name": "stdout",
          "text": [
            "0.84375\n"
          ]
        },
        {
          "output_type": "stream",
          "name": "stderr",
          "text": [
            "\n",
            "\n",
            "Evaluating:  34%|███▍      | 11/32 [00:05<00:09,  2.24it/s]\u001b[A\u001b[A"
          ]
        },
        {
          "output_type": "stream",
          "name": "stdout",
          "text": [
            "0.9375\n"
          ]
        },
        {
          "output_type": "stream",
          "name": "stderr",
          "text": [
            "\n",
            "\n",
            "Evaluating:  38%|███▊      | 12/32 [00:06<00:08,  2.25it/s]\u001b[A\u001b[A"
          ]
        },
        {
          "output_type": "stream",
          "name": "stdout",
          "text": [
            "0.90625\n"
          ]
        },
        {
          "output_type": "stream",
          "name": "stderr",
          "text": [
            "\n",
            "\n",
            "Evaluating:  41%|████      | 13/32 [00:06<00:08,  2.26it/s]\u001b[A\u001b[A"
          ]
        },
        {
          "output_type": "stream",
          "name": "stdout",
          "text": [
            "0.78125\n"
          ]
        },
        {
          "output_type": "stream",
          "name": "stderr",
          "text": [
            "\n",
            "\n",
            "Evaluating:  44%|████▍     | 14/32 [00:06<00:07,  2.25it/s]\u001b[A\u001b[A"
          ]
        },
        {
          "output_type": "stream",
          "name": "stdout",
          "text": [
            "0.90625\n"
          ]
        },
        {
          "output_type": "stream",
          "name": "stderr",
          "text": [
            "\n",
            "\n",
            "Evaluating:  47%|████▋     | 15/32 [00:07<00:07,  2.26it/s]\u001b[A\u001b[A"
          ]
        },
        {
          "output_type": "stream",
          "name": "stdout",
          "text": [
            "0.8125\n"
          ]
        },
        {
          "output_type": "stream",
          "name": "stderr",
          "text": [
            "\n",
            "\n",
            "Evaluating:  50%|█████     | 16/32 [00:07<00:07,  2.27it/s]\u001b[A\u001b[A"
          ]
        },
        {
          "output_type": "stream",
          "name": "stdout",
          "text": [
            "0.84375\n"
          ]
        },
        {
          "output_type": "stream",
          "name": "stderr",
          "text": [
            "\n",
            "\n",
            "Evaluating:  53%|█████▎    | 17/32 [00:08<00:06,  2.26it/s]\u001b[A\u001b[A"
          ]
        },
        {
          "output_type": "stream",
          "name": "stdout",
          "text": [
            "0.9375\n"
          ]
        },
        {
          "output_type": "stream",
          "name": "stderr",
          "text": [
            "\n",
            "\n",
            "Evaluating:  56%|█████▋    | 18/32 [00:08<00:06,  2.27it/s]\u001b[A\u001b[A"
          ]
        },
        {
          "output_type": "stream",
          "name": "stdout",
          "text": [
            "0.84375\n"
          ]
        },
        {
          "output_type": "stream",
          "name": "stderr",
          "text": [
            "\n",
            "\n",
            "Evaluating:  59%|█████▉    | 19/32 [00:09<00:05,  2.26it/s]\u001b[A\u001b[A"
          ]
        },
        {
          "output_type": "stream",
          "name": "stdout",
          "text": [
            "0.90625\n"
          ]
        },
        {
          "output_type": "stream",
          "name": "stderr",
          "text": [
            "\n",
            "\n",
            "Evaluating:  62%|██████▎   | 20/32 [00:09<00:05,  2.26it/s]\u001b[A\u001b[A"
          ]
        },
        {
          "output_type": "stream",
          "name": "stdout",
          "text": [
            "0.875\n"
          ]
        },
        {
          "output_type": "stream",
          "name": "stderr",
          "text": [
            "\n",
            "\n",
            "Evaluating:  66%|██████▌   | 21/32 [00:10<00:04,  2.27it/s]\u001b[A\u001b[A"
          ]
        },
        {
          "output_type": "stream",
          "name": "stdout",
          "text": [
            "0.75\n"
          ]
        },
        {
          "output_type": "stream",
          "name": "stderr",
          "text": [
            "\n",
            "\n",
            "Evaluating:  69%|██████▉   | 22/32 [00:10<00:04,  2.27it/s]\u001b[A\u001b[A"
          ]
        },
        {
          "output_type": "stream",
          "name": "stdout",
          "text": [
            "0.78125\n"
          ]
        },
        {
          "output_type": "stream",
          "name": "stderr",
          "text": [
            "\n",
            "\n",
            "Evaluating:  72%|███████▏  | 23/32 [00:10<00:03,  2.27it/s]\u001b[A\u001b[A"
          ]
        },
        {
          "output_type": "stream",
          "name": "stdout",
          "text": [
            "0.84375\n"
          ]
        },
        {
          "output_type": "stream",
          "name": "stderr",
          "text": [
            "\n",
            "\n",
            "Evaluating:  75%|███████▌  | 24/32 [00:11<00:03,  2.27it/s]\u001b[A\u001b[A"
          ]
        },
        {
          "output_type": "stream",
          "name": "stdout",
          "text": [
            "0.75\n"
          ]
        },
        {
          "output_type": "stream",
          "name": "stderr",
          "text": [
            "\n",
            "\n",
            "Evaluating:  78%|███████▊  | 25/32 [00:11<00:03,  2.26it/s]\u001b[A\u001b[A"
          ]
        },
        {
          "output_type": "stream",
          "name": "stdout",
          "text": [
            "0.8125\n"
          ]
        },
        {
          "output_type": "stream",
          "name": "stderr",
          "text": [
            "\n",
            "\n",
            "Evaluating:  81%|████████▏ | 26/32 [00:12<00:02,  2.26it/s]\u001b[A\u001b[A"
          ]
        },
        {
          "output_type": "stream",
          "name": "stdout",
          "text": [
            "0.71875\n"
          ]
        },
        {
          "output_type": "stream",
          "name": "stderr",
          "text": [
            "\n",
            "\n",
            "Evaluating:  84%|████████▍ | 27/32 [00:12<00:02,  2.27it/s]\u001b[A\u001b[A"
          ]
        },
        {
          "output_type": "stream",
          "name": "stdout",
          "text": [
            "0.8125\n"
          ]
        },
        {
          "output_type": "stream",
          "name": "stderr",
          "text": [
            "\n",
            "\n",
            "Evaluating:  88%|████████▊ | 28/32 [00:13<00:01,  2.27it/s]\u001b[A\u001b[A"
          ]
        },
        {
          "output_type": "stream",
          "name": "stdout",
          "text": [
            "0.8125\n"
          ]
        },
        {
          "output_type": "stream",
          "name": "stderr",
          "text": [
            "\n",
            "\n",
            "Evaluating:  91%|█████████ | 29/32 [00:13<00:01,  2.27it/s]\u001b[A\u001b[A"
          ]
        },
        {
          "output_type": "stream",
          "name": "stdout",
          "text": [
            "0.875\n"
          ]
        },
        {
          "output_type": "stream",
          "name": "stderr",
          "text": [
            "\n",
            "\n",
            "Evaluating:  94%|█████████▍| 30/32 [00:14<00:00,  2.27it/s]\u001b[A\u001b[A"
          ]
        },
        {
          "output_type": "stream",
          "name": "stdout",
          "text": [
            "0.8125\n"
          ]
        },
        {
          "output_type": "stream",
          "name": "stderr",
          "text": [
            "\n",
            "\n",
            "Evaluating:  97%|█████████▋| 31/32 [00:14<00:00,  2.28it/s]\u001b[A\u001b[A\n",
            "\n",
            "Evaluating: 100%|██████████| 32/32 [00:14<00:00,  2.20it/s]\n",
            "\n",
            "Iteration:   1%|▏         | 10/695 [00:27<1:05:49,  5.77s/it]\u001b[A"
          ]
        },
        {
          "output_type": "stream",
          "name": "stdout",
          "text": [
            "0.78125\n",
            "1.0\n",
            "== Finished evaluating model: next_sentence_cls_0 ==\n",
            "\tMean evaluation acc: 0.848\n",
            "\tEvaluation accuracy: 0.848 | Stale count: 1\n",
            "====================\n"
          ]
        },
        {
          "output_type": "stream",
          "name": "stderr",
          "text": [
            "\n",
            "Iteration:   2%|▏         | 11/695 [00:27<47:19,  4.15s/it]  \u001b[A\n",
            "Iteration:   2%|▏         | 12/695 [00:28<37:15,  3.27s/it]\u001b[A\n",
            "Iteration:   2%|▏         | 13/695 [00:30<30:13,  2.66s/it]\u001b[A\n",
            "Iteration:   2%|▏         | 14/695 [00:31<25:22,  2.24s/it]\u001b[A\n",
            "Iteration:   2%|▏         | 15/695 [00:32<22:07,  1.95s/it]\u001b[A\n",
            "Iteration:   2%|▏         | 16/695 [00:33<19:40,  1.74s/it]\u001b[A\n",
            "Iteration:   2%|▏         | 17/695 [00:35<18:01,  1.60s/it]\u001b[A\n",
            "Iteration:   3%|▎         | 18/695 [00:36<16:50,  1.49s/it]\u001b[A\n",
            "Iteration:   3%|▎         | 19/695 [00:37<16:10,  1.44s/it]\u001b[A\n",
            "Iteration:   3%|▎         | 20/695 [00:38<15:32,  1.38s/it]\u001b[A\n",
            "Iteration:   3%|▎         | 21/695 [00:40<15:03,  1.34s/it]\u001b[A\n",
            "Iteration:   3%|▎         | 22/695 [00:41<14:49,  1.32s/it]\u001b[A\n",
            "Iteration:   3%|▎         | 23/695 [00:42<14:44,  1.32s/it]\u001b[A\n",
            "Iteration:   3%|▎         | 24/695 [00:44<14:29,  1.30s/it]\u001b[A\n",
            "Iteration:   4%|▎         | 25/695 [00:45<14:21,  1.29s/it]\u001b[A\n",
            "Iteration:   4%|▎         | 26/695 [00:46<14:18,  1.28s/it]\u001b[A\n",
            "Iteration:   4%|▍         | 27/695 [00:47<14:20,  1.29s/it]\u001b[A\n",
            "Iteration:   4%|▍         | 28/695 [00:49<14:10,  1.28s/it]\u001b[A\n",
            "Iteration:   4%|▍         | 29/695 [00:50<14:05,  1.27s/it]\u001b[A\n",
            "Iteration:   4%|▍         | 30/695 [00:51<14:04,  1.27s/it]\u001b[A\n",
            "Iteration:   4%|▍         | 31/695 [00:52<14:10,  1.28s/it]\u001b[A\n",
            "Iteration:   5%|▍         | 32/695 [00:54<14:01,  1.27s/it]\u001b[A\n",
            "Iteration:   5%|▍         | 33/695 [00:55<13:57,  1.26s/it]\u001b[A\n",
            "Iteration:   5%|▍         | 34/695 [00:56<13:56,  1.27s/it]\u001b[A\n",
            "Iteration:   5%|▌         | 35/695 [00:58<14:01,  1.28s/it]\u001b[A\n",
            "Iteration:   5%|▌         | 36/695 [00:59<13:56,  1.27s/it]\u001b[A\n",
            "Iteration:   5%|▌         | 37/695 [01:00<13:52,  1.27s/it]\u001b[A\n",
            "Iteration:   5%|▌         | 38/695 [01:01<13:49,  1.26s/it]\u001b[A\n",
            "Iteration:   6%|▌         | 39/695 [01:03<13:56,  1.28s/it]\u001b[A\n",
            "Iteration:   6%|▌         | 40/695 [01:04<13:52,  1.27s/it]\u001b[A\n",
            "Iteration:   6%|▌         | 41/695 [01:05<13:46,  1.26s/it]\u001b[A\n",
            "Iteration:   6%|▌         | 42/695 [01:06<13:44,  1.26s/it]\u001b[A\n",
            "Iteration:   6%|▌         | 43/695 [01:08<13:52,  1.28s/it]\u001b[A\n",
            "Iteration:   6%|▋         | 44/695 [01:09<13:45,  1.27s/it]\u001b[A\n",
            "Iteration:   6%|▋         | 45/695 [01:10<13:41,  1.26s/it]\u001b[A\n",
            "Iteration:   7%|▋         | 46/695 [01:11<13:39,  1.26s/it]\u001b[A\n",
            "Iteration:   7%|▋         | 47/695 [01:13<13:45,  1.27s/it]\u001b[A\n",
            "Iteration:   7%|▋         | 48/695 [01:14<13:41,  1.27s/it]\u001b[A\n",
            "Iteration:   7%|▋         | 49/695 [01:15<13:39,  1.27s/it]\u001b[A\n",
            "Iteration:   7%|▋         | 50/695 [01:17<13:39,  1.27s/it]\u001b[A\n",
            "Iteration:   7%|▋         | 51/695 [01:18<13:39,  1.27s/it]\u001b[A\n",
            "Iteration:   7%|▋         | 52/695 [01:19<13:34,  1.27s/it]\u001b[A\n",
            "Iteration:   8%|▊         | 53/695 [01:20<13:31,  1.26s/it]\u001b[A\n",
            "Iteration:   8%|▊         | 54/695 [01:22<13:31,  1.27s/it]\u001b[A\n",
            "Iteration:   8%|▊         | 55/695 [01:23<13:37,  1.28s/it]\u001b[A\n",
            "Iteration:   8%|▊         | 56/695 [01:24<13:33,  1.27s/it]\u001b[A\n",
            "Iteration:   8%|▊         | 57/695 [01:25<13:31,  1.27s/it]\u001b[A\n",
            "Iteration:   8%|▊         | 58/695 [01:27<13:28,  1.27s/it]\u001b[A\n",
            "Iteration:   8%|▊         | 59/695 [01:28<13:33,  1.28s/it]\u001b[A\n",
            "Iteration:   9%|▊         | 60/695 [01:29<13:28,  1.27s/it]\u001b[A\n",
            "Iteration:   9%|▉         | 61/695 [01:31<13:22,  1.27s/it]\u001b[A\n",
            "Iteration:   9%|▉         | 62/695 [01:32<13:20,  1.27s/it]\u001b[A\n",
            "Iteration:   9%|▉         | 63/695 [01:33<13:25,  1.27s/it]\u001b[A\n",
            "Iteration:   9%|▉         | 64/695 [01:34<13:22,  1.27s/it]\u001b[A\n",
            "Iteration:   9%|▉         | 65/695 [01:36<13:19,  1.27s/it]\u001b[A\n",
            "Iteration:   9%|▉         | 66/695 [01:37<13:18,  1.27s/it]\u001b[A\n",
            "Iteration:  10%|▉         | 67/695 [01:38<13:21,  1.28s/it]\u001b[A\n",
            "Iteration:  10%|▉         | 68/695 [01:39<13:17,  1.27s/it]\u001b[A\n",
            "Iteration:  10%|▉         | 69/695 [01:41<13:15,  1.27s/it]\u001b[A\n",
            "Iteration:  10%|█         | 70/695 [01:42<13:12,  1.27s/it]\u001b[A\n",
            "Iteration:  10%|█         | 71/695 [01:43<13:18,  1.28s/it]\u001b[A\n",
            "Iteration:  10%|█         | 72/695 [01:45<13:12,  1.27s/it]\u001b[A\n",
            "Iteration:  11%|█         | 73/695 [01:46<13:08,  1.27s/it]\u001b[A\n",
            "Iteration:  11%|█         | 74/695 [01:47<13:06,  1.27s/it]\u001b[A\n",
            "Iteration:  11%|█         | 75/695 [01:48<13:12,  1.28s/it]\u001b[A\n",
            "Iteration:  11%|█         | 76/695 [01:50<13:04,  1.27s/it]\u001b[A\n",
            "Iteration:  11%|█         | 77/695 [01:51<13:02,  1.27s/it]\u001b[A\n",
            "Iteration:  11%|█         | 78/695 [01:52<13:01,  1.27s/it]\u001b[A\n",
            "Iteration:  11%|█▏        | 79/695 [01:53<13:06,  1.28s/it]\u001b[A\n",
            "Iteration:  12%|█▏        | 80/695 [01:55<12:59,  1.27s/it]\u001b[A\n",
            "Iteration:  12%|█▏        | 81/695 [01:56<12:58,  1.27s/it]\u001b[A\n",
            "Iteration:  12%|█▏        | 82/695 [01:57<12:56,  1.27s/it]\u001b[A\n",
            "Iteration:  12%|█▏        | 83/695 [01:59<13:00,  1.27s/it]\u001b[A\n",
            "Iteration:  12%|█▏        | 84/695 [02:00<12:54,  1.27s/it]\u001b[A\n",
            "Iteration:  12%|█▏        | 85/695 [02:01<12:51,  1.26s/it]\u001b[A\n",
            "Iteration:  12%|█▏        | 86/695 [02:02<12:52,  1.27s/it]\u001b[A\n",
            "Iteration:  13%|█▎        | 87/695 [02:04<12:58,  1.28s/it]\u001b[A\n",
            "Iteration:  13%|█▎        | 88/695 [02:05<12:54,  1.28s/it]\u001b[A\n",
            "Iteration:  13%|█▎        | 89/695 [02:06<12:50,  1.27s/it]\u001b[A\n",
            "Iteration:  13%|█▎        | 90/695 [02:07<12:47,  1.27s/it]\u001b[A\n",
            "Iteration:  13%|█▎        | 91/695 [02:09<12:51,  1.28s/it]\u001b[A\n",
            "Iteration:  13%|█▎        | 92/695 [02:10<12:44,  1.27s/it]\u001b[A\n",
            "Iteration:  13%|█▎        | 93/695 [02:11<12:40,  1.26s/it]\u001b[A\n",
            "Iteration:  14%|█▎        | 94/695 [02:12<12:39,  1.26s/it]\u001b[A\n",
            "Iteration:  14%|█▎        | 95/695 [02:14<12:42,  1.27s/it]\u001b[A\n",
            "Iteration:  14%|█▍        | 96/695 [02:15<12:36,  1.26s/it]\u001b[A\n",
            "Iteration:  14%|█▍        | 97/695 [02:16<12:34,  1.26s/it]\u001b[A\n",
            "Iteration:  14%|█▍        | 98/695 [02:18<12:34,  1.26s/it]\u001b[A\n",
            "Iteration:  14%|█▍        | 99/695 [02:19<12:38,  1.27s/it]\u001b[A\n",
            "Iteration:  14%|█▍        | 100/695 [02:20<12:34,  1.27s/it]\u001b[A\n",
            "Iteration:  15%|█▍        | 101/695 [02:21<12:30,  1.26s/it]\u001b[A\n",
            "Iteration:  15%|█▍        | 102/695 [02:23<12:30,  1.27s/it]\u001b[A\n",
            "Iteration:  15%|█▍        | 103/695 [02:24<12:33,  1.27s/it]\u001b[A\n",
            "Iteration:  15%|█▍        | 104/695 [02:25<12:29,  1.27s/it]\u001b[A\n",
            "Iteration:  15%|█▌        | 105/695 [02:26<12:26,  1.26s/it]\u001b[A\n",
            "Iteration:  15%|█▌        | 106/695 [02:28<12:26,  1.27s/it]\u001b[A\n",
            "Iteration:  15%|█▌        | 107/695 [02:29<12:27,  1.27s/it]\u001b[A\n",
            "Iteration:  16%|█▌        | 108/695 [02:30<12:22,  1.26s/it]\u001b[A\n",
            "Iteration:  16%|█▌        | 109/695 [02:31<12:19,  1.26s/it]\u001b[A\n",
            "Iteration:  16%|█▌        | 110/695 [02:33<12:17,  1.26s/it]\u001b[A"
          ]
        },
        {
          "output_type": "stream",
          "name": "stdout",
          "text": [
            "\tGlobal step: 375 | LR: [6.2562562562562565e-06, 6.2562562562562565e-06] | Avg. loss: 0.322\n"
          ]
        },
        {
          "output_type": "stream",
          "name": "stderr",
          "text": [
            "\n",
            "Iteration:  16%|█▌        | 111/695 [02:34<12:21,  1.27s/it]\u001b[A\n",
            "Iteration:  16%|█▌        | 112/695 [02:35<12:16,  1.26s/it]\u001b[A\n",
            "Iteration:  16%|█▋        | 113/695 [02:36<12:13,  1.26s/it]\u001b[A\n",
            "Iteration:  16%|█▋        | 114/695 [02:38<12:12,  1.26s/it]\u001b[A\n",
            "Iteration:  17%|█▋        | 115/695 [02:39<12:18,  1.27s/it]\u001b[A\n",
            "Iteration:  17%|█▋        | 116/695 [02:40<12:12,  1.26s/it]\u001b[A\n",
            "Iteration:  17%|█▋        | 117/695 [02:42<12:09,  1.26s/it]\u001b[A\n",
            "Iteration:  17%|█▋        | 118/695 [02:43<12:07,  1.26s/it]\u001b[A\n",
            "Iteration:  17%|█▋        | 119/695 [02:44<12:12,  1.27s/it]\u001b[A\n",
            "Iteration:  17%|█▋        | 120/695 [02:45<12:06,  1.26s/it]\u001b[A\n",
            "Iteration:  17%|█▋        | 121/695 [02:47<12:04,  1.26s/it]\u001b[A\n",
            "Iteration:  18%|█▊        | 122/695 [02:48<12:02,  1.26s/it]\u001b[A\n",
            "Iteration:  18%|█▊        | 123/695 [02:49<12:07,  1.27s/it]\u001b[A\n",
            "Iteration:  18%|█▊        | 124/695 [02:50<12:01,  1.26s/it]\u001b[A\n",
            "Iteration:  18%|█▊        | 125/695 [02:52<11:59,  1.26s/it]\u001b[A\n",
            "Iteration:  18%|█▊        | 126/695 [02:53<11:59,  1.26s/it]\u001b[A\n",
            "Iteration:  18%|█▊        | 127/695 [02:54<12:00,  1.27s/it]\u001b[A\n",
            "Iteration:  18%|█▊        | 128/695 [02:55<11:55,  1.26s/it]\u001b[A\n",
            "Iteration:  19%|█▊        | 129/695 [02:57<11:53,  1.26s/it]\u001b[A\n",
            "Iteration:  19%|█▊        | 130/695 [02:58<11:53,  1.26s/it]\u001b[A\n",
            "Iteration:  19%|█▉        | 131/695 [02:59<11:58,  1.27s/it]\u001b[A\n",
            "Iteration:  19%|█▉        | 132/695 [03:01<11:54,  1.27s/it]\u001b[A\n",
            "Iteration:  19%|█▉        | 133/695 [03:02<11:52,  1.27s/it]\u001b[A\n",
            "Iteration:  19%|█▉        | 134/695 [03:03<11:50,  1.27s/it]\u001b[A\n",
            "Iteration:  19%|█▉        | 135/695 [03:04<11:54,  1.28s/it]\u001b[A\n",
            "Iteration:  20%|█▉        | 136/695 [03:06<11:48,  1.27s/it]\u001b[A\n",
            "Iteration:  20%|█▉        | 137/695 [03:07<11:44,  1.26s/it]\u001b[A\n",
            "Iteration:  20%|█▉        | 138/695 [03:08<11:42,  1.26s/it]\u001b[A\n",
            "Iteration:  20%|██        | 139/695 [03:09<11:47,  1.27s/it]\u001b[A\n",
            "Iteration:  20%|██        | 140/695 [03:11<11:41,  1.26s/it]\u001b[A\n",
            "Iteration:  20%|██        | 141/695 [03:12<11:38,  1.26s/it]\u001b[A\n",
            "Iteration:  20%|██        | 142/695 [03:13<11:37,  1.26s/it]\u001b[A\n",
            "Iteration:  21%|██        | 143/695 [03:14<11:39,  1.27s/it]\u001b[A\n",
            "Iteration:  21%|██        | 144/695 [03:16<11:38,  1.27s/it]\u001b[A\n",
            "Iteration:  21%|██        | 145/695 [03:17<11:33,  1.26s/it]\u001b[A\n",
            "Iteration:  21%|██        | 146/695 [03:18<11:32,  1.26s/it]\u001b[A\n",
            "Iteration:  21%|██        | 147/695 [03:20<11:37,  1.27s/it]\u001b[A\n",
            "Iteration:  21%|██▏       | 148/695 [03:21<11:32,  1.27s/it]\u001b[A\n",
            "Iteration:  21%|██▏       | 149/695 [03:22<11:29,  1.26s/it]\u001b[A\n",
            "Iteration:  22%|██▏       | 150/695 [03:23<11:29,  1.27s/it]\u001b[A\n",
            "Iteration:  22%|██▏       | 151/695 [03:25<11:33,  1.27s/it]\u001b[A\n",
            "Iteration:  22%|██▏       | 152/695 [03:26<11:28,  1.27s/it]\u001b[A\n",
            "Iteration:  22%|██▏       | 153/695 [03:27<11:24,  1.26s/it]\u001b[A\n",
            "Iteration:  22%|██▏       | 154/695 [03:28<11:26,  1.27s/it]\u001b[A\n",
            "Iteration:  22%|██▏       | 155/695 [03:30<11:29,  1.28s/it]\u001b[A\n",
            "Iteration:  22%|██▏       | 156/695 [03:31<11:22,  1.27s/it]\u001b[A\n",
            "Iteration:  23%|██▎       | 157/695 [03:32<11:22,  1.27s/it]\u001b[A\n",
            "Iteration:  23%|██▎       | 158/695 [03:33<11:19,  1.27s/it]\u001b[A\n",
            "Iteration:  23%|██▎       | 159/695 [03:35<11:24,  1.28s/it]\u001b[A\n",
            "Iteration:  23%|██▎       | 160/695 [03:36<11:19,  1.27s/it]\u001b[A\n",
            "Iteration:  23%|██▎       | 161/695 [03:37<11:16,  1.27s/it]\u001b[A\n",
            "Iteration:  23%|██▎       | 162/695 [03:39<11:14,  1.26s/it]\u001b[A\n",
            "Iteration:  23%|██▎       | 163/695 [03:40<11:18,  1.28s/it]\u001b[A\n",
            "Iteration:  24%|██▎       | 164/695 [03:41<11:14,  1.27s/it]\u001b[A\n",
            "Iteration:  24%|██▎       | 165/695 [03:42<11:09,  1.26s/it]\u001b[A\n",
            "Iteration:  24%|██▍       | 166/695 [03:44<11:09,  1.27s/it]\u001b[A\n",
            "Iteration:  24%|██▍       | 167/695 [03:45<11:13,  1.28s/it]\u001b[A\n",
            "Iteration:  24%|██▍       | 168/695 [03:46<11:06,  1.27s/it]\u001b[A\n",
            "Iteration:  24%|██▍       | 169/695 [03:47<11:04,  1.26s/it]\u001b[A\n",
            "Iteration:  24%|██▍       | 170/695 [03:49<11:04,  1.27s/it]\u001b[A\n",
            "Iteration:  25%|██▍       | 171/695 [03:50<11:08,  1.28s/it]\u001b[A\n",
            "Iteration:  25%|██▍       | 172/695 [03:51<11:03,  1.27s/it]\u001b[A\n",
            "Iteration:  25%|██▍       | 173/695 [03:53<11:01,  1.27s/it]\u001b[A\n",
            "Iteration:  25%|██▌       | 174/695 [03:54<11:01,  1.27s/it]\u001b[A\n",
            "Iteration:  25%|██▌       | 175/695 [03:55<11:01,  1.27s/it]\u001b[A\n",
            "Iteration:  25%|██▌       | 176/695 [03:56<10:57,  1.27s/it]\u001b[A\n",
            "Iteration:  25%|██▌       | 177/695 [03:58<10:55,  1.27s/it]\u001b[A\n",
            "Iteration:  26%|██▌       | 178/695 [03:59<10:54,  1.27s/it]\u001b[A\n",
            "Iteration:  26%|██▌       | 179/695 [04:00<10:57,  1.27s/it]\u001b[A\n",
            "Iteration:  26%|██▌       | 180/695 [04:01<10:53,  1.27s/it]\u001b[A\n",
            "Iteration:  26%|██▌       | 181/695 [04:03<10:51,  1.27s/it]\u001b[A\n",
            "Iteration:  26%|██▌       | 182/695 [04:04<10:49,  1.27s/it]\u001b[A\n",
            "Iteration:  26%|██▋       | 183/695 [04:05<10:54,  1.28s/it]\u001b[A\n",
            "Iteration:  26%|██▋       | 184/695 [04:06<10:48,  1.27s/it]\u001b[A\n",
            "Iteration:  27%|██▋       | 185/695 [04:08<10:45,  1.26s/it]\u001b[A\n",
            "Iteration:  27%|██▋       | 186/695 [04:09<10:42,  1.26s/it]\u001b[A\n",
            "Iteration:  27%|██▋       | 187/695 [04:10<10:47,  1.28s/it]\u001b[A\n",
            "Iteration:  27%|██▋       | 188/695 [04:12<10:43,  1.27s/it]\u001b[A\n",
            "Iteration:  27%|██▋       | 189/695 [04:13<10:40,  1.27s/it]\u001b[A\n",
            "Iteration:  27%|██▋       | 190/695 [04:14<10:41,  1.27s/it]\u001b[A\n",
            "Iteration:  27%|██▋       | 191/695 [04:15<10:44,  1.28s/it]\u001b[A\n",
            "Iteration:  28%|██▊       | 192/695 [04:17<10:40,  1.27s/it]\u001b[A\n",
            "Iteration:  28%|██▊       | 193/695 [04:18<10:36,  1.27s/it]\u001b[A\n",
            "Iteration:  28%|██▊       | 194/695 [04:19<10:33,  1.26s/it]\u001b[A\n",
            "Iteration:  28%|██▊       | 195/695 [04:20<10:36,  1.27s/it]\u001b[A\n",
            "Iteration:  28%|██▊       | 196/695 [04:22<10:34,  1.27s/it]\u001b[A\n",
            "Iteration:  28%|██▊       | 197/695 [04:23<10:30,  1.27s/it]\u001b[A\n",
            "Iteration:  28%|██▊       | 198/695 [04:24<10:28,  1.27s/it]\u001b[A\n",
            "Iteration:  29%|██▊       | 199/695 [04:26<10:29,  1.27s/it]\u001b[A\n",
            "Iteration:  29%|██▉       | 200/695 [04:27<10:26,  1.27s/it]\u001b[A\n",
            "Iteration:  29%|██▉       | 201/695 [04:28<10:23,  1.26s/it]\u001b[A\n",
            "Iteration:  29%|██▉       | 202/695 [04:29<10:23,  1.26s/it]\u001b[A\n",
            "Iteration:  29%|██▉       | 203/695 [04:31<10:26,  1.27s/it]\u001b[A\n",
            "Iteration:  29%|██▉       | 204/695 [04:32<10:22,  1.27s/it]\u001b[A\n",
            "Iteration:  29%|██▉       | 205/695 [04:33<10:21,  1.27s/it]\u001b[A\n",
            "Iteration:  30%|██▉       | 206/695 [04:34<10:18,  1.26s/it]\u001b[A\n",
            "Iteration:  30%|██▉       | 207/695 [04:36<10:21,  1.27s/it]\u001b[A\n",
            "Iteration:  30%|██▉       | 208/695 [04:37<10:17,  1.27s/it]\u001b[A\n",
            "Iteration:  30%|███       | 209/695 [04:38<10:14,  1.26s/it]\u001b[A"
          ]
        },
        {
          "output_type": "stream",
          "name": "stdout",
          "text": [
            "\tGlobal step: 400 | LR: [6.006006006006007e-06, 6.006006006006007e-06] | Avg. loss: 0.309\n",
            "====================\n",
            "\tEvaluating on valiadtion set!\n"
          ]
        },
        {
          "output_type": "stream",
          "name": "stderr",
          "text": [
            "\n",
            "\n",
            "Evaluating:   0%|          | 0/32 [00:00<?, ?it/s]\u001b[A\u001b[A\n",
            "\n",
            "Evaluating:   3%|▎         | 1/32 [00:01<00:38,  1.24s/it]\u001b[A\u001b[A"
          ]
        },
        {
          "output_type": "stream",
          "name": "stdout",
          "text": [
            "0.9375\n"
          ]
        },
        {
          "output_type": "stream",
          "name": "stderr",
          "text": [
            "\n",
            "\n",
            "Evaluating:   6%|▋         | 2/32 [00:01<00:23,  1.29it/s]\u001b[A\u001b[A"
          ]
        },
        {
          "output_type": "stream",
          "name": "stdout",
          "text": [
            "0.84375\n"
          ]
        },
        {
          "output_type": "stream",
          "name": "stderr",
          "text": [
            "\n",
            "\n",
            "Evaluating:   9%|▉         | 3/32 [00:02<00:18,  1.60it/s]\u001b[A\u001b[A"
          ]
        },
        {
          "output_type": "stream",
          "name": "stdout",
          "text": [
            "0.84375\n"
          ]
        },
        {
          "output_type": "stream",
          "name": "stderr",
          "text": [
            "\n",
            "\n",
            "Evaluating:  12%|█▎        | 4/32 [00:02<00:15,  1.81it/s]\u001b[A\u001b[A"
          ]
        },
        {
          "output_type": "stream",
          "name": "stdout",
          "text": [
            "0.8125\n"
          ]
        },
        {
          "output_type": "stream",
          "name": "stderr",
          "text": [
            "\n",
            "\n",
            "Evaluating:  16%|█▌        | 5/32 [00:03<00:13,  1.96it/s]\u001b[A\u001b[A"
          ]
        },
        {
          "output_type": "stream",
          "name": "stdout",
          "text": [
            "0.875\n"
          ]
        },
        {
          "output_type": "stream",
          "name": "stderr",
          "text": [
            "\n",
            "\n",
            "Evaluating:  19%|█▉        | 6/32 [00:03<00:12,  2.06it/s]\u001b[A\u001b[A"
          ]
        },
        {
          "output_type": "stream",
          "name": "stdout",
          "text": [
            "0.84375\n"
          ]
        },
        {
          "output_type": "stream",
          "name": "stderr",
          "text": [
            "\n",
            "\n",
            "Evaluating:  22%|██▏       | 7/32 [00:03<00:11,  2.12it/s]\u001b[A\u001b[A"
          ]
        },
        {
          "output_type": "stream",
          "name": "stdout",
          "text": [
            "0.84375\n"
          ]
        },
        {
          "output_type": "stream",
          "name": "stderr",
          "text": [
            "\n",
            "\n",
            "Evaluating:  25%|██▌       | 8/32 [00:04<00:11,  2.16it/s]\u001b[A\u001b[A"
          ]
        },
        {
          "output_type": "stream",
          "name": "stdout",
          "text": [
            "0.90625\n"
          ]
        },
        {
          "output_type": "stream",
          "name": "stderr",
          "text": [
            "\n",
            "\n",
            "Evaluating:  28%|██▊       | 9/32 [00:04<00:10,  2.20it/s]\u001b[A\u001b[A"
          ]
        },
        {
          "output_type": "stream",
          "name": "stdout",
          "text": [
            "0.8125\n"
          ]
        },
        {
          "output_type": "stream",
          "name": "stderr",
          "text": [
            "\n",
            "\n",
            "Evaluating:  31%|███▏      | 10/32 [00:05<00:09,  2.22it/s]\u001b[A\u001b[A"
          ]
        },
        {
          "output_type": "stream",
          "name": "stdout",
          "text": [
            "0.875\n"
          ]
        },
        {
          "output_type": "stream",
          "name": "stderr",
          "text": [
            "\n",
            "\n",
            "Evaluating:  34%|███▍      | 11/32 [00:05<00:09,  2.23it/s]\u001b[A\u001b[A"
          ]
        },
        {
          "output_type": "stream",
          "name": "stdout",
          "text": [
            "0.9375\n"
          ]
        },
        {
          "output_type": "stream",
          "name": "stderr",
          "text": [
            "\n",
            "\n",
            "Evaluating:  38%|███▊      | 12/32 [00:06<00:08,  2.25it/s]\u001b[A\u001b[A"
          ]
        },
        {
          "output_type": "stream",
          "name": "stdout",
          "text": [
            "0.90625\n"
          ]
        },
        {
          "output_type": "stream",
          "name": "stderr",
          "text": [
            "\n",
            "\n",
            "Evaluating:  41%|████      | 13/32 [00:06<00:08,  2.26it/s]\u001b[A\u001b[A"
          ]
        },
        {
          "output_type": "stream",
          "name": "stdout",
          "text": [
            "0.84375\n"
          ]
        },
        {
          "output_type": "stream",
          "name": "stderr",
          "text": [
            "\n",
            "\n",
            "Evaluating:  44%|████▍     | 14/32 [00:06<00:07,  2.25it/s]\u001b[A\u001b[A"
          ]
        },
        {
          "output_type": "stream",
          "name": "stdout",
          "text": [
            "0.90625\n"
          ]
        },
        {
          "output_type": "stream",
          "name": "stderr",
          "text": [
            "\n",
            "\n",
            "Evaluating:  47%|████▋     | 15/32 [00:07<00:07,  2.26it/s]\u001b[A\u001b[A"
          ]
        },
        {
          "output_type": "stream",
          "name": "stdout",
          "text": [
            "0.78125\n"
          ]
        },
        {
          "output_type": "stream",
          "name": "stderr",
          "text": [
            "\n",
            "\n",
            "Evaluating:  50%|█████     | 16/32 [00:07<00:07,  2.27it/s]\u001b[A\u001b[A"
          ]
        },
        {
          "output_type": "stream",
          "name": "stdout",
          "text": [
            "0.875\n"
          ]
        },
        {
          "output_type": "stream",
          "name": "stderr",
          "text": [
            "\n",
            "\n",
            "Evaluating:  53%|█████▎    | 17/32 [00:08<00:06,  2.27it/s]\u001b[A\u001b[A"
          ]
        },
        {
          "output_type": "stream",
          "name": "stdout",
          "text": [
            "0.90625\n"
          ]
        },
        {
          "output_type": "stream",
          "name": "stderr",
          "text": [
            "\n",
            "\n",
            "Evaluating:  56%|█████▋    | 18/32 [00:08<00:06,  2.26it/s]\u001b[A\u001b[A"
          ]
        },
        {
          "output_type": "stream",
          "name": "stdout",
          "text": [
            "0.875\n"
          ]
        },
        {
          "output_type": "stream",
          "name": "stderr",
          "text": [
            "\n",
            "\n",
            "Evaluating:  59%|█████▉    | 19/32 [00:09<00:05,  2.25it/s]\u001b[A\u001b[A"
          ]
        },
        {
          "output_type": "stream",
          "name": "stdout",
          "text": [
            "0.875\n"
          ]
        },
        {
          "output_type": "stream",
          "name": "stderr",
          "text": [
            "\n",
            "\n",
            "Evaluating:  62%|██████▎   | 20/32 [00:09<00:05,  2.26it/s]\u001b[A\u001b[A"
          ]
        },
        {
          "output_type": "stream",
          "name": "stdout",
          "text": [
            "0.875\n"
          ]
        },
        {
          "output_type": "stream",
          "name": "stderr",
          "text": [
            "\n",
            "\n",
            "Evaluating:  66%|██████▌   | 21/32 [00:10<00:04,  2.26it/s]\u001b[A\u001b[A"
          ]
        },
        {
          "output_type": "stream",
          "name": "stdout",
          "text": [
            "0.75\n"
          ]
        },
        {
          "output_type": "stream",
          "name": "stderr",
          "text": [
            "\n",
            "\n",
            "Evaluating:  69%|██████▉   | 22/32 [00:10<00:04,  2.27it/s]\u001b[A\u001b[A"
          ]
        },
        {
          "output_type": "stream",
          "name": "stdout",
          "text": [
            "0.78125\n"
          ]
        },
        {
          "output_type": "stream",
          "name": "stderr",
          "text": [
            "\n",
            "\n",
            "Evaluating:  72%|███████▏  | 23/32 [00:10<00:03,  2.27it/s]\u001b[A\u001b[A"
          ]
        },
        {
          "output_type": "stream",
          "name": "stdout",
          "text": [
            "0.875\n"
          ]
        },
        {
          "output_type": "stream",
          "name": "stderr",
          "text": [
            "\n",
            "\n",
            "Evaluating:  75%|███████▌  | 24/32 [00:11<00:03,  2.27it/s]\u001b[A\u001b[A"
          ]
        },
        {
          "output_type": "stream",
          "name": "stdout",
          "text": [
            "0.78125\n"
          ]
        },
        {
          "output_type": "stream",
          "name": "stderr",
          "text": [
            "\n",
            "\n",
            "Evaluating:  78%|███████▊  | 25/32 [00:11<00:03,  2.27it/s]\u001b[A\u001b[A"
          ]
        },
        {
          "output_type": "stream",
          "name": "stdout",
          "text": [
            "0.78125\n"
          ]
        },
        {
          "output_type": "stream",
          "name": "stderr",
          "text": [
            "\n",
            "\n",
            "Evaluating:  81%|████████▏ | 26/32 [00:12<00:02,  2.26it/s]\u001b[A\u001b[A"
          ]
        },
        {
          "output_type": "stream",
          "name": "stdout",
          "text": [
            "0.8125\n"
          ]
        },
        {
          "output_type": "stream",
          "name": "stderr",
          "text": [
            "\n",
            "\n",
            "Evaluating:  84%|████████▍ | 27/32 [00:12<00:02,  2.27it/s]\u001b[A\u001b[A"
          ]
        },
        {
          "output_type": "stream",
          "name": "stdout",
          "text": [
            "0.84375\n"
          ]
        },
        {
          "output_type": "stream",
          "name": "stderr",
          "text": [
            "\n",
            "\n",
            "Evaluating:  88%|████████▊ | 28/32 [00:13<00:01,  2.28it/s]\u001b[A\u001b[A"
          ]
        },
        {
          "output_type": "stream",
          "name": "stdout",
          "text": [
            "0.84375\n"
          ]
        },
        {
          "output_type": "stream",
          "name": "stderr",
          "text": [
            "\n",
            "\n",
            "Evaluating:  91%|█████████ | 29/32 [00:13<00:01,  2.27it/s]\u001b[A\u001b[A"
          ]
        },
        {
          "output_type": "stream",
          "name": "stdout",
          "text": [
            "0.78125\n"
          ]
        },
        {
          "output_type": "stream",
          "name": "stderr",
          "text": [
            "\n",
            "\n",
            "Evaluating:  94%|█████████▍| 30/32 [00:14<00:00,  2.27it/s]\u001b[A\u001b[A"
          ]
        },
        {
          "output_type": "stream",
          "name": "stdout",
          "text": [
            "0.78125\n"
          ]
        },
        {
          "output_type": "stream",
          "name": "stderr",
          "text": [
            "\n",
            "\n",
            "Evaluating:  97%|█████████▋| 31/32 [00:14<00:00,  2.27it/s]\u001b[A\u001b[A\n",
            "\n",
            "Evaluating: 100%|██████████| 32/32 [00:14<00:00,  2.19it/s]"
          ]
        },
        {
          "output_type": "stream",
          "name": "stdout",
          "text": [
            "0.78125\n",
            "1.0\n",
            "== Finished evaluating model: next_sentence_cls_0 ==\n",
            "\tMean evaluation acc: 0.850\n"
          ]
        },
        {
          "output_type": "stream",
          "name": "stderr",
          "text": [
            "\n",
            "\n",
            "Iteration:  30%|███       | 210/695 [05:05<1:11:51,  8.89s/it]\u001b[A"
          ]
        },
        {
          "output_type": "stream",
          "name": "stdout",
          "text": [
            "\tEvaluation accuracy: 0.850 | Stale count: 0\n",
            "====================\n"
          ]
        },
        {
          "output_type": "stream",
          "name": "stderr",
          "text": [
            "\n",
            "Iteration:  30%|███       | 211/695 [05:05<51:30,  6.38s/it]  \u001b[A\n",
            "Iteration:  31%|███       | 212/695 [05:07<38:56,  4.84s/it]\u001b[A\n",
            "Iteration:  31%|███       | 213/695 [05:08<30:08,  3.75s/it]\u001b[A\n",
            "Iteration:  31%|███       | 214/695 [05:09<24:02,  3.00s/it]\u001b[A\n",
            "Iteration:  31%|███       | 215/695 [05:10<19:52,  2.48s/it]\u001b[A\n",
            "Iteration:  31%|███       | 216/695 [05:12<16:50,  2.11s/it]\u001b[A\n",
            "Iteration:  31%|███       | 217/695 [05:13<14:44,  1.85s/it]\u001b[A\n",
            "Iteration:  31%|███▏      | 218/695 [05:14<13:18,  1.67s/it]\u001b[A\n",
            "Iteration:  32%|███▏      | 219/695 [05:15<12:21,  1.56s/it]\u001b[A\n",
            "Iteration:  32%|███▏      | 220/695 [05:17<11:34,  1.46s/it]\u001b[A\n",
            "Iteration:  32%|███▏      | 221/695 [05:18<11:05,  1.40s/it]\u001b[A\n",
            "Iteration:  32%|███▏      | 222/695 [05:19<10:44,  1.36s/it]\u001b[A\n",
            "Iteration:  32%|███▏      | 223/695 [05:20<10:34,  1.34s/it]\u001b[A\n",
            "Iteration:  32%|███▏      | 224/695 [05:22<10:23,  1.32s/it]\u001b[A\n",
            "Iteration:  32%|███▏      | 225/695 [05:23<10:15,  1.31s/it]\u001b[A\n",
            "Iteration:  33%|███▎      | 226/695 [05:24<10:08,  1.30s/it]\u001b[A\n",
            "Iteration:  33%|███▎      | 227/695 [05:26<10:10,  1.30s/it]\u001b[A\n",
            "Iteration:  33%|███▎      | 228/695 [05:27<10:04,  1.29s/it]\u001b[A\n",
            "Iteration:  33%|███▎      | 229/695 [05:28<10:02,  1.29s/it]\u001b[A\n",
            "Iteration:  33%|███▎      | 230/695 [05:29<10:03,  1.30s/it]\u001b[A\n",
            "Iteration:  33%|███▎      | 231/695 [05:31<10:06,  1.31s/it]\u001b[A\n",
            "Iteration:  33%|███▎      | 232/695 [05:32<10:02,  1.30s/it]\u001b[A\n",
            "Iteration:  34%|███▎      | 233/695 [05:33<10:00,  1.30s/it]\u001b[A\n",
            "Iteration:  34%|███▎      | 234/695 [05:35<09:58,  1.30s/it]\u001b[A\n",
            "Iteration:  34%|███▍      | 235/695 [05:36<10:00,  1.31s/it]\u001b[A\n",
            "Iteration:  34%|███▍      | 236/695 [05:37<09:56,  1.30s/it]\u001b[A\n",
            "Iteration:  34%|███▍      | 237/695 [05:39<09:53,  1.30s/it]\u001b[A\n",
            "Iteration:  34%|███▍      | 238/695 [05:40<09:53,  1.30s/it]\u001b[A\n",
            "Iteration:  34%|███▍      | 239/695 [05:41<09:56,  1.31s/it]\u001b[A\n",
            "Iteration:  35%|███▍      | 240/695 [05:43<09:50,  1.30s/it]\u001b[A\n",
            "Iteration:  35%|███▍      | 241/695 [05:44<09:45,  1.29s/it]\u001b[A\n",
            "Iteration:  35%|███▍      | 242/695 [05:45<09:42,  1.29s/it]\u001b[A\n",
            "Iteration:  35%|███▍      | 243/695 [05:46<09:46,  1.30s/it]\u001b[A\n",
            "Iteration:  35%|███▌      | 244/695 [05:48<09:39,  1.28s/it]\u001b[A\n",
            "Iteration:  35%|███▌      | 245/695 [05:49<09:36,  1.28s/it]\u001b[A\n",
            "Iteration:  35%|███▌      | 246/695 [05:50<09:34,  1.28s/it]\u001b[A\n",
            "Iteration:  36%|███▌      | 247/695 [05:51<09:37,  1.29s/it]\u001b[A\n",
            "Iteration:  36%|███▌      | 248/695 [05:53<09:34,  1.28s/it]\u001b[A\n",
            "Iteration:  36%|███▌      | 249/695 [05:54<09:29,  1.28s/it]\u001b[A\n",
            "Iteration:  36%|███▌      | 250/695 [05:55<09:30,  1.28s/it]\u001b[A\n",
            "Iteration:  36%|███▌      | 251/695 [05:57<09:29,  1.28s/it]\u001b[A\n",
            "Iteration:  36%|███▋      | 252/695 [05:58<09:24,  1.27s/it]\u001b[A\n",
            "Iteration:  36%|███▋      | 253/695 [05:59<09:22,  1.27s/it]\u001b[A\n",
            "Iteration:  37%|███▋      | 254/695 [06:00<09:20,  1.27s/it]\u001b[A\n",
            "Iteration:  37%|███▋      | 255/695 [06:02<09:22,  1.28s/it]\u001b[A\n",
            "Iteration:  37%|███▋      | 256/695 [06:03<09:16,  1.27s/it]\u001b[A\n",
            "Iteration:  37%|███▋      | 257/695 [06:04<09:13,  1.26s/it]\u001b[A\n",
            "Iteration:  37%|███▋      | 258/695 [06:05<09:13,  1.27s/it]\u001b[A\n",
            "Iteration:  37%|███▋      | 259/695 [06:07<09:15,  1.27s/it]\u001b[A\n",
            "Iteration:  37%|███▋      | 260/695 [06:08<09:09,  1.26s/it]\u001b[A\n",
            "Iteration:  38%|███▊      | 261/695 [06:09<09:07,  1.26s/it]\u001b[A\n",
            "Iteration:  38%|███▊      | 262/695 [06:11<09:06,  1.26s/it]\u001b[A\n",
            "Iteration:  38%|███▊      | 263/695 [06:12<09:08,  1.27s/it]\u001b[A\n",
            "Iteration:  38%|███▊      | 264/695 [06:13<09:05,  1.27s/it]\u001b[A\n",
            "Iteration:  38%|███▊      | 265/695 [06:14<09:02,  1.26s/it]\u001b[A\n",
            "Iteration:  38%|███▊      | 266/695 [06:16<09:01,  1.26s/it]\u001b[A\n",
            "Iteration:  38%|███▊      | 267/695 [06:17<09:03,  1.27s/it]\u001b[A\n",
            "Iteration:  39%|███▊      | 268/695 [06:18<08:59,  1.26s/it]\u001b[A\n",
            "Iteration:  39%|███▊      | 269/695 [06:19<08:56,  1.26s/it]\u001b[A\n",
            "Iteration:  39%|███▉      | 270/695 [06:21<08:55,  1.26s/it]\u001b[A\n",
            "Iteration:  39%|███▉      | 271/695 [06:22<08:56,  1.27s/it]\u001b[A\n",
            "Iteration:  39%|███▉      | 272/695 [06:23<08:53,  1.26s/it]\u001b[A\n",
            "Iteration:  39%|███▉      | 273/695 [06:24<08:51,  1.26s/it]\u001b[A\n",
            "Iteration:  39%|███▉      | 274/695 [06:26<08:50,  1.26s/it]\u001b[A\n",
            "Iteration:  40%|███▉      | 275/695 [06:27<08:52,  1.27s/it]\u001b[A\n",
            "Iteration:  40%|███▉      | 276/695 [06:28<08:46,  1.26s/it]\u001b[A\n",
            "Iteration:  40%|███▉      | 277/695 [06:29<08:44,  1.25s/it]\u001b[A\n",
            "Iteration:  40%|████      | 278/695 [06:31<08:45,  1.26s/it]\u001b[A\n",
            "Iteration:  40%|████      | 279/695 [06:32<08:46,  1.26s/it]\u001b[A\n",
            "Iteration:  40%|████      | 280/695 [06:33<08:43,  1.26s/it]\u001b[A\n",
            "Iteration:  40%|████      | 281/695 [06:34<08:41,  1.26s/it]\u001b[A\n",
            "Iteration:  41%|████      | 282/695 [06:36<08:39,  1.26s/it]\u001b[A\n",
            "Iteration:  41%|████      | 283/695 [06:37<08:41,  1.27s/it]\u001b[A\n",
            "Iteration:  41%|████      | 284/695 [06:38<08:38,  1.26s/it]\u001b[A\n",
            "Iteration:  41%|████      | 285/695 [06:40<08:35,  1.26s/it]\u001b[A\n",
            "Iteration:  41%|████      | 286/695 [06:41<08:34,  1.26s/it]\u001b[A\n",
            "Iteration:  41%|████▏     | 287/695 [06:42<08:37,  1.27s/it]\u001b[A\n",
            "Iteration:  41%|████▏     | 288/695 [06:43<08:33,  1.26s/it]\u001b[A\n",
            "Iteration:  42%|████▏     | 289/695 [06:45<08:29,  1.25s/it]\u001b[A\n",
            "Iteration:  42%|████▏     | 290/695 [06:46<08:28,  1.26s/it]\u001b[A\n",
            "Iteration:  42%|████▏     | 291/695 [06:47<08:31,  1.27s/it]\u001b[A\n",
            "Iteration:  42%|████▏     | 292/695 [06:48<08:29,  1.26s/it]\u001b[A\n",
            "Iteration:  42%|████▏     | 293/695 [06:50<08:26,  1.26s/it]\u001b[A\n",
            "Iteration:  42%|████▏     | 294/695 [06:51<08:24,  1.26s/it]\u001b[A\n",
            "Iteration:  42%|████▏     | 295/695 [06:52<08:26,  1.27s/it]\u001b[A\n",
            "Iteration:  43%|████▎     | 296/695 [06:53<08:23,  1.26s/it]\u001b[A\n",
            "Iteration:  43%|████▎     | 297/695 [06:55<08:21,  1.26s/it]\u001b[A\n",
            "Iteration:  43%|████▎     | 298/695 [06:56<08:22,  1.27s/it]\u001b[A\n",
            "Iteration:  43%|████▎     | 299/695 [06:57<08:22,  1.27s/it]\u001b[A\n",
            "Iteration:  43%|████▎     | 300/695 [06:58<08:19,  1.26s/it]\u001b[A\n",
            "Iteration:  43%|████▎     | 301/695 [07:00<08:19,  1.27s/it]\u001b[A\n",
            "Iteration:  43%|████▎     | 302/695 [07:01<08:17,  1.27s/it]\u001b[A\n",
            "Iteration:  44%|████▎     | 303/695 [07:02<08:20,  1.28s/it]\u001b[A\n",
            "Iteration:  44%|████▎     | 304/695 [07:04<08:17,  1.27s/it]\u001b[A\n",
            "Iteration:  44%|████▍     | 305/695 [07:05<08:15,  1.27s/it]\u001b[A\n",
            "Iteration:  44%|████▍     | 306/695 [07:06<08:13,  1.27s/it]\u001b[A\n",
            "Iteration:  44%|████▍     | 307/695 [07:07<08:16,  1.28s/it]\u001b[A\n",
            "Iteration:  44%|████▍     | 308/695 [07:09<08:12,  1.27s/it]\u001b[A\n",
            "Iteration:  44%|████▍     | 309/695 [07:10<08:09,  1.27s/it]\u001b[A\n",
            "Iteration:  45%|████▍     | 310/695 [07:11<08:09,  1.27s/it]\u001b[A"
          ]
        },
        {
          "output_type": "stream",
          "name": "stdout",
          "text": [
            "\tGlobal step: 425 | LR: [5.755755755755756e-06, 5.755755755755756e-06] | Avg. loss: 0.301\n"
          ]
        },
        {
          "output_type": "stream",
          "name": "stderr",
          "text": [
            "\n",
            "Iteration:  45%|████▍     | 311/695 [07:12<08:11,  1.28s/it]\u001b[A\n",
            "Iteration:  45%|████▍     | 312/695 [07:14<08:08,  1.27s/it]\u001b[A\n",
            "Iteration:  45%|████▌     | 313/695 [07:15<08:06,  1.27s/it]\u001b[A\n",
            "Iteration:  45%|████▌     | 314/695 [07:16<08:06,  1.28s/it]\u001b[A\n",
            "Iteration:  45%|████▌     | 315/695 [07:18<08:07,  1.28s/it]\u001b[A\n",
            "Iteration:  45%|████▌     | 316/695 [07:19<08:04,  1.28s/it]\u001b[A\n",
            "Iteration:  46%|████▌     | 317/695 [07:20<08:03,  1.28s/it]\u001b[A\n",
            "Iteration:  46%|████▌     | 318/695 [07:21<07:59,  1.27s/it]\u001b[A\n",
            "Iteration:  46%|████▌     | 319/695 [07:23<08:01,  1.28s/it]\u001b[A\n",
            "Iteration:  46%|████▌     | 320/695 [07:24<07:55,  1.27s/it]\u001b[A\n",
            "Iteration:  46%|████▌     | 321/695 [07:25<07:52,  1.26s/it]\u001b[A\n",
            "Iteration:  46%|████▋     | 322/695 [07:26<07:51,  1.26s/it]\u001b[A\n",
            "Iteration:  46%|████▋     | 323/695 [07:28<07:55,  1.28s/it]\u001b[A\n",
            "Iteration:  47%|████▋     | 324/695 [07:29<07:50,  1.27s/it]\u001b[A\n",
            "Iteration:  47%|████▋     | 325/695 [07:30<07:49,  1.27s/it]\u001b[A\n",
            "Iteration:  47%|████▋     | 326/695 [07:32<07:48,  1.27s/it]\u001b[A\n",
            "Iteration:  47%|████▋     | 327/695 [07:33<07:49,  1.28s/it]\u001b[A\n",
            "Iteration:  47%|████▋     | 328/695 [07:34<07:46,  1.27s/it]\u001b[A\n",
            "Iteration:  47%|████▋     | 329/695 [07:35<07:43,  1.27s/it]\u001b[A\n",
            "Iteration:  47%|████▋     | 330/695 [07:37<07:43,  1.27s/it]\u001b[A\n",
            "Iteration:  48%|████▊     | 331/695 [07:38<07:44,  1.28s/it]\u001b[A\n",
            "Iteration:  48%|████▊     | 332/695 [07:39<07:40,  1.27s/it]\u001b[A\n",
            "Iteration:  48%|████▊     | 333/695 [07:40<07:38,  1.27s/it]\u001b[A\n",
            "Iteration:  48%|████▊     | 334/695 [07:42<07:36,  1.26s/it]\u001b[A\n",
            "Iteration:  48%|████▊     | 335/695 [07:43<07:37,  1.27s/it]\u001b[A\n",
            "Iteration:  48%|████▊     | 336/695 [07:44<07:35,  1.27s/it]\u001b[A\n",
            "Iteration:  48%|████▊     | 337/695 [07:46<07:33,  1.27s/it]\u001b[A\n",
            "Iteration:  49%|████▊     | 338/695 [07:47<07:31,  1.26s/it]\u001b[A\n",
            "Iteration:  49%|████▉     | 339/695 [07:48<07:32,  1.27s/it]\u001b[A\n",
            "Iteration:  49%|████▉     | 340/695 [07:49<07:29,  1.27s/it]\u001b[A\n",
            "Iteration:  49%|████▉     | 341/695 [07:51<07:26,  1.26s/it]\u001b[A\n",
            "Iteration:  49%|████▉     | 342/695 [07:52<07:25,  1.26s/it]\u001b[A\n",
            "Iteration:  49%|████▉     | 343/695 [07:53<07:26,  1.27s/it]\u001b[A\n",
            "Iteration:  49%|████▉     | 344/695 [07:54<07:23,  1.26s/it]\u001b[A\n",
            "Iteration:  50%|████▉     | 345/695 [07:56<07:21,  1.26s/it]\u001b[A\n",
            "Iteration:  50%|████▉     | 346/695 [07:57<07:19,  1.26s/it]\u001b[A\n",
            "Iteration:  50%|████▉     | 347/695 [07:58<07:22,  1.27s/it]\u001b[A\n",
            "Iteration:  50%|█████     | 348/695 [07:59<07:18,  1.26s/it]\u001b[A\n",
            "Iteration:  50%|█████     | 349/695 [08:01<07:15,  1.26s/it]\u001b[A\n",
            "Iteration:  50%|█████     | 350/695 [08:02<07:16,  1.26s/it]\u001b[A\n",
            "Iteration:  51%|█████     | 351/695 [08:03<07:17,  1.27s/it]\u001b[A\n",
            "Iteration:  51%|█████     | 352/695 [08:05<07:14,  1.27s/it]\u001b[A\n",
            "Iteration:  51%|█████     | 353/695 [08:06<07:12,  1.27s/it]\u001b[A\n",
            "Iteration:  51%|█████     | 354/695 [08:07<07:13,  1.27s/it]\u001b[A\n",
            "Iteration:  51%|█████     | 355/695 [08:08<07:14,  1.28s/it]\u001b[A\n",
            "Iteration:  51%|█████     | 356/695 [08:10<07:09,  1.27s/it]\u001b[A\n",
            "Iteration:  51%|█████▏    | 357/695 [08:11<07:05,  1.26s/it]\u001b[A\n",
            "Iteration:  52%|█████▏    | 358/695 [08:12<07:05,  1.26s/it]\u001b[A\n",
            "Iteration:  52%|█████▏    | 359/695 [08:13<07:05,  1.27s/it]\u001b[A\n",
            "Iteration:  52%|█████▏    | 360/695 [08:15<07:03,  1.26s/it]\u001b[A\n",
            "Iteration:  52%|█████▏    | 361/695 [08:16<07:01,  1.26s/it]\u001b[A\n",
            "Iteration:  52%|█████▏    | 362/695 [08:17<07:00,  1.26s/it]\u001b[A\n",
            "Iteration:  52%|█████▏    | 363/695 [08:18<07:01,  1.27s/it]\u001b[A\n",
            "Iteration:  52%|█████▏    | 364/695 [08:20<06:59,  1.27s/it]\u001b[A\n",
            "Iteration:  53%|█████▎    | 365/695 [08:21<06:56,  1.26s/it]\u001b[A\n",
            "Iteration:  53%|█████▎    | 366/695 [08:22<06:55,  1.26s/it]\u001b[A\n",
            "Iteration:  53%|█████▎    | 367/695 [08:24<06:57,  1.27s/it]\u001b[A\n",
            "Iteration:  53%|█████▎    | 368/695 [08:25<06:53,  1.27s/it]\u001b[A\n",
            "Iteration:  53%|█████▎    | 369/695 [08:26<06:51,  1.26s/it]\u001b[A\n",
            "Iteration:  53%|█████▎    | 370/695 [08:27<06:49,  1.26s/it]\u001b[A\n",
            "Iteration:  53%|█████▎    | 371/695 [08:29<06:51,  1.27s/it]\u001b[A\n",
            "Iteration:  54%|█████▎    | 372/695 [08:30<06:48,  1.27s/it]\u001b[A\n",
            "Iteration:  54%|█████▎    | 373/695 [08:31<06:48,  1.27s/it]\u001b[A\n",
            "Iteration:  54%|█████▍    | 374/695 [08:32<06:47,  1.27s/it]\u001b[A\n",
            "Iteration:  54%|█████▍    | 375/695 [08:34<06:46,  1.27s/it]\u001b[A\n",
            "Iteration:  54%|█████▍    | 376/695 [08:35<06:43,  1.27s/it]\u001b[A\n",
            "Iteration:  54%|█████▍    | 377/695 [08:36<06:41,  1.26s/it]\u001b[A\n",
            "Iteration:  54%|█████▍    | 378/695 [08:37<06:39,  1.26s/it]\u001b[A\n",
            "Iteration:  55%|█████▍    | 379/695 [08:39<06:42,  1.27s/it]\u001b[A\n",
            "Iteration:  55%|█████▍    | 380/695 [08:40<06:38,  1.27s/it]\u001b[A\n",
            "Iteration:  55%|█████▍    | 381/695 [08:41<06:37,  1.27s/it]\u001b[A\n",
            "Iteration:  55%|█████▍    | 382/695 [08:42<06:35,  1.26s/it]\u001b[A\n",
            "Iteration:  55%|█████▌    | 383/695 [08:44<06:38,  1.28s/it]\u001b[A\n",
            "Iteration:  55%|█████▌    | 384/695 [08:45<06:34,  1.27s/it]\u001b[A\n",
            "Iteration:  55%|█████▌    | 385/695 [08:46<06:31,  1.26s/it]\u001b[A\n",
            "Iteration:  56%|█████▌    | 386/695 [08:48<06:28,  1.26s/it]\u001b[A\n",
            "Iteration:  56%|█████▌    | 387/695 [08:49<06:31,  1.27s/it]\u001b[A\n",
            "Iteration:  56%|█████▌    | 388/695 [08:50<06:28,  1.27s/it]\u001b[A\n",
            "Iteration:  56%|█████▌    | 389/695 [08:51<06:26,  1.26s/it]\u001b[A\n",
            "Iteration:  56%|█████▌    | 390/695 [08:53<06:25,  1.26s/it]\u001b[A\n",
            "Iteration:  56%|█████▋    | 391/695 [08:54<06:27,  1.27s/it]\u001b[A\n",
            "Iteration:  56%|█████▋    | 392/695 [08:55<06:23,  1.27s/it]\u001b[A\n",
            "Iteration:  57%|█████▋    | 393/695 [08:56<06:22,  1.27s/it]\u001b[A\n",
            "Iteration:  57%|█████▋    | 394/695 [08:58<06:20,  1.26s/it]\u001b[A\n",
            "Iteration:  57%|█████▋    | 395/695 [08:59<06:20,  1.27s/it]\u001b[A\n",
            "Iteration:  57%|█████▋    | 396/695 [09:00<06:18,  1.27s/it]\u001b[A\n",
            "Iteration:  57%|█████▋    | 397/695 [09:01<06:15,  1.26s/it]\u001b[A\n",
            "Iteration:  57%|█████▋    | 398/695 [09:03<06:15,  1.26s/it]\u001b[A\n",
            "Iteration:  57%|█████▋    | 399/695 [09:04<06:16,  1.27s/it]\u001b[A\n",
            "Iteration:  58%|█████▊    | 400/695 [09:05<06:14,  1.27s/it]\u001b[A\n",
            "Iteration:  58%|█████▊    | 401/695 [09:07<06:12,  1.27s/it]\u001b[A\n",
            "Iteration:  58%|█████▊    | 402/695 [09:08<06:12,  1.27s/it]\u001b[A\n",
            "Iteration:  58%|█████▊    | 403/695 [09:09<06:12,  1.28s/it]\u001b[A\n",
            "Iteration:  58%|█████▊    | 404/695 [09:10<06:08,  1.27s/it]\u001b[A\n",
            "Iteration:  58%|█████▊    | 405/695 [09:12<06:06,  1.26s/it]\u001b[A\n",
            "Iteration:  58%|█████▊    | 406/695 [09:13<06:05,  1.27s/it]\u001b[A\n",
            "Iteration:  59%|█████▊    | 407/695 [09:14<06:06,  1.27s/it]\u001b[A\n",
            "Iteration:  59%|█████▊    | 408/695 [09:15<06:04,  1.27s/it]\u001b[A\n",
            "Iteration:  59%|█████▉    | 409/695 [09:17<06:01,  1.26s/it]\u001b[A"
          ]
        },
        {
          "output_type": "stream",
          "name": "stdout",
          "text": [
            "\tGlobal step: 450 | LR: [5.505505505505506e-06, 5.505505505505506e-06] | Avg. loss: 0.302\n",
            "====================\n",
            "\tEvaluating on valiadtion set!\n"
          ]
        },
        {
          "output_type": "stream",
          "name": "stderr",
          "text": [
            "\n",
            "\n",
            "Evaluating:   0%|          | 0/32 [00:00<?, ?it/s]\u001b[A\u001b[A\n",
            "\n",
            "Evaluating:   3%|▎         | 1/32 [00:01<00:38,  1.24s/it]\u001b[A\u001b[A"
          ]
        },
        {
          "output_type": "stream",
          "name": "stdout",
          "text": [
            "0.9375\n"
          ]
        },
        {
          "output_type": "stream",
          "name": "stderr",
          "text": [
            "\n",
            "\n",
            "Evaluating:   6%|▋         | 2/32 [00:01<00:23,  1.30it/s]\u001b[A\u001b[A"
          ]
        },
        {
          "output_type": "stream",
          "name": "stdout",
          "text": [
            "0.875\n"
          ]
        },
        {
          "output_type": "stream",
          "name": "stderr",
          "text": [
            "\n",
            "\n",
            "Evaluating:   9%|▉         | 3/32 [00:02<00:18,  1.61it/s]\u001b[A\u001b[A"
          ]
        },
        {
          "output_type": "stream",
          "name": "stdout",
          "text": [
            "0.875\n"
          ]
        },
        {
          "output_type": "stream",
          "name": "stderr",
          "text": [
            "\n",
            "\n",
            "Evaluating:  12%|█▎        | 4/32 [00:02<00:15,  1.81it/s]\u001b[A\u001b[A"
          ]
        },
        {
          "output_type": "stream",
          "name": "stdout",
          "text": [
            "0.8125\n"
          ]
        },
        {
          "output_type": "stream",
          "name": "stderr",
          "text": [
            "\n",
            "\n",
            "Evaluating:  16%|█▌        | 5/32 [00:03<00:13,  1.96it/s]\u001b[A\u001b[A"
          ]
        },
        {
          "output_type": "stream",
          "name": "stdout",
          "text": [
            "0.875\n"
          ]
        },
        {
          "output_type": "stream",
          "name": "stderr",
          "text": [
            "\n",
            "\n",
            "Evaluating:  19%|█▉        | 6/32 [00:03<00:12,  2.06it/s]\u001b[A\u001b[A"
          ]
        },
        {
          "output_type": "stream",
          "name": "stdout",
          "text": [
            "0.84375\n"
          ]
        },
        {
          "output_type": "stream",
          "name": "stderr",
          "text": [
            "\n",
            "\n",
            "Evaluating:  22%|██▏       | 7/32 [00:03<00:11,  2.11it/s]\u001b[A\u001b[A"
          ]
        },
        {
          "output_type": "stream",
          "name": "stdout",
          "text": [
            "0.84375\n"
          ]
        },
        {
          "output_type": "stream",
          "name": "stderr",
          "text": [
            "\n",
            "\n",
            "Evaluating:  25%|██▌       | 8/32 [00:04<00:11,  2.16it/s]\u001b[A\u001b[A"
          ]
        },
        {
          "output_type": "stream",
          "name": "stdout",
          "text": [
            "0.9375\n"
          ]
        },
        {
          "output_type": "stream",
          "name": "stderr",
          "text": [
            "\n",
            "\n",
            "Evaluating:  28%|██▊       | 9/32 [00:04<00:10,  2.19it/s]\u001b[A\u001b[A"
          ]
        },
        {
          "output_type": "stream",
          "name": "stdout",
          "text": [
            "0.8125\n"
          ]
        },
        {
          "output_type": "stream",
          "name": "stderr",
          "text": [
            "\n",
            "\n",
            "Evaluating:  31%|███▏      | 10/32 [00:05<00:09,  2.22it/s]\u001b[A\u001b[A"
          ]
        },
        {
          "output_type": "stream",
          "name": "stdout",
          "text": [
            "0.8125\n"
          ]
        },
        {
          "output_type": "stream",
          "name": "stderr",
          "text": [
            "\n",
            "\n",
            "Evaluating:  34%|███▍      | 11/32 [00:05<00:09,  2.23it/s]\u001b[A\u001b[A"
          ]
        },
        {
          "output_type": "stream",
          "name": "stdout",
          "text": [
            "0.96875\n"
          ]
        },
        {
          "output_type": "stream",
          "name": "stderr",
          "text": [
            "\n",
            "\n",
            "Evaluating:  38%|███▊      | 12/32 [00:06<00:08,  2.25it/s]\u001b[A\u001b[A"
          ]
        },
        {
          "output_type": "stream",
          "name": "stdout",
          "text": [
            "0.9375\n"
          ]
        },
        {
          "output_type": "stream",
          "name": "stderr",
          "text": [
            "\n",
            "\n",
            "Evaluating:  41%|████      | 13/32 [00:06<00:08,  2.26it/s]\u001b[A\u001b[A"
          ]
        },
        {
          "output_type": "stream",
          "name": "stdout",
          "text": [
            "0.84375\n"
          ]
        },
        {
          "output_type": "stream",
          "name": "stderr",
          "text": [
            "\n",
            "\n",
            "Evaluating:  44%|████▍     | 14/32 [00:06<00:07,  2.25it/s]\u001b[A\u001b[A"
          ]
        },
        {
          "output_type": "stream",
          "name": "stdout",
          "text": [
            "0.875\n"
          ]
        },
        {
          "output_type": "stream",
          "name": "stderr",
          "text": [
            "\n",
            "\n",
            "Evaluating:  47%|████▋     | 15/32 [00:07<00:07,  2.27it/s]\u001b[A\u001b[A"
          ]
        },
        {
          "output_type": "stream",
          "name": "stdout",
          "text": [
            "0.8125\n"
          ]
        },
        {
          "output_type": "stream",
          "name": "stderr",
          "text": [
            "\n",
            "\n",
            "Evaluating:  50%|█████     | 16/32 [00:07<00:07,  2.27it/s]\u001b[A\u001b[A"
          ]
        },
        {
          "output_type": "stream",
          "name": "stdout",
          "text": [
            "0.8125\n"
          ]
        },
        {
          "output_type": "stream",
          "name": "stderr",
          "text": [
            "\n",
            "\n",
            "Evaluating:  53%|█████▎    | 17/32 [00:08<00:06,  2.26it/s]\u001b[A\u001b[A"
          ]
        },
        {
          "output_type": "stream",
          "name": "stdout",
          "text": [
            "0.90625\n"
          ]
        },
        {
          "output_type": "stream",
          "name": "stderr",
          "text": [
            "\n",
            "\n",
            "Evaluating:  56%|█████▋    | 18/32 [00:08<00:06,  2.26it/s]\u001b[A\u001b[A"
          ]
        },
        {
          "output_type": "stream",
          "name": "stdout",
          "text": [
            "0.875\n"
          ]
        },
        {
          "output_type": "stream",
          "name": "stderr",
          "text": [
            "\n",
            "\n",
            "Evaluating:  59%|█████▉    | 19/32 [00:09<00:05,  2.25it/s]\u001b[A\u001b[A"
          ]
        },
        {
          "output_type": "stream",
          "name": "stdout",
          "text": [
            "0.875\n"
          ]
        },
        {
          "output_type": "stream",
          "name": "stderr",
          "text": [
            "\n",
            "\n",
            "Evaluating:  62%|██████▎   | 20/32 [00:09<00:05,  2.26it/s]\u001b[A\u001b[A"
          ]
        },
        {
          "output_type": "stream",
          "name": "stdout",
          "text": [
            "0.84375\n"
          ]
        },
        {
          "output_type": "stream",
          "name": "stderr",
          "text": [
            "\n",
            "\n",
            "Evaluating:  66%|██████▌   | 21/32 [00:10<00:04,  2.27it/s]\u001b[A\u001b[A"
          ]
        },
        {
          "output_type": "stream",
          "name": "stdout",
          "text": [
            "0.6875\n"
          ]
        },
        {
          "output_type": "stream",
          "name": "stderr",
          "text": [
            "\n",
            "\n",
            "Evaluating:  69%|██████▉   | 22/32 [00:10<00:04,  2.27it/s]\u001b[A\u001b[A"
          ]
        },
        {
          "output_type": "stream",
          "name": "stdout",
          "text": [
            "0.78125\n"
          ]
        },
        {
          "output_type": "stream",
          "name": "stderr",
          "text": [
            "\n",
            "\n",
            "Evaluating:  72%|███████▏  | 23/32 [00:10<00:03,  2.27it/s]\u001b[A\u001b[A"
          ]
        },
        {
          "output_type": "stream",
          "name": "stdout",
          "text": [
            "0.84375\n"
          ]
        },
        {
          "output_type": "stream",
          "name": "stderr",
          "text": [
            "\n",
            "\n",
            "Evaluating:  75%|███████▌  | 24/32 [00:11<00:03,  2.26it/s]\u001b[A\u001b[A"
          ]
        },
        {
          "output_type": "stream",
          "name": "stdout",
          "text": [
            "0.90625\n"
          ]
        },
        {
          "output_type": "stream",
          "name": "stderr",
          "text": [
            "\n",
            "\n",
            "Evaluating:  78%|███████▊  | 25/32 [00:11<00:03,  2.26it/s]\u001b[A\u001b[A"
          ]
        },
        {
          "output_type": "stream",
          "name": "stdout",
          "text": [
            "0.78125\n"
          ]
        },
        {
          "output_type": "stream",
          "name": "stderr",
          "text": [
            "\n",
            "\n",
            "Evaluating:  81%|████████▏ | 26/32 [00:12<00:02,  2.26it/s]\u001b[A\u001b[A"
          ]
        },
        {
          "output_type": "stream",
          "name": "stdout",
          "text": [
            "0.78125\n"
          ]
        },
        {
          "output_type": "stream",
          "name": "stderr",
          "text": [
            "\n",
            "\n",
            "Evaluating:  84%|████████▍ | 27/32 [00:12<00:02,  2.27it/s]\u001b[A\u001b[A"
          ]
        },
        {
          "output_type": "stream",
          "name": "stdout",
          "text": [
            "0.90625\n"
          ]
        },
        {
          "output_type": "stream",
          "name": "stderr",
          "text": [
            "\n",
            "\n",
            "Evaluating:  88%|████████▊ | 28/32 [00:13<00:01,  2.27it/s]\u001b[A\u001b[A"
          ]
        },
        {
          "output_type": "stream",
          "name": "stdout",
          "text": [
            "0.875\n"
          ]
        },
        {
          "output_type": "stream",
          "name": "stderr",
          "text": [
            "\n",
            "\n",
            "Evaluating:  91%|█████████ | 29/32 [00:13<00:01,  2.27it/s]\u001b[A\u001b[A"
          ]
        },
        {
          "output_type": "stream",
          "name": "stdout",
          "text": [
            "0.875\n"
          ]
        },
        {
          "output_type": "stream",
          "name": "stderr",
          "text": [
            "\n",
            "\n",
            "Evaluating:  94%|█████████▍| 30/32 [00:14<00:00,  2.27it/s]\u001b[A\u001b[A"
          ]
        },
        {
          "output_type": "stream",
          "name": "stdout",
          "text": [
            "0.78125\n"
          ]
        },
        {
          "output_type": "stream",
          "name": "stderr",
          "text": [
            "\n",
            "\n",
            "Evaluating:  97%|█████████▋| 31/32 [00:14<00:00,  2.28it/s]\u001b[A\u001b[A\n",
            "\n",
            "Evaluating: 100%|██████████| 32/32 [00:14<00:00,  2.19it/s]"
          ]
        },
        {
          "output_type": "stream",
          "name": "stdout",
          "text": [
            "0.75\n",
            "0.875\n",
            "== Finished evaluating model: next_sentence_cls_0 ==\n",
            "\tMean evaluation acc: 0.851\n"
          ]
        },
        {
          "output_type": "stream",
          "name": "stderr",
          "text": [
            "\n",
            "\n",
            "Iteration:  59%|█████▉    | 410/695 [09:39<36:01,  7.58s/it]\u001b[A"
          ]
        },
        {
          "output_type": "stream",
          "name": "stdout",
          "text": [
            "\tEvaluation accuracy: 0.851 | Stale count: 0\n",
            "====================\n"
          ]
        },
        {
          "output_type": "stream",
          "name": "stderr",
          "text": [
            "\n",
            "Iteration:  59%|█████▉    | 411/695 [09:40<25:55,  5.48s/it]\u001b[A\n",
            "Iteration:  59%|█████▉    | 412/695 [09:41<19:49,  4.20s/it]\u001b[A\n",
            "Iteration:  59%|█████▉    | 413/695 [09:42<15:34,  3.31s/it]\u001b[A\n",
            "Iteration:  60%|█████▉    | 414/695 [09:43<12:38,  2.70s/it]\u001b[A\n",
            "Iteration:  60%|█████▉    | 415/695 [09:45<10:37,  2.28s/it]\u001b[A\n",
            "Iteration:  60%|█████▉    | 416/695 [09:46<09:10,  1.97s/it]\u001b[A\n",
            "Iteration:  60%|██████    | 417/695 [09:47<08:07,  1.75s/it]\u001b[A\n",
            "Iteration:  60%|██████    | 418/695 [09:48<07:24,  1.61s/it]\u001b[A\n",
            "Iteration:  60%|██████    | 419/695 [09:50<06:56,  1.51s/it]\u001b[A\n",
            "Iteration:  60%|██████    | 420/695 [09:51<06:34,  1.43s/it]\u001b[A\n",
            "Iteration:  61%|██████    | 421/695 [09:52<06:17,  1.38s/it]\u001b[A\n",
            "Iteration:  61%|██████    | 422/695 [09:53<06:06,  1.34s/it]\u001b[A\n",
            "Iteration:  61%|██████    | 423/695 [09:55<06:02,  1.33s/it]\u001b[A\n",
            "Iteration:  61%|██████    | 424/695 [09:56<05:54,  1.31s/it]\u001b[A\n",
            "Iteration:  61%|██████    | 425/695 [09:57<05:49,  1.29s/it]\u001b[A\n",
            "Iteration:  61%|██████▏   | 426/695 [09:59<05:46,  1.29s/it]\u001b[A\n",
            "Iteration:  61%|██████▏   | 427/695 [10:00<05:46,  1.29s/it]\u001b[A\n",
            "Iteration:  62%|██████▏   | 428/695 [10:01<05:43,  1.29s/it]\u001b[A\n",
            "Iteration:  62%|██████▏   | 429/695 [10:02<05:41,  1.28s/it]\u001b[A\n",
            "Iteration:  62%|██████▏   | 430/695 [10:04<05:40,  1.28s/it]\u001b[A\n",
            "Iteration:  62%|██████▏   | 431/695 [10:05<05:41,  1.29s/it]\u001b[A\n",
            "Iteration:  62%|██████▏   | 432/695 [10:06<05:38,  1.29s/it]\u001b[A\n",
            "Iteration:  62%|██████▏   | 433/695 [10:08<05:36,  1.28s/it]\u001b[A\n",
            "Iteration:  62%|██████▏   | 434/695 [10:09<05:35,  1.28s/it]\u001b[A\n",
            "Iteration:  63%|██████▎   | 435/695 [10:10<05:36,  1.29s/it]\u001b[A\n",
            "Iteration:  63%|██████▎   | 436/695 [10:11<05:32,  1.28s/it]\u001b[A\n",
            "Iteration:  63%|██████▎   | 437/695 [10:13<05:29,  1.28s/it]\u001b[A\n",
            "Iteration:  63%|██████▎   | 438/695 [10:14<05:28,  1.28s/it]\u001b[A\n",
            "Iteration:  63%|██████▎   | 439/695 [10:15<05:29,  1.29s/it]\u001b[A\n",
            "Iteration:  63%|██████▎   | 440/695 [10:16<05:26,  1.28s/it]\u001b[A\n",
            "Iteration:  63%|██████▎   | 441/695 [10:18<05:23,  1.27s/it]\u001b[A\n",
            "Iteration:  64%|██████▎   | 442/695 [10:19<05:22,  1.28s/it]\u001b[A\n",
            "Iteration:  64%|██████▎   | 443/695 [10:20<05:24,  1.29s/it]\u001b[A\n",
            "Iteration:  64%|██████▍   | 444/695 [10:22<05:21,  1.28s/it]\u001b[A\n",
            "Iteration:  64%|██████▍   | 445/695 [10:23<05:18,  1.27s/it]\u001b[A\n",
            "Iteration:  64%|██████▍   | 446/695 [10:24<05:16,  1.27s/it]\u001b[A\n",
            "Iteration:  64%|██████▍   | 447/695 [10:25<05:16,  1.28s/it]\u001b[A\n",
            "Iteration:  64%|██████▍   | 448/695 [10:27<05:13,  1.27s/it]\u001b[A\n",
            "Iteration:  65%|██████▍   | 449/695 [10:28<05:11,  1.27s/it]\u001b[A\n",
            "Iteration:  65%|██████▍   | 450/695 [10:29<05:10,  1.27s/it]\u001b[A\n",
            "Iteration:  65%|██████▍   | 451/695 [10:31<05:11,  1.28s/it]\u001b[A\n",
            "Iteration:  65%|██████▌   | 452/695 [10:32<05:08,  1.27s/it]\u001b[A\n",
            "Iteration:  65%|██████▌   | 453/695 [10:33<05:08,  1.27s/it]\u001b[A\n",
            "Iteration:  65%|██████▌   | 454/695 [10:34<05:07,  1.27s/it]\u001b[A\n",
            "Iteration:  65%|██████▌   | 455/695 [10:36<05:06,  1.28s/it]\u001b[A\n",
            "Iteration:  66%|██████▌   | 456/695 [10:37<05:02,  1.27s/it]\u001b[A\n",
            "Iteration:  66%|██████▌   | 457/695 [10:38<05:00,  1.26s/it]\u001b[A\n",
            "Iteration:  66%|██████▌   | 458/695 [10:39<04:59,  1.26s/it]\u001b[A\n",
            "Iteration:  66%|██████▌   | 459/695 [10:41<05:00,  1.27s/it]\u001b[A\n",
            "Iteration:  66%|██████▌   | 460/695 [10:42<04:57,  1.26s/it]\u001b[A\n",
            "Iteration:  66%|██████▋   | 461/695 [10:43<04:55,  1.26s/it]\u001b[A\n",
            "Iteration:  66%|██████▋   | 462/695 [10:44<04:54,  1.27s/it]\u001b[A\n",
            "Iteration:  67%|██████▋   | 463/695 [10:46<04:54,  1.27s/it]\u001b[A\n",
            "Iteration:  67%|██████▋   | 464/695 [10:47<04:51,  1.26s/it]\u001b[A\n",
            "Iteration:  67%|██████▋   | 465/695 [10:48<04:49,  1.26s/it]\u001b[A\n",
            "Iteration:  67%|██████▋   | 466/695 [10:49<04:48,  1.26s/it]\u001b[A\n",
            "Iteration:  67%|██████▋   | 467/695 [10:51<04:49,  1.27s/it]\u001b[A\n",
            "Iteration:  67%|██████▋   | 468/695 [10:52<04:46,  1.26s/it]\u001b[A\n",
            "Iteration:  67%|██████▋   | 469/695 [10:53<04:45,  1.26s/it]\u001b[A\n",
            "Iteration:  68%|██████▊   | 470/695 [10:55<04:43,  1.26s/it]\u001b[A\n",
            "Iteration:  68%|██████▊   | 471/695 [10:56<04:44,  1.27s/it]\u001b[A\n",
            "Iteration:  68%|██████▊   | 472/695 [10:57<04:41,  1.26s/it]\u001b[A\n",
            "Iteration:  68%|██████▊   | 473/695 [10:58<04:40,  1.26s/it]\u001b[A\n",
            "Iteration:  68%|██████▊   | 474/695 [11:00<04:38,  1.26s/it]\u001b[A\n",
            "Iteration:  68%|██████▊   | 475/695 [11:01<04:39,  1.27s/it]\u001b[A\n",
            "Iteration:  68%|██████▊   | 476/695 [11:02<04:36,  1.26s/it]\u001b[A\n",
            "Iteration:  69%|██████▊   | 477/695 [11:03<04:34,  1.26s/it]\u001b[A\n",
            "Iteration:  69%|██████▉   | 478/695 [11:05<04:33,  1.26s/it]\u001b[A\n",
            "Iteration:  69%|██████▉   | 479/695 [11:06<04:34,  1.27s/it]\u001b[A\n",
            "Iteration:  69%|██████▉   | 480/695 [11:07<04:33,  1.27s/it]\u001b[A\n",
            "Iteration:  69%|██████▉   | 481/695 [11:08<04:30,  1.26s/it]\u001b[A\n",
            "Iteration:  69%|██████▉   | 482/695 [11:10<04:29,  1.27s/it]\u001b[A\n",
            "Iteration:  69%|██████▉   | 483/695 [11:11<04:28,  1.27s/it]\u001b[A\n",
            "Iteration:  70%|██████▉   | 484/695 [11:12<04:26,  1.26s/it]\u001b[A\n",
            "Iteration:  70%|██████▉   | 485/695 [11:14<04:25,  1.26s/it]\u001b[A\n",
            "Iteration:  70%|██████▉   | 486/695 [11:15<04:24,  1.26s/it]\u001b[A\n",
            "Iteration:  70%|███████   | 487/695 [11:16<04:24,  1.27s/it]\u001b[A\n",
            "Iteration:  70%|███████   | 488/695 [11:17<04:22,  1.27s/it]\u001b[A\n",
            "Iteration:  70%|███████   | 489/695 [11:19<04:19,  1.26s/it]\u001b[A\n",
            "Iteration:  71%|███████   | 490/695 [11:20<04:19,  1.26s/it]\u001b[A\n",
            "Iteration:  71%|███████   | 491/695 [11:21<04:20,  1.28s/it]\u001b[A\n",
            "Iteration:  71%|███████   | 492/695 [11:22<04:17,  1.27s/it]\u001b[A\n",
            "Iteration:  71%|███████   | 493/695 [11:24<04:15,  1.26s/it]\u001b[A\n",
            "Iteration:  71%|███████   | 494/695 [11:25<04:14,  1.27s/it]\u001b[A\n",
            "Iteration:  71%|███████   | 495/695 [11:26<04:14,  1.27s/it]\u001b[A\n",
            "Iteration:  71%|███████▏  | 496/695 [11:27<04:11,  1.27s/it]\u001b[A\n",
            "Iteration:  72%|███████▏  | 497/695 [11:29<04:09,  1.26s/it]\u001b[A\n",
            "Iteration:  72%|███████▏  | 498/695 [11:30<04:09,  1.27s/it]\u001b[A\n",
            "Iteration:  72%|███████▏  | 499/695 [11:31<04:10,  1.28s/it]\u001b[A\n",
            "Iteration:  72%|███████▏  | 500/695 [11:33<04:07,  1.27s/it]\u001b[A\n",
            "Iteration:  72%|███████▏  | 501/695 [11:34<04:06,  1.27s/it]\u001b[A\n",
            "Iteration:  72%|███████▏  | 502/695 [11:35<04:04,  1.26s/it]\u001b[A\n",
            "Iteration:  72%|███████▏  | 503/695 [11:36<04:04,  1.28s/it]\u001b[A\n",
            "Iteration:  73%|███████▎  | 504/695 [11:38<04:01,  1.27s/it]\u001b[A\n",
            "Iteration:  73%|███████▎  | 505/695 [11:39<04:00,  1.26s/it]\u001b[A\n",
            "Iteration:  73%|███████▎  | 506/695 [11:40<03:58,  1.26s/it]\u001b[A\n",
            "Iteration:  73%|███████▎  | 507/695 [11:41<03:59,  1.27s/it]\u001b[A\n",
            "Iteration:  73%|███████▎  | 508/695 [11:43<03:57,  1.27s/it]\u001b[A\n",
            "Iteration:  73%|███████▎  | 509/695 [11:44<03:55,  1.27s/it]\u001b[A\n",
            "Iteration:  73%|███████▎  | 510/695 [11:45<03:55,  1.27s/it]\u001b[A"
          ]
        },
        {
          "output_type": "stream",
          "name": "stdout",
          "text": [
            "\tGlobal step: 475 | LR: [5.255255255255256e-06, 5.255255255255256e-06] | Avg. loss: 0.302\n"
          ]
        },
        {
          "output_type": "stream",
          "name": "stderr",
          "text": [
            "\n",
            "Iteration:  74%|███████▎  | 511/695 [11:47<03:55,  1.28s/it]\u001b[A\n",
            "Iteration:  74%|███████▎  | 512/695 [11:48<03:52,  1.27s/it]\u001b[A\n",
            "Iteration:  74%|███████▍  | 513/695 [11:49<03:50,  1.27s/it]\u001b[A\n",
            "Iteration:  74%|███████▍  | 514/695 [11:50<03:48,  1.26s/it]\u001b[A\n",
            "Iteration:  74%|███████▍  | 515/695 [11:52<03:49,  1.27s/it]\u001b[A\n",
            "Iteration:  74%|███████▍  | 516/695 [11:53<03:46,  1.27s/it]\u001b[A\n",
            "Iteration:  74%|███████▍  | 517/695 [11:54<03:45,  1.26s/it]\u001b[A\n",
            "Iteration:  75%|███████▍  | 518/695 [11:55<03:43,  1.26s/it]\u001b[A\n",
            "Iteration:  75%|███████▍  | 519/695 [11:57<03:43,  1.27s/it]\u001b[A\n",
            "Iteration:  75%|███████▍  | 520/695 [11:58<03:41,  1.27s/it]\u001b[A\n",
            "Iteration:  75%|███████▍  | 521/695 [11:59<03:39,  1.26s/it]\u001b[A\n",
            "Iteration:  75%|███████▌  | 522/695 [12:00<03:38,  1.26s/it]\u001b[A\n",
            "Iteration:  75%|███████▌  | 523/695 [12:02<03:38,  1.27s/it]\u001b[A\n",
            "Iteration:  75%|███████▌  | 524/695 [12:03<03:36,  1.27s/it]\u001b[A\n",
            "Iteration:  76%|███████▌  | 525/695 [12:04<03:35,  1.27s/it]\u001b[A\n",
            "Iteration:  76%|███████▌  | 526/695 [12:05<03:33,  1.26s/it]\u001b[A\n",
            "Iteration:  76%|███████▌  | 527/695 [12:07<03:33,  1.27s/it]\u001b[A\n",
            "Iteration:  76%|███████▌  | 528/695 [12:08<03:31,  1.27s/it]\u001b[A\n",
            "Iteration:  76%|███████▌  | 529/695 [12:09<03:30,  1.27s/it]\u001b[A\n",
            "Iteration:  76%|███████▋  | 530/695 [12:11<03:28,  1.27s/it]\u001b[A\n",
            "Iteration:  76%|███████▋  | 531/695 [12:12<03:28,  1.27s/it]\u001b[A\n",
            "Iteration:  77%|███████▋  | 532/695 [12:13<03:26,  1.27s/it]\u001b[A\n",
            "Iteration:  77%|███████▋  | 533/695 [12:14<03:24,  1.27s/it]\u001b[A\n",
            "Iteration:  77%|███████▋  | 534/695 [12:16<03:23,  1.26s/it]\u001b[A\n",
            "Iteration:  77%|███████▋  | 535/695 [12:17<03:23,  1.27s/it]\u001b[A\n",
            "Iteration:  77%|███████▋  | 536/695 [12:18<03:21,  1.27s/it]\u001b[A\n",
            "Iteration:  77%|███████▋  | 537/695 [12:19<03:19,  1.26s/it]\u001b[A\n",
            "Iteration:  77%|███████▋  | 538/695 [12:21<03:18,  1.26s/it]\u001b[A\n",
            "Iteration:  78%|███████▊  | 539/695 [12:22<03:18,  1.27s/it]\u001b[A\n",
            "Iteration:  78%|███████▊  | 540/695 [12:23<03:17,  1.27s/it]\u001b[A\n",
            "Iteration:  78%|███████▊  | 541/695 [12:25<03:14,  1.26s/it]\u001b[A\n",
            "Iteration:  78%|███████▊  | 542/695 [12:26<03:13,  1.26s/it]\u001b[A\n",
            "Iteration:  78%|███████▊  | 543/695 [12:27<03:13,  1.27s/it]\u001b[A\n",
            "Iteration:  78%|███████▊  | 544/695 [12:28<03:11,  1.27s/it]\u001b[A\n",
            "Iteration:  78%|███████▊  | 545/695 [12:30<03:09,  1.26s/it]\u001b[A\n",
            "Iteration:  79%|███████▊  | 546/695 [12:31<03:08,  1.26s/it]\u001b[A\n",
            "Iteration:  79%|███████▊  | 547/695 [12:32<03:08,  1.27s/it]\u001b[A\n",
            "Iteration:  79%|███████▉  | 548/695 [12:33<03:06,  1.27s/it]\u001b[A\n",
            "Iteration:  79%|███████▉  | 549/695 [12:35<03:05,  1.27s/it]\u001b[A\n",
            "Iteration:  79%|███████▉  | 550/695 [12:36<03:03,  1.26s/it]\u001b[A\n",
            "Iteration:  79%|███████▉  | 551/695 [12:37<03:03,  1.27s/it]\u001b[A\n",
            "Iteration:  79%|███████▉  | 552/695 [12:38<03:01,  1.27s/it]\u001b[A\n",
            "Iteration:  80%|███████▉  | 553/695 [12:40<02:59,  1.27s/it]\u001b[A\n",
            "Iteration:  80%|███████▉  | 554/695 [12:41<02:58,  1.26s/it]\u001b[A\n",
            "Iteration:  80%|███████▉  | 555/695 [12:42<02:58,  1.28s/it]\u001b[A\n",
            "Iteration:  80%|████████  | 556/695 [12:44<02:56,  1.27s/it]\u001b[A\n",
            "Iteration:  80%|████████  | 557/695 [12:45<02:54,  1.26s/it]\u001b[A\n",
            "Iteration:  80%|████████  | 558/695 [12:46<02:53,  1.27s/it]\u001b[A\n",
            "Iteration:  80%|████████  | 559/695 [12:47<02:53,  1.28s/it]\u001b[A\n",
            "Iteration:  81%|████████  | 560/695 [12:49<02:50,  1.26s/it]\u001b[A\n",
            "Iteration:  81%|████████  | 561/695 [12:50<02:48,  1.26s/it]\u001b[A\n",
            "Iteration:  81%|████████  | 562/695 [12:51<02:47,  1.26s/it]\u001b[A\n",
            "Iteration:  81%|████████  | 563/695 [12:52<02:47,  1.27s/it]\u001b[A\n",
            "Iteration:  81%|████████  | 564/695 [12:54<02:45,  1.26s/it]\u001b[A\n",
            "Iteration:  81%|████████▏ | 565/695 [12:55<02:44,  1.26s/it]\u001b[A\n",
            "Iteration:  81%|████████▏ | 566/695 [12:56<02:42,  1.26s/it]\u001b[A\n",
            "Iteration:  82%|████████▏ | 567/695 [12:57<02:42,  1.27s/it]\u001b[A\n",
            "Iteration:  82%|████████▏ | 568/695 [12:59<02:40,  1.27s/it]\u001b[A\n",
            "Iteration:  82%|████████▏ | 569/695 [13:00<02:38,  1.26s/it]\u001b[A\n",
            "Iteration:  82%|████████▏ | 570/695 [13:01<02:37,  1.26s/it]\u001b[A\n",
            "Iteration:  82%|████████▏ | 571/695 [13:03<02:37,  1.27s/it]\u001b[A\n",
            "Iteration:  82%|████████▏ | 572/695 [13:04<02:35,  1.26s/it]\u001b[A\n",
            "Iteration:  82%|████████▏ | 573/695 [13:05<02:33,  1.26s/it]\u001b[A\n",
            "Iteration:  83%|████████▎ | 574/695 [13:06<02:32,  1.26s/it]\u001b[A\n",
            "Iteration:  83%|████████▎ | 575/695 [13:08<02:32,  1.27s/it]\u001b[A\n",
            "Iteration:  83%|████████▎ | 576/695 [13:09<02:30,  1.26s/it]\u001b[A\n",
            "Iteration:  83%|████████▎ | 577/695 [13:10<02:29,  1.26s/it]\u001b[A\n",
            "Iteration:  83%|████████▎ | 578/695 [13:11<02:27,  1.26s/it]\u001b[A\n",
            "Iteration:  83%|████████▎ | 579/695 [13:13<02:27,  1.27s/it]\u001b[A\n",
            "Iteration:  83%|████████▎ | 580/695 [13:14<02:25,  1.26s/it]\u001b[A\n",
            "Iteration:  84%|████████▎ | 581/695 [13:15<02:23,  1.26s/it]\u001b[A\n",
            "Iteration:  84%|████████▎ | 582/695 [13:16<02:22,  1.26s/it]\u001b[A\n",
            "Iteration:  84%|████████▍ | 583/695 [13:18<02:22,  1.27s/it]\u001b[A\n",
            "Iteration:  84%|████████▍ | 584/695 [13:19<02:20,  1.26s/it]\u001b[A\n",
            "Iteration:  84%|████████▍ | 585/695 [13:20<02:18,  1.26s/it]\u001b[A\n",
            "Iteration:  84%|████████▍ | 586/695 [13:21<02:17,  1.26s/it]\u001b[A\n",
            "Iteration:  84%|████████▍ | 587/695 [13:23<02:17,  1.27s/it]\u001b[A\n",
            "Iteration:  85%|████████▍ | 588/695 [13:24<02:15,  1.26s/it]\u001b[A\n",
            "Iteration:  85%|████████▍ | 589/695 [13:25<02:13,  1.26s/it]\u001b[A\n",
            "Iteration:  85%|████████▍ | 590/695 [13:27<02:12,  1.26s/it]\u001b[A\n",
            "Iteration:  85%|████████▌ | 591/695 [13:28<02:11,  1.27s/it]\u001b[A\n",
            "Iteration:  85%|████████▌ | 592/695 [13:29<02:10,  1.26s/it]\u001b[A\n",
            "Iteration:  85%|████████▌ | 593/695 [13:30<02:08,  1.26s/it]\u001b[A\n",
            "Iteration:  85%|████████▌ | 594/695 [13:32<02:07,  1.26s/it]\u001b[A\n",
            "Iteration:  86%|████████▌ | 595/695 [13:33<02:07,  1.27s/it]\u001b[A\n",
            "Iteration:  86%|████████▌ | 596/695 [13:34<02:05,  1.27s/it]\u001b[A\n",
            "Iteration:  86%|████████▌ | 597/695 [13:35<02:04,  1.27s/it]\u001b[A\n",
            "Iteration:  86%|████████▌ | 598/695 [13:37<02:02,  1.26s/it]\u001b[A\n",
            "Iteration:  86%|████████▌ | 599/695 [13:38<02:01,  1.27s/it]\u001b[A\n",
            "Iteration:  86%|████████▋ | 600/695 [13:39<02:00,  1.26s/it]\u001b[A\n",
            "Iteration:  86%|████████▋ | 601/695 [13:40<01:58,  1.26s/it]\u001b[A\n",
            "Iteration:  87%|████████▋ | 602/695 [13:42<01:57,  1.26s/it]\u001b[A\n",
            "Iteration:  87%|████████▋ | 603/695 [13:43<01:57,  1.27s/it]\u001b[A\n",
            "Iteration:  87%|████████▋ | 604/695 [13:44<01:55,  1.26s/it]\u001b[A\n",
            "Iteration:  87%|████████▋ | 605/695 [13:45<01:53,  1.26s/it]\u001b[A\n",
            "Iteration:  87%|████████▋ | 606/695 [13:47<01:52,  1.26s/it]\u001b[A\n",
            "Iteration:  87%|████████▋ | 607/695 [13:48<01:51,  1.27s/it]\u001b[A\n",
            "Iteration:  87%|████████▋ | 608/695 [13:49<01:49,  1.26s/it]\u001b[A\n",
            "Iteration:  88%|████████▊ | 609/695 [13:51<01:48,  1.27s/it]\u001b[A"
          ]
        },
        {
          "output_type": "stream",
          "name": "stdout",
          "text": [
            "\tGlobal step: 500 | LR: [5.005005005005006e-06, 5.005005005005006e-06] | Avg. loss: 0.290\n",
            "====================\n",
            "\tEvaluating on valiadtion set!\n"
          ]
        },
        {
          "output_type": "stream",
          "name": "stderr",
          "text": [
            "\n",
            "\n",
            "Evaluating:   0%|          | 0/32 [00:00<?, ?it/s]\u001b[A\u001b[A\n",
            "\n",
            "Evaluating:   3%|▎         | 1/32 [00:01<00:38,  1.24s/it]\u001b[A\u001b[A"
          ]
        },
        {
          "output_type": "stream",
          "name": "stdout",
          "text": [
            "1.0\n"
          ]
        },
        {
          "output_type": "stream",
          "name": "stderr",
          "text": [
            "\n",
            "\n",
            "Evaluating:   6%|▋         | 2/32 [00:01<00:23,  1.30it/s]\u001b[A\u001b[A"
          ]
        },
        {
          "output_type": "stream",
          "name": "stdout",
          "text": [
            "0.9375\n"
          ]
        },
        {
          "output_type": "stream",
          "name": "stderr",
          "text": [
            "\n",
            "\n",
            "Evaluating:   9%|▉         | 3/32 [00:02<00:17,  1.62it/s]\u001b[A\u001b[A"
          ]
        },
        {
          "output_type": "stream",
          "name": "stdout",
          "text": [
            "0.9375\n"
          ]
        },
        {
          "output_type": "stream",
          "name": "stderr",
          "text": [
            "\n",
            "\n",
            "Evaluating:  12%|█▎        | 4/32 [00:02<00:15,  1.83it/s]\u001b[A\u001b[A"
          ]
        },
        {
          "output_type": "stream",
          "name": "stdout",
          "text": [
            "0.84375\n"
          ]
        },
        {
          "output_type": "stream",
          "name": "stderr",
          "text": [
            "\n",
            "\n",
            "Evaluating:  16%|█▌        | 5/32 [00:02<00:13,  1.97it/s]\u001b[A\u001b[A"
          ]
        },
        {
          "output_type": "stream",
          "name": "stdout",
          "text": [
            "0.90625\n"
          ]
        },
        {
          "output_type": "stream",
          "name": "stderr",
          "text": [
            "\n",
            "\n",
            "Evaluating:  19%|█▉        | 6/32 [00:03<00:12,  2.07it/s]\u001b[A\u001b[A"
          ]
        },
        {
          "output_type": "stream",
          "name": "stdout",
          "text": [
            "0.90625\n"
          ]
        },
        {
          "output_type": "stream",
          "name": "stderr",
          "text": [
            "\n",
            "\n",
            "Evaluating:  22%|██▏       | 7/32 [00:03<00:11,  2.13it/s]\u001b[A\u001b[A"
          ]
        },
        {
          "output_type": "stream",
          "name": "stdout",
          "text": [
            "0.90625\n"
          ]
        },
        {
          "output_type": "stream",
          "name": "stderr",
          "text": [
            "\n",
            "\n",
            "Evaluating:  25%|██▌       | 8/32 [00:04<00:11,  2.17it/s]\u001b[A\u001b[A"
          ]
        },
        {
          "output_type": "stream",
          "name": "stdout",
          "text": [
            "0.9375\n"
          ]
        },
        {
          "output_type": "stream",
          "name": "stderr",
          "text": [
            "\n",
            "\n",
            "Evaluating:  28%|██▊       | 9/32 [00:04<00:10,  2.20it/s]\u001b[A\u001b[A"
          ]
        },
        {
          "output_type": "stream",
          "name": "stdout",
          "text": [
            "0.875\n"
          ]
        },
        {
          "output_type": "stream",
          "name": "stderr",
          "text": [
            "\n",
            "\n",
            "Evaluating:  31%|███▏      | 10/32 [00:05<00:09,  2.23it/s]\u001b[A\u001b[A"
          ]
        },
        {
          "output_type": "stream",
          "name": "stdout",
          "text": [
            "0.875\n"
          ]
        },
        {
          "output_type": "stream",
          "name": "stderr",
          "text": [
            "\n",
            "\n",
            "Evaluating:  34%|███▍      | 11/32 [00:05<00:09,  2.24it/s]\u001b[A\u001b[A"
          ]
        },
        {
          "output_type": "stream",
          "name": "stdout",
          "text": [
            "0.96875\n"
          ]
        },
        {
          "output_type": "stream",
          "name": "stderr",
          "text": [
            "\n",
            "\n",
            "Evaluating:  38%|███▊      | 12/32 [00:06<00:08,  2.26it/s]\u001b[A\u001b[A"
          ]
        },
        {
          "output_type": "stream",
          "name": "stdout",
          "text": [
            "0.9375\n"
          ]
        },
        {
          "output_type": "stream",
          "name": "stderr",
          "text": [
            "\n",
            "\n",
            "Evaluating:  41%|████      | 13/32 [00:06<00:08,  2.27it/s]\u001b[A\u001b[A"
          ]
        },
        {
          "output_type": "stream",
          "name": "stdout",
          "text": [
            "0.875\n"
          ]
        },
        {
          "output_type": "stream",
          "name": "stderr",
          "text": [
            "\n",
            "\n",
            "Evaluating:  44%|████▍     | 14/32 [00:06<00:07,  2.26it/s]\u001b[A\u001b[A"
          ]
        },
        {
          "output_type": "stream",
          "name": "stdout",
          "text": [
            "0.9375\n"
          ]
        },
        {
          "output_type": "stream",
          "name": "stderr",
          "text": [
            "\n",
            "\n",
            "Evaluating:  47%|████▋     | 15/32 [00:07<00:07,  2.27it/s]\u001b[A\u001b[A"
          ]
        },
        {
          "output_type": "stream",
          "name": "stdout",
          "text": [
            "0.875\n"
          ]
        },
        {
          "output_type": "stream",
          "name": "stderr",
          "text": [
            "\n",
            "\n",
            "Evaluating:  50%|█████     | 16/32 [00:07<00:07,  2.27it/s]\u001b[A\u001b[A"
          ]
        },
        {
          "output_type": "stream",
          "name": "stdout",
          "text": [
            "0.875\n"
          ]
        },
        {
          "output_type": "stream",
          "name": "stderr",
          "text": [
            "\n",
            "\n",
            "Evaluating:  53%|█████▎    | 17/32 [00:08<00:06,  2.27it/s]\u001b[A\u001b[A"
          ]
        },
        {
          "output_type": "stream",
          "name": "stdout",
          "text": [
            "0.84375\n"
          ]
        },
        {
          "output_type": "stream",
          "name": "stderr",
          "text": [
            "\n",
            "\n",
            "Evaluating:  56%|█████▋    | 18/32 [00:08<00:06,  2.27it/s]\u001b[A\u001b[A"
          ]
        },
        {
          "output_type": "stream",
          "name": "stdout",
          "text": [
            "0.8125\n"
          ]
        },
        {
          "output_type": "stream",
          "name": "stderr",
          "text": [
            "\n",
            "\n",
            "Evaluating:  59%|█████▉    | 19/32 [00:09<00:05,  2.26it/s]\u001b[A\u001b[A"
          ]
        },
        {
          "output_type": "stream",
          "name": "stdout",
          "text": [
            "0.875\n"
          ]
        },
        {
          "output_type": "stream",
          "name": "stderr",
          "text": [
            "\n",
            "\n",
            "Evaluating:  62%|██████▎   | 20/32 [00:09<00:05,  2.27it/s]\u001b[A\u001b[A"
          ]
        },
        {
          "output_type": "stream",
          "name": "stdout",
          "text": [
            "0.875\n"
          ]
        },
        {
          "output_type": "stream",
          "name": "stderr",
          "text": [
            "\n",
            "\n",
            "Evaluating:  66%|██████▌   | 21/32 [00:10<00:04,  2.28it/s]\u001b[A\u001b[A"
          ]
        },
        {
          "output_type": "stream",
          "name": "stdout",
          "text": [
            "0.65625\n"
          ]
        },
        {
          "output_type": "stream",
          "name": "stderr",
          "text": [
            "\n",
            "\n",
            "Evaluating:  69%|██████▉   | 22/32 [00:10<00:04,  2.28it/s]\u001b[A\u001b[A"
          ]
        },
        {
          "output_type": "stream",
          "name": "stdout",
          "text": [
            "0.78125\n"
          ]
        },
        {
          "output_type": "stream",
          "name": "stderr",
          "text": [
            "\n",
            "\n",
            "Evaluating:  72%|███████▏  | 23/32 [00:10<00:03,  2.27it/s]\u001b[A\u001b[A"
          ]
        },
        {
          "output_type": "stream",
          "name": "stdout",
          "text": [
            "0.78125\n"
          ]
        },
        {
          "output_type": "stream",
          "name": "stderr",
          "text": [
            "\n",
            "\n",
            "Evaluating:  75%|███████▌  | 24/32 [00:11<00:03,  2.27it/s]\u001b[A\u001b[A"
          ]
        },
        {
          "output_type": "stream",
          "name": "stdout",
          "text": [
            "0.75\n"
          ]
        },
        {
          "output_type": "stream",
          "name": "stderr",
          "text": [
            "\n",
            "\n",
            "Evaluating:  78%|███████▊  | 25/32 [00:11<00:03,  2.27it/s]\u001b[A\u001b[A"
          ]
        },
        {
          "output_type": "stream",
          "name": "stdout",
          "text": [
            "0.78125\n"
          ]
        },
        {
          "output_type": "stream",
          "name": "stderr",
          "text": [
            "\n",
            "\n",
            "Evaluating:  81%|████████▏ | 26/32 [00:12<00:02,  2.27it/s]\u001b[A\u001b[A"
          ]
        },
        {
          "output_type": "stream",
          "name": "stdout",
          "text": [
            "0.71875\n"
          ]
        },
        {
          "output_type": "stream",
          "name": "stderr",
          "text": [
            "\n",
            "\n",
            "Evaluating:  84%|████████▍ | 27/32 [00:12<00:02,  2.28it/s]\u001b[A\u001b[A"
          ]
        },
        {
          "output_type": "stream",
          "name": "stdout",
          "text": [
            "0.8125\n"
          ]
        },
        {
          "output_type": "stream",
          "name": "stderr",
          "text": [
            "\n",
            "\n",
            "Evaluating:  88%|████████▊ | 28/32 [00:13<00:01,  2.28it/s]\u001b[A\u001b[A"
          ]
        },
        {
          "output_type": "stream",
          "name": "stdout",
          "text": [
            "0.84375\n"
          ]
        },
        {
          "output_type": "stream",
          "name": "stderr",
          "text": [
            "\n",
            "\n",
            "Evaluating:  91%|█████████ | 29/32 [00:13<00:01,  2.28it/s]\u001b[A\u001b[A"
          ]
        },
        {
          "output_type": "stream",
          "name": "stdout",
          "text": [
            "0.78125\n"
          ]
        },
        {
          "output_type": "stream",
          "name": "stderr",
          "text": [
            "\n",
            "\n",
            "Evaluating:  94%|█████████▍| 30/32 [00:13<00:00,  2.27it/s]\u001b[A\u001b[A"
          ]
        },
        {
          "output_type": "stream",
          "name": "stdout",
          "text": [
            "0.8125\n"
          ]
        },
        {
          "output_type": "stream",
          "name": "stderr",
          "text": [
            "\n",
            "\n",
            "Evaluating:  97%|█████████▋| 31/32 [00:14<00:00,  2.28it/s]\u001b[A\u001b[A\n",
            "\n",
            "Evaluating: 100%|██████████| 32/32 [00:14<00:00,  2.20it/s]"
          ]
        },
        {
          "output_type": "stream",
          "name": "stdout",
          "text": [
            "0.75\n",
            "0.875\n",
            "== Finished evaluating model: next_sentence_cls_0 ==\n",
            "\tMean evaluation acc: 0.854\n"
          ]
        },
        {
          "output_type": "stream",
          "name": "stderr",
          "text": [
            "\n",
            "\n",
            "Iteration:  88%|████████▊ | 610/695 [14:12<10:23,  7.34s/it]\u001b[A"
          ]
        },
        {
          "output_type": "stream",
          "name": "stdout",
          "text": [
            "\tEvaluation accuracy: 0.854 | Stale count: 0\n",
            "====================\n"
          ]
        },
        {
          "output_type": "stream",
          "name": "stderr",
          "text": [
            "\n",
            "Iteration:  88%|████████▊ | 611/695 [14:13<07:25,  5.30s/it]\u001b[A\n",
            "Iteration:  88%|████████▊ | 612/695 [14:14<05:38,  4.08s/it]\u001b[A\n",
            "Iteration:  88%|████████▊ | 613/695 [14:15<04:24,  3.22s/it]\u001b[A\n",
            "Iteration:  88%|████████▊ | 614/695 [14:16<03:33,  2.63s/it]\u001b[A\n",
            "Iteration:  88%|████████▊ | 615/695 [14:18<02:58,  2.23s/it]\u001b[A\n",
            "Iteration:  89%|████████▊ | 616/695 [14:19<02:32,  1.93s/it]\u001b[A\n",
            "Iteration:  89%|████████▉ | 617/695 [14:20<02:14,  1.72s/it]\u001b[A\n",
            "Iteration:  89%|████████▉ | 618/695 [14:21<02:01,  1.58s/it]\u001b[A\n",
            "Iteration:  89%|████████▉ | 619/695 [14:23<01:53,  1.50s/it]\u001b[A\n",
            "Iteration:  89%|████████▉ | 620/695 [14:24<01:47,  1.43s/it]\u001b[A\n",
            "Iteration:  89%|████████▉ | 621/695 [14:25<01:41,  1.37s/it]\u001b[A\n",
            "Iteration:  89%|████████▉ | 622/695 [14:26<01:37,  1.34s/it]\u001b[A\n",
            "Iteration:  90%|████████▉ | 623/695 [14:28<01:35,  1.33s/it]\u001b[A\n",
            "Iteration:  90%|████████▉ | 624/695 [14:29<01:32,  1.31s/it]\u001b[A\n",
            "Iteration:  90%|████████▉ | 625/695 [14:30<01:30,  1.29s/it]\u001b[A\n",
            "Iteration:  90%|█████████ | 626/695 [14:32<01:28,  1.29s/it]\u001b[A\n",
            "Iteration:  90%|█████████ | 627/695 [14:33<01:27,  1.29s/it]\u001b[A\n",
            "Iteration:  90%|█████████ | 628/695 [14:34<01:26,  1.29s/it]\u001b[A\n",
            "Iteration:  91%|█████████ | 629/695 [14:35<01:24,  1.28s/it]\u001b[A\n",
            "Iteration:  91%|█████████ | 630/695 [14:37<01:23,  1.28s/it]\u001b[A\n",
            "Iteration:  91%|█████████ | 631/695 [14:38<01:22,  1.29s/it]\u001b[A\n",
            "Iteration:  91%|█████████ | 632/695 [14:39<01:21,  1.29s/it]\u001b[A\n",
            "Iteration:  91%|█████████ | 633/695 [14:40<01:19,  1.28s/it]\u001b[A\n",
            "Iteration:  91%|█████████ | 634/695 [14:42<01:18,  1.28s/it]\u001b[A\n",
            "Iteration:  91%|█████████▏| 635/695 [14:43<01:17,  1.29s/it]\u001b[A\n",
            "Iteration:  92%|█████████▏| 636/695 [14:44<01:15,  1.28s/it]\u001b[A\n",
            "Iteration:  92%|█████████▏| 637/695 [14:46<01:14,  1.28s/it]\u001b[A\n",
            "Iteration:  92%|█████████▏| 638/695 [14:47<01:13,  1.29s/it]\u001b[A\n",
            "Iteration:  92%|█████████▏| 639/695 [14:48<01:12,  1.29s/it]\u001b[A\n",
            "Iteration:  92%|█████████▏| 640/695 [14:49<01:10,  1.28s/it]\u001b[A\n",
            "Iteration:  92%|█████████▏| 641/695 [14:51<01:09,  1.28s/it]\u001b[A\n",
            "Iteration:  92%|█████████▏| 642/695 [14:52<01:07,  1.27s/it]\u001b[A\n",
            "Iteration:  93%|█████████▎| 643/695 [14:53<01:06,  1.28s/it]\u001b[A\n",
            "Iteration:  93%|█████████▎| 644/695 [14:55<01:04,  1.27s/it]\u001b[A\n",
            "Iteration:  93%|█████████▎| 645/695 [14:56<01:03,  1.27s/it]\u001b[A\n",
            "Iteration:  93%|█████████▎| 646/695 [14:57<01:02,  1.27s/it]\u001b[A\n",
            "Iteration:  93%|█████████▎| 647/695 [14:58<01:01,  1.28s/it]\u001b[A\n",
            "Iteration:  93%|█████████▎| 648/695 [15:00<00:59,  1.28s/it]\u001b[A\n",
            "Iteration:  93%|█████████▎| 649/695 [15:01<00:58,  1.27s/it]\u001b[A\n",
            "Iteration:  94%|█████████▎| 650/695 [15:02<00:57,  1.27s/it]\u001b[A\n",
            "Iteration:  94%|█████████▎| 651/695 [15:04<00:56,  1.28s/it]\u001b[A\n",
            "Iteration:  94%|█████████▍| 652/695 [15:05<00:54,  1.27s/it]\u001b[A\n",
            "Iteration:  94%|█████████▍| 653/695 [15:06<00:53,  1.27s/it]\u001b[A\n",
            "Iteration:  94%|█████████▍| 654/695 [15:07<00:52,  1.27s/it]\u001b[A\n",
            "Iteration:  94%|█████████▍| 655/695 [15:09<00:51,  1.28s/it]\u001b[A\n",
            "Iteration:  94%|█████████▍| 656/695 [15:10<00:49,  1.27s/it]\u001b[A\n",
            "Iteration:  95%|█████████▍| 657/695 [15:11<00:48,  1.27s/it]\u001b[A\n",
            "Iteration:  95%|█████████▍| 658/695 [15:12<00:46,  1.27s/it]\u001b[A\n",
            "Iteration:  95%|█████████▍| 659/695 [15:14<00:45,  1.27s/it]\u001b[A\n",
            "Iteration:  95%|█████████▍| 660/695 [15:15<00:44,  1.26s/it]\u001b[A\n",
            "Iteration:  95%|█████████▌| 661/695 [15:16<00:42,  1.26s/it]\u001b[A\n",
            "Iteration:  95%|█████████▌| 662/695 [15:17<00:41,  1.26s/it]\u001b[A\n",
            "Iteration:  95%|█████████▌| 663/695 [15:19<00:40,  1.27s/it]\u001b[A\n",
            "Iteration:  96%|█████████▌| 664/695 [15:20<00:39,  1.26s/it]\u001b[A\n",
            "Iteration:  96%|█████████▌| 665/695 [15:21<00:37,  1.26s/it]\u001b[A\n",
            "Iteration:  96%|█████████▌| 666/695 [15:22<00:36,  1.26s/it]\u001b[A\n",
            "Iteration:  96%|█████████▌| 667/695 [15:24<00:35,  1.27s/it]\u001b[A\n",
            "Iteration:  96%|█████████▌| 668/695 [15:25<00:34,  1.26s/it]\u001b[A\n",
            "Iteration:  96%|█████████▋| 669/695 [15:26<00:32,  1.26s/it]\u001b[A\n",
            "Iteration:  96%|█████████▋| 670/695 [15:28<00:31,  1.26s/it]\u001b[A\n",
            "Iteration:  97%|█████████▋| 671/695 [15:29<00:30,  1.27s/it]\u001b[A\n",
            "Iteration:  97%|█████████▋| 672/695 [15:30<00:29,  1.26s/it]\u001b[A\n",
            "Iteration:  97%|█████████▋| 673/695 [15:31<00:27,  1.26s/it]\u001b[A\n",
            "Iteration:  97%|█████████▋| 674/695 [15:33<00:26,  1.26s/it]\u001b[A\n",
            "Iteration:  97%|█████████▋| 675/695 [15:34<00:25,  1.27s/it]\u001b[A\n",
            "Iteration:  97%|█████████▋| 676/695 [15:35<00:24,  1.26s/it]\u001b[A\n",
            "Iteration:  97%|█████████▋| 677/695 [15:36<00:22,  1.26s/it]\u001b[A\n",
            "Iteration:  98%|█████████▊| 678/695 [15:38<00:21,  1.26s/it]\u001b[A\n",
            "Iteration:  98%|█████████▊| 679/695 [15:39<00:20,  1.27s/it]\u001b[A\n",
            "Iteration:  98%|█████████▊| 680/695 [15:40<00:19,  1.27s/it]\u001b[A\n",
            "Iteration:  98%|█████████▊| 681/695 [15:41<00:17,  1.26s/it]\u001b[A\n",
            "Iteration:  98%|█████████▊| 682/695 [15:43<00:16,  1.26s/it]\u001b[A\n",
            "Iteration:  98%|█████████▊| 683/695 [15:44<00:15,  1.27s/it]\u001b[A\n",
            "Iteration:  98%|█████████▊| 684/695 [15:45<00:13,  1.27s/it]\u001b[A\n",
            "Iteration:  99%|█████████▊| 685/695 [15:47<00:12,  1.26s/it]\u001b[A\n",
            "Iteration:  99%|█████████▊| 686/695 [15:48<00:11,  1.26s/it]\u001b[A\n",
            "Iteration:  99%|█████████▉| 687/695 [15:49<00:10,  1.27s/it]\u001b[A\n",
            "Iteration:  99%|█████████▉| 688/695 [15:50<00:08,  1.27s/it]\u001b[A\n",
            "Iteration:  99%|█████████▉| 689/695 [15:52<00:07,  1.27s/it]\u001b[A\n",
            "Iteration:  99%|█████████▉| 690/695 [15:53<00:06,  1.26s/it]\u001b[A\n",
            "Iteration:  99%|█████████▉| 691/695 [15:54<00:05,  1.27s/it]\u001b[A\n",
            "Iteration: 100%|█████████▉| 692/695 [15:55<00:03,  1.27s/it]\u001b[A\n",
            "Iteration: 100%|█████████▉| 693/695 [15:57<00:02,  1.27s/it]\u001b[A\n",
            "Iteration: 100%|█████████▉| 694/695 [15:58<00:01,  1.27s/it]\u001b[A\n",
            "Iteration: 100%|██████████| 695/695 [15:59<00:00,  1.38s/it]\n",
            "Epoch:  60%|██████    | 3/5 [47:17<31:37, 948.94s/it]\n",
            "Iteration:   0%|          | 0/695 [00:00<?, ?it/s]\u001b[A\n",
            "Iteration:   0%|          | 1/695 [00:01<12:47,  1.11s/it]\u001b[A\n",
            "Iteration:   0%|          | 2/695 [00:02<13:46,  1.19s/it]\u001b[A\n",
            "Iteration:   0%|          | 3/695 [00:03<14:07,  1.22s/it]\u001b[A\n",
            "Iteration:   1%|          | 4/695 [00:04<14:25,  1.25s/it]\u001b[A\n",
            "Iteration:   1%|          | 5/695 [00:06<14:25,  1.25s/it]\u001b[A\n",
            "Iteration:   1%|          | 6/695 [00:07<14:24,  1.25s/it]\u001b[A\n",
            "Iteration:   1%|          | 7/695 [00:08<14:23,  1.26s/it]\u001b[A\n",
            "Iteration:   1%|          | 8/695 [00:09<14:30,  1.27s/it]\u001b[A\n",
            "Iteration:   1%|▏         | 9/695 [00:11<14:26,  1.26s/it]\u001b[A\n",
            "Iteration:   1%|▏         | 10/695 [00:12<14:25,  1.26s/it]\u001b[A\n",
            "Iteration:   2%|▏         | 11/695 [00:13<14:26,  1.27s/it]\u001b[A\n",
            "Iteration:   2%|▏         | 12/695 [00:15<14:28,  1.27s/it]\u001b[A\n",
            "Iteration:   2%|▏         | 13/695 [00:16<14:24,  1.27s/it]\u001b[A\n",
            "Iteration:   2%|▏         | 14/695 [00:17<14:20,  1.26s/it]\u001b[A\n",
            "Iteration:   2%|▏         | 15/695 [00:18<14:22,  1.27s/it]\u001b[A"
          ]
        },
        {
          "output_type": "stream",
          "name": "stdout",
          "text": [
            "\tGlobal step: 525 | LR: [4.754754754754755e-06, 4.754754754754755e-06] | Avg. loss: 0.289\n"
          ]
        },
        {
          "output_type": "stream",
          "name": "stderr",
          "text": [
            "\n",
            "Iteration:   2%|▏         | 16/695 [00:20<14:29,  1.28s/it]\u001b[A\n",
            "Iteration:   2%|▏         | 17/695 [00:21<14:21,  1.27s/it]\u001b[A\n",
            "Iteration:   3%|▎         | 18/695 [00:22<14:18,  1.27s/it]\u001b[A\n",
            "Iteration:   3%|▎         | 19/695 [00:23<14:18,  1.27s/it]\u001b[A\n",
            "Iteration:   3%|▎         | 20/695 [00:25<14:23,  1.28s/it]\u001b[A\n",
            "Iteration:   3%|▎         | 21/695 [00:26<14:16,  1.27s/it]\u001b[A\n",
            "Iteration:   3%|▎         | 22/695 [00:27<14:11,  1.27s/it]\u001b[A\n",
            "Iteration:   3%|▎         | 23/695 [00:29<14:10,  1.26s/it]\u001b[A\n",
            "Iteration:   3%|▎         | 24/695 [00:30<14:16,  1.28s/it]\u001b[A\n",
            "Iteration:   4%|▎         | 25/695 [00:31<14:11,  1.27s/it]\u001b[A\n",
            "Iteration:   4%|▎         | 26/695 [00:32<14:05,  1.26s/it]\u001b[A\n",
            "Iteration:   4%|▍         | 27/695 [00:34<14:04,  1.26s/it]\u001b[A\n",
            "Iteration:   4%|▍         | 28/695 [00:35<14:11,  1.28s/it]\u001b[A\n",
            "Iteration:   4%|▍         | 29/695 [00:36<14:06,  1.27s/it]\u001b[A\n",
            "Iteration:   4%|▍         | 30/695 [00:37<14:06,  1.27s/it]\u001b[A\n",
            "Iteration:   4%|▍         | 31/695 [00:39<14:00,  1.27s/it]\u001b[A\n",
            "Iteration:   5%|▍         | 32/695 [00:40<14:06,  1.28s/it]\u001b[A\n",
            "Iteration:   5%|▍         | 33/695 [00:41<13:58,  1.27s/it]\u001b[A\n",
            "Iteration:   5%|▍         | 34/695 [00:42<13:54,  1.26s/it]\u001b[A\n",
            "Iteration:   5%|▌         | 35/695 [00:44<13:52,  1.26s/it]\u001b[A\n",
            "Iteration:   5%|▌         | 36/695 [00:45<13:57,  1.27s/it]\u001b[A\n",
            "Iteration:   5%|▌         | 37/695 [00:46<13:52,  1.27s/it]\u001b[A\n",
            "Iteration:   5%|▌         | 38/695 [00:48<13:51,  1.27s/it]\u001b[A\n",
            "Iteration:   6%|▌         | 39/695 [00:49<13:52,  1.27s/it]\u001b[A\n",
            "Iteration:   6%|▌         | 40/695 [00:50<13:53,  1.27s/it]\u001b[A\n",
            "Iteration:   6%|▌         | 41/695 [00:51<13:49,  1.27s/it]\u001b[A\n",
            "Iteration:   6%|▌         | 42/695 [00:53<13:46,  1.27s/it]\u001b[A\n",
            "Iteration:   6%|▌         | 43/695 [00:54<13:46,  1.27s/it]\u001b[A\n",
            "Iteration:   6%|▋         | 44/695 [00:55<13:52,  1.28s/it]\u001b[A\n",
            "Iteration:   6%|▋         | 45/695 [00:56<13:47,  1.27s/it]\u001b[A\n",
            "Iteration:   7%|▋         | 46/695 [00:58<13:41,  1.27s/it]\u001b[A\n",
            "Iteration:   7%|▋         | 47/695 [00:59<13:43,  1.27s/it]\u001b[A\n",
            "Iteration:   7%|▋         | 48/695 [01:00<13:49,  1.28s/it]\u001b[A\n",
            "Iteration:   7%|▋         | 49/695 [01:02<13:42,  1.27s/it]\u001b[A\n",
            "Iteration:   7%|▋         | 50/695 [01:03<13:36,  1.27s/it]\u001b[A\n",
            "Iteration:   7%|▋         | 51/695 [01:04<13:33,  1.26s/it]\u001b[A\n",
            "Iteration:   7%|▋         | 52/695 [01:05<13:39,  1.27s/it]\u001b[A\n",
            "Iteration:   8%|▊         | 53/695 [01:07<13:33,  1.27s/it]\u001b[A\n",
            "Iteration:   8%|▊         | 54/695 [01:08<13:29,  1.26s/it]\u001b[A\n",
            "Iteration:   8%|▊         | 55/695 [01:09<13:29,  1.26s/it]\u001b[A\n",
            "Iteration:   8%|▊         | 56/695 [01:10<13:33,  1.27s/it]\u001b[A\n",
            "Iteration:   8%|▊         | 57/695 [01:12<13:26,  1.26s/it]\u001b[A\n",
            "Iteration:   8%|▊         | 58/695 [01:13<13:25,  1.26s/it]\u001b[A\n",
            "Iteration:   8%|▊         | 59/695 [01:14<13:21,  1.26s/it]\u001b[A\n",
            "Iteration:   9%|▊         | 60/695 [01:15<13:27,  1.27s/it]\u001b[A\n",
            "Iteration:   9%|▉         | 61/695 [01:17<13:21,  1.26s/it]\u001b[A\n",
            "Iteration:   9%|▉         | 62/695 [01:18<13:17,  1.26s/it]\u001b[A\n",
            "Iteration:   9%|▉         | 63/695 [01:19<13:17,  1.26s/it]\u001b[A\n",
            "Iteration:   9%|▉         | 64/695 [01:21<13:21,  1.27s/it]\u001b[A\n",
            "Iteration:   9%|▉         | 65/695 [01:22<13:16,  1.26s/it]\u001b[A\n",
            "Iteration:   9%|▉         | 66/695 [01:23<13:12,  1.26s/it]\u001b[A\n",
            "Iteration:  10%|▉         | 67/695 [01:24<13:15,  1.27s/it]\u001b[A\n",
            "Iteration:  10%|▉         | 68/695 [01:26<13:16,  1.27s/it]\u001b[A\n",
            "Iteration:  10%|▉         | 69/695 [01:27<13:10,  1.26s/it]\u001b[A\n",
            "Iteration:  10%|█         | 70/695 [01:28<13:07,  1.26s/it]\u001b[A\n",
            "Iteration:  10%|█         | 71/695 [01:29<13:08,  1.26s/it]\u001b[A\n",
            "Iteration:  10%|█         | 72/695 [01:31<13:09,  1.27s/it]\u001b[A\n",
            "Iteration:  11%|█         | 73/695 [01:32<13:07,  1.27s/it]\u001b[A\n",
            "Iteration:  11%|█         | 74/695 [01:33<13:02,  1.26s/it]\u001b[A\n",
            "Iteration:  11%|█         | 75/695 [01:34<13:02,  1.26s/it]\u001b[A\n",
            "Iteration:  11%|█         | 76/695 [01:36<13:08,  1.27s/it]\u001b[A\n",
            "Iteration:  11%|█         | 77/695 [01:37<13:01,  1.26s/it]\u001b[A\n",
            "Iteration:  11%|█         | 78/695 [01:38<12:58,  1.26s/it]\u001b[A\n",
            "Iteration:  11%|█▏        | 79/695 [01:39<12:55,  1.26s/it]\u001b[A\n",
            "Iteration:  12%|█▏        | 80/695 [01:41<12:58,  1.27s/it]\u001b[A\n",
            "Iteration:  12%|█▏        | 81/695 [01:42<12:54,  1.26s/it]\u001b[A\n",
            "Iteration:  12%|█▏        | 82/695 [01:43<12:51,  1.26s/it]\u001b[A\n",
            "Iteration:  12%|█▏        | 83/695 [01:45<12:51,  1.26s/it]\u001b[A\n",
            "Iteration:  12%|█▏        | 84/695 [01:46<12:54,  1.27s/it]\u001b[A\n",
            "Iteration:  12%|█▏        | 85/695 [01:47<12:50,  1.26s/it]\u001b[A\n",
            "Iteration:  12%|█▏        | 86/695 [01:48<12:47,  1.26s/it]\u001b[A\n",
            "Iteration:  13%|█▎        | 87/695 [01:50<12:48,  1.26s/it]\u001b[A\n",
            "Iteration:  13%|█▎        | 88/695 [01:51<12:48,  1.27s/it]\u001b[A\n",
            "Iteration:  13%|█▎        | 89/695 [01:52<12:44,  1.26s/it]\u001b[A\n",
            "Iteration:  13%|█▎        | 90/695 [01:53<12:39,  1.25s/it]\u001b[A\n",
            "Iteration:  13%|█▎        | 91/695 [01:55<12:38,  1.26s/it]\u001b[A\n",
            "Iteration:  13%|█▎        | 92/695 [01:56<12:44,  1.27s/it]\u001b[A\n",
            "Iteration:  13%|█▎        | 93/695 [01:57<12:42,  1.27s/it]\u001b[A\n",
            "Iteration:  14%|█▎        | 94/695 [01:58<12:39,  1.26s/it]\u001b[A\n",
            "Iteration:  14%|█▎        | 95/695 [02:00<12:38,  1.26s/it]\u001b[A\n",
            "Iteration:  14%|█▍        | 96/695 [02:01<12:42,  1.27s/it]\u001b[A\n",
            "Iteration:  14%|█▍        | 97/695 [02:02<12:38,  1.27s/it]\u001b[A\n",
            "Iteration:  14%|█▍        | 98/695 [02:03<12:33,  1.26s/it]\u001b[A\n",
            "Iteration:  14%|█▍        | 99/695 [02:05<12:31,  1.26s/it]\u001b[A\n",
            "Iteration:  14%|█▍        | 100/695 [02:06<12:35,  1.27s/it]\u001b[A\n",
            "Iteration:  15%|█▍        | 101/695 [02:07<12:30,  1.26s/it]\u001b[A\n",
            "Iteration:  15%|█▍        | 102/695 [02:09<12:29,  1.26s/it]\u001b[A\n",
            "Iteration:  15%|█▍        | 103/695 [02:10<12:29,  1.27s/it]\u001b[A\n",
            "Iteration:  15%|█▍        | 104/695 [02:11<12:33,  1.27s/it]\u001b[A\n",
            "Iteration:  15%|█▌        | 105/695 [02:12<12:29,  1.27s/it]\u001b[A\n",
            "Iteration:  15%|█▌        | 106/695 [02:14<12:26,  1.27s/it]\u001b[A\n",
            "Iteration:  15%|█▌        | 107/695 [02:15<12:26,  1.27s/it]\u001b[A\n",
            "Iteration:  16%|█▌        | 108/695 [02:16<12:24,  1.27s/it]\u001b[A\n",
            "Iteration:  16%|█▌        | 109/695 [02:17<12:19,  1.26s/it]\u001b[A\n",
            "Iteration:  16%|█▌        | 110/695 [02:19<12:17,  1.26s/it]\u001b[A\n",
            "Iteration:  16%|█▌        | 111/695 [02:20<12:16,  1.26s/it]\u001b[A\n",
            "Iteration:  16%|█▌        | 112/695 [02:21<12:21,  1.27s/it]\u001b[A\n",
            "Iteration:  16%|█▋        | 113/695 [02:22<12:17,  1.27s/it]\u001b[A\n",
            "Iteration:  16%|█▋        | 114/695 [02:24<12:15,  1.27s/it]\u001b[A"
          ]
        },
        {
          "output_type": "stream",
          "name": "stdout",
          "text": [
            "\tGlobal step: 550 | LR: [4.504504504504505e-06, 4.504504504504505e-06] | Avg. loss: 0.267\n",
            "====================\n",
            "\tEvaluating on valiadtion set!\n"
          ]
        },
        {
          "output_type": "stream",
          "name": "stderr",
          "text": [
            "\n",
            "\n",
            "Evaluating:   0%|          | 0/32 [00:00<?, ?it/s]\u001b[A\u001b[A\n",
            "\n",
            "Evaluating:   3%|▎         | 1/32 [00:01<00:37,  1.22s/it]\u001b[A\u001b[A"
          ]
        },
        {
          "output_type": "stream",
          "name": "stdout",
          "text": [
            "0.9375\n"
          ]
        },
        {
          "output_type": "stream",
          "name": "stderr",
          "text": [
            "\n",
            "\n",
            "Evaluating:   6%|▋         | 2/32 [00:01<00:22,  1.32it/s]\u001b[A\u001b[A"
          ]
        },
        {
          "output_type": "stream",
          "name": "stdout",
          "text": [
            "0.9375\n"
          ]
        },
        {
          "output_type": "stream",
          "name": "stderr",
          "text": [
            "\n",
            "\n",
            "Evaluating:   9%|▉         | 3/32 [00:02<00:17,  1.63it/s]\u001b[A\u001b[A"
          ]
        },
        {
          "output_type": "stream",
          "name": "stdout",
          "text": [
            "0.96875\n"
          ]
        },
        {
          "output_type": "stream",
          "name": "stderr",
          "text": [
            "\n",
            "\n",
            "Evaluating:  12%|█▎        | 4/32 [00:02<00:15,  1.84it/s]\u001b[A\u001b[A"
          ]
        },
        {
          "output_type": "stream",
          "name": "stdout",
          "text": [
            "0.84375\n"
          ]
        },
        {
          "output_type": "stream",
          "name": "stderr",
          "text": [
            "\n",
            "\n",
            "Evaluating:  16%|█▌        | 5/32 [00:02<00:13,  1.97it/s]\u001b[A\u001b[A"
          ]
        },
        {
          "output_type": "stream",
          "name": "stdout",
          "text": [
            "0.90625\n"
          ]
        },
        {
          "output_type": "stream",
          "name": "stderr",
          "text": [
            "\n",
            "\n",
            "Evaluating:  19%|█▉        | 6/32 [00:03<00:12,  2.08it/s]\u001b[A\u001b[A"
          ]
        },
        {
          "output_type": "stream",
          "name": "stdout",
          "text": [
            "0.875\n"
          ]
        },
        {
          "output_type": "stream",
          "name": "stderr",
          "text": [
            "\n",
            "\n",
            "Evaluating:  22%|██▏       | 7/32 [00:03<00:11,  2.13it/s]\u001b[A\u001b[A"
          ]
        },
        {
          "output_type": "stream",
          "name": "stdout",
          "text": [
            "0.90625\n"
          ]
        },
        {
          "output_type": "stream",
          "name": "stderr",
          "text": [
            "\n",
            "\n",
            "Evaluating:  25%|██▌       | 8/32 [00:04<00:11,  2.17it/s]\u001b[A\u001b[A"
          ]
        },
        {
          "output_type": "stream",
          "name": "stdout",
          "text": [
            "0.875\n"
          ]
        },
        {
          "output_type": "stream",
          "name": "stderr",
          "text": [
            "\n",
            "\n",
            "Evaluating:  28%|██▊       | 9/32 [00:04<00:10,  2.21it/s]\u001b[A\u001b[A"
          ]
        },
        {
          "output_type": "stream",
          "name": "stdout",
          "text": [
            "0.84375\n"
          ]
        },
        {
          "output_type": "stream",
          "name": "stderr",
          "text": [
            "\n",
            "\n",
            "Evaluating:  31%|███▏      | 10/32 [00:05<00:09,  2.23it/s]\u001b[A\u001b[A"
          ]
        },
        {
          "output_type": "stream",
          "name": "stdout",
          "text": [
            "0.875\n"
          ]
        },
        {
          "output_type": "stream",
          "name": "stderr",
          "text": [
            "\n",
            "\n",
            "Evaluating:  34%|███▍      | 11/32 [00:05<00:09,  2.24it/s]\u001b[A\u001b[A"
          ]
        },
        {
          "output_type": "stream",
          "name": "stdout",
          "text": [
            "0.9375\n"
          ]
        },
        {
          "output_type": "stream",
          "name": "stderr",
          "text": [
            "\n",
            "\n",
            "Evaluating:  38%|███▊      | 12/32 [00:06<00:08,  2.26it/s]\u001b[A\u001b[A"
          ]
        },
        {
          "output_type": "stream",
          "name": "stdout",
          "text": [
            "0.9375\n"
          ]
        },
        {
          "output_type": "stream",
          "name": "stderr",
          "text": [
            "\n",
            "\n",
            "Evaluating:  41%|████      | 13/32 [00:06<00:08,  2.27it/s]\u001b[A\u001b[A"
          ]
        },
        {
          "output_type": "stream",
          "name": "stdout",
          "text": [
            "0.875\n"
          ]
        },
        {
          "output_type": "stream",
          "name": "stderr",
          "text": [
            "\n",
            "\n",
            "Evaluating:  44%|████▍     | 14/32 [00:06<00:07,  2.26it/s]\u001b[A\u001b[A"
          ]
        },
        {
          "output_type": "stream",
          "name": "stdout",
          "text": [
            "0.90625\n"
          ]
        },
        {
          "output_type": "stream",
          "name": "stderr",
          "text": [
            "\n",
            "\n",
            "Evaluating:  47%|████▋     | 15/32 [00:07<00:07,  2.27it/s]\u001b[A\u001b[A"
          ]
        },
        {
          "output_type": "stream",
          "name": "stdout",
          "text": [
            "0.90625\n"
          ]
        },
        {
          "output_type": "stream",
          "name": "stderr",
          "text": [
            "\n",
            "\n",
            "Evaluating:  50%|█████     | 16/32 [00:07<00:07,  2.28it/s]\u001b[A\u001b[A"
          ]
        },
        {
          "output_type": "stream",
          "name": "stdout",
          "text": [
            "0.90625\n"
          ]
        },
        {
          "output_type": "stream",
          "name": "stderr",
          "text": [
            "\n",
            "\n",
            "Evaluating:  53%|█████▎    | 17/32 [00:08<00:06,  2.27it/s]\u001b[A\u001b[A"
          ]
        },
        {
          "output_type": "stream",
          "name": "stdout",
          "text": [
            "0.90625\n"
          ]
        },
        {
          "output_type": "stream",
          "name": "stderr",
          "text": [
            "\n",
            "\n",
            "Evaluating:  56%|█████▋    | 18/32 [00:08<00:06,  2.27it/s]\u001b[A\u001b[A"
          ]
        },
        {
          "output_type": "stream",
          "name": "stdout",
          "text": [
            "0.84375\n"
          ]
        },
        {
          "output_type": "stream",
          "name": "stderr",
          "text": [
            "\n",
            "\n",
            "Evaluating:  59%|█████▉    | 19/32 [00:09<00:05,  2.27it/s]\u001b[A\u001b[A"
          ]
        },
        {
          "output_type": "stream",
          "name": "stdout",
          "text": [
            "0.84375\n"
          ]
        },
        {
          "output_type": "stream",
          "name": "stderr",
          "text": [
            "\n",
            "\n",
            "Evaluating:  62%|██████▎   | 20/32 [00:09<00:05,  2.27it/s]\u001b[A\u001b[A"
          ]
        },
        {
          "output_type": "stream",
          "name": "stdout",
          "text": [
            "0.875\n"
          ]
        },
        {
          "output_type": "stream",
          "name": "stderr",
          "text": [
            "\n",
            "\n",
            "Evaluating:  66%|██████▌   | 21/32 [00:09<00:04,  2.28it/s]\u001b[A\u001b[A"
          ]
        },
        {
          "output_type": "stream",
          "name": "stdout",
          "text": [
            "0.75\n"
          ]
        },
        {
          "output_type": "stream",
          "name": "stderr",
          "text": [
            "\n",
            "\n",
            "Evaluating:  69%|██████▉   | 22/32 [00:10<00:04,  2.29it/s]\u001b[A\u001b[A"
          ]
        },
        {
          "output_type": "stream",
          "name": "stdout",
          "text": [
            "0.78125\n"
          ]
        },
        {
          "output_type": "stream",
          "name": "stderr",
          "text": [
            "\n",
            "\n",
            "Evaluating:  72%|███████▏  | 23/32 [00:10<00:03,  2.28it/s]\u001b[A\u001b[A"
          ]
        },
        {
          "output_type": "stream",
          "name": "stdout",
          "text": [
            "0.84375\n"
          ]
        },
        {
          "output_type": "stream",
          "name": "stderr",
          "text": [
            "\n",
            "\n",
            "Evaluating:  75%|███████▌  | 24/32 [00:11<00:03,  2.27it/s]\u001b[A\u001b[A"
          ]
        },
        {
          "output_type": "stream",
          "name": "stdout",
          "text": [
            "0.8125\n"
          ]
        },
        {
          "output_type": "stream",
          "name": "stderr",
          "text": [
            "\n",
            "\n",
            "Evaluating:  78%|███████▊  | 25/32 [00:11<00:03,  2.27it/s]\u001b[A\u001b[A"
          ]
        },
        {
          "output_type": "stream",
          "name": "stdout",
          "text": [
            "0.8125\n"
          ]
        },
        {
          "output_type": "stream",
          "name": "stderr",
          "text": [
            "\n",
            "\n",
            "Evaluating:  81%|████████▏ | 26/32 [00:12<00:02,  2.27it/s]\u001b[A\u001b[A"
          ]
        },
        {
          "output_type": "stream",
          "name": "stdout",
          "text": [
            "0.78125\n"
          ]
        },
        {
          "output_type": "stream",
          "name": "stderr",
          "text": [
            "\n",
            "\n",
            "Evaluating:  84%|████████▍ | 27/32 [00:12<00:02,  2.28it/s]\u001b[A\u001b[A"
          ]
        },
        {
          "output_type": "stream",
          "name": "stdout",
          "text": [
            "0.90625\n"
          ]
        },
        {
          "output_type": "stream",
          "name": "stderr",
          "text": [
            "\n",
            "\n",
            "Evaluating:  88%|████████▊ | 28/32 [00:13<00:01,  2.28it/s]\u001b[A\u001b[A"
          ]
        },
        {
          "output_type": "stream",
          "name": "stdout",
          "text": [
            "0.84375\n"
          ]
        },
        {
          "output_type": "stream",
          "name": "stderr",
          "text": [
            "\n",
            "\n",
            "Evaluating:  91%|█████████ | 29/32 [00:13<00:01,  2.28it/s]\u001b[A\u001b[A"
          ]
        },
        {
          "output_type": "stream",
          "name": "stdout",
          "text": [
            "0.8125\n"
          ]
        },
        {
          "output_type": "stream",
          "name": "stderr",
          "text": [
            "\n",
            "\n",
            "Evaluating:  94%|█████████▍| 30/32 [00:13<00:00,  2.28it/s]\u001b[A\u001b[A"
          ]
        },
        {
          "output_type": "stream",
          "name": "stdout",
          "text": [
            "0.8125\n"
          ]
        },
        {
          "output_type": "stream",
          "name": "stderr",
          "text": [
            "\n",
            "\n",
            "Evaluating:  97%|█████████▋| 31/32 [00:14<00:00,  2.28it/s]\u001b[A\u001b[A\n",
            "\n",
            "Evaluating: 100%|██████████| 32/32 [00:14<00:00,  2.20it/s]"
          ]
        },
        {
          "output_type": "stream",
          "name": "stdout",
          "text": [
            "0.6875\n",
            "1.0\n",
            "== Finished evaluating model: next_sentence_cls_0 ==\n",
            "\tMean evaluation acc: 0.867\n"
          ]
        },
        {
          "output_type": "stream",
          "name": "stderr",
          "text": [
            "\n",
            "\n",
            "Iteration:  17%|█▋        | 115/695 [02:45<1:11:21,  7.38s/it]\u001b[A"
          ]
        },
        {
          "output_type": "stream",
          "name": "stdout",
          "text": [
            "\tEvaluation accuracy: 0.867 | Stale count: 0\n",
            "====================\n"
          ]
        },
        {
          "output_type": "stream",
          "name": "stderr",
          "text": [
            "\n",
            "Iteration:  17%|█▋        | 116/695 [02:46<51:23,  5.32s/it]  \u001b[A\n",
            "Iteration:  17%|█▋        | 117/695 [02:47<39:27,  4.10s/it]\u001b[A\n",
            "Iteration:  17%|█▋        | 118/695 [02:48<31:08,  3.24s/it]\u001b[A\n",
            "Iteration:  17%|█▋        | 119/695 [02:50<25:23,  2.64s/it]\u001b[A\n",
            "Iteration:  17%|█▋        | 120/695 [02:51<21:25,  2.24s/it]\u001b[A\n",
            "Iteration:  17%|█▋        | 121/695 [02:52<18:31,  1.94s/it]\u001b[A\n",
            "Iteration:  18%|█▊        | 122/695 [02:53<16:29,  1.73s/it]\u001b[A\n",
            "Iteration:  18%|█▊        | 123/695 [02:55<15:07,  1.59s/it]\u001b[A\n",
            "Iteration:  18%|█▊        | 124/695 [02:56<14:16,  1.50s/it]\u001b[A\n",
            "Iteration:  18%|█▊        | 125/695 [02:57<13:32,  1.43s/it]\u001b[A\n",
            "Iteration:  18%|█▊        | 126/695 [02:58<13:03,  1.38s/it]\u001b[A\n",
            "Iteration:  18%|█▊        | 127/695 [03:00<12:42,  1.34s/it]\u001b[A\n",
            "Iteration:  18%|█▊        | 128/695 [03:01<12:34,  1.33s/it]\u001b[A\n",
            "Iteration:  19%|█▊        | 129/695 [03:02<12:23,  1.31s/it]\u001b[A\n",
            "Iteration:  19%|█▊        | 130/695 [03:04<12:16,  1.30s/it]\u001b[A\n",
            "Iteration:  19%|█▉        | 131/695 [03:05<12:10,  1.30s/it]\u001b[A\n",
            "Iteration:  19%|█▉        | 132/695 [03:06<12:11,  1.30s/it]\u001b[A\n",
            "Iteration:  19%|█▉        | 133/695 [03:07<12:04,  1.29s/it]\u001b[A\n",
            "Iteration:  19%|█▉        | 134/695 [03:09<12:00,  1.28s/it]\u001b[A\n",
            "Iteration:  19%|█▉        | 135/695 [03:10<11:57,  1.28s/it]\u001b[A\n",
            "Iteration:  20%|█▉        | 136/695 [03:11<12:00,  1.29s/it]\u001b[A\n",
            "Iteration:  20%|█▉        | 137/695 [03:13<11:56,  1.28s/it]\u001b[A\n",
            "Iteration:  20%|█▉        | 138/695 [03:14<11:54,  1.28s/it]\u001b[A\n",
            "Iteration:  20%|██        | 139/695 [03:15<11:53,  1.28s/it]\u001b[A\n",
            "Iteration:  20%|██        | 140/695 [03:16<11:53,  1.29s/it]\u001b[A\n",
            "Iteration:  20%|██        | 141/695 [03:18<11:50,  1.28s/it]\u001b[A\n",
            "Iteration:  20%|██        | 142/695 [03:19<11:45,  1.28s/it]\u001b[A\n",
            "Iteration:  21%|██        | 143/695 [03:20<11:43,  1.27s/it]\u001b[A\n",
            "Iteration:  21%|██        | 144/695 [03:22<11:47,  1.28s/it]\u001b[A\n",
            "Iteration:  21%|██        | 145/695 [03:23<11:42,  1.28s/it]\u001b[A\n",
            "Iteration:  21%|██        | 146/695 [03:24<11:39,  1.27s/it]\u001b[A\n",
            "Iteration:  21%|██        | 147/695 [03:25<11:38,  1.28s/it]\u001b[A\n",
            "Iteration:  21%|██▏       | 148/695 [03:27<11:43,  1.29s/it]\u001b[A\n",
            "Iteration:  21%|██▏       | 149/695 [03:28<11:38,  1.28s/it]\u001b[A\n",
            "Iteration:  22%|██▏       | 150/695 [03:29<11:34,  1.27s/it]\u001b[A\n",
            "Iteration:  22%|██▏       | 151/695 [03:30<11:34,  1.28s/it]\u001b[A\n",
            "Iteration:  22%|██▏       | 152/695 [03:32<11:36,  1.28s/it]\u001b[A\n",
            "Iteration:  22%|██▏       | 153/695 [03:33<11:31,  1.28s/it]\u001b[A\n",
            "Iteration:  22%|██▏       | 154/695 [03:34<11:28,  1.27s/it]\u001b[A\n",
            "Iteration:  22%|██▏       | 155/695 [03:36<11:25,  1.27s/it]\u001b[A\n",
            "Iteration:  22%|██▏       | 156/695 [03:37<11:27,  1.28s/it]\u001b[A\n",
            "Iteration:  23%|██▎       | 157/695 [03:38<11:23,  1.27s/it]\u001b[A\n",
            "Iteration:  23%|██▎       | 158/695 [03:39<11:19,  1.27s/it]\u001b[A\n",
            "Iteration:  23%|██▎       | 159/695 [03:41<11:16,  1.26s/it]\u001b[A\n",
            "Iteration:  23%|██▎       | 160/695 [03:42<11:21,  1.27s/it]\u001b[A\n",
            "Iteration:  23%|██▎       | 161/695 [03:43<11:15,  1.26s/it]\u001b[A\n",
            "Iteration:  23%|██▎       | 162/695 [03:44<11:13,  1.26s/it]\u001b[A\n",
            "Iteration:  23%|██▎       | 163/695 [03:46<11:10,  1.26s/it]\u001b[A\n",
            "Iteration:  24%|██▎       | 164/695 [03:47<11:15,  1.27s/it]\u001b[A\n",
            "Iteration:  24%|██▎       | 165/695 [03:48<11:09,  1.26s/it]\u001b[A\n",
            "Iteration:  24%|██▍       | 166/695 [03:49<11:06,  1.26s/it]\u001b[A\n",
            "Iteration:  24%|██▍       | 167/695 [03:51<11:07,  1.26s/it]\u001b[A\n",
            "Iteration:  24%|██▍       | 168/695 [03:52<11:11,  1.27s/it]\u001b[A\n",
            "Iteration:  24%|██▍       | 169/695 [03:53<11:03,  1.26s/it]\u001b[A\n",
            "Iteration:  24%|██▍       | 170/695 [03:55<10:59,  1.26s/it]\u001b[A\n",
            "Iteration:  25%|██▍       | 171/695 [03:56<10:57,  1.25s/it]\u001b[A\n",
            "Iteration:  25%|██▍       | 172/695 [03:57<11:00,  1.26s/it]\u001b[A\n",
            "Iteration:  25%|██▍       | 173/695 [03:58<10:58,  1.26s/it]\u001b[A\n",
            "Iteration:  25%|██▌       | 174/695 [04:00<10:53,  1.25s/it]\u001b[A\n",
            "Iteration:  25%|██▌       | 175/695 [04:01<10:52,  1.25s/it]\u001b[A\n",
            "Iteration:  25%|██▌       | 176/695 [04:02<10:56,  1.26s/it]\u001b[A\n",
            "Iteration:  25%|██▌       | 177/695 [04:03<10:54,  1.26s/it]\u001b[A\n",
            "Iteration:  26%|██▌       | 178/695 [04:05<10:50,  1.26s/it]\u001b[A\n",
            "Iteration:  26%|██▌       | 179/695 [04:06<10:49,  1.26s/it]\u001b[A\n",
            "Iteration:  26%|██▌       | 180/695 [04:07<10:52,  1.27s/it]\u001b[A\n",
            "Iteration:  26%|██▌       | 181/695 [04:08<10:49,  1.26s/it]\u001b[A\n",
            "Iteration:  26%|██▌       | 182/695 [04:10<10:47,  1.26s/it]\u001b[A\n",
            "Iteration:  26%|██▋       | 183/695 [04:11<10:45,  1.26s/it]\u001b[A\n",
            "Iteration:  26%|██▋       | 184/695 [04:12<10:48,  1.27s/it]\u001b[A\n",
            "Iteration:  27%|██▋       | 185/695 [04:13<10:44,  1.26s/it]\u001b[A\n",
            "Iteration:  27%|██▋       | 186/695 [04:15<10:43,  1.26s/it]\u001b[A\n",
            "Iteration:  27%|██▋       | 187/695 [04:16<10:43,  1.27s/it]\u001b[A\n",
            "Iteration:  27%|██▋       | 188/695 [04:17<10:44,  1.27s/it]\u001b[A\n",
            "Iteration:  27%|██▋       | 189/695 [04:19<10:40,  1.26s/it]\u001b[A\n",
            "Iteration:  27%|██▋       | 190/695 [04:20<10:37,  1.26s/it]\u001b[A\n",
            "Iteration:  27%|██▋       | 191/695 [04:21<10:36,  1.26s/it]\u001b[A\n",
            "Iteration:  28%|██▊       | 192/695 [04:22<10:40,  1.27s/it]\u001b[A\n",
            "Iteration:  28%|██▊       | 193/695 [04:24<10:36,  1.27s/it]\u001b[A\n",
            "Iteration:  28%|██▊       | 194/695 [04:25<10:32,  1.26s/it]\u001b[A\n",
            "Iteration:  28%|██▊       | 195/695 [04:26<10:32,  1.26s/it]\u001b[A\n",
            "Iteration:  28%|██▊       | 196/695 [04:27<10:34,  1.27s/it]\u001b[A\n",
            "Iteration:  28%|██▊       | 197/695 [04:29<10:32,  1.27s/it]\u001b[A\n",
            "Iteration:  28%|██▊       | 198/695 [04:30<10:26,  1.26s/it]\u001b[A\n",
            "Iteration:  29%|██▊       | 199/695 [04:31<10:28,  1.27s/it]\u001b[A\n",
            "Iteration:  29%|██▉       | 200/695 [04:32<10:30,  1.27s/it]\u001b[A\n",
            "Iteration:  29%|██▉       | 201/695 [04:34<10:26,  1.27s/it]\u001b[A\n",
            "Iteration:  29%|██▉       | 202/695 [04:35<10:23,  1.27s/it]\u001b[A\n",
            "Iteration:  29%|██▉       | 203/695 [04:36<10:23,  1.27s/it]\u001b[A\n",
            "Iteration:  29%|██▉       | 204/695 [04:38<10:27,  1.28s/it]\u001b[A\n",
            "Iteration:  29%|██▉       | 205/695 [04:39<10:24,  1.27s/it]\u001b[A\n",
            "Iteration:  30%|██▉       | 206/695 [04:40<10:20,  1.27s/it]\u001b[A\n",
            "Iteration:  30%|██▉       | 207/695 [04:41<10:16,  1.26s/it]\u001b[A\n",
            "Iteration:  30%|██▉       | 208/695 [04:43<10:19,  1.27s/it]\u001b[A\n",
            "Iteration:  30%|███       | 209/695 [04:44<10:17,  1.27s/it]\u001b[A\n",
            "Iteration:  30%|███       | 210/695 [04:45<10:14,  1.27s/it]\u001b[A\n",
            "Iteration:  30%|███       | 211/695 [04:46<10:12,  1.26s/it]\u001b[A\n",
            "Iteration:  31%|███       | 212/695 [04:48<10:17,  1.28s/it]\u001b[A\n",
            "Iteration:  31%|███       | 213/695 [04:49<10:12,  1.27s/it]\u001b[A\n",
            "Iteration:  31%|███       | 214/695 [04:50<10:09,  1.27s/it]\u001b[A\n",
            "Iteration:  31%|███       | 215/695 [04:52<10:08,  1.27s/it]\u001b[A"
          ]
        },
        {
          "output_type": "stream",
          "name": "stdout",
          "text": [
            "\tGlobal step: 575 | LR: [4.254254254254255e-06, 4.254254254254255e-06] | Avg. loss: 0.255\n"
          ]
        },
        {
          "output_type": "stream",
          "name": "stderr",
          "text": [
            "\n",
            "Iteration:  31%|███       | 216/695 [04:53<10:12,  1.28s/it]\u001b[A\n",
            "Iteration:  31%|███       | 217/695 [04:54<10:06,  1.27s/it]\u001b[A\n",
            "Iteration:  31%|███▏      | 218/695 [04:55<10:04,  1.27s/it]\u001b[A\n",
            "Iteration:  32%|███▏      | 219/695 [04:57<10:03,  1.27s/it]\u001b[A\n",
            "Iteration:  32%|███▏      | 220/695 [04:58<10:07,  1.28s/it]\u001b[A\n",
            "Iteration:  32%|███▏      | 221/695 [04:59<10:03,  1.27s/it]\u001b[A\n",
            "Iteration:  32%|███▏      | 222/695 [05:00<10:00,  1.27s/it]\u001b[A\n",
            "Iteration:  32%|███▏      | 223/695 [05:02<09:59,  1.27s/it]\u001b[A\n",
            "Iteration:  32%|███▏      | 224/695 [05:03<10:02,  1.28s/it]\u001b[A\n",
            "Iteration:  32%|███▏      | 225/695 [05:04<09:58,  1.27s/it]\u001b[A\n",
            "Iteration:  33%|███▎      | 226/695 [05:05<09:54,  1.27s/it]\u001b[A\n",
            "Iteration:  33%|███▎      | 227/695 [05:07<09:52,  1.27s/it]\u001b[A\n",
            "Iteration:  33%|███▎      | 228/695 [05:08<09:53,  1.27s/it]\u001b[A\n",
            "Iteration:  33%|███▎      | 229/695 [05:09<09:49,  1.27s/it]\u001b[A\n",
            "Iteration:  33%|███▎      | 230/695 [05:11<09:49,  1.27s/it]\u001b[A\n",
            "Iteration:  33%|███▎      | 231/695 [05:12<09:48,  1.27s/it]\u001b[A\n",
            "Iteration:  33%|███▎      | 232/695 [05:13<09:50,  1.27s/it]\u001b[A\n",
            "Iteration:  34%|███▎      | 233/695 [05:14<09:45,  1.27s/it]\u001b[A\n",
            "Iteration:  34%|███▎      | 234/695 [05:16<09:41,  1.26s/it]\u001b[A\n",
            "Iteration:  34%|███▍      | 235/695 [05:17<09:40,  1.26s/it]\u001b[A\n",
            "Iteration:  34%|███▍      | 236/695 [05:18<09:41,  1.27s/it]\u001b[A\n",
            "Iteration:  34%|███▍      | 237/695 [05:19<09:38,  1.26s/it]\u001b[A\n",
            "Iteration:  34%|███▍      | 238/695 [05:21<09:35,  1.26s/it]\u001b[A\n",
            "Iteration:  34%|███▍      | 239/695 [05:22<09:35,  1.26s/it]\u001b[A\n",
            "Iteration:  35%|███▍      | 240/695 [05:23<09:39,  1.27s/it]\u001b[A\n",
            "Iteration:  35%|███▍      | 241/695 [05:24<09:35,  1.27s/it]\u001b[A\n",
            "Iteration:  35%|███▍      | 242/695 [05:26<09:33,  1.27s/it]\u001b[A\n",
            "Iteration:  35%|███▍      | 243/695 [05:27<09:32,  1.27s/it]\u001b[A\n",
            "Iteration:  35%|███▌      | 244/695 [05:28<09:37,  1.28s/it]\u001b[A\n",
            "Iteration:  35%|███▌      | 245/695 [05:30<09:31,  1.27s/it]\u001b[A\n",
            "Iteration:  35%|███▌      | 246/695 [05:31<09:29,  1.27s/it]\u001b[A\n",
            "Iteration:  36%|███▌      | 247/695 [05:32<09:28,  1.27s/it]\u001b[A\n",
            "Iteration:  36%|███▌      | 248/695 [05:33<09:30,  1.28s/it]\u001b[A\n",
            "Iteration:  36%|███▌      | 249/695 [05:35<09:25,  1.27s/it]\u001b[A\n",
            "Iteration:  36%|███▌      | 250/695 [05:36<09:24,  1.27s/it]\u001b[A\n",
            "Iteration:  36%|███▌      | 251/695 [05:37<09:23,  1.27s/it]\u001b[A\n",
            "Iteration:  36%|███▋      | 252/695 [05:38<09:25,  1.28s/it]\u001b[A\n",
            "Iteration:  36%|███▋      | 253/695 [05:40<09:22,  1.27s/it]\u001b[A\n",
            "Iteration:  37%|███▋      | 254/695 [05:41<09:18,  1.27s/it]\u001b[A\n",
            "Iteration:  37%|███▋      | 255/695 [05:42<09:17,  1.27s/it]\u001b[A\n",
            "Iteration:  37%|███▋      | 256/695 [05:44<09:19,  1.28s/it]\u001b[A\n",
            "Iteration:  37%|███▋      | 257/695 [05:45<09:15,  1.27s/it]\u001b[A\n",
            "Iteration:  37%|███▋      | 258/695 [05:46<09:12,  1.26s/it]\u001b[A\n",
            "Iteration:  37%|███▋      | 259/695 [05:47<09:10,  1.26s/it]\u001b[A\n",
            "Iteration:  37%|███▋      | 260/695 [05:49<09:12,  1.27s/it]\u001b[A\n",
            "Iteration:  38%|███▊      | 261/695 [05:50<09:09,  1.27s/it]\u001b[A\n",
            "Iteration:  38%|███▊      | 262/695 [05:51<09:07,  1.26s/it]\u001b[A\n",
            "Iteration:  38%|███▊      | 263/695 [05:52<09:10,  1.27s/it]\u001b[A\n",
            "Iteration:  38%|███▊      | 264/695 [05:54<09:09,  1.27s/it]\u001b[A\n",
            "Iteration:  38%|███▊      | 265/695 [05:55<09:03,  1.26s/it]\u001b[A\n",
            "Iteration:  38%|███▊      | 266/695 [05:56<09:00,  1.26s/it]\u001b[A\n",
            "Iteration:  38%|███▊      | 267/695 [05:57<08:59,  1.26s/it]\u001b[A\n",
            "Iteration:  39%|███▊      | 268/695 [05:59<09:01,  1.27s/it]\u001b[A\n",
            "Iteration:  39%|███▊      | 269/695 [06:00<08:58,  1.26s/it]\u001b[A\n",
            "Iteration:  39%|███▉      | 270/695 [06:01<08:57,  1.26s/it]\u001b[A\n",
            "Iteration:  39%|███▉      | 271/695 [06:03<08:56,  1.27s/it]\u001b[A\n",
            "Iteration:  39%|███▉      | 272/695 [06:04<08:59,  1.28s/it]\u001b[A\n",
            "Iteration:  39%|███▉      | 273/695 [06:05<08:54,  1.27s/it]\u001b[A\n",
            "Iteration:  39%|███▉      | 274/695 [06:06<08:51,  1.26s/it]\u001b[A\n",
            "Iteration:  40%|███▉      | 275/695 [06:08<08:49,  1.26s/it]\u001b[A\n",
            "Iteration:  40%|███▉      | 276/695 [06:09<08:52,  1.27s/it]\u001b[A\n",
            "Iteration:  40%|███▉      | 277/695 [06:10<08:48,  1.26s/it]\u001b[A\n",
            "Iteration:  40%|████      | 278/695 [06:11<08:47,  1.26s/it]\u001b[A\n",
            "Iteration:  40%|████      | 279/695 [06:13<08:45,  1.26s/it]\u001b[A\n",
            "Iteration:  40%|████      | 280/695 [06:14<08:48,  1.27s/it]\u001b[A\n",
            "Iteration:  40%|████      | 281/695 [06:15<08:43,  1.27s/it]\u001b[A\n",
            "Iteration:  41%|████      | 282/695 [06:16<08:41,  1.26s/it]\u001b[A\n",
            "Iteration:  41%|████      | 283/695 [06:18<08:41,  1.27s/it]\u001b[A\n",
            "Iteration:  41%|████      | 284/695 [06:19<08:42,  1.27s/it]\u001b[A\n",
            "Iteration:  41%|████      | 285/695 [06:20<08:37,  1.26s/it]\u001b[A\n",
            "Iteration:  41%|████      | 286/695 [06:22<08:36,  1.26s/it]\u001b[A\n",
            "Iteration:  41%|████▏     | 287/695 [06:23<08:35,  1.26s/it]\u001b[A\n",
            "Iteration:  41%|████▏     | 288/695 [06:24<08:37,  1.27s/it]\u001b[A\n",
            "Iteration:  42%|████▏     | 289/695 [06:25<08:33,  1.26s/it]\u001b[A\n",
            "Iteration:  42%|████▏     | 290/695 [06:27<08:30,  1.26s/it]\u001b[A\n",
            "Iteration:  42%|████▏     | 291/695 [06:28<08:29,  1.26s/it]\u001b[A\n",
            "Iteration:  42%|████▏     | 292/695 [06:29<08:31,  1.27s/it]\u001b[A\n",
            "Iteration:  42%|████▏     | 293/695 [06:30<08:26,  1.26s/it]\u001b[A\n",
            "Iteration:  42%|████▏     | 294/695 [06:32<08:23,  1.26s/it]\u001b[A\n",
            "Iteration:  42%|████▏     | 295/695 [06:33<08:22,  1.26s/it]\u001b[A\n",
            "Iteration:  43%|████▎     | 296/695 [06:34<08:26,  1.27s/it]\u001b[A\n",
            "Iteration:  43%|████▎     | 297/695 [06:35<08:22,  1.26s/it]\u001b[A\n",
            "Iteration:  43%|████▎     | 298/695 [06:37<08:20,  1.26s/it]\u001b[A\n",
            "Iteration:  43%|████▎     | 299/695 [06:38<08:18,  1.26s/it]\u001b[A\n",
            "Iteration:  43%|████▎     | 300/695 [06:39<08:20,  1.27s/it]\u001b[A\n",
            "Iteration:  43%|████▎     | 301/695 [06:40<08:18,  1.27s/it]\u001b[A\n",
            "Iteration:  43%|████▎     | 302/695 [06:42<08:17,  1.27s/it]\u001b[A\n",
            "Iteration:  44%|████▎     | 303/695 [06:43<08:15,  1.26s/it]\u001b[A\n",
            "Iteration:  44%|████▎     | 304/695 [06:44<08:16,  1.27s/it]\u001b[A\n",
            "Iteration:  44%|████▍     | 305/695 [06:46<08:13,  1.27s/it]\u001b[A\n",
            "Iteration:  44%|████▍     | 306/695 [06:47<08:10,  1.26s/it]\u001b[A\n",
            "Iteration:  44%|████▍     | 307/695 [06:48<08:09,  1.26s/it]\u001b[A\n",
            "Iteration:  44%|████▍     | 308/695 [06:49<08:11,  1.27s/it]\u001b[A\n",
            "Iteration:  44%|████▍     | 309/695 [06:51<08:08,  1.26s/it]\u001b[A\n",
            "Iteration:  45%|████▍     | 310/695 [06:52<08:06,  1.26s/it]\u001b[A\n",
            "Iteration:  45%|████▍     | 311/695 [06:53<08:05,  1.26s/it]\u001b[A\n",
            "Iteration:  45%|████▍     | 312/695 [06:54<08:06,  1.27s/it]\u001b[A\n",
            "Iteration:  45%|████▌     | 313/695 [06:56<08:02,  1.26s/it]\u001b[A\n",
            "Iteration:  45%|████▌     | 314/695 [06:57<08:00,  1.26s/it]\u001b[A"
          ]
        },
        {
          "output_type": "stream",
          "name": "stdout",
          "text": [
            "\tGlobal step: 600 | LR: [4.004004004004005e-06, 4.004004004004005e-06] | Avg. loss: 0.260\n",
            "====================\n",
            "\tEvaluating on valiadtion set!\n"
          ]
        },
        {
          "output_type": "stream",
          "name": "stderr",
          "text": [
            "\n",
            "\n",
            "Evaluating:   0%|          | 0/32 [00:00<?, ?it/s]\u001b[A\u001b[A\n",
            "\n",
            "Evaluating:   3%|▎         | 1/32 [00:01<00:37,  1.23s/it]\u001b[A\u001b[A"
          ]
        },
        {
          "output_type": "stream",
          "name": "stdout",
          "text": [
            "1.0\n"
          ]
        },
        {
          "output_type": "stream",
          "name": "stderr",
          "text": [
            "\n",
            "\n",
            "Evaluating:   6%|▋         | 2/32 [00:01<00:22,  1.31it/s]\u001b[A\u001b[A"
          ]
        },
        {
          "output_type": "stream",
          "name": "stdout",
          "text": [
            "0.96875\n"
          ]
        },
        {
          "output_type": "stream",
          "name": "stderr",
          "text": [
            "\n",
            "\n",
            "Evaluating:   9%|▉         | 3/32 [00:02<00:17,  1.62it/s]\u001b[A\u001b[A"
          ]
        },
        {
          "output_type": "stream",
          "name": "stdout",
          "text": [
            "0.96875\n"
          ]
        },
        {
          "output_type": "stream",
          "name": "stderr",
          "text": [
            "\n",
            "\n",
            "Evaluating:  12%|█▎        | 4/32 [00:02<00:15,  1.83it/s]\u001b[A\u001b[A"
          ]
        },
        {
          "output_type": "stream",
          "name": "stdout",
          "text": [
            "0.90625\n"
          ]
        },
        {
          "output_type": "stream",
          "name": "stderr",
          "text": [
            "\n",
            "\n",
            "Evaluating:  16%|█▌        | 5/32 [00:02<00:13,  1.97it/s]\u001b[A\u001b[A"
          ]
        },
        {
          "output_type": "stream",
          "name": "stdout",
          "text": [
            "0.90625\n"
          ]
        },
        {
          "output_type": "stream",
          "name": "stderr",
          "text": [
            "\n",
            "\n",
            "Evaluating:  19%|█▉        | 6/32 [00:03<00:12,  2.07it/s]\u001b[A\u001b[A"
          ]
        },
        {
          "output_type": "stream",
          "name": "stdout",
          "text": [
            "0.90625\n"
          ]
        },
        {
          "output_type": "stream",
          "name": "stderr",
          "text": [
            "\n",
            "\n",
            "Evaluating:  22%|██▏       | 7/32 [00:03<00:11,  2.13it/s]\u001b[A\u001b[A"
          ]
        },
        {
          "output_type": "stream",
          "name": "stdout",
          "text": [
            "0.9375\n"
          ]
        },
        {
          "output_type": "stream",
          "name": "stderr",
          "text": [
            "\n",
            "\n",
            "Evaluating:  25%|██▌       | 8/32 [00:04<00:11,  2.17it/s]\u001b[A\u001b[A"
          ]
        },
        {
          "output_type": "stream",
          "name": "stdout",
          "text": [
            "0.9375\n"
          ]
        },
        {
          "output_type": "stream",
          "name": "stderr",
          "text": [
            "\n",
            "\n",
            "Evaluating:  28%|██▊       | 9/32 [00:04<00:10,  2.21it/s]\u001b[A\u001b[A"
          ]
        },
        {
          "output_type": "stream",
          "name": "stdout",
          "text": [
            "1.0\n"
          ]
        },
        {
          "output_type": "stream",
          "name": "stderr",
          "text": [
            "\n",
            "\n",
            "Evaluating:  31%|███▏      | 10/32 [00:05<00:09,  2.22it/s]\u001b[A\u001b[A"
          ]
        },
        {
          "output_type": "stream",
          "name": "stdout",
          "text": [
            "0.875\n"
          ]
        },
        {
          "output_type": "stream",
          "name": "stderr",
          "text": [
            "\n",
            "\n",
            "Evaluating:  34%|███▍      | 11/32 [00:05<00:09,  2.24it/s]\u001b[A\u001b[A"
          ]
        },
        {
          "output_type": "stream",
          "name": "stdout",
          "text": [
            "1.0\n"
          ]
        },
        {
          "output_type": "stream",
          "name": "stderr",
          "text": [
            "\n",
            "\n",
            "Evaluating:  38%|███▊      | 12/32 [00:06<00:08,  2.26it/s]\u001b[A\u001b[A"
          ]
        },
        {
          "output_type": "stream",
          "name": "stdout",
          "text": [
            "0.9375\n"
          ]
        },
        {
          "output_type": "stream",
          "name": "stderr",
          "text": [
            "\n",
            "\n",
            "Evaluating:  41%|████      | 13/32 [00:06<00:08,  2.27it/s]\u001b[A\u001b[A"
          ]
        },
        {
          "output_type": "stream",
          "name": "stdout",
          "text": [
            "0.9375\n"
          ]
        },
        {
          "output_type": "stream",
          "name": "stderr",
          "text": [
            "\n",
            "\n",
            "Evaluating:  44%|████▍     | 14/32 [00:06<00:07,  2.26it/s]\u001b[A\u001b[A"
          ]
        },
        {
          "output_type": "stream",
          "name": "stdout",
          "text": [
            "0.9375\n"
          ]
        },
        {
          "output_type": "stream",
          "name": "stderr",
          "text": [
            "\n",
            "\n",
            "Evaluating:  47%|████▋     | 15/32 [00:07<00:07,  2.27it/s]\u001b[A\u001b[A"
          ]
        },
        {
          "output_type": "stream",
          "name": "stdout",
          "text": [
            "0.90625\n"
          ]
        },
        {
          "output_type": "stream",
          "name": "stderr",
          "text": [
            "\n",
            "\n",
            "Evaluating:  50%|█████     | 16/32 [00:07<00:07,  2.28it/s]\u001b[A\u001b[A"
          ]
        },
        {
          "output_type": "stream",
          "name": "stdout",
          "text": [
            "0.90625\n"
          ]
        },
        {
          "output_type": "stream",
          "name": "stderr",
          "text": [
            "\n",
            "\n",
            "Evaluating:  53%|█████▎    | 17/32 [00:08<00:06,  2.27it/s]\u001b[A\u001b[A"
          ]
        },
        {
          "output_type": "stream",
          "name": "stdout",
          "text": [
            "0.84375\n"
          ]
        },
        {
          "output_type": "stream",
          "name": "stderr",
          "text": [
            "\n",
            "\n",
            "Evaluating:  56%|█████▋    | 18/32 [00:08<00:06,  2.27it/s]\u001b[A\u001b[A"
          ]
        },
        {
          "output_type": "stream",
          "name": "stdout",
          "text": [
            "0.8125\n"
          ]
        },
        {
          "output_type": "stream",
          "name": "stderr",
          "text": [
            "\n",
            "\n",
            "Evaluating:  59%|█████▉    | 19/32 [00:09<00:05,  2.26it/s]\u001b[A\u001b[A"
          ]
        },
        {
          "output_type": "stream",
          "name": "stdout",
          "text": [
            "0.84375\n"
          ]
        },
        {
          "output_type": "stream",
          "name": "stderr",
          "text": [
            "\n",
            "\n",
            "Evaluating:  62%|██████▎   | 20/32 [00:09<00:05,  2.27it/s]\u001b[A\u001b[A"
          ]
        },
        {
          "output_type": "stream",
          "name": "stdout",
          "text": [
            "0.84375\n"
          ]
        },
        {
          "output_type": "stream",
          "name": "stderr",
          "text": [
            "\n",
            "\n",
            "Evaluating:  66%|██████▌   | 21/32 [00:10<00:04,  2.28it/s]\u001b[A\u001b[A"
          ]
        },
        {
          "output_type": "stream",
          "name": "stdout",
          "text": [
            "0.71875\n"
          ]
        },
        {
          "output_type": "stream",
          "name": "stderr",
          "text": [
            "\n",
            "\n",
            "Evaluating:  69%|██████▉   | 22/32 [00:10<00:04,  2.28it/s]\u001b[A\u001b[A"
          ]
        },
        {
          "output_type": "stream",
          "name": "stdout",
          "text": [
            "0.75\n"
          ]
        },
        {
          "output_type": "stream",
          "name": "stderr",
          "text": [
            "\n",
            "\n",
            "Evaluating:  72%|███████▏  | 23/32 [00:10<00:03,  2.28it/s]\u001b[A\u001b[A"
          ]
        },
        {
          "output_type": "stream",
          "name": "stdout",
          "text": [
            "0.75\n"
          ]
        },
        {
          "output_type": "stream",
          "name": "stderr",
          "text": [
            "\n",
            "\n",
            "Evaluating:  75%|███████▌  | 24/32 [00:11<00:03,  2.28it/s]\u001b[A\u001b[A"
          ]
        },
        {
          "output_type": "stream",
          "name": "stdout",
          "text": [
            "0.78125\n"
          ]
        },
        {
          "output_type": "stream",
          "name": "stderr",
          "text": [
            "\n",
            "\n",
            "Evaluating:  78%|███████▊  | 25/32 [00:11<00:03,  2.27it/s]\u001b[A\u001b[A"
          ]
        },
        {
          "output_type": "stream",
          "name": "stdout",
          "text": [
            "0.78125\n"
          ]
        },
        {
          "output_type": "stream",
          "name": "stderr",
          "text": [
            "\n",
            "\n",
            "Evaluating:  81%|████████▏ | 26/32 [00:12<00:02,  2.27it/s]\u001b[A\u001b[A"
          ]
        },
        {
          "output_type": "stream",
          "name": "stdout",
          "text": [
            "0.78125\n"
          ]
        },
        {
          "output_type": "stream",
          "name": "stderr",
          "text": [
            "\n",
            "\n",
            "Evaluating:  84%|████████▍ | 27/32 [00:12<00:02,  2.27it/s]\u001b[A\u001b[A"
          ]
        },
        {
          "output_type": "stream",
          "name": "stdout",
          "text": [
            "0.84375\n"
          ]
        },
        {
          "output_type": "stream",
          "name": "stderr",
          "text": [
            "\n",
            "\n",
            "Evaluating:  88%|████████▊ | 28/32 [00:13<00:01,  2.28it/s]\u001b[A\u001b[A"
          ]
        },
        {
          "output_type": "stream",
          "name": "stdout",
          "text": [
            "0.8125\n"
          ]
        },
        {
          "output_type": "stream",
          "name": "stderr",
          "text": [
            "\n",
            "\n",
            "Evaluating:  91%|█████████ | 29/32 [00:13<00:01,  2.28it/s]\u001b[A\u001b[A"
          ]
        },
        {
          "output_type": "stream",
          "name": "stdout",
          "text": [
            "0.75\n"
          ]
        },
        {
          "output_type": "stream",
          "name": "stderr",
          "text": [
            "\n",
            "\n",
            "Evaluating:  94%|█████████▍| 30/32 [00:13<00:00,  2.27it/s]\u001b[A\u001b[A"
          ]
        },
        {
          "output_type": "stream",
          "name": "stdout",
          "text": [
            "0.8125\n"
          ]
        },
        {
          "output_type": "stream",
          "name": "stderr",
          "text": [
            "\n",
            "\n",
            "Evaluating:  97%|█████████▋| 31/32 [00:14<00:00,  2.28it/s]\u001b[A\u001b[A\n",
            "\n",
            "Evaluating: 100%|██████████| 32/32 [00:14<00:00,  2.20it/s]\n",
            "\n",
            "Iteration:  45%|████▌     | 315/695 [07:13<35:37,  5.63s/it]\u001b[A"
          ]
        },
        {
          "output_type": "stream",
          "name": "stdout",
          "text": [
            "0.65625\n",
            "0.875\n",
            "== Finished evaluating model: next_sentence_cls_0 ==\n",
            "\tMean evaluation acc: 0.865\n",
            "\tEvaluation accuracy: 0.865 | Stale count: 1\n",
            "====================\n"
          ]
        },
        {
          "output_type": "stream",
          "name": "stderr",
          "text": [
            "\n",
            "Iteration:  45%|████▌     | 316/695 [07:13<25:48,  4.08s/it]\u001b[A\n",
            "Iteration:  46%|████▌     | 317/695 [07:14<20:23,  3.24s/it]\u001b[A\n",
            "Iteration:  46%|████▌     | 318/695 [07:16<16:35,  2.64s/it]\u001b[A\n",
            "Iteration:  46%|████▌     | 319/695 [07:17<13:58,  2.23s/it]\u001b[A\n",
            "Iteration:  46%|████▌     | 320/695 [07:18<12:10,  1.95s/it]\u001b[A\n",
            "Iteration:  46%|████▌     | 321/695 [07:20<10:49,  1.74s/it]\u001b[A\n",
            "Iteration:  46%|████▋     | 322/695 [07:21<09:54,  1.59s/it]\u001b[A\n",
            "Iteration:  46%|████▋     | 323/695 [07:22<09:14,  1.49s/it]\u001b[A\n",
            "Iteration:  47%|████▋     | 324/695 [07:23<08:50,  1.43s/it]\u001b[A\n",
            "Iteration:  47%|████▋     | 325/695 [07:25<08:29,  1.38s/it]\u001b[A\n",
            "Iteration:  47%|████▋     | 326/695 [07:26<08:14,  1.34s/it]\u001b[A\n",
            "Iteration:  47%|████▋     | 327/695 [07:27<08:04,  1.32s/it]\u001b[A\n",
            "Iteration:  47%|████▋     | 328/695 [07:28<08:00,  1.31s/it]\u001b[A\n",
            "Iteration:  47%|████▋     | 329/695 [07:30<07:52,  1.29s/it]\u001b[A\n",
            "Iteration:  47%|████▋     | 330/695 [07:31<07:48,  1.28s/it]\u001b[A\n",
            "Iteration:  48%|████▊     | 331/695 [07:32<07:43,  1.27s/it]\u001b[A\n",
            "Iteration:  48%|████▊     | 332/695 [07:33<07:44,  1.28s/it]\u001b[A\n",
            "Iteration:  48%|████▊     | 333/695 [07:35<07:39,  1.27s/it]\u001b[A\n",
            "Iteration:  48%|████▊     | 334/695 [07:36<07:36,  1.26s/it]\u001b[A\n",
            "Iteration:  48%|████▊     | 335/695 [07:37<07:34,  1.26s/it]\u001b[A\n",
            "Iteration:  48%|████▊     | 336/695 [07:39<07:37,  1.28s/it]\u001b[A\n",
            "Iteration:  48%|████▊     | 337/695 [07:40<07:34,  1.27s/it]\u001b[A\n",
            "Iteration:  49%|████▊     | 338/695 [07:41<07:32,  1.27s/it]\u001b[A\n",
            "Iteration:  49%|████▉     | 339/695 [07:42<07:30,  1.26s/it]\u001b[A\n",
            "Iteration:  49%|████▉     | 340/695 [07:44<07:30,  1.27s/it]\u001b[A\n",
            "Iteration:  49%|████▉     | 341/695 [07:45<07:27,  1.26s/it]\u001b[A\n",
            "Iteration:  49%|████▉     | 342/695 [07:46<07:26,  1.26s/it]\u001b[A\n",
            "Iteration:  49%|████▉     | 343/695 [07:47<07:25,  1.26s/it]\u001b[A\n",
            "Iteration:  49%|████▉     | 344/695 [07:49<07:26,  1.27s/it]\u001b[A\n",
            "Iteration:  50%|████▉     | 345/695 [07:50<07:22,  1.27s/it]\u001b[A\n",
            "Iteration:  50%|████▉     | 346/695 [07:51<07:20,  1.26s/it]\u001b[A\n",
            "Iteration:  50%|████▉     | 347/695 [07:52<07:19,  1.26s/it]\u001b[A\n",
            "Iteration:  50%|█████     | 348/695 [07:54<07:21,  1.27s/it]\u001b[A\n",
            "Iteration:  50%|█████     | 349/695 [07:55<07:20,  1.27s/it]\u001b[A\n",
            "Iteration:  50%|█████     | 350/695 [07:56<07:15,  1.26s/it]\u001b[A\n",
            "Iteration:  51%|█████     | 351/695 [07:57<07:14,  1.26s/it]\u001b[A\n",
            "Iteration:  51%|█████     | 352/695 [07:59<07:16,  1.27s/it]\u001b[A\n",
            "Iteration:  51%|█████     | 353/695 [08:00<07:12,  1.26s/it]\u001b[A\n",
            "Iteration:  51%|█████     | 354/695 [08:01<07:11,  1.26s/it]\u001b[A\n",
            "Iteration:  51%|█████     | 355/695 [08:03<07:10,  1.27s/it]\u001b[A\n",
            "Iteration:  51%|█████     | 356/695 [08:04<07:12,  1.28s/it]\u001b[A\n",
            "Iteration:  51%|█████▏    | 357/695 [08:05<07:09,  1.27s/it]\u001b[A\n",
            "Iteration:  52%|█████▏    | 358/695 [08:06<07:07,  1.27s/it]\u001b[A\n",
            "Iteration:  52%|█████▏    | 359/695 [08:08<07:05,  1.27s/it]\u001b[A\n",
            "Iteration:  52%|█████▏    | 360/695 [08:09<07:06,  1.27s/it]\u001b[A\n",
            "Iteration:  52%|█████▏    | 361/695 [08:10<07:02,  1.27s/it]\u001b[A\n",
            "Iteration:  52%|█████▏    | 362/695 [08:11<07:01,  1.26s/it]\u001b[A\n",
            "Iteration:  52%|█████▏    | 363/695 [08:13<06:59,  1.26s/it]\u001b[A\n",
            "Iteration:  52%|█████▏    | 364/695 [08:14<07:01,  1.27s/it]\u001b[A\n",
            "Iteration:  53%|█████▎    | 365/695 [08:15<06:57,  1.27s/it]\u001b[A\n",
            "Iteration:  53%|█████▎    | 366/695 [08:16<06:55,  1.26s/it]\u001b[A\n",
            "Iteration:  53%|█████▎    | 367/695 [08:18<06:55,  1.27s/it]\u001b[A\n",
            "Iteration:  53%|█████▎    | 368/695 [08:19<06:55,  1.27s/it]\u001b[A\n",
            "Iteration:  53%|█████▎    | 369/695 [08:20<06:52,  1.26s/it]\u001b[A\n",
            "Iteration:  53%|█████▎    | 370/695 [08:22<06:49,  1.26s/it]\u001b[A\n",
            "Iteration:  53%|█████▎    | 371/695 [08:23<06:49,  1.27s/it]\u001b[A\n",
            "Iteration:  54%|█████▎    | 372/695 [08:24<06:50,  1.27s/it]\u001b[A\n",
            "Iteration:  54%|█████▎    | 373/695 [08:25<06:47,  1.27s/it]\u001b[A\n",
            "Iteration:  54%|█████▍    | 374/695 [08:27<06:45,  1.26s/it]\u001b[A\n",
            "Iteration:  54%|█████▍    | 375/695 [08:28<06:45,  1.27s/it]\u001b[A\n",
            "Iteration:  54%|█████▍    | 376/695 [08:29<06:46,  1.27s/it]\u001b[A\n",
            "Iteration:  54%|█████▍    | 377/695 [08:30<06:43,  1.27s/it]\u001b[A\n",
            "Iteration:  54%|█████▍    | 378/695 [08:32<06:41,  1.27s/it]\u001b[A\n",
            "Iteration:  55%|█████▍    | 379/695 [08:33<06:38,  1.26s/it]\u001b[A\n",
            "Iteration:  55%|█████▍    | 380/695 [08:34<06:40,  1.27s/it]\u001b[A\n",
            "Iteration:  55%|█████▍    | 381/695 [08:36<06:38,  1.27s/it]\u001b[A\n",
            "Iteration:  55%|█████▍    | 382/695 [08:37<06:35,  1.26s/it]\u001b[A\n",
            "Iteration:  55%|█████▌    | 383/695 [08:38<06:34,  1.26s/it]\u001b[A\n",
            "Iteration:  55%|█████▌    | 384/695 [08:39<06:36,  1.27s/it]\u001b[A\n",
            "Iteration:  55%|█████▌    | 385/695 [08:41<06:33,  1.27s/it]\u001b[A\n",
            "Iteration:  56%|█████▌    | 386/695 [08:42<06:32,  1.27s/it]\u001b[A\n",
            "Iteration:  56%|█████▌    | 387/695 [08:43<06:29,  1.26s/it]\u001b[A\n",
            "Iteration:  56%|█████▌    | 388/695 [08:44<06:29,  1.27s/it]\u001b[A\n",
            "Iteration:  56%|█████▌    | 389/695 [08:46<06:26,  1.26s/it]\u001b[A\n",
            "Iteration:  56%|█████▌    | 390/695 [08:47<06:24,  1.26s/it]\u001b[A\n",
            "Iteration:  56%|█████▋    | 391/695 [08:48<06:23,  1.26s/it]\u001b[A\n",
            "Iteration:  56%|█████▋    | 392/695 [08:49<06:24,  1.27s/it]\u001b[A\n",
            "Iteration:  57%|█████▋    | 393/695 [08:51<06:21,  1.26s/it]\u001b[A\n",
            "Iteration:  57%|█████▋    | 394/695 [08:52<06:19,  1.26s/it]\u001b[A\n",
            "Iteration:  57%|█████▋    | 395/695 [08:53<06:18,  1.26s/it]\u001b[A\n",
            "Iteration:  57%|█████▋    | 396/695 [08:55<06:20,  1.27s/it]\u001b[A\n",
            "Iteration:  57%|█████▋    | 397/695 [08:56<06:17,  1.27s/it]\u001b[A\n",
            "Iteration:  57%|█████▋    | 398/695 [08:57<06:13,  1.26s/it]\u001b[A\n",
            "Iteration:  57%|█████▋    | 399/695 [08:58<06:12,  1.26s/it]\u001b[A\n",
            "Iteration:  58%|█████▊    | 400/695 [09:00<06:13,  1.27s/it]\u001b[A\n",
            "Iteration:  58%|█████▊    | 401/695 [09:01<06:11,  1.26s/it]\u001b[A\n",
            "Iteration:  58%|█████▊    | 402/695 [09:02<06:09,  1.26s/it]\u001b[A\n",
            "Iteration:  58%|█████▊    | 403/695 [09:03<06:07,  1.26s/it]\u001b[A\n",
            "Iteration:  58%|█████▊    | 404/695 [09:05<06:09,  1.27s/it]\u001b[A\n",
            "Iteration:  58%|█████▊    | 405/695 [09:06<06:08,  1.27s/it]\u001b[A\n",
            "Iteration:  58%|█████▊    | 406/695 [09:07<06:06,  1.27s/it]\u001b[A\n",
            "Iteration:  59%|█████▊    | 407/695 [09:08<06:03,  1.26s/it]\u001b[A\n",
            "Iteration:  59%|█████▊    | 408/695 [09:10<06:06,  1.28s/it]\u001b[A\n",
            "Iteration:  59%|█████▉    | 409/695 [09:11<06:02,  1.27s/it]\u001b[A\n",
            "Iteration:  59%|█████▉    | 410/695 [09:12<05:59,  1.26s/it]\u001b[A\n",
            "Iteration:  59%|█████▉    | 411/695 [09:13<05:59,  1.27s/it]\u001b[A\n",
            "Iteration:  59%|█████▉    | 412/695 [09:15<06:00,  1.27s/it]\u001b[A\n",
            "Iteration:  59%|█████▉    | 413/695 [09:16<05:57,  1.27s/it]\u001b[A\n",
            "Iteration:  60%|█████▉    | 414/695 [09:17<05:55,  1.26s/it]\u001b[A\n",
            "Iteration:  60%|█████▉    | 415/695 [09:19<05:54,  1.27s/it]\u001b[A"
          ]
        },
        {
          "output_type": "stream",
          "name": "stdout",
          "text": [
            "\tGlobal step: 625 | LR: [3.7537537537537537e-06, 3.7537537537537537e-06] | Avg. loss: 0.263\n"
          ]
        },
        {
          "output_type": "stream",
          "name": "stderr",
          "text": [
            "\n",
            "Iteration:  60%|█████▉    | 416/695 [09:20<05:55,  1.28s/it]\u001b[A\n",
            "Iteration:  60%|██████    | 417/695 [09:21<05:52,  1.27s/it]\u001b[A\n",
            "Iteration:  60%|██████    | 418/695 [09:22<05:50,  1.26s/it]\u001b[A\n",
            "Iteration:  60%|██████    | 419/695 [09:24<05:48,  1.26s/it]\u001b[A\n",
            "Iteration:  60%|██████    | 420/695 [09:25<05:49,  1.27s/it]\u001b[A\n",
            "Iteration:  61%|██████    | 421/695 [09:26<05:46,  1.27s/it]\u001b[A\n",
            "Iteration:  61%|██████    | 422/695 [09:27<05:44,  1.26s/it]\u001b[A\n",
            "Iteration:  61%|██████    | 423/695 [09:29<05:43,  1.26s/it]\u001b[A\n",
            "Iteration:  61%|██████    | 424/695 [09:30<05:44,  1.27s/it]\u001b[A\n",
            "Iteration:  61%|██████    | 425/695 [09:31<05:43,  1.27s/it]\u001b[A\n",
            "Iteration:  61%|██████▏   | 426/695 [09:32<05:41,  1.27s/it]\u001b[A\n",
            "Iteration:  61%|██████▏   | 427/695 [09:34<05:38,  1.26s/it]\u001b[A\n",
            "Iteration:  62%|██████▏   | 428/695 [09:35<05:39,  1.27s/it]\u001b[A\n",
            "Iteration:  62%|██████▏   | 429/695 [09:36<05:36,  1.27s/it]\u001b[A\n",
            "Iteration:  62%|██████▏   | 430/695 [09:38<05:34,  1.26s/it]\u001b[A\n",
            "Iteration:  62%|██████▏   | 431/695 [09:39<05:33,  1.26s/it]\u001b[A\n",
            "Iteration:  62%|██████▏   | 432/695 [09:40<05:34,  1.27s/it]\u001b[A\n",
            "Iteration:  62%|██████▏   | 433/695 [09:41<05:32,  1.27s/it]\u001b[A\n",
            "Iteration:  62%|██████▏   | 434/695 [09:43<05:30,  1.27s/it]\u001b[A\n",
            "Iteration:  63%|██████▎   | 435/695 [09:44<05:29,  1.27s/it]\u001b[A\n",
            "Iteration:  63%|██████▎   | 436/695 [09:45<05:30,  1.27s/it]\u001b[A\n",
            "Iteration:  63%|██████▎   | 437/695 [09:46<05:26,  1.27s/it]\u001b[A\n",
            "Iteration:  63%|██████▎   | 438/695 [09:48<05:24,  1.26s/it]\u001b[A\n",
            "Iteration:  63%|██████▎   | 439/695 [09:49<05:24,  1.27s/it]\u001b[A\n",
            "Iteration:  63%|██████▎   | 440/695 [09:50<05:24,  1.27s/it]\u001b[A\n",
            "Iteration:  63%|██████▎   | 441/695 [09:51<05:21,  1.27s/it]\u001b[A\n",
            "Iteration:  64%|██████▎   | 442/695 [09:53<05:21,  1.27s/it]\u001b[A\n",
            "Iteration:  64%|██████▎   | 443/695 [09:54<05:19,  1.27s/it]\u001b[A\n",
            "Iteration:  64%|██████▍   | 444/695 [09:55<05:21,  1.28s/it]\u001b[A\n",
            "Iteration:  64%|██████▍   | 445/695 [09:57<05:18,  1.27s/it]\u001b[A\n",
            "Iteration:  64%|██████▍   | 446/695 [09:58<05:14,  1.26s/it]\u001b[A\n",
            "Iteration:  64%|██████▍   | 447/695 [09:59<05:13,  1.26s/it]\u001b[A\n",
            "Iteration:  64%|██████▍   | 448/695 [10:00<05:14,  1.28s/it]\u001b[A\n",
            "Iteration:  65%|██████▍   | 449/695 [10:02<05:12,  1.27s/it]\u001b[A\n",
            "Iteration:  65%|██████▍   | 450/695 [10:03<05:10,  1.27s/it]\u001b[A\n",
            "Iteration:  65%|██████▍   | 451/695 [10:04<05:07,  1.26s/it]\u001b[A\n",
            "Iteration:  65%|██████▌   | 452/695 [10:05<05:09,  1.27s/it]\u001b[A\n",
            "Iteration:  65%|██████▌   | 453/695 [10:07<05:06,  1.27s/it]\u001b[A\n",
            "Iteration:  65%|██████▌   | 454/695 [10:08<05:03,  1.26s/it]\u001b[A\n",
            "Iteration:  65%|██████▌   | 455/695 [10:09<05:02,  1.26s/it]\u001b[A\n",
            "Iteration:  66%|██████▌   | 456/695 [10:11<05:03,  1.27s/it]\u001b[A\n",
            "Iteration:  66%|██████▌   | 457/695 [10:12<05:00,  1.26s/it]\u001b[A\n",
            "Iteration:  66%|██████▌   | 458/695 [10:13<04:58,  1.26s/it]\u001b[A\n",
            "Iteration:  66%|██████▌   | 459/695 [10:14<04:57,  1.26s/it]\u001b[A\n",
            "Iteration:  66%|██████▌   | 460/695 [10:16<04:58,  1.27s/it]\u001b[A\n",
            "Iteration:  66%|██████▋   | 461/695 [10:17<04:55,  1.26s/it]\u001b[A\n",
            "Iteration:  66%|██████▋   | 462/695 [10:18<04:53,  1.26s/it]\u001b[A\n",
            "Iteration:  67%|██████▋   | 463/695 [10:19<04:54,  1.27s/it]\u001b[A\n",
            "Iteration:  67%|██████▋   | 464/695 [10:21<04:54,  1.28s/it]\u001b[A\n",
            "Iteration:  67%|██████▋   | 465/695 [10:22<04:51,  1.27s/it]\u001b[A\n",
            "Iteration:  67%|██████▋   | 466/695 [10:23<04:49,  1.26s/it]\u001b[A\n",
            "Iteration:  67%|██████▋   | 467/695 [10:24<04:48,  1.26s/it]\u001b[A\n",
            "Iteration:  67%|██████▋   | 468/695 [10:26<04:48,  1.27s/it]\u001b[A\n",
            "Iteration:  67%|██████▋   | 469/695 [10:27<04:44,  1.26s/it]\u001b[A\n",
            "Iteration:  68%|██████▊   | 470/695 [10:28<04:43,  1.26s/it]\u001b[A\n",
            "Iteration:  68%|██████▊   | 471/695 [10:29<04:43,  1.27s/it]\u001b[A\n",
            "Iteration:  68%|██████▊   | 472/695 [10:31<04:43,  1.27s/it]\u001b[A\n",
            "Iteration:  68%|██████▊   | 473/695 [10:32<04:42,  1.27s/it]\u001b[A\n",
            "Iteration:  68%|██████▊   | 474/695 [10:33<04:40,  1.27s/it]\u001b[A\n",
            "Iteration:  68%|██████▊   | 475/695 [10:35<04:38,  1.27s/it]\u001b[A\n",
            "Iteration:  68%|██████▊   | 476/695 [10:36<04:40,  1.28s/it]\u001b[A\n",
            "Iteration:  69%|██████▊   | 477/695 [10:37<04:37,  1.27s/it]\u001b[A\n",
            "Iteration:  69%|██████▉   | 478/695 [10:38<04:36,  1.27s/it]\u001b[A\n",
            "Iteration:  69%|██████▉   | 479/695 [10:40<04:33,  1.26s/it]\u001b[A\n",
            "Iteration:  69%|██████▉   | 480/695 [10:41<04:34,  1.28s/it]\u001b[A\n",
            "Iteration:  69%|██████▉   | 481/695 [10:42<04:31,  1.27s/it]\u001b[A\n",
            "Iteration:  69%|██████▉   | 482/695 [10:43<04:29,  1.26s/it]\u001b[A\n",
            "Iteration:  69%|██████▉   | 483/695 [10:45<04:28,  1.27s/it]\u001b[A\n",
            "Iteration:  70%|██████▉   | 484/695 [10:46<04:28,  1.27s/it]\u001b[A\n",
            "Iteration:  70%|██████▉   | 485/695 [10:47<04:26,  1.27s/it]\u001b[A\n",
            "Iteration:  70%|██████▉   | 486/695 [10:49<04:24,  1.26s/it]\u001b[A\n",
            "Iteration:  70%|███████   | 487/695 [10:50<04:23,  1.27s/it]\u001b[A\n",
            "Iteration:  70%|███████   | 488/695 [10:51<04:23,  1.27s/it]\u001b[A\n",
            "Iteration:  70%|███████   | 489/695 [10:52<04:21,  1.27s/it]\u001b[A\n",
            "Iteration:  71%|███████   | 490/695 [10:54<04:19,  1.26s/it]\u001b[A\n",
            "Iteration:  71%|███████   | 491/695 [10:55<04:18,  1.27s/it]\u001b[A\n",
            "Iteration:  71%|███████   | 492/695 [10:56<04:18,  1.27s/it]\u001b[A\n",
            "Iteration:  71%|███████   | 493/695 [10:57<04:15,  1.27s/it]\u001b[A\n",
            "Iteration:  71%|███████   | 494/695 [10:59<04:13,  1.26s/it]\u001b[A\n",
            "Iteration:  71%|███████   | 495/695 [11:00<04:12,  1.26s/it]\u001b[A\n",
            "Iteration:  71%|███████▏  | 496/695 [11:01<04:12,  1.27s/it]\u001b[A\n",
            "Iteration:  72%|███████▏  | 497/695 [11:02<04:11,  1.27s/it]\u001b[A\n",
            "Iteration:  72%|███████▏  | 498/695 [11:04<04:08,  1.26s/it]\u001b[A\n",
            "Iteration:  72%|███████▏  | 499/695 [11:05<04:07,  1.26s/it]\u001b[A\n",
            "Iteration:  72%|███████▏  | 500/695 [11:06<04:08,  1.27s/it]\u001b[A\n",
            "Iteration:  72%|███████▏  | 501/695 [11:08<04:06,  1.27s/it]\u001b[A\n",
            "Iteration:  72%|███████▏  | 502/695 [11:09<04:04,  1.27s/it]\u001b[A\n",
            "Iteration:  72%|███████▏  | 503/695 [11:10<04:02,  1.26s/it]\u001b[A\n",
            "Iteration:  73%|███████▎  | 504/695 [11:11<04:03,  1.27s/it]\u001b[A\n",
            "Iteration:  73%|███████▎  | 505/695 [11:13<04:00,  1.27s/it]\u001b[A\n",
            "Iteration:  73%|███████▎  | 506/695 [11:14<03:59,  1.27s/it]\u001b[A\n",
            "Iteration:  73%|███████▎  | 507/695 [11:15<03:58,  1.27s/it]\u001b[A\n",
            "Iteration:  73%|███████▎  | 508/695 [11:16<03:59,  1.28s/it]\u001b[A\n",
            "Iteration:  73%|███████▎  | 509/695 [11:18<03:56,  1.27s/it]\u001b[A\n",
            "Iteration:  73%|███████▎  | 510/695 [11:19<03:54,  1.27s/it]\u001b[A\n",
            "Iteration:  74%|███████▎  | 511/695 [11:20<03:53,  1.27s/it]\u001b[A\n",
            "Iteration:  74%|███████▎  | 512/695 [11:22<03:54,  1.28s/it]\u001b[A\n",
            "Iteration:  74%|███████▍  | 513/695 [11:23<03:50,  1.26s/it]\u001b[A\n",
            "Iteration:  74%|███████▍  | 514/695 [11:24<03:48,  1.26s/it]\u001b[A"
          ]
        },
        {
          "output_type": "stream",
          "name": "stdout",
          "text": [
            "\tGlobal step: 650 | LR: [3.5035035035035036e-06, 3.5035035035035036e-06] | Avg. loss: 0.266\n",
            "====================\n",
            "\tEvaluating on valiadtion set!\n"
          ]
        },
        {
          "output_type": "stream",
          "name": "stderr",
          "text": [
            "\n",
            "\n",
            "Evaluating:   0%|          | 0/32 [00:00<?, ?it/s]\u001b[A\u001b[A\n",
            "\n",
            "Evaluating:   3%|▎         | 1/32 [00:01<00:38,  1.23s/it]\u001b[A\u001b[A"
          ]
        },
        {
          "output_type": "stream",
          "name": "stdout",
          "text": [
            "0.96875\n"
          ]
        },
        {
          "output_type": "stream",
          "name": "stderr",
          "text": [
            "\n",
            "\n",
            "Evaluating:   6%|▋         | 2/32 [00:01<00:23,  1.30it/s]\u001b[A\u001b[A"
          ]
        },
        {
          "output_type": "stream",
          "name": "stdout",
          "text": [
            "0.9375\n"
          ]
        },
        {
          "output_type": "stream",
          "name": "stderr",
          "text": [
            "\n",
            "\n",
            "Evaluating:   9%|▉         | 3/32 [00:02<00:17,  1.62it/s]\u001b[A\u001b[A"
          ]
        },
        {
          "output_type": "stream",
          "name": "stdout",
          "text": [
            "0.9375\n"
          ]
        },
        {
          "output_type": "stream",
          "name": "stderr",
          "text": [
            "\n",
            "\n",
            "Evaluating:  12%|█▎        | 4/32 [00:02<00:15,  1.83it/s]\u001b[A\u001b[A"
          ]
        },
        {
          "output_type": "stream",
          "name": "stdout",
          "text": [
            "0.84375\n"
          ]
        },
        {
          "output_type": "stream",
          "name": "stderr",
          "text": [
            "\n",
            "\n",
            "Evaluating:  16%|█▌        | 5/32 [00:02<00:13,  1.97it/s]\u001b[A\u001b[A"
          ]
        },
        {
          "output_type": "stream",
          "name": "stdout",
          "text": [
            "0.875\n"
          ]
        },
        {
          "output_type": "stream",
          "name": "stderr",
          "text": [
            "\n",
            "\n",
            "Evaluating:  19%|█▉        | 6/32 [00:03<00:12,  2.07it/s]\u001b[A\u001b[A"
          ]
        },
        {
          "output_type": "stream",
          "name": "stdout",
          "text": [
            "0.84375\n"
          ]
        },
        {
          "output_type": "stream",
          "name": "stderr",
          "text": [
            "\n",
            "\n",
            "Evaluating:  22%|██▏       | 7/32 [00:03<00:11,  2.13it/s]\u001b[A\u001b[A"
          ]
        },
        {
          "output_type": "stream",
          "name": "stdout",
          "text": [
            "0.90625\n"
          ]
        },
        {
          "output_type": "stream",
          "name": "stderr",
          "text": [
            "\n",
            "\n",
            "Evaluating:  25%|██▌       | 8/32 [00:04<00:11,  2.16it/s]\u001b[A\u001b[A"
          ]
        },
        {
          "output_type": "stream",
          "name": "stdout",
          "text": [
            "0.90625\n"
          ]
        },
        {
          "output_type": "stream",
          "name": "stderr",
          "text": [
            "\n",
            "\n",
            "Evaluating:  28%|██▊       | 9/32 [00:04<00:10,  2.20it/s]\u001b[A\u001b[A"
          ]
        },
        {
          "output_type": "stream",
          "name": "stdout",
          "text": [
            "0.90625\n"
          ]
        },
        {
          "output_type": "stream",
          "name": "stderr",
          "text": [
            "\n",
            "\n",
            "Evaluating:  31%|███▏      | 10/32 [00:05<00:09,  2.22it/s]\u001b[A\u001b[A"
          ]
        },
        {
          "output_type": "stream",
          "name": "stdout",
          "text": [
            "0.84375\n"
          ]
        },
        {
          "output_type": "stream",
          "name": "stderr",
          "text": [
            "\n",
            "\n",
            "Evaluating:  34%|███▍      | 11/32 [00:05<00:09,  2.23it/s]\u001b[A\u001b[A"
          ]
        },
        {
          "output_type": "stream",
          "name": "stdout",
          "text": [
            "0.96875\n"
          ]
        },
        {
          "output_type": "stream",
          "name": "stderr",
          "text": [
            "\n",
            "\n",
            "Evaluating:  38%|███▊      | 12/32 [00:06<00:08,  2.25it/s]\u001b[A\u001b[A"
          ]
        },
        {
          "output_type": "stream",
          "name": "stdout",
          "text": [
            "0.9375\n"
          ]
        },
        {
          "output_type": "stream",
          "name": "stderr",
          "text": [
            "\n",
            "\n",
            "Evaluating:  41%|████      | 13/32 [00:06<00:08,  2.26it/s]\u001b[A\u001b[A"
          ]
        },
        {
          "output_type": "stream",
          "name": "stdout",
          "text": [
            "0.90625\n"
          ]
        },
        {
          "output_type": "stream",
          "name": "stderr",
          "text": [
            "\n",
            "\n",
            "Evaluating:  44%|████▍     | 14/32 [00:06<00:07,  2.25it/s]\u001b[A\u001b[A"
          ]
        },
        {
          "output_type": "stream",
          "name": "stdout",
          "text": [
            "0.9375\n"
          ]
        },
        {
          "output_type": "stream",
          "name": "stderr",
          "text": [
            "\n",
            "\n",
            "Evaluating:  47%|████▋     | 15/32 [00:07<00:07,  2.26it/s]\u001b[A\u001b[A"
          ]
        },
        {
          "output_type": "stream",
          "name": "stdout",
          "text": [
            "0.875\n"
          ]
        },
        {
          "output_type": "stream",
          "name": "stderr",
          "text": [
            "\n",
            "\n",
            "Evaluating:  50%|█████     | 16/32 [00:07<00:07,  2.27it/s]\u001b[A\u001b[A"
          ]
        },
        {
          "output_type": "stream",
          "name": "stdout",
          "text": [
            "0.90625\n"
          ]
        },
        {
          "output_type": "stream",
          "name": "stderr",
          "text": [
            "\n",
            "\n",
            "Evaluating:  53%|█████▎    | 17/32 [00:08<00:06,  2.26it/s]\u001b[A\u001b[A"
          ]
        },
        {
          "output_type": "stream",
          "name": "stdout",
          "text": [
            "0.90625\n"
          ]
        },
        {
          "output_type": "stream",
          "name": "stderr",
          "text": [
            "\n",
            "\n",
            "Evaluating:  56%|█████▋    | 18/32 [00:08<00:06,  2.26it/s]\u001b[A\u001b[A"
          ]
        },
        {
          "output_type": "stream",
          "name": "stdout",
          "text": [
            "0.875\n"
          ]
        },
        {
          "output_type": "stream",
          "name": "stderr",
          "text": [
            "\n",
            "\n",
            "Evaluating:  59%|█████▉    | 19/32 [00:09<00:05,  2.25it/s]\u001b[A\u001b[A"
          ]
        },
        {
          "output_type": "stream",
          "name": "stdout",
          "text": [
            "0.875\n"
          ]
        },
        {
          "output_type": "stream",
          "name": "stderr",
          "text": [
            "\n",
            "\n",
            "Evaluating:  62%|██████▎   | 20/32 [00:09<00:05,  2.26it/s]\u001b[A\u001b[A"
          ]
        },
        {
          "output_type": "stream",
          "name": "stdout",
          "text": [
            "0.875\n"
          ]
        },
        {
          "output_type": "stream",
          "name": "stderr",
          "text": [
            "\n",
            "\n",
            "Evaluating:  66%|██████▌   | 21/32 [00:10<00:04,  2.27it/s]\u001b[A\u001b[A"
          ]
        },
        {
          "output_type": "stream",
          "name": "stdout",
          "text": [
            "0.75\n"
          ]
        },
        {
          "output_type": "stream",
          "name": "stderr",
          "text": [
            "\n",
            "\n",
            "Evaluating:  69%|██████▉   | 22/32 [00:10<00:04,  2.27it/s]\u001b[A\u001b[A"
          ]
        },
        {
          "output_type": "stream",
          "name": "stdout",
          "text": [
            "0.78125\n"
          ]
        },
        {
          "output_type": "stream",
          "name": "stderr",
          "text": [
            "\n",
            "\n",
            "Evaluating:  72%|███████▏  | 23/32 [00:10<00:03,  2.27it/s]\u001b[A\u001b[A"
          ]
        },
        {
          "output_type": "stream",
          "name": "stdout",
          "text": [
            "0.84375\n"
          ]
        },
        {
          "output_type": "stream",
          "name": "stderr",
          "text": [
            "\n",
            "\n",
            "Evaluating:  75%|███████▌  | 24/32 [00:11<00:03,  2.27it/s]\u001b[A\u001b[A"
          ]
        },
        {
          "output_type": "stream",
          "name": "stdout",
          "text": [
            "0.8125\n"
          ]
        },
        {
          "output_type": "stream",
          "name": "stderr",
          "text": [
            "\n",
            "\n",
            "Evaluating:  78%|███████▊  | 25/32 [00:11<00:03,  2.27it/s]\u001b[A\u001b[A"
          ]
        },
        {
          "output_type": "stream",
          "name": "stdout",
          "text": [
            "0.78125\n"
          ]
        },
        {
          "output_type": "stream",
          "name": "stderr",
          "text": [
            "\n",
            "\n",
            "Evaluating:  81%|████████▏ | 26/32 [00:12<00:02,  2.26it/s]\u001b[A\u001b[A"
          ]
        },
        {
          "output_type": "stream",
          "name": "stdout",
          "text": [
            "0.78125\n"
          ]
        },
        {
          "output_type": "stream",
          "name": "stderr",
          "text": [
            "\n",
            "\n",
            "Evaluating:  84%|████████▍ | 27/32 [00:12<00:02,  2.27it/s]\u001b[A\u001b[A"
          ]
        },
        {
          "output_type": "stream",
          "name": "stdout",
          "text": [
            "0.875\n"
          ]
        },
        {
          "output_type": "stream",
          "name": "stderr",
          "text": [
            "\n",
            "\n",
            "Evaluating:  88%|████████▊ | 28/32 [00:13<00:01,  2.28it/s]\u001b[A\u001b[A"
          ]
        },
        {
          "output_type": "stream",
          "name": "stdout",
          "text": [
            "0.84375\n"
          ]
        },
        {
          "output_type": "stream",
          "name": "stderr",
          "text": [
            "\n",
            "\n",
            "Evaluating:  91%|█████████ | 29/32 [00:13<00:01,  2.27it/s]\u001b[A\u001b[A"
          ]
        },
        {
          "output_type": "stream",
          "name": "stdout",
          "text": [
            "0.8125\n"
          ]
        },
        {
          "output_type": "stream",
          "name": "stderr",
          "text": [
            "\n",
            "\n",
            "Evaluating:  94%|█████████▍| 30/32 [00:14<00:00,  2.26it/s]\u001b[A\u001b[A"
          ]
        },
        {
          "output_type": "stream",
          "name": "stdout",
          "text": [
            "0.8125\n"
          ]
        },
        {
          "output_type": "stream",
          "name": "stderr",
          "text": [
            "\n",
            "\n",
            "Evaluating:  97%|█████████▋| 31/32 [00:14<00:00,  2.27it/s]\u001b[A\u001b[A\n",
            "\n",
            "Evaluating: 100%|██████████| 32/32 [00:14<00:00,  2.19it/s]"
          ]
        },
        {
          "output_type": "stream",
          "name": "stdout",
          "text": [
            "0.75\n",
            "1.0\n",
            "== Finished evaluating model: next_sentence_cls_0 ==\n",
            "\tMean evaluation acc: 0.871\n"
          ]
        },
        {
          "output_type": "stream",
          "name": "stderr",
          "text": [
            "\n",
            "\n",
            "Iteration:  74%|███████▍  | 515/695 [11:46<22:22,  7.46s/it]\u001b[A"
          ]
        },
        {
          "output_type": "stream",
          "name": "stdout",
          "text": [
            "\tEvaluation accuracy: 0.871 | Stale count: 0\n",
            "====================\n"
          ]
        },
        {
          "output_type": "stream",
          "name": "stderr",
          "text": [
            "\n",
            "Iteration:  74%|███████▍  | 516/695 [11:46<16:03,  5.38s/it]\u001b[A\n",
            "Iteration:  74%|███████▍  | 517/695 [11:48<12:16,  4.14s/it]\u001b[A\n",
            "Iteration:  75%|███████▍  | 518/695 [11:49<09:38,  3.27s/it]\u001b[A\n",
            "Iteration:  75%|███████▍  | 519/695 [11:50<07:48,  2.66s/it]\u001b[A\n",
            "Iteration:  75%|███████▍  | 520/695 [11:51<06:33,  2.25s/it]\u001b[A\n",
            "Iteration:  75%|███████▍  | 521/695 [11:53<05:38,  1.94s/it]\u001b[A\n",
            "Iteration:  75%|███████▌  | 522/695 [11:54<05:00,  1.74s/it]\u001b[A\n",
            "Iteration:  75%|███████▌  | 523/695 [11:55<04:34,  1.60s/it]\u001b[A\n",
            "Iteration:  75%|███████▌  | 524/695 [11:57<04:17,  1.51s/it]\u001b[A\n",
            "Iteration:  76%|███████▌  | 525/695 [11:58<04:03,  1.43s/it]\u001b[A\n",
            "Iteration:  76%|███████▌  | 526/695 [11:59<03:52,  1.38s/it]\u001b[A\n",
            "Iteration:  76%|███████▌  | 527/695 [12:00<03:46,  1.35s/it]\u001b[A\n",
            "Iteration:  76%|███████▌  | 528/695 [12:02<03:42,  1.33s/it]\u001b[A\n",
            "Iteration:  76%|███████▌  | 529/695 [12:03<03:38,  1.31s/it]\u001b[A\n",
            "Iteration:  76%|███████▋  | 530/695 [12:04<03:34,  1.30s/it]\u001b[A\n",
            "Iteration:  76%|███████▋  | 531/695 [12:05<03:31,  1.29s/it]\u001b[A\n",
            "Iteration:  77%|███████▋  | 532/695 [12:07<03:31,  1.30s/it]\u001b[A\n",
            "Iteration:  77%|███████▋  | 533/695 [12:08<03:29,  1.29s/it]\u001b[A\n",
            "Iteration:  77%|███████▋  | 534/695 [12:09<03:27,  1.29s/it]\u001b[A\n",
            "Iteration:  77%|███████▋  | 535/695 [12:11<03:25,  1.28s/it]\u001b[A\n",
            "Iteration:  77%|███████▋  | 536/695 [12:12<03:25,  1.29s/it]\u001b[A\n",
            "Iteration:  77%|███████▋  | 537/695 [12:13<03:23,  1.29s/it]\u001b[A\n",
            "Iteration:  77%|███████▋  | 538/695 [12:14<03:21,  1.28s/it]\u001b[A\n",
            "Iteration:  78%|███████▊  | 539/695 [12:16<03:19,  1.28s/it]\u001b[A\n",
            "Iteration:  78%|███████▊  | 540/695 [12:17<03:19,  1.29s/it]\u001b[A\n",
            "Iteration:  78%|███████▊  | 541/695 [12:18<03:17,  1.28s/it]\u001b[A\n",
            "Iteration:  78%|███████▊  | 542/695 [12:20<03:15,  1.28s/it]\u001b[A\n",
            "Iteration:  78%|███████▊  | 543/695 [12:21<03:13,  1.27s/it]\u001b[A\n",
            "Iteration:  78%|███████▊  | 544/695 [12:22<03:13,  1.28s/it]\u001b[A\n",
            "Iteration:  78%|███████▊  | 545/695 [12:23<03:11,  1.27s/it]\u001b[A\n",
            "Iteration:  79%|███████▊  | 546/695 [12:25<03:09,  1.27s/it]\u001b[A\n",
            "Iteration:  79%|███████▊  | 547/695 [12:26<03:07,  1.27s/it]\u001b[A\n",
            "Iteration:  79%|███████▉  | 548/695 [12:27<03:07,  1.28s/it]\u001b[A\n",
            "Iteration:  79%|███████▉  | 549/695 [12:28<03:05,  1.27s/it]\u001b[A\n",
            "Iteration:  79%|███████▉  | 550/695 [12:30<03:04,  1.27s/it]\u001b[A\n",
            "Iteration:  79%|███████▉  | 551/695 [12:31<03:02,  1.27s/it]\u001b[A\n",
            "Iteration:  79%|███████▉  | 552/695 [12:32<03:02,  1.28s/it]\u001b[A\n",
            "Iteration:  80%|███████▉  | 553/695 [12:34<03:00,  1.27s/it]\u001b[A\n",
            "Iteration:  80%|███████▉  | 554/695 [12:35<02:58,  1.27s/it]\u001b[A\n",
            "Iteration:  80%|███████▉  | 555/695 [12:36<02:56,  1.26s/it]\u001b[A\n",
            "Iteration:  80%|████████  | 556/695 [12:37<02:57,  1.28s/it]\u001b[A\n",
            "Iteration:  80%|████████  | 557/695 [12:39<02:55,  1.27s/it]\u001b[A\n",
            "Iteration:  80%|████████  | 558/695 [12:40<02:53,  1.26s/it]\u001b[A\n",
            "Iteration:  80%|████████  | 559/695 [12:41<02:51,  1.26s/it]\u001b[A\n",
            "Iteration:  81%|████████  | 560/695 [12:42<02:52,  1.27s/it]\u001b[A\n",
            "Iteration:  81%|████████  | 561/695 [12:44<02:50,  1.27s/it]\u001b[A\n",
            "Iteration:  81%|████████  | 562/695 [12:45<02:48,  1.27s/it]\u001b[A\n",
            "Iteration:  81%|████████  | 563/695 [12:46<02:47,  1.27s/it]\u001b[A\n",
            "Iteration:  81%|████████  | 564/695 [12:48<02:46,  1.27s/it]\u001b[A\n",
            "Iteration:  81%|████████▏ | 565/695 [12:49<02:44,  1.26s/it]\u001b[A\n",
            "Iteration:  81%|████████▏ | 566/695 [12:50<02:42,  1.26s/it]\u001b[A\n",
            "Iteration:  82%|████████▏ | 567/695 [12:51<02:41,  1.26s/it]\u001b[A\n",
            "Iteration:  82%|████████▏ | 568/695 [12:53<02:41,  1.27s/it]\u001b[A\n",
            "Iteration:  82%|████████▏ | 569/695 [12:54<02:39,  1.26s/it]\u001b[A\n",
            "Iteration:  82%|████████▏ | 570/695 [12:55<02:37,  1.26s/it]\u001b[A\n",
            "Iteration:  82%|████████▏ | 571/695 [12:56<02:36,  1.26s/it]\u001b[A\n",
            "Iteration:  82%|████████▏ | 572/695 [12:58<02:36,  1.27s/it]\u001b[A\n",
            "Iteration:  82%|████████▏ | 573/695 [12:59<02:34,  1.27s/it]\u001b[A\n",
            "Iteration:  83%|████████▎ | 574/695 [13:00<02:32,  1.26s/it]\u001b[A\n",
            "Iteration:  83%|████████▎ | 575/695 [13:01<02:31,  1.26s/it]\u001b[A\n",
            "Iteration:  83%|████████▎ | 576/695 [13:03<02:30,  1.27s/it]\u001b[A\n",
            "Iteration:  83%|████████▎ | 577/695 [13:04<02:29,  1.26s/it]\u001b[A\n",
            "Iteration:  83%|████████▎ | 578/695 [13:05<02:27,  1.26s/it]\u001b[A\n",
            "Iteration:  83%|████████▎ | 579/695 [13:06<02:26,  1.26s/it]\u001b[A\n",
            "Iteration:  83%|████████▎ | 580/695 [13:08<02:26,  1.27s/it]\u001b[A\n",
            "Iteration:  84%|████████▎ | 581/695 [13:09<02:24,  1.26s/it]\u001b[A\n",
            "Iteration:  84%|████████▎ | 582/695 [13:10<02:22,  1.26s/it]\u001b[A\n",
            "Iteration:  84%|████████▍ | 583/695 [13:11<02:21,  1.26s/it]\u001b[A\n",
            "Iteration:  84%|████████▍ | 584/695 [13:13<02:21,  1.27s/it]\u001b[A\n",
            "Iteration:  84%|████████▍ | 585/695 [13:14<02:19,  1.26s/it]\u001b[A\n",
            "Iteration:  84%|████████▍ | 586/695 [13:15<02:17,  1.26s/it]\u001b[A\n",
            "Iteration:  84%|████████▍ | 587/695 [13:17<02:16,  1.27s/it]\u001b[A\n",
            "Iteration:  85%|████████▍ | 588/695 [13:18<02:16,  1.27s/it]\u001b[A\n",
            "Iteration:  85%|████████▍ | 589/695 [13:19<02:14,  1.27s/it]\u001b[A\n",
            "Iteration:  85%|████████▍ | 590/695 [13:20<02:13,  1.27s/it]\u001b[A\n",
            "Iteration:  85%|████████▌ | 591/695 [13:22<02:11,  1.27s/it]\u001b[A\n",
            "Iteration:  85%|████████▌ | 592/695 [13:23<02:10,  1.27s/it]\u001b[A\n",
            "Iteration:  85%|████████▌ | 593/695 [13:24<02:08,  1.26s/it]\u001b[A\n",
            "Iteration:  85%|████████▌ | 594/695 [13:25<02:07,  1.26s/it]\u001b[A\n",
            "Iteration:  86%|████████▌ | 595/695 [13:27<02:06,  1.26s/it]\u001b[A\n",
            "Iteration:  86%|████████▌ | 596/695 [13:28<02:05,  1.27s/it]\u001b[A\n",
            "Iteration:  86%|████████▌ | 597/695 [13:29<02:03,  1.26s/it]\u001b[A\n",
            "Iteration:  86%|████████▌ | 598/695 [13:30<02:02,  1.26s/it]\u001b[A\n",
            "Iteration:  86%|████████▌ | 599/695 [13:32<02:01,  1.26s/it]\u001b[A\n",
            "Iteration:  86%|████████▋ | 600/695 [13:33<02:00,  1.27s/it]\u001b[A\n",
            "Iteration:  86%|████████▋ | 601/695 [13:34<01:58,  1.26s/it]\u001b[A\n",
            "Iteration:  87%|████████▋ | 602/695 [13:36<01:57,  1.26s/it]\u001b[A\n",
            "Iteration:  87%|████████▋ | 603/695 [13:37<01:55,  1.26s/it]\u001b[A\n",
            "Iteration:  87%|████████▋ | 604/695 [13:38<01:55,  1.27s/it]\u001b[A\n",
            "Iteration:  87%|████████▋ | 605/695 [13:39<01:54,  1.27s/it]\u001b[A\n",
            "Iteration:  87%|████████▋ | 606/695 [13:41<01:52,  1.27s/it]\u001b[A\n",
            "Iteration:  87%|████████▋ | 607/695 [13:42<01:51,  1.26s/it]\u001b[A\n",
            "Iteration:  87%|████████▋ | 608/695 [13:43<01:50,  1.27s/it]\u001b[A\n",
            "Iteration:  88%|████████▊ | 609/695 [13:44<01:49,  1.27s/it]\u001b[A\n",
            "Iteration:  88%|████████▊ | 610/695 [13:46<01:48,  1.27s/it]\u001b[A\n",
            "Iteration:  88%|████████▊ | 611/695 [13:47<01:46,  1.27s/it]\u001b[A\n",
            "Iteration:  88%|████████▊ | 612/695 [13:48<01:45,  1.27s/it]\u001b[A\n",
            "Iteration:  88%|████████▊ | 613/695 [13:49<01:43,  1.27s/it]\u001b[A\n",
            "Iteration:  88%|████████▊ | 614/695 [13:51<01:42,  1.27s/it]\u001b[A\n",
            "Iteration:  88%|████████▊ | 615/695 [13:52<01:41,  1.27s/it]\u001b[A"
          ]
        },
        {
          "output_type": "stream",
          "name": "stdout",
          "text": [
            "\tGlobal step: 675 | LR: [3.2532532532532535e-06, 3.2532532532532535e-06] | Avg. loss: 0.252\n"
          ]
        },
        {
          "output_type": "stream",
          "name": "stderr",
          "text": [
            "\n",
            "Iteration:  89%|████████▊ | 616/695 [13:53<01:40,  1.28s/it]\u001b[A\n",
            "Iteration:  89%|████████▉ | 617/695 [13:55<01:39,  1.27s/it]\u001b[A\n",
            "Iteration:  89%|████████▉ | 618/695 [13:56<01:37,  1.27s/it]\u001b[A\n",
            "Iteration:  89%|████████▉ | 619/695 [13:57<01:36,  1.27s/it]\u001b[A\n",
            "Iteration:  89%|████████▉ | 620/695 [13:58<01:35,  1.28s/it]\u001b[A\n",
            "Iteration:  89%|████████▉ | 621/695 [14:00<01:34,  1.27s/it]\u001b[A\n",
            "Iteration:  89%|████████▉ | 622/695 [14:01<01:32,  1.27s/it]\u001b[A\n",
            "Iteration:  90%|████████▉ | 623/695 [14:02<01:31,  1.27s/it]\u001b[A\n",
            "Iteration:  90%|████████▉ | 624/695 [14:03<01:30,  1.27s/it]\u001b[A\n",
            "Iteration:  90%|████████▉ | 625/695 [14:05<01:29,  1.27s/it]\u001b[A\n",
            "Iteration:  90%|█████████ | 626/695 [14:06<01:27,  1.27s/it]\u001b[A\n",
            "Iteration:  90%|█████████ | 627/695 [14:07<01:26,  1.27s/it]\u001b[A\n",
            "Iteration:  90%|█████████ | 628/695 [14:09<01:25,  1.28s/it]\u001b[A\n",
            "Iteration:  91%|█████████ | 629/695 [14:10<01:24,  1.27s/it]\u001b[A\n",
            "Iteration:  91%|█████████ | 630/695 [14:11<01:22,  1.27s/it]\u001b[A\n",
            "Iteration:  91%|█████████ | 631/695 [14:12<01:21,  1.27s/it]\u001b[A\n",
            "Iteration:  91%|█████████ | 632/695 [14:14<01:20,  1.27s/it]\u001b[A\n",
            "Iteration:  91%|█████████ | 633/695 [14:15<01:18,  1.27s/it]\u001b[A\n",
            "Iteration:  91%|█████████ | 634/695 [14:16<01:17,  1.26s/it]\u001b[A\n",
            "Iteration:  91%|█████████▏| 635/695 [14:17<01:15,  1.26s/it]\u001b[A\n",
            "Iteration:  92%|█████████▏| 636/695 [14:19<01:15,  1.27s/it]\u001b[A\n",
            "Iteration:  92%|█████████▏| 637/695 [14:20<01:13,  1.27s/it]\u001b[A\n",
            "Iteration:  92%|█████████▏| 638/695 [14:21<01:12,  1.26s/it]\u001b[A\n",
            "Iteration:  92%|█████████▏| 639/695 [14:23<01:10,  1.27s/it]\u001b[A\n",
            "Iteration:  92%|█████████▏| 640/695 [14:24<01:10,  1.28s/it]\u001b[A\n",
            "Iteration:  92%|█████████▏| 641/695 [14:25<01:08,  1.26s/it]\u001b[A\n",
            "Iteration:  92%|█████████▏| 642/695 [14:26<01:06,  1.26s/it]\u001b[A\n",
            "Iteration:  93%|█████████▎| 643/695 [14:28<01:05,  1.26s/it]\u001b[A\n",
            "Iteration:  93%|█████████▎| 644/695 [14:29<01:04,  1.27s/it]\u001b[A\n",
            "Iteration:  93%|█████████▎| 645/695 [14:30<01:03,  1.26s/it]\u001b[A\n",
            "Iteration:  93%|█████████▎| 646/695 [14:31<01:01,  1.26s/it]\u001b[A\n",
            "Iteration:  93%|█████████▎| 647/695 [14:33<01:00,  1.26s/it]\u001b[A\n",
            "Iteration:  93%|█████████▎| 648/695 [14:34<00:59,  1.27s/it]\u001b[A\n",
            "Iteration:  93%|█████████▎| 649/695 [14:35<00:58,  1.26s/it]\u001b[A\n",
            "Iteration:  94%|█████████▎| 650/695 [14:36<00:56,  1.26s/it]\u001b[A\n",
            "Iteration:  94%|█████████▎| 651/695 [14:38<00:55,  1.26s/it]\u001b[A\n",
            "Iteration:  94%|█████████▍| 652/695 [14:39<00:54,  1.27s/it]\u001b[A\n",
            "Iteration:  94%|█████████▍| 653/695 [14:40<00:52,  1.26s/it]\u001b[A\n",
            "Iteration:  94%|█████████▍| 654/695 [14:41<00:51,  1.26s/it]\u001b[A\n",
            "Iteration:  94%|█████████▍| 655/695 [14:43<00:50,  1.26s/it]\u001b[A\n",
            "Iteration:  94%|█████████▍| 656/695 [14:44<00:49,  1.27s/it]\u001b[A\n",
            "Iteration:  95%|█████████▍| 657/695 [14:45<00:47,  1.26s/it]\u001b[A\n",
            "Iteration:  95%|█████████▍| 658/695 [14:46<00:46,  1.26s/it]\u001b[A\n",
            "Iteration:  95%|█████████▍| 659/695 [14:48<00:45,  1.26s/it]\u001b[A\n",
            "Iteration:  95%|█████████▍| 660/695 [14:49<00:44,  1.27s/it]\u001b[A\n",
            "Iteration:  95%|█████████▌| 661/695 [14:50<00:42,  1.26s/it]\u001b[A\n",
            "Iteration:  95%|█████████▌| 662/695 [14:52<00:41,  1.26s/it]\u001b[A\n",
            "Iteration:  95%|█████████▌| 663/695 [14:53<00:40,  1.26s/it]\u001b[A\n",
            "Iteration:  96%|█████████▌| 664/695 [14:54<00:39,  1.27s/it]\u001b[A\n",
            "Iteration:  96%|█████████▌| 665/695 [14:55<00:37,  1.26s/it]\u001b[A\n",
            "Iteration:  96%|█████████▌| 666/695 [14:57<00:36,  1.26s/it]\u001b[A\n",
            "Iteration:  96%|█████████▌| 667/695 [14:58<00:35,  1.26s/it]\u001b[A\n",
            "Iteration:  96%|█████████▌| 668/695 [14:59<00:34,  1.27s/it]\u001b[A\n",
            "Iteration:  96%|█████████▋| 669/695 [15:00<00:32,  1.27s/it]\u001b[A\n",
            "Iteration:  96%|█████████▋| 670/695 [15:02<00:31,  1.26s/it]\u001b[A\n",
            "Iteration:  97%|█████████▋| 671/695 [15:03<00:30,  1.26s/it]\u001b[A\n",
            "Iteration:  97%|█████████▋| 672/695 [15:04<00:29,  1.27s/it]\u001b[A\n",
            "Iteration:  97%|█████████▋| 673/695 [15:05<00:27,  1.26s/it]\u001b[A\n",
            "Iteration:  97%|█████████▋| 674/695 [15:07<00:26,  1.26s/it]\u001b[A\n",
            "Iteration:  97%|█████████▋| 675/695 [15:08<00:25,  1.26s/it]\u001b[A\n",
            "Iteration:  97%|█████████▋| 676/695 [15:09<00:24,  1.27s/it]\u001b[A\n",
            "Iteration:  97%|█████████▋| 677/695 [15:11<00:22,  1.26s/it]\u001b[A\n",
            "Iteration:  98%|█████████▊| 678/695 [15:12<00:21,  1.26s/it]\u001b[A\n",
            "Iteration:  98%|█████████▊| 679/695 [15:13<00:20,  1.26s/it]\u001b[A\n",
            "Iteration:  98%|█████████▊| 680/695 [15:14<00:19,  1.27s/it]\u001b[A\n",
            "Iteration:  98%|█████████▊| 681/695 [15:16<00:17,  1.26s/it]\u001b[A\n",
            "Iteration:  98%|█████████▊| 682/695 [15:17<00:16,  1.26s/it]\u001b[A\n",
            "Iteration:  98%|█████████▊| 683/695 [15:18<00:15,  1.26s/it]\u001b[A\n",
            "Iteration:  98%|█████████▊| 684/695 [15:19<00:13,  1.27s/it]\u001b[A\n",
            "Iteration:  99%|█████████▊| 685/695 [15:21<00:12,  1.26s/it]\u001b[A\n",
            "Iteration:  99%|█████████▊| 686/695 [15:22<00:11,  1.26s/it]\u001b[A\n",
            "Iteration:  99%|█████████▉| 687/695 [15:23<00:10,  1.26s/it]\u001b[A\n",
            "Iteration:  99%|█████████▉| 688/695 [15:24<00:08,  1.27s/it]\u001b[A\n",
            "Iteration:  99%|█████████▉| 689/695 [15:26<00:07,  1.26s/it]\u001b[A\n",
            "Iteration:  99%|█████████▉| 690/695 [15:27<00:06,  1.26s/it]\u001b[A\n",
            "Iteration:  99%|█████████▉| 691/695 [15:28<00:05,  1.26s/it]\u001b[A\n",
            "Iteration: 100%|█████████▉| 692/695 [15:29<00:03,  1.26s/it]\u001b[A\n",
            "Iteration: 100%|█████████▉| 693/695 [15:31<00:02,  1.26s/it]\u001b[A\n",
            "Iteration: 100%|█████████▉| 694/695 [15:32<00:01,  1.26s/it]\u001b[A\n",
            "Iteration: 100%|██████████| 695/695 [15:33<00:00,  1.34s/it]\n",
            "Epoch:  80%|████████  | 4/5 [1:02:51<15:42, 942.91s/it]\n",
            "Iteration:   0%|          | 0/695 [00:00<?, ?it/s]\u001b[A\n",
            "Iteration:   0%|          | 1/695 [00:01<13:21,  1.15s/it]\u001b[A\n",
            "Iteration:   0%|          | 2/695 [00:02<13:58,  1.21s/it]\u001b[A\n",
            "Iteration:   0%|          | 3/695 [00:03<14:12,  1.23s/it]\u001b[A\n",
            "Iteration:   1%|          | 4/695 [00:04<14:17,  1.24s/it]\u001b[A\n",
            "Iteration:   1%|          | 5/695 [00:06<14:28,  1.26s/it]\u001b[A\n",
            "Iteration:   1%|          | 6/695 [00:07<14:25,  1.26s/it]\u001b[A\n",
            "Iteration:   1%|          | 7/695 [00:08<14:24,  1.26s/it]\u001b[A\n",
            "Iteration:   1%|          | 8/695 [00:09<14:23,  1.26s/it]\u001b[A\n",
            "Iteration:   1%|▏         | 9/695 [00:11<14:28,  1.27s/it]\u001b[A\n",
            "Iteration:   1%|▏         | 10/695 [00:12<14:24,  1.26s/it]\u001b[A\n",
            "Iteration:   2%|▏         | 11/695 [00:13<14:20,  1.26s/it]\u001b[A\n",
            "Iteration:   2%|▏         | 12/695 [00:15<14:22,  1.26s/it]\u001b[A\n",
            "Iteration:   2%|▏         | 13/695 [00:16<14:26,  1.27s/it]\u001b[A\n",
            "Iteration:   2%|▏         | 14/695 [00:17<14:19,  1.26s/it]\u001b[A\n",
            "Iteration:   2%|▏         | 15/695 [00:18<14:17,  1.26s/it]\u001b[A\n",
            "Iteration:   2%|▏         | 16/695 [00:20<14:16,  1.26s/it]\u001b[A\n",
            "Iteration:   2%|▏         | 17/695 [00:21<14:20,  1.27s/it]\u001b[A\n",
            "Iteration:   3%|▎         | 18/695 [00:22<14:16,  1.26s/it]\u001b[A\n",
            "Iteration:   3%|▎         | 19/695 [00:23<14:13,  1.26s/it]\u001b[A"
          ]
        },
        {
          "output_type": "stream",
          "name": "stdout",
          "text": [
            "\tGlobal step: 700 | LR: [3.0030030030030034e-06, 3.0030030030030034e-06] | Avg. loss: 0.249\n",
            "====================\n",
            "\tEvaluating on valiadtion set!\n"
          ]
        },
        {
          "output_type": "stream",
          "name": "stderr",
          "text": [
            "\n",
            "\n",
            "Evaluating:   0%|          | 0/32 [00:00<?, ?it/s]\u001b[A\u001b[A\n",
            "\n",
            "Evaluating:   3%|▎         | 1/32 [00:01<00:37,  1.22s/it]\u001b[A\u001b[A"
          ]
        },
        {
          "output_type": "stream",
          "name": "stdout",
          "text": [
            "0.96875\n"
          ]
        },
        {
          "output_type": "stream",
          "name": "stderr",
          "text": [
            "\n",
            "\n",
            "Evaluating:   6%|▋         | 2/32 [00:01<00:22,  1.31it/s]\u001b[A\u001b[A"
          ]
        },
        {
          "output_type": "stream",
          "name": "stdout",
          "text": [
            "0.96875\n"
          ]
        },
        {
          "output_type": "stream",
          "name": "stderr",
          "text": [
            "\n",
            "\n",
            "Evaluating:   9%|▉         | 3/32 [00:02<00:17,  1.63it/s]\u001b[A\u001b[A"
          ]
        },
        {
          "output_type": "stream",
          "name": "stdout",
          "text": [
            "0.9375\n"
          ]
        },
        {
          "output_type": "stream",
          "name": "stderr",
          "text": [
            "\n",
            "\n",
            "Evaluating:  12%|█▎        | 4/32 [00:02<00:15,  1.84it/s]\u001b[A\u001b[A"
          ]
        },
        {
          "output_type": "stream",
          "name": "stdout",
          "text": [
            "0.8125\n"
          ]
        },
        {
          "output_type": "stream",
          "name": "stderr",
          "text": [
            "\n",
            "\n",
            "Evaluating:  16%|█▌        | 5/32 [00:02<00:13,  1.98it/s]\u001b[A\u001b[A"
          ]
        },
        {
          "output_type": "stream",
          "name": "stdout",
          "text": [
            "0.90625\n"
          ]
        },
        {
          "output_type": "stream",
          "name": "stderr",
          "text": [
            "\n",
            "\n",
            "Evaluating:  19%|█▉        | 6/32 [00:03<00:12,  2.08it/s]\u001b[A\u001b[A"
          ]
        },
        {
          "output_type": "stream",
          "name": "stdout",
          "text": [
            "0.84375\n"
          ]
        },
        {
          "output_type": "stream",
          "name": "stderr",
          "text": [
            "\n",
            "\n",
            "Evaluating:  22%|██▏       | 7/32 [00:03<00:11,  2.14it/s]\u001b[A\u001b[A"
          ]
        },
        {
          "output_type": "stream",
          "name": "stdout",
          "text": [
            "0.90625\n"
          ]
        },
        {
          "output_type": "stream",
          "name": "stderr",
          "text": [
            "\n",
            "\n",
            "Evaluating:  25%|██▌       | 8/32 [00:04<00:11,  2.18it/s]\u001b[A\u001b[A"
          ]
        },
        {
          "output_type": "stream",
          "name": "stdout",
          "text": [
            "0.9375\n"
          ]
        },
        {
          "output_type": "stream",
          "name": "stderr",
          "text": [
            "\n",
            "\n",
            "Evaluating:  28%|██▊       | 9/32 [00:04<00:10,  2.22it/s]\u001b[A\u001b[A"
          ]
        },
        {
          "output_type": "stream",
          "name": "stdout",
          "text": [
            "0.875\n"
          ]
        },
        {
          "output_type": "stream",
          "name": "stderr",
          "text": [
            "\n",
            "\n",
            "Evaluating:  31%|███▏      | 10/32 [00:05<00:09,  2.23it/s]\u001b[A\u001b[A"
          ]
        },
        {
          "output_type": "stream",
          "name": "stdout",
          "text": [
            "0.84375\n"
          ]
        },
        {
          "output_type": "stream",
          "name": "stderr",
          "text": [
            "\n",
            "\n",
            "Evaluating:  34%|███▍      | 11/32 [00:05<00:09,  2.25it/s]\u001b[A\u001b[A"
          ]
        },
        {
          "output_type": "stream",
          "name": "stdout",
          "text": [
            "0.96875\n"
          ]
        },
        {
          "output_type": "stream",
          "name": "stderr",
          "text": [
            "\n",
            "\n",
            "Evaluating:  38%|███▊      | 12/32 [00:06<00:08,  2.27it/s]\u001b[A\u001b[A"
          ]
        },
        {
          "output_type": "stream",
          "name": "stdout",
          "text": [
            "0.9375\n"
          ]
        },
        {
          "output_type": "stream",
          "name": "stderr",
          "text": [
            "\n",
            "\n",
            "Evaluating:  41%|████      | 13/32 [00:06<00:08,  2.28it/s]\u001b[A\u001b[A"
          ]
        },
        {
          "output_type": "stream",
          "name": "stdout",
          "text": [
            "0.90625\n"
          ]
        },
        {
          "output_type": "stream",
          "name": "stderr",
          "text": [
            "\n",
            "\n",
            "Evaluating:  44%|████▍     | 14/32 [00:06<00:07,  2.27it/s]\u001b[A\u001b[A"
          ]
        },
        {
          "output_type": "stream",
          "name": "stdout",
          "text": [
            "0.9375\n"
          ]
        },
        {
          "output_type": "stream",
          "name": "stderr",
          "text": [
            "\n",
            "\n",
            "Evaluating:  47%|████▋     | 15/32 [00:07<00:07,  2.28it/s]\u001b[A\u001b[A"
          ]
        },
        {
          "output_type": "stream",
          "name": "stdout",
          "text": [
            "0.84375\n"
          ]
        },
        {
          "output_type": "stream",
          "name": "stderr",
          "text": [
            "\n",
            "\n",
            "Evaluating:  50%|█████     | 16/32 [00:07<00:06,  2.29it/s]\u001b[A\u001b[A"
          ]
        },
        {
          "output_type": "stream",
          "name": "stdout",
          "text": [
            "0.875\n"
          ]
        },
        {
          "output_type": "stream",
          "name": "stderr",
          "text": [
            "\n",
            "\n",
            "Evaluating:  53%|█████▎    | 17/32 [00:08<00:06,  2.28it/s]\u001b[A\u001b[A"
          ]
        },
        {
          "output_type": "stream",
          "name": "stdout",
          "text": [
            "0.875\n"
          ]
        },
        {
          "output_type": "stream",
          "name": "stderr",
          "text": [
            "\n",
            "\n",
            "Evaluating:  56%|█████▋    | 18/32 [00:08<00:06,  2.28it/s]\u001b[A\u001b[A"
          ]
        },
        {
          "output_type": "stream",
          "name": "stdout",
          "text": [
            "0.84375\n"
          ]
        },
        {
          "output_type": "stream",
          "name": "stderr",
          "text": [
            "\n",
            "\n",
            "Evaluating:  59%|█████▉    | 19/32 [00:09<00:05,  2.28it/s]\u001b[A\u001b[A"
          ]
        },
        {
          "output_type": "stream",
          "name": "stdout",
          "text": [
            "0.90625\n"
          ]
        },
        {
          "output_type": "stream",
          "name": "stderr",
          "text": [
            "\n",
            "\n",
            "Evaluating:  62%|██████▎   | 20/32 [00:09<00:05,  2.28it/s]\u001b[A\u001b[A"
          ]
        },
        {
          "output_type": "stream",
          "name": "stdout",
          "text": [
            "0.875\n"
          ]
        },
        {
          "output_type": "stream",
          "name": "stderr",
          "text": [
            "\n",
            "\n",
            "Evaluating:  66%|██████▌   | 21/32 [00:09<00:04,  2.29it/s]\u001b[A\u001b[A"
          ]
        },
        {
          "output_type": "stream",
          "name": "stdout",
          "text": [
            "0.75\n"
          ]
        },
        {
          "output_type": "stream",
          "name": "stderr",
          "text": [
            "\n",
            "\n",
            "Evaluating:  69%|██████▉   | 22/32 [00:10<00:04,  2.28it/s]\u001b[A\u001b[A"
          ]
        },
        {
          "output_type": "stream",
          "name": "stdout",
          "text": [
            "0.8125\n"
          ]
        },
        {
          "output_type": "stream",
          "name": "stderr",
          "text": [
            "\n",
            "\n",
            "Evaluating:  72%|███████▏  | 23/32 [00:10<00:03,  2.29it/s]\u001b[A\u001b[A"
          ]
        },
        {
          "output_type": "stream",
          "name": "stdout",
          "text": [
            "0.84375\n"
          ]
        },
        {
          "output_type": "stream",
          "name": "stderr",
          "text": [
            "\n",
            "\n",
            "Evaluating:  75%|███████▌  | 24/32 [00:11<00:03,  2.28it/s]\u001b[A\u001b[A"
          ]
        },
        {
          "output_type": "stream",
          "name": "stdout",
          "text": [
            "0.84375\n"
          ]
        },
        {
          "output_type": "stream",
          "name": "stderr",
          "text": [
            "\n",
            "\n",
            "Evaluating:  78%|███████▊  | 25/32 [00:11<00:03,  2.28it/s]\u001b[A\u001b[A"
          ]
        },
        {
          "output_type": "stream",
          "name": "stdout",
          "text": [
            "0.8125\n"
          ]
        },
        {
          "output_type": "stream",
          "name": "stderr",
          "text": [
            "\n",
            "\n",
            "Evaluating:  81%|████████▏ | 26/32 [00:12<00:02,  2.28it/s]\u001b[A\u001b[A"
          ]
        },
        {
          "output_type": "stream",
          "name": "stdout",
          "text": [
            "0.8125\n"
          ]
        },
        {
          "output_type": "stream",
          "name": "stderr",
          "text": [
            "\n",
            "\n",
            "Evaluating:  84%|████████▍ | 27/32 [00:12<00:02,  2.28it/s]\u001b[A\u001b[A"
          ]
        },
        {
          "output_type": "stream",
          "name": "stdout",
          "text": [
            "0.875\n"
          ]
        },
        {
          "output_type": "stream",
          "name": "stderr",
          "text": [
            "\n",
            "\n",
            "Evaluating:  88%|████████▊ | 28/32 [00:13<00:01,  2.29it/s]\u001b[A\u001b[A"
          ]
        },
        {
          "output_type": "stream",
          "name": "stdout",
          "text": [
            "0.84375\n"
          ]
        },
        {
          "output_type": "stream",
          "name": "stderr",
          "text": [
            "\n",
            "\n",
            "Evaluating:  91%|█████████ | 29/32 [00:13<00:01,  2.28it/s]\u001b[A\u001b[A"
          ]
        },
        {
          "output_type": "stream",
          "name": "stdout",
          "text": [
            "0.875\n"
          ]
        },
        {
          "output_type": "stream",
          "name": "stderr",
          "text": [
            "\n",
            "\n",
            "Evaluating:  94%|█████████▍| 30/32 [00:13<00:00,  2.28it/s]\u001b[A\u001b[A"
          ]
        },
        {
          "output_type": "stream",
          "name": "stdout",
          "text": [
            "0.8125\n"
          ]
        },
        {
          "output_type": "stream",
          "name": "stderr",
          "text": [
            "\n",
            "\n",
            "Evaluating:  97%|█████████▋| 31/32 [00:14<00:00,  2.29it/s]\u001b[A\u001b[A\n",
            "\n",
            "Evaluating: 100%|██████████| 32/32 [00:14<00:00,  2.21it/s]"
          ]
        },
        {
          "output_type": "stream",
          "name": "stdout",
          "text": [
            "0.78125\n",
            "0.875\n",
            "== Finished evaluating model: next_sentence_cls_0 ==\n",
            "\tMean evaluation acc: 0.872\n"
          ]
        },
        {
          "output_type": "stream",
          "name": "stderr",
          "text": [
            "\n",
            "\n",
            "Iteration:   3%|▎         | 20/695 [00:50<1:38:08,  8.72s/it]\u001b[A"
          ]
        },
        {
          "output_type": "stream",
          "name": "stdout",
          "text": [
            "\tEvaluation accuracy: 0.872 | Stale count: 0\n",
            "====================\n"
          ]
        },
        {
          "output_type": "stream",
          "name": "stderr",
          "text": [
            "\n",
            "Iteration:   3%|▎         | 21/695 [00:50<1:10:24,  6.27s/it]\u001b[A\n",
            "Iteration:   3%|▎         | 22/695 [00:51<53:18,  4.75s/it]  \u001b[A\n",
            "Iteration:   3%|▎         | 23/695 [00:52<41:22,  3.69s/it]\u001b[A\n",
            "Iteration:   3%|▎         | 24/695 [00:54<33:00,  2.95s/it]\u001b[A\n",
            "Iteration:   4%|▎         | 25/695 [00:55<27:16,  2.44s/it]\u001b[A\n",
            "Iteration:   4%|▎         | 26/695 [00:56<23:06,  2.07s/it]\u001b[A\n",
            "Iteration:   4%|▍         | 27/695 [00:57<20:15,  1.82s/it]\u001b[A\n",
            "Iteration:   4%|▍         | 28/695 [00:59<18:16,  1.64s/it]\u001b[A\n",
            "Iteration:   4%|▍         | 29/695 [01:00<16:59,  1.53s/it]\u001b[A\n",
            "Iteration:   4%|▍         | 30/695 [01:01<15:56,  1.44s/it]\u001b[A\n",
            "Iteration:   4%|▍         | 31/695 [01:02<15:14,  1.38s/it]\u001b[A\n",
            "Iteration:   5%|▍         | 32/695 [01:04<14:46,  1.34s/it]\u001b[A\n",
            "Iteration:   5%|▍         | 33/695 [01:05<14:30,  1.31s/it]\u001b[A\n",
            "Iteration:   5%|▍         | 34/695 [01:06<14:12,  1.29s/it]\u001b[A\n",
            "Iteration:   5%|▌         | 35/695 [01:07<13:59,  1.27s/it]\u001b[A\n",
            "Iteration:   5%|▌         | 36/695 [01:09<13:52,  1.26s/it]\u001b[A\n",
            "Iteration:   5%|▌         | 37/695 [01:10<13:53,  1.27s/it]\u001b[A\n",
            "Iteration:   5%|▌         | 38/695 [01:11<13:43,  1.25s/it]\u001b[A\n",
            "Iteration:   6%|▌         | 39/695 [01:12<13:39,  1.25s/it]\u001b[A\n",
            "Iteration:   6%|▌         | 40/695 [01:14<13:36,  1.25s/it]\u001b[A\n",
            "Iteration:   6%|▌         | 41/695 [01:15<13:41,  1.26s/it]\u001b[A\n",
            "Iteration:   6%|▌         | 42/695 [01:16<13:33,  1.25s/it]\u001b[A\n",
            "Iteration:   6%|▌         | 43/695 [01:17<13:29,  1.24s/it]\u001b[A\n",
            "Iteration:   6%|▋         | 44/695 [01:19<13:28,  1.24s/it]\u001b[A\n",
            "Iteration:   6%|▋         | 45/695 [01:20<13:34,  1.25s/it]\u001b[A\n",
            "Iteration:   7%|▋         | 46/695 [01:21<13:29,  1.25s/it]\u001b[A\n",
            "Iteration:   7%|▋         | 47/695 [01:22<13:27,  1.25s/it]\u001b[A\n",
            "Iteration:   7%|▋         | 48/695 [01:24<13:25,  1.25s/it]\u001b[A\n",
            "Iteration:   7%|▋         | 49/695 [01:25<13:30,  1.26s/it]\u001b[A\n",
            "Iteration:   7%|▋         | 50/695 [01:26<13:23,  1.25s/it]\u001b[A\n",
            "Iteration:   7%|▋         | 51/695 [01:27<13:22,  1.25s/it]\u001b[A\n",
            "Iteration:   7%|▋         | 52/695 [01:29<13:21,  1.25s/it]\u001b[A\n",
            "Iteration:   8%|▊         | 53/695 [01:30<13:25,  1.25s/it]\u001b[A\n",
            "Iteration:   8%|▊         | 54/695 [01:31<13:21,  1.25s/it]\u001b[A\n",
            "Iteration:   8%|▊         | 55/695 [01:32<13:19,  1.25s/it]\u001b[A\n",
            "Iteration:   8%|▊         | 56/695 [01:34<13:15,  1.24s/it]\u001b[A\n",
            "Iteration:   8%|▊         | 57/695 [01:35<13:20,  1.26s/it]\u001b[A\n",
            "Iteration:   8%|▊         | 58/695 [01:36<13:16,  1.25s/it]\u001b[A\n",
            "Iteration:   8%|▊         | 59/695 [01:37<13:12,  1.25s/it]\u001b[A\n",
            "Iteration:   9%|▊         | 60/695 [01:39<13:11,  1.25s/it]\u001b[A\n",
            "Iteration:   9%|▉         | 61/695 [01:40<13:16,  1.26s/it]\u001b[A\n",
            "Iteration:   9%|▉         | 62/695 [01:41<13:12,  1.25s/it]\u001b[A\n",
            "Iteration:   9%|▉         | 63/695 [01:42<13:07,  1.25s/it]\u001b[A\n",
            "Iteration:   9%|▉         | 64/695 [01:44<13:07,  1.25s/it]\u001b[A\n",
            "Iteration:   9%|▉         | 65/695 [01:45<13:11,  1.26s/it]\u001b[A\n",
            "Iteration:   9%|▉         | 66/695 [01:46<13:06,  1.25s/it]\u001b[A\n",
            "Iteration:  10%|▉         | 67/695 [01:47<13:01,  1.25s/it]\u001b[A\n",
            "Iteration:  10%|▉         | 68/695 [01:49<13:02,  1.25s/it]\u001b[A\n",
            "Iteration:  10%|▉         | 69/695 [01:50<13:04,  1.25s/it]\u001b[A\n",
            "Iteration:  10%|█         | 70/695 [01:51<12:59,  1.25s/it]\u001b[A\n",
            "Iteration:  10%|█         | 71/695 [01:52<12:57,  1.25s/it]\u001b[A\n",
            "Iteration:  10%|█         | 72/695 [01:54<12:57,  1.25s/it]\u001b[A\n",
            "Iteration:  11%|█         | 73/695 [01:55<12:59,  1.25s/it]\u001b[A\n",
            "Iteration:  11%|█         | 74/695 [01:56<12:54,  1.25s/it]\u001b[A\n",
            "Iteration:  11%|█         | 75/695 [01:57<12:53,  1.25s/it]\u001b[A\n",
            "Iteration:  11%|█         | 76/695 [01:59<12:51,  1.25s/it]\u001b[A\n",
            "Iteration:  11%|█         | 77/695 [02:00<12:57,  1.26s/it]\u001b[A\n",
            "Iteration:  11%|█         | 78/695 [02:01<12:53,  1.25s/it]\u001b[A\n",
            "Iteration:  11%|█▏        | 79/695 [02:02<12:48,  1.25s/it]\u001b[A\n",
            "Iteration:  12%|█▏        | 80/695 [02:04<12:50,  1.25s/it]\u001b[A\n",
            "Iteration:  12%|█▏        | 81/695 [02:05<12:53,  1.26s/it]\u001b[A\n",
            "Iteration:  12%|█▏        | 82/695 [02:06<12:46,  1.25s/it]\u001b[A\n",
            "Iteration:  12%|█▏        | 83/695 [02:07<12:43,  1.25s/it]\u001b[A\n",
            "Iteration:  12%|█▏        | 84/695 [02:09<12:41,  1.25s/it]\u001b[A\n",
            "Iteration:  12%|█▏        | 85/695 [02:10<12:46,  1.26s/it]\u001b[A\n",
            "Iteration:  12%|█▏        | 86/695 [02:11<12:41,  1.25s/it]\u001b[A\n",
            "Iteration:  13%|█▎        | 87/695 [02:12<12:39,  1.25s/it]\u001b[A\n",
            "Iteration:  13%|█▎        | 88/695 [02:14<12:37,  1.25s/it]\u001b[A\n",
            "Iteration:  13%|█▎        | 89/695 [02:15<12:42,  1.26s/it]\u001b[A\n",
            "Iteration:  13%|█▎        | 90/695 [02:16<12:38,  1.25s/it]\u001b[A\n",
            "Iteration:  13%|█▎        | 91/695 [02:17<12:35,  1.25s/it]\u001b[A\n",
            "Iteration:  13%|█▎        | 92/695 [02:19<12:31,  1.25s/it]\u001b[A\n",
            "Iteration:  13%|█▎        | 93/695 [02:20<12:34,  1.25s/it]\u001b[A\n",
            "Iteration:  14%|█▎        | 94/695 [02:21<12:29,  1.25s/it]\u001b[A\n",
            "Iteration:  14%|█▎        | 95/695 [02:22<12:26,  1.24s/it]\u001b[A\n",
            "Iteration:  14%|█▍        | 96/695 [02:24<12:24,  1.24s/it]\u001b[A\n",
            "Iteration:  14%|█▍        | 97/695 [02:25<12:30,  1.26s/it]\u001b[A\n",
            "Iteration:  14%|█▍        | 98/695 [02:26<12:26,  1.25s/it]\u001b[A\n",
            "Iteration:  14%|█▍        | 99/695 [02:27<12:22,  1.25s/it]\u001b[A\n",
            "Iteration:  14%|█▍        | 100/695 [02:29<12:21,  1.25s/it]\u001b[A\n",
            "Iteration:  15%|█▍        | 101/695 [02:30<12:26,  1.26s/it]\u001b[A\n",
            "Iteration:  15%|█▍        | 102/695 [02:31<12:18,  1.24s/it]\u001b[A\n",
            "Iteration:  15%|█▍        | 103/695 [02:32<12:14,  1.24s/it]\u001b[A\n",
            "Iteration:  15%|█▍        | 104/695 [02:34<12:14,  1.24s/it]\u001b[A\n",
            "Iteration:  15%|█▌        | 105/695 [02:35<12:18,  1.25s/it]\u001b[A\n",
            "Iteration:  15%|█▌        | 106/695 [02:36<12:14,  1.25s/it]\u001b[A\n",
            "Iteration:  15%|█▌        | 107/695 [02:37<12:11,  1.24s/it]\u001b[A\n",
            "Iteration:  16%|█▌        | 108/695 [02:39<12:11,  1.25s/it]\u001b[A\n",
            "Iteration:  16%|█▌        | 109/695 [02:40<12:16,  1.26s/it]\u001b[A\n",
            "Iteration:  16%|█▌        | 110/695 [02:41<12:13,  1.25s/it]\u001b[A\n",
            "Iteration:  16%|█▌        | 111/695 [02:42<12:07,  1.25s/it]\u001b[A\n",
            "Iteration:  16%|█▌        | 112/695 [02:44<12:06,  1.25s/it]\u001b[A\n",
            "Iteration:  16%|█▋        | 113/695 [02:45<12:10,  1.25s/it]\u001b[A\n",
            "Iteration:  16%|█▋        | 114/695 [02:46<12:07,  1.25s/it]\u001b[A\n",
            "Iteration:  17%|█▋        | 115/695 [02:47<12:03,  1.25s/it]\u001b[A\n",
            "Iteration:  17%|█▋        | 116/695 [02:49<12:01,  1.25s/it]\u001b[A\n",
            "Iteration:  17%|█▋        | 117/695 [02:50<12:05,  1.25s/it]\u001b[A\n",
            "Iteration:  17%|█▋        | 118/695 [02:51<12:01,  1.25s/it]\u001b[A\n",
            "Iteration:  17%|█▋        | 119/695 [02:52<11:58,  1.25s/it]\u001b[A\n",
            "Iteration:  17%|█▋        | 120/695 [02:54<12:00,  1.25s/it]\u001b[A"
          ]
        },
        {
          "output_type": "stream",
          "name": "stdout",
          "text": [
            "\tGlobal step: 725 | LR: [2.752752752752753e-06, 2.752752752752753e-06] | Avg. loss: 0.236\n"
          ]
        },
        {
          "output_type": "stream",
          "name": "stderr",
          "text": [
            "\n",
            "Iteration:  17%|█▋        | 121/695 [02:55<12:00,  1.25s/it]\u001b[A\n",
            "Iteration:  18%|█▊        | 122/695 [02:56<11:56,  1.25s/it]\u001b[A\n",
            "Iteration:  18%|█▊        | 123/695 [02:57<11:55,  1.25s/it]\u001b[A\n",
            "Iteration:  18%|█▊        | 124/695 [02:59<11:56,  1.25s/it]\u001b[A\n",
            "Iteration:  18%|█▊        | 125/695 [03:00<12:00,  1.26s/it]\u001b[A\n",
            "Iteration:  18%|█▊        | 126/695 [03:01<11:54,  1.26s/it]\u001b[A\n",
            "Iteration:  18%|█▊        | 127/695 [03:02<11:51,  1.25s/it]\u001b[A\n",
            "Iteration:  18%|█▊        | 128/695 [03:04<11:49,  1.25s/it]\u001b[A\n",
            "Iteration:  19%|█▊        | 129/695 [03:05<11:56,  1.27s/it]\u001b[A\n",
            "Iteration:  19%|█▊        | 130/695 [03:06<11:51,  1.26s/it]\u001b[A\n",
            "Iteration:  19%|█▉        | 131/695 [03:07<11:47,  1.25s/it]\u001b[A\n",
            "Iteration:  19%|█▉        | 132/695 [03:09<11:46,  1.25s/it]\u001b[A\n",
            "Iteration:  19%|█▉        | 133/695 [03:10<11:53,  1.27s/it]\u001b[A\n",
            "Iteration:  19%|█▉        | 134/695 [03:11<11:48,  1.26s/it]\u001b[A\n",
            "Iteration:  19%|█▉        | 135/695 [03:12<11:45,  1.26s/it]\u001b[A\n",
            "Iteration:  20%|█▉        | 136/695 [03:14<11:44,  1.26s/it]\u001b[A\n",
            "Iteration:  20%|█▉        | 137/695 [03:15<11:47,  1.27s/it]\u001b[A\n",
            "Iteration:  20%|█▉        | 138/695 [03:16<11:43,  1.26s/it]\u001b[A\n",
            "Iteration:  20%|██        | 139/695 [03:17<11:42,  1.26s/it]\u001b[A\n",
            "Iteration:  20%|██        | 140/695 [03:19<11:39,  1.26s/it]\u001b[A\n",
            "Iteration:  20%|██        | 141/695 [03:20<11:42,  1.27s/it]\u001b[A\n",
            "Iteration:  20%|██        | 142/695 [03:21<11:35,  1.26s/it]\u001b[A\n",
            "Iteration:  21%|██        | 143/695 [03:22<11:33,  1.26s/it]\u001b[A\n",
            "Iteration:  21%|██        | 144/695 [03:24<11:31,  1.26s/it]\u001b[A\n",
            "Iteration:  21%|██        | 145/695 [03:25<11:32,  1.26s/it]\u001b[A\n",
            "Iteration:  21%|██        | 146/695 [03:26<11:27,  1.25s/it]\u001b[A\n",
            "Iteration:  21%|██        | 147/695 [03:27<11:25,  1.25s/it]\u001b[A\n",
            "Iteration:  21%|██▏       | 148/695 [03:29<11:27,  1.26s/it]\u001b[A\n",
            "Iteration:  21%|██▏       | 149/695 [03:30<11:26,  1.26s/it]\u001b[A\n",
            "Iteration:  22%|██▏       | 150/695 [03:31<11:20,  1.25s/it]\u001b[A\n",
            "Iteration:  22%|██▏       | 151/695 [03:33<11:20,  1.25s/it]\u001b[A\n",
            "Iteration:  22%|██▏       | 152/695 [03:34<11:18,  1.25s/it]\u001b[A\n",
            "Iteration:  22%|██▏       | 153/695 [03:35<11:21,  1.26s/it]\u001b[A\n",
            "Iteration:  22%|██▏       | 154/695 [03:36<11:17,  1.25s/it]\u001b[A\n",
            "Iteration:  22%|██▏       | 155/695 [03:38<11:15,  1.25s/it]\u001b[A\n",
            "Iteration:  22%|██▏       | 156/695 [03:39<11:13,  1.25s/it]\u001b[A\n",
            "Iteration:  23%|██▎       | 157/695 [03:40<11:16,  1.26s/it]\u001b[A\n",
            "Iteration:  23%|██▎       | 158/695 [03:41<11:11,  1.25s/it]\u001b[A\n",
            "Iteration:  23%|██▎       | 159/695 [03:43<11:11,  1.25s/it]\u001b[A\n",
            "Iteration:  23%|██▎       | 160/695 [03:44<11:10,  1.25s/it]\u001b[A\n",
            "Iteration:  23%|██▎       | 161/695 [03:45<11:12,  1.26s/it]\u001b[A\n",
            "Iteration:  23%|██▎       | 162/695 [03:46<11:08,  1.25s/it]\u001b[A\n",
            "Iteration:  23%|██▎       | 163/695 [03:48<11:04,  1.25s/it]\u001b[A\n",
            "Iteration:  24%|██▎       | 164/695 [03:49<11:03,  1.25s/it]\u001b[A\n",
            "Iteration:  24%|██▎       | 165/695 [03:50<11:06,  1.26s/it]\u001b[A\n",
            "Iteration:  24%|██▍       | 166/695 [03:51<11:01,  1.25s/it]\u001b[A\n",
            "Iteration:  24%|██▍       | 167/695 [03:53<10:58,  1.25s/it]\u001b[A\n",
            "Iteration:  24%|██▍       | 168/695 [03:54<10:59,  1.25s/it]\u001b[A\n",
            "Iteration:  24%|██▍       | 169/695 [03:55<11:00,  1.26s/it]\u001b[A\n",
            "Iteration:  24%|██▍       | 170/695 [03:56<10:58,  1.25s/it]\u001b[A\n",
            "Iteration:  25%|██▍       | 171/695 [03:58<10:55,  1.25s/it]\u001b[A\n",
            "Iteration:  25%|██▍       | 172/695 [03:59<10:54,  1.25s/it]\u001b[A\n",
            "Iteration:  25%|██▍       | 173/695 [04:00<10:58,  1.26s/it]\u001b[A\n",
            "Iteration:  25%|██▌       | 174/695 [04:01<10:53,  1.25s/it]\u001b[A\n",
            "Iteration:  25%|██▌       | 175/695 [04:03<10:51,  1.25s/it]\u001b[A\n",
            "Iteration:  25%|██▌       | 176/695 [04:04<10:49,  1.25s/it]\u001b[A\n",
            "Iteration:  25%|██▌       | 177/695 [04:05<10:53,  1.26s/it]\u001b[A\n",
            "Iteration:  26%|██▌       | 178/695 [04:06<10:49,  1.26s/it]\u001b[A\n",
            "Iteration:  26%|██▌       | 179/695 [04:08<10:43,  1.25s/it]\u001b[A\n",
            "Iteration:  26%|██▌       | 180/695 [04:09<10:43,  1.25s/it]\u001b[A\n",
            "Iteration:  26%|██▌       | 181/695 [04:10<10:44,  1.25s/it]\u001b[A\n",
            "Iteration:  26%|██▌       | 182/695 [04:11<10:41,  1.25s/it]\u001b[A\n",
            "Iteration:  26%|██▋       | 183/695 [04:13<10:39,  1.25s/it]\u001b[A\n",
            "Iteration:  26%|██▋       | 184/695 [04:14<10:37,  1.25s/it]\u001b[A\n",
            "Iteration:  27%|██▋       | 185/695 [04:15<10:39,  1.25s/it]\u001b[A\n",
            "Iteration:  27%|██▋       | 186/695 [04:16<10:35,  1.25s/it]\u001b[A\n",
            "Iteration:  27%|██▋       | 187/695 [04:18<10:37,  1.25s/it]\u001b[A\n",
            "Iteration:  27%|██▋       | 188/695 [04:19<10:33,  1.25s/it]\u001b[A\n",
            "Iteration:  27%|██▋       | 189/695 [04:20<10:34,  1.25s/it]\u001b[A\n",
            "Iteration:  27%|██▋       | 190/695 [04:21<10:30,  1.25s/it]\u001b[A\n",
            "Iteration:  27%|██▋       | 191/695 [04:23<10:28,  1.25s/it]\u001b[A\n",
            "Iteration:  28%|██▊       | 192/695 [04:24<10:27,  1.25s/it]\u001b[A\n",
            "Iteration:  28%|██▊       | 193/695 [04:25<10:29,  1.25s/it]\u001b[A\n",
            "Iteration:  28%|██▊       | 194/695 [04:26<10:27,  1.25s/it]\u001b[A\n",
            "Iteration:  28%|██▊       | 195/695 [04:28<10:23,  1.25s/it]\u001b[A\n",
            "Iteration:  28%|██▊       | 196/695 [04:29<10:22,  1.25s/it]\u001b[A\n",
            "Iteration:  28%|██▊       | 197/695 [04:30<10:26,  1.26s/it]\u001b[A\n",
            "Iteration:  28%|██▊       | 198/695 [04:31<10:21,  1.25s/it]\u001b[A\n",
            "Iteration:  29%|██▊       | 199/695 [04:33<10:20,  1.25s/it]\u001b[A\n",
            "Iteration:  29%|██▉       | 200/695 [04:34<10:18,  1.25s/it]\u001b[A\n",
            "Iteration:  29%|██▉       | 201/695 [04:35<10:20,  1.26s/it]\u001b[A\n",
            "Iteration:  29%|██▉       | 202/695 [04:36<10:15,  1.25s/it]\u001b[A\n",
            "Iteration:  29%|██▉       | 203/695 [04:38<10:12,  1.24s/it]\u001b[A\n",
            "Iteration:  29%|██▉       | 204/695 [04:39<10:12,  1.25s/it]\u001b[A\n",
            "Iteration:  29%|██▉       | 205/695 [04:40<10:16,  1.26s/it]\u001b[A\n",
            "Iteration:  30%|██▉       | 206/695 [04:41<10:15,  1.26s/it]\u001b[A\n",
            "Iteration:  30%|██▉       | 207/695 [04:43<10:11,  1.25s/it]\u001b[A\n",
            "Iteration:  30%|██▉       | 208/695 [04:44<10:09,  1.25s/it]\u001b[A\n",
            "Iteration:  30%|███       | 209/695 [04:45<10:13,  1.26s/it]\u001b[A\n",
            "Iteration:  30%|███       | 210/695 [04:46<10:08,  1.26s/it]\u001b[A\n",
            "Iteration:  30%|███       | 211/695 [04:48<10:06,  1.25s/it]\u001b[A\n",
            "Iteration:  31%|███       | 212/695 [04:49<10:03,  1.25s/it]\u001b[A\n",
            "Iteration:  31%|███       | 213/695 [04:50<10:06,  1.26s/it]\u001b[A\n",
            "Iteration:  31%|███       | 214/695 [04:51<10:01,  1.25s/it]\u001b[A\n",
            "Iteration:  31%|███       | 215/695 [04:53<10:01,  1.25s/it]\u001b[A\n",
            "Iteration:  31%|███       | 216/695 [04:54<10:01,  1.26s/it]\u001b[A\n",
            "Iteration:  31%|███       | 217/695 [04:55<10:02,  1.26s/it]\u001b[A\n",
            "Iteration:  31%|███▏      | 218/695 [04:56<09:56,  1.25s/it]\u001b[A\n",
            "Iteration:  32%|███▏      | 219/695 [04:58<09:55,  1.25s/it]\u001b[A"
          ]
        },
        {
          "output_type": "stream",
          "name": "stdout",
          "text": [
            "\tGlobal step: 750 | LR: [2.502502502502503e-06, 2.502502502502503e-06] | Avg. loss: 0.231\n",
            "====================\n",
            "\tEvaluating on valiadtion set!\n"
          ]
        },
        {
          "output_type": "stream",
          "name": "stderr",
          "text": [
            "\n",
            "\n",
            "Evaluating:   0%|          | 0/32 [00:00<?, ?it/s]\u001b[A\u001b[A\n",
            "\n",
            "Evaluating:   3%|▎         | 1/32 [00:01<00:38,  1.23s/it]\u001b[A\u001b[A"
          ]
        },
        {
          "output_type": "stream",
          "name": "stdout",
          "text": [
            "0.96875\n"
          ]
        },
        {
          "output_type": "stream",
          "name": "stderr",
          "text": [
            "\n",
            "\n",
            "Evaluating:   6%|▋         | 2/32 [00:01<00:22,  1.31it/s]\u001b[A\u001b[A"
          ]
        },
        {
          "output_type": "stream",
          "name": "stdout",
          "text": [
            "0.9375\n"
          ]
        },
        {
          "output_type": "stream",
          "name": "stderr",
          "text": [
            "\n",
            "\n",
            "Evaluating:   9%|▉         | 3/32 [00:02<00:17,  1.63it/s]\u001b[A\u001b[A"
          ]
        },
        {
          "output_type": "stream",
          "name": "stdout",
          "text": [
            "0.9375\n"
          ]
        },
        {
          "output_type": "stream",
          "name": "stderr",
          "text": [
            "\n",
            "\n",
            "Evaluating:  12%|█▎        | 4/32 [00:02<00:15,  1.84it/s]\u001b[A\u001b[A"
          ]
        },
        {
          "output_type": "stream",
          "name": "stdout",
          "text": [
            "0.84375\n"
          ]
        },
        {
          "output_type": "stream",
          "name": "stderr",
          "text": [
            "\n",
            "\n",
            "Evaluating:  16%|█▌        | 5/32 [00:02<00:13,  1.98it/s]\u001b[A\u001b[A"
          ]
        },
        {
          "output_type": "stream",
          "name": "stdout",
          "text": [
            "0.90625\n"
          ]
        },
        {
          "output_type": "stream",
          "name": "stderr",
          "text": [
            "\n",
            "\n",
            "Evaluating:  19%|█▉        | 6/32 [00:03<00:12,  2.08it/s]\u001b[A\u001b[A"
          ]
        },
        {
          "output_type": "stream",
          "name": "stdout",
          "text": [
            "0.8125\n"
          ]
        },
        {
          "output_type": "stream",
          "name": "stderr",
          "text": [
            "\n",
            "\n",
            "Evaluating:  22%|██▏       | 7/32 [00:03<00:11,  2.14it/s]\u001b[A\u001b[A"
          ]
        },
        {
          "output_type": "stream",
          "name": "stdout",
          "text": [
            "0.90625\n"
          ]
        },
        {
          "output_type": "stream",
          "name": "stderr",
          "text": [
            "\n",
            "\n",
            "Evaluating:  25%|██▌       | 8/32 [00:04<00:10,  2.19it/s]\u001b[A\u001b[A"
          ]
        },
        {
          "output_type": "stream",
          "name": "stdout",
          "text": [
            "0.875\n"
          ]
        },
        {
          "output_type": "stream",
          "name": "stderr",
          "text": [
            "\n",
            "\n",
            "Evaluating:  28%|██▊       | 9/32 [00:04<00:10,  2.22it/s]\u001b[A\u001b[A"
          ]
        },
        {
          "output_type": "stream",
          "name": "stdout",
          "text": [
            "0.875\n"
          ]
        },
        {
          "output_type": "stream",
          "name": "stderr",
          "text": [
            "\n",
            "\n",
            "Evaluating:  31%|███▏      | 10/32 [00:05<00:09,  2.24it/s]\u001b[A\u001b[A"
          ]
        },
        {
          "output_type": "stream",
          "name": "stdout",
          "text": [
            "0.8125\n"
          ]
        },
        {
          "output_type": "stream",
          "name": "stderr",
          "text": [
            "\n",
            "\n",
            "Evaluating:  34%|███▍      | 11/32 [00:05<00:09,  2.26it/s]\u001b[A\u001b[A"
          ]
        },
        {
          "output_type": "stream",
          "name": "stdout",
          "text": [
            "0.96875\n"
          ]
        },
        {
          "output_type": "stream",
          "name": "stderr",
          "text": [
            "\n",
            "\n",
            "Evaluating:  38%|███▊      | 12/32 [00:06<00:08,  2.27it/s]\u001b[A\u001b[A"
          ]
        },
        {
          "output_type": "stream",
          "name": "stdout",
          "text": [
            "0.9375\n"
          ]
        },
        {
          "output_type": "stream",
          "name": "stderr",
          "text": [
            "\n",
            "\n",
            "Evaluating:  41%|████      | 13/32 [00:06<00:08,  2.28it/s]\u001b[A\u001b[A"
          ]
        },
        {
          "output_type": "stream",
          "name": "stdout",
          "text": [
            "0.90625\n"
          ]
        },
        {
          "output_type": "stream",
          "name": "stderr",
          "text": [
            "\n",
            "\n",
            "Evaluating:  44%|████▍     | 14/32 [00:06<00:07,  2.28it/s]\u001b[A\u001b[A"
          ]
        },
        {
          "output_type": "stream",
          "name": "stdout",
          "text": [
            "0.9375\n"
          ]
        },
        {
          "output_type": "stream",
          "name": "stderr",
          "text": [
            "\n",
            "\n",
            "Evaluating:  47%|████▋     | 15/32 [00:07<00:07,  2.28it/s]\u001b[A\u001b[A"
          ]
        },
        {
          "output_type": "stream",
          "name": "stdout",
          "text": [
            "0.84375\n"
          ]
        },
        {
          "output_type": "stream",
          "name": "stderr",
          "text": [
            "\n",
            "\n",
            "Evaluating:  50%|█████     | 16/32 [00:07<00:06,  2.29it/s]\u001b[A\u001b[A"
          ]
        },
        {
          "output_type": "stream",
          "name": "stdout",
          "text": [
            "0.875\n"
          ]
        },
        {
          "output_type": "stream",
          "name": "stderr",
          "text": [
            "\n",
            "\n",
            "Evaluating:  53%|█████▎    | 17/32 [00:08<00:06,  2.28it/s]\u001b[A\u001b[A"
          ]
        },
        {
          "output_type": "stream",
          "name": "stdout",
          "text": [
            "0.9375\n"
          ]
        },
        {
          "output_type": "stream",
          "name": "stderr",
          "text": [
            "\n",
            "\n",
            "Evaluating:  56%|█████▋    | 18/32 [00:08<00:06,  2.28it/s]\u001b[A\u001b[A"
          ]
        },
        {
          "output_type": "stream",
          "name": "stdout",
          "text": [
            "0.84375\n"
          ]
        },
        {
          "output_type": "stream",
          "name": "stderr",
          "text": [
            "\n",
            "\n",
            "Evaluating:  59%|█████▉    | 19/32 [00:09<00:05,  2.28it/s]\u001b[A\u001b[A"
          ]
        },
        {
          "output_type": "stream",
          "name": "stdout",
          "text": [
            "0.90625\n"
          ]
        },
        {
          "output_type": "stream",
          "name": "stderr",
          "text": [
            "\n",
            "\n",
            "Evaluating:  62%|██████▎   | 20/32 [00:09<00:05,  2.28it/s]\u001b[A\u001b[A"
          ]
        },
        {
          "output_type": "stream",
          "name": "stdout",
          "text": [
            "0.875\n"
          ]
        },
        {
          "output_type": "stream",
          "name": "stderr",
          "text": [
            "\n",
            "\n",
            "Evaluating:  66%|██████▌   | 21/32 [00:09<00:04,  2.28it/s]\u001b[A\u001b[A"
          ]
        },
        {
          "output_type": "stream",
          "name": "stdout",
          "text": [
            "0.78125\n"
          ]
        },
        {
          "output_type": "stream",
          "name": "stderr",
          "text": [
            "\n",
            "\n",
            "Evaluating:  69%|██████▉   | 22/32 [00:10<00:04,  2.29it/s]\u001b[A\u001b[A"
          ]
        },
        {
          "output_type": "stream",
          "name": "stdout",
          "text": [
            "0.8125\n"
          ]
        },
        {
          "output_type": "stream",
          "name": "stderr",
          "text": [
            "\n",
            "\n",
            "Evaluating:  72%|███████▏  | 23/32 [00:10<00:03,  2.28it/s]\u001b[A\u001b[A"
          ]
        },
        {
          "output_type": "stream",
          "name": "stdout",
          "text": [
            "0.8125\n"
          ]
        },
        {
          "output_type": "stream",
          "name": "stderr",
          "text": [
            "\n",
            "\n",
            "Evaluating:  75%|███████▌  | 24/32 [00:11<00:03,  2.29it/s]\u001b[A\u001b[A"
          ]
        },
        {
          "output_type": "stream",
          "name": "stdout",
          "text": [
            "0.84375\n"
          ]
        },
        {
          "output_type": "stream",
          "name": "stderr",
          "text": [
            "\n",
            "\n",
            "Evaluating:  78%|███████▊  | 25/32 [00:11<00:03,  2.28it/s]\u001b[A\u001b[A"
          ]
        },
        {
          "output_type": "stream",
          "name": "stdout",
          "text": [
            "0.8125\n"
          ]
        },
        {
          "output_type": "stream",
          "name": "stderr",
          "text": [
            "\n",
            "\n",
            "Evaluating:  81%|████████▏ | 26/32 [00:12<00:02,  2.28it/s]\u001b[A\u001b[A"
          ]
        },
        {
          "output_type": "stream",
          "name": "stdout",
          "text": [
            "0.84375\n"
          ]
        },
        {
          "output_type": "stream",
          "name": "stderr",
          "text": [
            "\n",
            "\n",
            "Evaluating:  84%|████████▍ | 27/32 [00:12<00:02,  2.29it/s]\u001b[A\u001b[A"
          ]
        },
        {
          "output_type": "stream",
          "name": "stdout",
          "text": [
            "0.90625\n"
          ]
        },
        {
          "output_type": "stream",
          "name": "stderr",
          "text": [
            "\n",
            "\n",
            "Evaluating:  88%|████████▊ | 28/32 [00:13<00:01,  2.29it/s]\u001b[A\u001b[A"
          ]
        },
        {
          "output_type": "stream",
          "name": "stdout",
          "text": [
            "0.875\n"
          ]
        },
        {
          "output_type": "stream",
          "name": "stderr",
          "text": [
            "\n",
            "\n",
            "Evaluating:  91%|█████████ | 29/32 [00:13<00:01,  2.29it/s]\u001b[A\u001b[A"
          ]
        },
        {
          "output_type": "stream",
          "name": "stdout",
          "text": [
            "0.875\n"
          ]
        },
        {
          "output_type": "stream",
          "name": "stderr",
          "text": [
            "\n",
            "\n",
            "Evaluating:  94%|█████████▍| 30/32 [00:13<00:00,  2.29it/s]\u001b[A\u001b[A"
          ]
        },
        {
          "output_type": "stream",
          "name": "stdout",
          "text": [
            "0.84375\n"
          ]
        },
        {
          "output_type": "stream",
          "name": "stderr",
          "text": [
            "\n",
            "\n",
            "Evaluating:  97%|█████████▋| 31/32 [00:14<00:00,  2.29it/s]\u001b[A\u001b[A\n",
            "\n",
            "Evaluating: 100%|██████████| 32/32 [00:14<00:00,  2.21it/s]"
          ]
        },
        {
          "output_type": "stream",
          "name": "stdout",
          "text": [
            "0.75\n",
            "1.0\n",
            "== Finished evaluating model: next_sentence_cls_0 ==\n",
            "\tMean evaluation acc: 0.877\n"
          ]
        },
        {
          "output_type": "stream",
          "name": "stderr",
          "text": [
            "\n",
            "\n",
            "Iteration:  32%|███▏      | 220/695 [05:20<59:15,  7.49s/it]\u001b[A"
          ]
        },
        {
          "output_type": "stream",
          "name": "stdout",
          "text": [
            "\tEvaluation accuracy: 0.877 | Stale count: 0\n",
            "====================\n"
          ]
        },
        {
          "output_type": "stream",
          "name": "stderr",
          "text": [
            "\n",
            "Iteration:  32%|███▏      | 221/695 [05:20<42:41,  5.40s/it]\u001b[A\n",
            "Iteration:  32%|███▏      | 222/695 [05:21<32:41,  4.15s/it]\u001b[A\n",
            "Iteration:  32%|███▏      | 223/695 [05:23<25:45,  3.27s/it]\u001b[A\n",
            "Iteration:  32%|███▏      | 224/695 [05:24<20:54,  2.66s/it]\u001b[A\n",
            "Iteration:  32%|███▏      | 225/695 [05:25<17:34,  2.24s/it]\u001b[A\n",
            "Iteration:  33%|███▎      | 226/695 [05:26<15:08,  1.94s/it]\u001b[A\n",
            "Iteration:  33%|███▎      | 227/695 [05:28<13:28,  1.73s/it]\u001b[A\n",
            "Iteration:  33%|███▎      | 228/695 [05:29<12:18,  1.58s/it]\u001b[A\n",
            "Iteration:  33%|███▎      | 229/695 [05:30<11:33,  1.49s/it]\u001b[A\n",
            "Iteration:  33%|███▎      | 230/695 [05:31<10:57,  1.41s/it]\u001b[A\n",
            "Iteration:  33%|███▎      | 231/695 [05:33<10:28,  1.36s/it]\u001b[A\n",
            "Iteration:  33%|███▎      | 232/695 [05:34<10:10,  1.32s/it]\u001b[A\n",
            "Iteration:  34%|███▎      | 233/695 [05:35<10:02,  1.30s/it]\u001b[A\n",
            "Iteration:  34%|███▎      | 234/695 [05:36<09:50,  1.28s/it]\u001b[A\n",
            "Iteration:  34%|███▍      | 235/695 [05:38<09:43,  1.27s/it]\u001b[A\n",
            "Iteration:  34%|███▍      | 236/695 [05:39<09:38,  1.26s/it]\u001b[A\n",
            "Iteration:  34%|███▍      | 237/695 [05:40<09:38,  1.26s/it]\u001b[A\n",
            "Iteration:  34%|███▍      | 238/695 [05:41<09:32,  1.25s/it]\u001b[A\n",
            "Iteration:  34%|███▍      | 239/695 [05:43<09:29,  1.25s/it]\u001b[A\n",
            "Iteration:  35%|███▍      | 240/695 [05:44<09:30,  1.25s/it]\u001b[A\n",
            "Iteration:  35%|███▍      | 241/695 [05:45<09:29,  1.25s/it]\u001b[A\n",
            "Iteration:  35%|███▍      | 242/695 [05:46<09:25,  1.25s/it]\u001b[A\n",
            "Iteration:  35%|███▍      | 243/695 [05:48<09:22,  1.24s/it]\u001b[A\n",
            "Iteration:  35%|███▌      | 244/695 [05:49<09:22,  1.25s/it]\u001b[A\n",
            "Iteration:  35%|███▌      | 245/695 [05:50<09:24,  1.25s/it]\u001b[A\n",
            "Iteration:  35%|███▌      | 246/695 [05:51<09:17,  1.24s/it]\u001b[A\n",
            "Iteration:  36%|███▌      | 247/695 [05:53<09:16,  1.24s/it]\u001b[A\n",
            "Iteration:  36%|███▌      | 248/695 [05:54<09:16,  1.24s/it]\u001b[A\n",
            "Iteration:  36%|███▌      | 249/695 [05:55<09:19,  1.26s/it]\u001b[A\n",
            "Iteration:  36%|███▌      | 250/695 [05:56<09:15,  1.25s/it]\u001b[A\n",
            "Iteration:  36%|███▌      | 251/695 [05:58<09:11,  1.24s/it]\u001b[A\n",
            "Iteration:  36%|███▋      | 252/695 [05:59<09:10,  1.24s/it]\u001b[A\n",
            "Iteration:  36%|███▋      | 253/695 [06:00<09:12,  1.25s/it]\u001b[A\n",
            "Iteration:  37%|███▋      | 254/695 [06:01<09:08,  1.24s/it]\u001b[A\n",
            "Iteration:  37%|███▋      | 255/695 [06:03<09:06,  1.24s/it]\u001b[A\n",
            "Iteration:  37%|███▋      | 256/695 [06:04<09:04,  1.24s/it]\u001b[A\n",
            "Iteration:  37%|███▋      | 257/695 [06:05<09:07,  1.25s/it]\u001b[A\n",
            "Iteration:  37%|███▋      | 258/695 [06:06<09:05,  1.25s/it]\u001b[A\n",
            "Iteration:  37%|███▋      | 259/695 [06:08<09:02,  1.24s/it]\u001b[A\n",
            "Iteration:  37%|███▋      | 260/695 [06:09<08:59,  1.24s/it]\u001b[A\n",
            "Iteration:  38%|███▊      | 261/695 [06:10<09:03,  1.25s/it]\u001b[A\n",
            "Iteration:  38%|███▊      | 262/695 [06:11<09:00,  1.25s/it]\u001b[A\n",
            "Iteration:  38%|███▊      | 263/695 [06:13<08:57,  1.24s/it]\u001b[A\n",
            "Iteration:  38%|███▊      | 264/695 [06:14<08:55,  1.24s/it]\u001b[A\n",
            "Iteration:  38%|███▊      | 265/695 [06:15<08:59,  1.25s/it]\u001b[A\n",
            "Iteration:  38%|███▊      | 266/695 [06:16<08:55,  1.25s/it]\u001b[A\n",
            "Iteration:  38%|███▊      | 267/695 [06:17<08:51,  1.24s/it]\u001b[A\n",
            "Iteration:  39%|███▊      | 268/695 [06:19<08:51,  1.24s/it]\u001b[A\n",
            "Iteration:  39%|███▊      | 269/695 [06:20<08:53,  1.25s/it]\u001b[A\n",
            "Iteration:  39%|███▉      | 270/695 [06:21<08:46,  1.24s/it]\u001b[A\n",
            "Iteration:  39%|███▉      | 271/695 [06:22<08:45,  1.24s/it]\u001b[A\n",
            "Iteration:  39%|███▉      | 272/695 [06:24<08:44,  1.24s/it]\u001b[A\n",
            "Iteration:  39%|███▉      | 273/695 [06:25<08:47,  1.25s/it]\u001b[A\n",
            "Iteration:  39%|███▉      | 274/695 [06:26<08:43,  1.24s/it]\u001b[A\n",
            "Iteration:  40%|███▉      | 275/695 [06:27<08:41,  1.24s/it]\u001b[A\n",
            "Iteration:  40%|███▉      | 276/695 [06:29<08:39,  1.24s/it]\u001b[A\n",
            "Iteration:  40%|███▉      | 277/695 [06:30<08:42,  1.25s/it]\u001b[A\n",
            "Iteration:  40%|████      | 278/695 [06:31<08:40,  1.25s/it]\u001b[A\n",
            "Iteration:  40%|████      | 279/695 [06:32<08:37,  1.24s/it]\u001b[A\n",
            "Iteration:  40%|████      | 280/695 [06:34<08:35,  1.24s/it]\u001b[A\n",
            "Iteration:  40%|████      | 281/695 [06:35<08:37,  1.25s/it]\u001b[A\n",
            "Iteration:  41%|████      | 282/695 [06:36<08:33,  1.24s/it]\u001b[A\n",
            "Iteration:  41%|████      | 283/695 [06:37<08:33,  1.25s/it]\u001b[A\n",
            "Iteration:  41%|████      | 284/695 [06:39<08:31,  1.24s/it]\u001b[A\n",
            "Iteration:  41%|████      | 285/695 [06:40<08:33,  1.25s/it]\u001b[A\n",
            "Iteration:  41%|████      | 286/695 [06:41<08:30,  1.25s/it]\u001b[A\n",
            "Iteration:  41%|████▏     | 287/695 [06:42<08:28,  1.25s/it]\u001b[A\n",
            "Iteration:  41%|████▏     | 288/695 [06:44<08:28,  1.25s/it]\u001b[A\n",
            "Iteration:  42%|████▏     | 289/695 [06:45<08:29,  1.25s/it]\u001b[A\n",
            "Iteration:  42%|████▏     | 290/695 [06:46<08:26,  1.25s/it]\u001b[A\n",
            "Iteration:  42%|████▏     | 291/695 [06:47<08:23,  1.25s/it]\u001b[A\n",
            "Iteration:  42%|████▏     | 292/695 [06:49<08:24,  1.25s/it]\u001b[A\n",
            "Iteration:  42%|████▏     | 293/695 [06:50<08:27,  1.26s/it]\u001b[A\n",
            "Iteration:  42%|████▏     | 294/695 [06:51<08:23,  1.25s/it]\u001b[A\n",
            "Iteration:  42%|████▏     | 295/695 [06:52<08:20,  1.25s/it]\u001b[A\n",
            "Iteration:  43%|████▎     | 296/695 [06:54<08:18,  1.25s/it]\u001b[A\n",
            "Iteration:  43%|████▎     | 297/695 [06:55<08:21,  1.26s/it]\u001b[A\n",
            "Iteration:  43%|████▎     | 298/695 [06:56<08:17,  1.25s/it]\u001b[A\n",
            "Iteration:  43%|████▎     | 299/695 [06:57<08:15,  1.25s/it]\u001b[A\n",
            "Iteration:  43%|████▎     | 300/695 [06:59<08:15,  1.26s/it]\u001b[A\n",
            "Iteration:  43%|████▎     | 301/695 [07:00<08:17,  1.26s/it]\u001b[A\n",
            "Iteration:  43%|████▎     | 302/695 [07:01<08:12,  1.25s/it]\u001b[A\n",
            "Iteration:  44%|████▎     | 303/695 [07:02<08:11,  1.25s/it]\u001b[A\n",
            "Iteration:  44%|████▎     | 304/695 [07:04<08:09,  1.25s/it]\u001b[A\n",
            "Iteration:  44%|████▍     | 305/695 [07:05<08:11,  1.26s/it]\u001b[A\n",
            "Iteration:  44%|████▍     | 306/695 [07:06<08:07,  1.25s/it]\u001b[A\n",
            "Iteration:  44%|████▍     | 307/695 [07:08<08:06,  1.25s/it]\u001b[A\n",
            "Iteration:  44%|████▍     | 308/695 [07:09<08:07,  1.26s/it]\u001b[A\n",
            "Iteration:  44%|████▍     | 309/695 [07:10<08:07,  1.26s/it]\u001b[A\n",
            "Iteration:  45%|████▍     | 310/695 [07:11<08:03,  1.26s/it]\u001b[A\n",
            "Iteration:  45%|████▍     | 311/695 [07:13<08:01,  1.25s/it]\u001b[A\n",
            "Iteration:  45%|████▍     | 312/695 [07:14<08:01,  1.26s/it]\u001b[A\n",
            "Iteration:  45%|████▌     | 313/695 [07:15<08:03,  1.27s/it]\u001b[A\n",
            "Iteration:  45%|████▌     | 314/695 [07:16<07:58,  1.26s/it]\u001b[A\n",
            "Iteration:  45%|████▌     | 315/695 [07:18<07:57,  1.26s/it]\u001b[A\n",
            "Iteration:  45%|████▌     | 316/695 [07:19<07:55,  1.26s/it]\u001b[A\n",
            "Iteration:  46%|████▌     | 317/695 [07:20<07:57,  1.26s/it]\u001b[A\n",
            "Iteration:  46%|████▌     | 318/695 [07:21<07:53,  1.26s/it]\u001b[A\n",
            "Iteration:  46%|████▌     | 319/695 [07:23<07:51,  1.25s/it]\u001b[A\n",
            "Iteration:  46%|████▌     | 320/695 [07:24<07:49,  1.25s/it]\u001b[A"
          ]
        },
        {
          "output_type": "stream",
          "name": "stdout",
          "text": [
            "\tGlobal step: 775 | LR: [2.2522522522522524e-06, 2.2522522522522524e-06] | Avg. loss: 0.223\n"
          ]
        },
        {
          "output_type": "stream",
          "name": "stderr",
          "text": [
            "\n",
            "Iteration:  46%|████▌     | 321/695 [07:25<07:50,  1.26s/it]\u001b[A\n",
            "Iteration:  46%|████▋     | 322/695 [07:26<07:46,  1.25s/it]\u001b[A\n",
            "Iteration:  46%|████▋     | 323/695 [07:28<07:45,  1.25s/it]\u001b[A\n",
            "Iteration:  47%|████▋     | 324/695 [07:29<07:43,  1.25s/it]\u001b[A\n",
            "Iteration:  47%|████▋     | 325/695 [07:30<07:45,  1.26s/it]\u001b[A\n",
            "Iteration:  47%|████▋     | 326/695 [07:31<07:42,  1.25s/it]\u001b[A\n",
            "Iteration:  47%|████▋     | 327/695 [07:33<07:39,  1.25s/it]\u001b[A\n",
            "Iteration:  47%|████▋     | 328/695 [07:34<07:39,  1.25s/it]\u001b[A\n",
            "Iteration:  47%|████▋     | 329/695 [07:35<07:40,  1.26s/it]\u001b[A\n",
            "Iteration:  47%|████▋     | 330/695 [07:36<07:37,  1.25s/it]\u001b[A\n",
            "Iteration:  48%|████▊     | 331/695 [07:38<07:34,  1.25s/it]\u001b[A\n",
            "Iteration:  48%|████▊     | 332/695 [07:39<07:32,  1.25s/it]\u001b[A\n",
            "Iteration:  48%|████▊     | 333/695 [07:40<07:34,  1.26s/it]\u001b[A\n",
            "Iteration:  48%|████▊     | 334/695 [07:41<07:31,  1.25s/it]\u001b[A\n",
            "Iteration:  48%|████▊     | 335/695 [07:43<07:28,  1.25s/it]\u001b[A\n",
            "Iteration:  48%|████▊     | 336/695 [07:44<07:27,  1.25s/it]\u001b[A\n",
            "Iteration:  48%|████▊     | 337/695 [07:45<07:31,  1.26s/it]\u001b[A\n",
            "Iteration:  49%|████▊     | 338/695 [07:46<07:24,  1.25s/it]\u001b[A\n",
            "Iteration:  49%|████▉     | 339/695 [07:48<07:23,  1.25s/it]\u001b[A\n",
            "Iteration:  49%|████▉     | 340/695 [07:49<07:22,  1.25s/it]\u001b[A\n",
            "Iteration:  49%|████▉     | 341/695 [07:50<07:24,  1.25s/it]\u001b[A\n",
            "Iteration:  49%|████▉     | 342/695 [07:51<07:20,  1.25s/it]\u001b[A\n",
            "Iteration:  49%|████▉     | 343/695 [07:53<07:18,  1.25s/it]\u001b[A\n",
            "Iteration:  49%|████▉     | 344/695 [07:54<07:17,  1.25s/it]\u001b[A\n",
            "Iteration:  50%|████▉     | 345/695 [07:55<07:19,  1.26s/it]\u001b[A\n",
            "Iteration:  50%|████▉     | 346/695 [07:56<07:15,  1.25s/it]\u001b[A\n",
            "Iteration:  50%|████▉     | 347/695 [07:58<07:12,  1.24s/it]\u001b[A\n",
            "Iteration:  50%|█████     | 348/695 [07:59<07:11,  1.24s/it]\u001b[A\n",
            "Iteration:  50%|█████     | 349/695 [08:00<07:13,  1.25s/it]\u001b[A\n",
            "Iteration:  50%|█████     | 350/695 [08:01<07:10,  1.25s/it]\u001b[A\n",
            "Iteration:  51%|█████     | 351/695 [08:03<07:09,  1.25s/it]\u001b[A\n",
            "Iteration:  51%|█████     | 352/695 [08:04<07:07,  1.25s/it]\u001b[A\n",
            "Iteration:  51%|█████     | 353/695 [08:05<07:09,  1.26s/it]\u001b[A\n",
            "Iteration:  51%|█████     | 354/695 [08:06<07:05,  1.25s/it]\u001b[A\n",
            "Iteration:  51%|█████     | 355/695 [08:08<07:03,  1.25s/it]\u001b[A\n",
            "Iteration:  51%|█████     | 356/695 [08:09<07:03,  1.25s/it]\u001b[A\n",
            "Iteration:  51%|█████▏    | 357/695 [08:10<07:03,  1.25s/it]\u001b[A\n",
            "Iteration:  52%|█████▏    | 358/695 [08:11<07:00,  1.25s/it]\u001b[A\n",
            "Iteration:  52%|█████▏    | 359/695 [08:13<06:58,  1.24s/it]\u001b[A\n",
            "Iteration:  52%|█████▏    | 360/695 [08:14<06:57,  1.25s/it]\u001b[A\n",
            "Iteration:  52%|█████▏    | 361/695 [08:15<06:59,  1.26s/it]\u001b[A\n",
            "Iteration:  52%|█████▏    | 362/695 [08:16<06:55,  1.25s/it]\u001b[A\n",
            "Iteration:  52%|█████▏    | 363/695 [08:18<06:53,  1.25s/it]\u001b[A\n",
            "Iteration:  52%|█████▏    | 364/695 [08:19<06:51,  1.24s/it]\u001b[A\n",
            "Iteration:  53%|█████▎    | 365/695 [08:20<06:54,  1.26s/it]\u001b[A\n",
            "Iteration:  53%|█████▎    | 366/695 [08:21<06:50,  1.25s/it]\u001b[A\n",
            "Iteration:  53%|█████▎    | 367/695 [08:23<06:47,  1.24s/it]\u001b[A\n",
            "Iteration:  53%|█████▎    | 368/695 [08:24<06:46,  1.24s/it]\u001b[A\n",
            "Iteration:  53%|█████▎    | 369/695 [08:25<06:48,  1.25s/it]\u001b[A\n",
            "Iteration:  53%|█████▎    | 370/695 [08:26<06:46,  1.25s/it]\u001b[A\n",
            "Iteration:  53%|█████▎    | 371/695 [08:28<06:44,  1.25s/it]\u001b[A\n",
            "Iteration:  54%|█████▎    | 372/695 [08:29<06:42,  1.25s/it]\u001b[A\n",
            "Iteration:  54%|█████▎    | 373/695 [08:30<06:44,  1.26s/it]\u001b[A\n",
            "Iteration:  54%|█████▍    | 374/695 [08:31<06:42,  1.25s/it]\u001b[A\n",
            "Iteration:  54%|█████▍    | 375/695 [08:33<06:40,  1.25s/it]\u001b[A\n",
            "Iteration:  54%|█████▍    | 376/695 [08:34<06:39,  1.25s/it]\u001b[A\n",
            "Iteration:  54%|█████▍    | 377/695 [08:35<06:39,  1.26s/it]\u001b[A\n",
            "Iteration:  54%|█████▍    | 378/695 [08:36<06:36,  1.25s/it]\u001b[A\n",
            "Iteration:  55%|█████▍    | 379/695 [08:38<06:34,  1.25s/it]\u001b[A\n",
            "Iteration:  55%|█████▍    | 380/695 [08:39<06:32,  1.25s/it]\u001b[A\n",
            "Iteration:  55%|█████▍    | 381/695 [08:40<06:33,  1.25s/it]\u001b[A\n",
            "Iteration:  55%|█████▍    | 382/695 [08:41<06:30,  1.25s/it]\u001b[A\n",
            "Iteration:  55%|█████▌    | 383/695 [08:43<06:29,  1.25s/it]\u001b[A\n",
            "Iteration:  55%|█████▌    | 384/695 [08:44<06:28,  1.25s/it]\u001b[A\n",
            "Iteration:  55%|█████▌    | 385/695 [08:45<06:29,  1.26s/it]\u001b[A\n",
            "Iteration:  56%|█████▌    | 386/695 [08:46<06:26,  1.25s/it]\u001b[A\n",
            "Iteration:  56%|█████▌    | 387/695 [08:48<06:25,  1.25s/it]\u001b[A\n",
            "Iteration:  56%|█████▌    | 388/695 [08:49<06:25,  1.26s/it]\u001b[A\n",
            "Iteration:  56%|█████▌    | 389/695 [08:50<06:26,  1.26s/it]\u001b[A\n",
            "Iteration:  56%|█████▌    | 390/695 [08:51<06:22,  1.25s/it]\u001b[A\n",
            "Iteration:  56%|█████▋    | 391/695 [08:53<06:22,  1.26s/it]\u001b[A\n",
            "Iteration:  56%|█████▋    | 392/695 [08:54<06:20,  1.26s/it]\u001b[A\n",
            "Iteration:  57%|█████▋    | 393/695 [08:55<06:21,  1.26s/it]\u001b[A\n",
            "Iteration:  57%|█████▋    | 394/695 [08:56<06:20,  1.26s/it]\u001b[A\n",
            "Iteration:  57%|█████▋    | 395/695 [08:58<06:18,  1.26s/it]\u001b[A\n",
            "Iteration:  57%|█████▋    | 396/695 [08:59<06:15,  1.26s/it]\u001b[A\n",
            "Iteration:  57%|█████▋    | 397/695 [09:00<06:15,  1.26s/it]\u001b[A\n",
            "Iteration:  57%|█████▋    | 398/695 [09:01<06:13,  1.26s/it]\u001b[A\n",
            "Iteration:  57%|█████▋    | 399/695 [09:03<06:12,  1.26s/it]\u001b[A\n",
            "Iteration:  58%|█████▊    | 400/695 [09:04<06:11,  1.26s/it]\u001b[A\n",
            "Iteration:  58%|█████▊    | 401/695 [09:05<06:12,  1.27s/it]\u001b[A\n",
            "Iteration:  58%|█████▊    | 402/695 [09:06<06:08,  1.26s/it]\u001b[A\n",
            "Iteration:  58%|█████▊    | 403/695 [09:08<06:06,  1.26s/it]\u001b[A\n",
            "Iteration:  58%|█████▊    | 404/695 [09:09<06:06,  1.26s/it]\u001b[A\n",
            "Iteration:  58%|█████▊    | 405/695 [09:10<06:06,  1.26s/it]\u001b[A\n",
            "Iteration:  58%|█████▊    | 406/695 [09:12<06:03,  1.26s/it]\u001b[A\n",
            "Iteration:  59%|█████▊    | 407/695 [09:13<06:01,  1.25s/it]\u001b[A\n",
            "Iteration:  59%|█████▊    | 408/695 [09:14<06:00,  1.26s/it]\u001b[A\n",
            "Iteration:  59%|█████▉    | 409/695 [09:15<06:01,  1.26s/it]\u001b[A\n",
            "Iteration:  59%|█████▉    | 410/695 [09:17<05:58,  1.26s/it]\u001b[A\n",
            "Iteration:  59%|█████▉    | 411/695 [09:18<05:56,  1.26s/it]\u001b[A\n",
            "Iteration:  59%|█████▉    | 412/695 [09:19<05:55,  1.25s/it]\u001b[A\n",
            "Iteration:  59%|█████▉    | 413/695 [09:20<05:56,  1.26s/it]\u001b[A\n",
            "Iteration:  60%|█████▉    | 414/695 [09:22<05:53,  1.26s/it]\u001b[A\n",
            "Iteration:  60%|█████▉    | 415/695 [09:23<05:49,  1.25s/it]\u001b[A\n",
            "Iteration:  60%|█████▉    | 416/695 [09:24<05:48,  1.25s/it]\u001b[A\n",
            "Iteration:  60%|██████    | 417/695 [09:25<05:50,  1.26s/it]\u001b[A\n",
            "Iteration:  60%|██████    | 418/695 [09:27<05:47,  1.26s/it]\u001b[A\n",
            "Iteration:  60%|██████    | 419/695 [09:28<05:44,  1.25s/it]\u001b[A"
          ]
        },
        {
          "output_type": "stream",
          "name": "stdout",
          "text": [
            "\tGlobal step: 800 | LR: [2.0020020020020023e-06, 2.0020020020020023e-06] | Avg. loss: 0.214\n",
            "====================\n",
            "\tEvaluating on valiadtion set!\n"
          ]
        },
        {
          "output_type": "stream",
          "name": "stderr",
          "text": [
            "\n",
            "\n",
            "Evaluating:   0%|          | 0/32 [00:00<?, ?it/s]\u001b[A\u001b[A\n",
            "\n",
            "Evaluating:   3%|▎         | 1/32 [00:01<00:37,  1.21s/it]\u001b[A\u001b[A"
          ]
        },
        {
          "output_type": "stream",
          "name": "stdout",
          "text": [
            "0.96875\n"
          ]
        },
        {
          "output_type": "stream",
          "name": "stderr",
          "text": [
            "\n",
            "\n",
            "Evaluating:   6%|▋         | 2/32 [00:01<00:22,  1.32it/s]\u001b[A\u001b[A"
          ]
        },
        {
          "output_type": "stream",
          "name": "stdout",
          "text": [
            "0.9375\n"
          ]
        },
        {
          "output_type": "stream",
          "name": "stderr",
          "text": [
            "\n",
            "\n",
            "Evaluating:   9%|▉         | 3/32 [00:02<00:17,  1.64it/s]\u001b[A\u001b[A"
          ]
        },
        {
          "output_type": "stream",
          "name": "stdout",
          "text": [
            "0.96875\n"
          ]
        },
        {
          "output_type": "stream",
          "name": "stderr",
          "text": [
            "\n",
            "\n",
            "Evaluating:  12%|█▎        | 4/32 [00:02<00:15,  1.84it/s]\u001b[A\u001b[A"
          ]
        },
        {
          "output_type": "stream",
          "name": "stdout",
          "text": [
            "0.84375\n"
          ]
        },
        {
          "output_type": "stream",
          "name": "stderr",
          "text": [
            "\n",
            "\n",
            "Evaluating:  16%|█▌        | 5/32 [00:02<00:13,  1.99it/s]\u001b[A\u001b[A"
          ]
        },
        {
          "output_type": "stream",
          "name": "stdout",
          "text": [
            "0.90625\n"
          ]
        },
        {
          "output_type": "stream",
          "name": "stderr",
          "text": [
            "\n",
            "\n",
            "Evaluating:  19%|█▉        | 6/32 [00:03<00:12,  2.09it/s]\u001b[A\u001b[A"
          ]
        },
        {
          "output_type": "stream",
          "name": "stdout",
          "text": [
            "0.84375\n"
          ]
        },
        {
          "output_type": "stream",
          "name": "stderr",
          "text": [
            "\n",
            "\n",
            "Evaluating:  22%|██▏       | 7/32 [00:03<00:11,  2.15it/s]\u001b[A\u001b[A"
          ]
        },
        {
          "output_type": "stream",
          "name": "stdout",
          "text": [
            "0.90625\n"
          ]
        },
        {
          "output_type": "stream",
          "name": "stderr",
          "text": [
            "\n",
            "\n",
            "Evaluating:  25%|██▌       | 8/32 [00:04<00:10,  2.19it/s]\u001b[A\u001b[A"
          ]
        },
        {
          "output_type": "stream",
          "name": "stdout",
          "text": [
            "0.9375\n"
          ]
        },
        {
          "output_type": "stream",
          "name": "stderr",
          "text": [
            "\n",
            "\n",
            "Evaluating:  28%|██▊       | 9/32 [00:04<00:10,  2.22it/s]\u001b[A\u001b[A"
          ]
        },
        {
          "output_type": "stream",
          "name": "stdout",
          "text": [
            "0.875\n"
          ]
        },
        {
          "output_type": "stream",
          "name": "stderr",
          "text": [
            "\n",
            "\n",
            "Evaluating:  31%|███▏      | 10/32 [00:05<00:09,  2.24it/s]\u001b[A\u001b[A"
          ]
        },
        {
          "output_type": "stream",
          "name": "stdout",
          "text": [
            "0.875\n"
          ]
        },
        {
          "output_type": "stream",
          "name": "stderr",
          "text": [
            "\n",
            "\n",
            "Evaluating:  34%|███▍      | 11/32 [00:05<00:09,  2.26it/s]\u001b[A\u001b[A"
          ]
        },
        {
          "output_type": "stream",
          "name": "stdout",
          "text": [
            "0.96875\n"
          ]
        },
        {
          "output_type": "stream",
          "name": "stderr",
          "text": [
            "\n",
            "\n",
            "Evaluating:  38%|███▊      | 12/32 [00:06<00:08,  2.28it/s]\u001b[A\u001b[A"
          ]
        },
        {
          "output_type": "stream",
          "name": "stdout",
          "text": [
            "0.9375\n"
          ]
        },
        {
          "output_type": "stream",
          "name": "stderr",
          "text": [
            "\n",
            "\n",
            "Evaluating:  41%|████      | 13/32 [00:06<00:08,  2.28it/s]\u001b[A\u001b[A"
          ]
        },
        {
          "output_type": "stream",
          "name": "stdout",
          "text": [
            "0.90625\n"
          ]
        },
        {
          "output_type": "stream",
          "name": "stderr",
          "text": [
            "\n",
            "\n",
            "Evaluating:  44%|████▍     | 14/32 [00:06<00:07,  2.29it/s]\u001b[A\u001b[A"
          ]
        },
        {
          "output_type": "stream",
          "name": "stdout",
          "text": [
            "0.9375\n"
          ]
        },
        {
          "output_type": "stream",
          "name": "stderr",
          "text": [
            "\n",
            "\n",
            "Evaluating:  47%|████▋     | 15/32 [00:07<00:07,  2.30it/s]\u001b[A\u001b[A"
          ]
        },
        {
          "output_type": "stream",
          "name": "stdout",
          "text": [
            "0.875\n"
          ]
        },
        {
          "output_type": "stream",
          "name": "stderr",
          "text": [
            "\n",
            "\n",
            "Evaluating:  50%|█████     | 16/32 [00:07<00:06,  2.30it/s]\u001b[A\u001b[A"
          ]
        },
        {
          "output_type": "stream",
          "name": "stdout",
          "text": [
            "0.875\n"
          ]
        },
        {
          "output_type": "stream",
          "name": "stderr",
          "text": [
            "\n",
            "\n",
            "Evaluating:  53%|█████▎    | 17/32 [00:08<00:06,  2.30it/s]\u001b[A\u001b[A"
          ]
        },
        {
          "output_type": "stream",
          "name": "stdout",
          "text": [
            "0.875\n"
          ]
        },
        {
          "output_type": "stream",
          "name": "stderr",
          "text": [
            "\n",
            "\n",
            "Evaluating:  56%|█████▋    | 18/32 [00:08<00:06,  2.30it/s]\u001b[A\u001b[A"
          ]
        },
        {
          "output_type": "stream",
          "name": "stdout",
          "text": [
            "0.84375\n"
          ]
        },
        {
          "output_type": "stream",
          "name": "stderr",
          "text": [
            "\n",
            "\n",
            "Evaluating:  59%|█████▉    | 19/32 [00:09<00:05,  2.30it/s]\u001b[A\u001b[A"
          ]
        },
        {
          "output_type": "stream",
          "name": "stdout",
          "text": [
            "0.90625\n"
          ]
        },
        {
          "output_type": "stream",
          "name": "stderr",
          "text": [
            "\n",
            "\n",
            "Evaluating:  62%|██████▎   | 20/32 [00:09<00:05,  2.30it/s]\u001b[A\u001b[A"
          ]
        },
        {
          "output_type": "stream",
          "name": "stdout",
          "text": [
            "0.875\n"
          ]
        },
        {
          "output_type": "stream",
          "name": "stderr",
          "text": [
            "\n",
            "\n",
            "Evaluating:  66%|██████▌   | 21/32 [00:09<00:04,  2.30it/s]\u001b[A\u001b[A"
          ]
        },
        {
          "output_type": "stream",
          "name": "stdout",
          "text": [
            "0.78125\n"
          ]
        },
        {
          "output_type": "stream",
          "name": "stderr",
          "text": [
            "\n",
            "\n",
            "Evaluating:  69%|██████▉   | 22/32 [00:10<00:04,  2.30it/s]\u001b[A\u001b[A"
          ]
        },
        {
          "output_type": "stream",
          "name": "stdout",
          "text": [
            "0.78125\n"
          ]
        },
        {
          "output_type": "stream",
          "name": "stderr",
          "text": [
            "\n",
            "\n",
            "Evaluating:  72%|███████▏  | 23/32 [00:10<00:03,  2.30it/s]\u001b[A\u001b[A"
          ]
        },
        {
          "output_type": "stream",
          "name": "stdout",
          "text": [
            "0.8125\n"
          ]
        },
        {
          "output_type": "stream",
          "name": "stderr",
          "text": [
            "\n",
            "\n",
            "Evaluating:  75%|███████▌  | 24/32 [00:11<00:03,  2.30it/s]\u001b[A\u001b[A"
          ]
        },
        {
          "output_type": "stream",
          "name": "stdout",
          "text": [
            "0.84375\n"
          ]
        },
        {
          "output_type": "stream",
          "name": "stderr",
          "text": [
            "\n",
            "\n",
            "Evaluating:  78%|███████▊  | 25/32 [00:11<00:03,  2.30it/s]\u001b[A\u001b[A"
          ]
        },
        {
          "output_type": "stream",
          "name": "stdout",
          "text": [
            "0.78125\n"
          ]
        },
        {
          "output_type": "stream",
          "name": "stderr",
          "text": [
            "\n",
            "\n",
            "Evaluating:  81%|████████▏ | 26/32 [00:12<00:02,  2.30it/s]\u001b[A\u001b[A"
          ]
        },
        {
          "output_type": "stream",
          "name": "stdout",
          "text": [
            "0.8125\n"
          ]
        },
        {
          "output_type": "stream",
          "name": "stderr",
          "text": [
            "\n",
            "\n",
            "Evaluating:  84%|████████▍ | 27/32 [00:12<00:02,  2.30it/s]\u001b[A\u001b[A"
          ]
        },
        {
          "output_type": "stream",
          "name": "stdout",
          "text": [
            "0.90625\n"
          ]
        },
        {
          "output_type": "stream",
          "name": "stderr",
          "text": [
            "\n",
            "\n",
            "Evaluating:  88%|████████▊ | 28/32 [00:12<00:01,  2.30it/s]\u001b[A\u001b[A"
          ]
        },
        {
          "output_type": "stream",
          "name": "stdout",
          "text": [
            "0.875\n"
          ]
        },
        {
          "output_type": "stream",
          "name": "stderr",
          "text": [
            "\n",
            "\n",
            "Evaluating:  91%|█████████ | 29/32 [00:13<00:01,  2.29it/s]\u001b[A\u001b[A"
          ]
        },
        {
          "output_type": "stream",
          "name": "stdout",
          "text": [
            "0.875\n"
          ]
        },
        {
          "output_type": "stream",
          "name": "stderr",
          "text": [
            "\n",
            "\n",
            "Evaluating:  94%|█████████▍| 30/32 [00:13<00:00,  2.30it/s]\u001b[A\u001b[A"
          ]
        },
        {
          "output_type": "stream",
          "name": "stdout",
          "text": [
            "0.84375\n"
          ]
        },
        {
          "output_type": "stream",
          "name": "stderr",
          "text": [
            "\n",
            "\n",
            "Evaluating:  97%|█████████▋| 31/32 [00:14<00:00,  2.30it/s]\u001b[A\u001b[A\n",
            "\n",
            "Evaluating: 100%|██████████| 32/32 [00:14<00:00,  2.22it/s]"
          ]
        },
        {
          "output_type": "stream",
          "name": "stdout",
          "text": [
            "0.75\n",
            "1.0\n",
            "== Finished evaluating model: next_sentence_cls_0 ==\n",
            "\tMean evaluation acc: 0.879\n"
          ]
        },
        {
          "output_type": "stream",
          "name": "stderr",
          "text": [
            "\n",
            "\n",
            "Iteration:  60%|██████    | 420/695 [09:54<39:54,  8.71s/it]\u001b[A"
          ]
        },
        {
          "output_type": "stream",
          "name": "stdout",
          "text": [
            "\tEvaluation accuracy: 0.879 | Stale count: 0\n",
            "====================\n"
          ]
        },
        {
          "output_type": "stream",
          "name": "stderr",
          "text": [
            "\n",
            "Iteration:  61%|██████    | 421/695 [09:54<28:33,  6.25s/it]\u001b[A\n",
            "Iteration:  61%|██████    | 422/695 [09:56<21:33,  4.74s/it]\u001b[A\n",
            "Iteration:  61%|██████    | 423/695 [09:57<16:42,  3.68s/it]\u001b[A\n",
            "Iteration:  61%|██████    | 424/695 [09:58<13:17,  2.94s/it]\u001b[A\n",
            "Iteration:  61%|██████    | 425/695 [09:59<10:57,  2.44s/it]\u001b[A\n",
            "Iteration:  61%|██████▏   | 426/695 [10:01<09:17,  2.07s/it]\u001b[A\n",
            "Iteration:  61%|██████▏   | 427/695 [10:02<08:06,  1.82s/it]\u001b[A\n",
            "Iteration:  62%|██████▏   | 428/695 [10:03<07:18,  1.64s/it]\u001b[A\n",
            "Iteration:  62%|██████▏   | 429/695 [10:04<06:46,  1.53s/it]\u001b[A\n",
            "Iteration:  62%|██████▏   | 430/695 [10:06<06:19,  1.43s/it]\u001b[A\n",
            "Iteration:  62%|██████▏   | 431/695 [10:07<06:01,  1.37s/it]\u001b[A\n",
            "Iteration:  62%|██████▏   | 432/695 [10:08<05:48,  1.33s/it]\u001b[A\n",
            "Iteration:  62%|██████▏   | 433/695 [10:09<05:42,  1.31s/it]\u001b[A\n",
            "Iteration:  62%|██████▏   | 434/695 [10:10<05:33,  1.28s/it]\u001b[A\n",
            "Iteration:  63%|██████▎   | 435/695 [10:12<05:28,  1.26s/it]\u001b[A\n",
            "Iteration:  63%|██████▎   | 436/695 [10:13<05:25,  1.26s/it]\u001b[A\n",
            "Iteration:  63%|██████▎   | 437/695 [10:14<05:24,  1.26s/it]\u001b[A\n",
            "Iteration:  63%|██████▎   | 438/695 [10:15<05:20,  1.25s/it]\u001b[A\n",
            "Iteration:  63%|██████▎   | 439/695 [10:17<05:17,  1.24s/it]\u001b[A\n",
            "Iteration:  63%|██████▎   | 440/695 [10:18<05:15,  1.24s/it]\u001b[A\n",
            "Iteration:  63%|██████▎   | 441/695 [10:19<05:16,  1.25s/it]\u001b[A\n",
            "Iteration:  64%|██████▎   | 442/695 [10:20<05:13,  1.24s/it]\u001b[A\n",
            "Iteration:  64%|██████▎   | 443/695 [10:22<05:11,  1.24s/it]\u001b[A\n",
            "Iteration:  64%|██████▍   | 444/695 [10:23<05:09,  1.23s/it]\u001b[A\n",
            "Iteration:  64%|██████▍   | 445/695 [10:24<05:11,  1.25s/it]\u001b[A\n",
            "Iteration:  64%|██████▍   | 446/695 [10:25<05:08,  1.24s/it]\u001b[A\n",
            "Iteration:  64%|██████▍   | 447/695 [10:27<05:06,  1.24s/it]\u001b[A\n",
            "Iteration:  64%|██████▍   | 448/695 [10:28<05:04,  1.23s/it]\u001b[A\n",
            "Iteration:  65%|██████▍   | 449/695 [10:29<05:05,  1.24s/it]\u001b[A\n",
            "Iteration:  65%|██████▍   | 450/695 [10:30<05:03,  1.24s/it]\u001b[A\n",
            "Iteration:  65%|██████▍   | 451/695 [10:31<05:02,  1.24s/it]\u001b[A\n",
            "Iteration:  65%|██████▌   | 452/695 [10:33<05:02,  1.24s/it]\u001b[A\n",
            "Iteration:  65%|██████▌   | 453/695 [10:34<05:01,  1.25s/it]\u001b[A\n",
            "Iteration:  65%|██████▌   | 454/695 [10:35<04:58,  1.24s/it]\u001b[A\n",
            "Iteration:  65%|██████▌   | 455/695 [10:36<04:56,  1.24s/it]\u001b[A\n",
            "Iteration:  66%|██████▌   | 456/695 [10:38<04:55,  1.24s/it]\u001b[A\n",
            "Iteration:  66%|██████▌   | 457/695 [10:39<04:56,  1.25s/it]\u001b[A\n",
            "Iteration:  66%|██████▌   | 458/695 [10:40<04:54,  1.24s/it]\u001b[A\n",
            "Iteration:  66%|██████▌   | 459/695 [10:41<04:52,  1.24s/it]\u001b[A\n",
            "Iteration:  66%|██████▌   | 460/695 [10:43<04:51,  1.24s/it]\u001b[A\n",
            "Iteration:  66%|██████▋   | 461/695 [10:44<04:52,  1.25s/it]\u001b[A\n",
            "Iteration:  66%|██████▋   | 462/695 [10:45<04:50,  1.25s/it]\u001b[A\n",
            "Iteration:  67%|██████▋   | 463/695 [10:46<04:49,  1.25s/it]\u001b[A\n",
            "Iteration:  67%|██████▋   | 464/695 [10:48<04:47,  1.24s/it]\u001b[A\n",
            "Iteration:  67%|██████▋   | 465/695 [10:49<04:48,  1.25s/it]\u001b[A\n",
            "Iteration:  67%|██████▋   | 466/695 [10:50<04:45,  1.25s/it]\u001b[A\n",
            "Iteration:  67%|██████▋   | 467/695 [10:51<04:44,  1.25s/it]\u001b[A\n",
            "Iteration:  67%|██████▋   | 468/695 [10:53<04:42,  1.24s/it]\u001b[A\n",
            "Iteration:  67%|██████▋   | 469/695 [10:54<04:43,  1.25s/it]\u001b[A\n",
            "Iteration:  68%|██████▊   | 470/695 [10:55<04:41,  1.25s/it]\u001b[A\n",
            "Iteration:  68%|██████▊   | 471/695 [10:56<04:38,  1.24s/it]\u001b[A\n",
            "Iteration:  68%|██████▊   | 472/695 [10:58<04:38,  1.25s/it]\u001b[A\n",
            "Iteration:  68%|██████▊   | 473/695 [10:59<04:39,  1.26s/it]\u001b[A\n",
            "Iteration:  68%|██████▊   | 474/695 [11:00<04:36,  1.25s/it]\u001b[A\n",
            "Iteration:  68%|██████▊   | 475/695 [11:01<04:34,  1.25s/it]\u001b[A\n",
            "Iteration:  68%|██████▊   | 476/695 [11:03<04:33,  1.25s/it]\u001b[A\n",
            "Iteration:  69%|██████▊   | 477/695 [11:04<04:33,  1.26s/it]\u001b[A\n",
            "Iteration:  69%|██████▉   | 478/695 [11:05<04:31,  1.25s/it]\u001b[A\n",
            "Iteration:  69%|██████▉   | 479/695 [11:06<04:28,  1.25s/it]\u001b[A\n",
            "Iteration:  69%|██████▉   | 480/695 [11:08<04:27,  1.24s/it]\u001b[A\n",
            "Iteration:  69%|██████▉   | 481/695 [11:09<04:28,  1.26s/it]\u001b[A\n",
            "Iteration:  69%|██████▉   | 482/695 [11:10<04:26,  1.25s/it]\u001b[A\n",
            "Iteration:  69%|██████▉   | 483/695 [11:11<04:24,  1.25s/it]\u001b[A\n",
            "Iteration:  70%|██████▉   | 484/695 [11:13<04:22,  1.24s/it]\u001b[A\n",
            "Iteration:  70%|██████▉   | 485/695 [11:14<04:23,  1.26s/it]\u001b[A\n",
            "Iteration:  70%|██████▉   | 486/695 [11:15<04:21,  1.25s/it]\u001b[A\n",
            "Iteration:  70%|███████   | 487/695 [11:16<04:19,  1.25s/it]\u001b[A\n",
            "Iteration:  70%|███████   | 488/695 [11:18<04:18,  1.25s/it]\u001b[A\n",
            "Iteration:  70%|███████   | 489/695 [11:19<04:18,  1.25s/it]\u001b[A\n",
            "Iteration:  71%|███████   | 490/695 [11:20<04:15,  1.25s/it]\u001b[A\n",
            "Iteration:  71%|███████   | 491/695 [11:21<04:13,  1.24s/it]\u001b[A\n",
            "Iteration:  71%|███████   | 492/695 [11:23<04:13,  1.25s/it]\u001b[A\n",
            "Iteration:  71%|███████   | 493/695 [11:24<04:12,  1.25s/it]\u001b[A\n",
            "Iteration:  71%|███████   | 494/695 [11:25<04:09,  1.24s/it]\u001b[A\n",
            "Iteration:  71%|███████   | 495/695 [11:26<04:07,  1.24s/it]\u001b[A\n",
            "Iteration:  71%|███████▏  | 496/695 [11:28<04:06,  1.24s/it]\u001b[A\n",
            "Iteration:  72%|███████▏  | 497/695 [11:29<04:07,  1.25s/it]\u001b[A\n",
            "Iteration:  72%|███████▏  | 498/695 [11:30<04:05,  1.25s/it]\u001b[A\n",
            "Iteration:  72%|███████▏  | 499/695 [11:31<04:04,  1.25s/it]\u001b[A\n",
            "Iteration:  72%|███████▏  | 500/695 [11:33<04:02,  1.24s/it]\u001b[A\n",
            "Iteration:  72%|███████▏  | 501/695 [11:34<04:03,  1.26s/it]\u001b[A\n",
            "Iteration:  72%|███████▏  | 502/695 [11:35<04:01,  1.25s/it]\u001b[A\n",
            "Iteration:  72%|███████▏  | 503/695 [11:36<03:58,  1.24s/it]\u001b[A\n",
            "Iteration:  73%|███████▎  | 504/695 [11:38<03:57,  1.24s/it]\u001b[A\n",
            "Iteration:  73%|███████▎  | 505/695 [11:39<03:57,  1.25s/it]\u001b[A\n",
            "Iteration:  73%|███████▎  | 506/695 [11:40<03:55,  1.25s/it]\u001b[A\n",
            "Iteration:  73%|███████▎  | 507/695 [11:41<03:53,  1.24s/it]\u001b[A\n",
            "Iteration:  73%|███████▎  | 508/695 [11:43<03:53,  1.25s/it]\u001b[A\n",
            "Iteration:  73%|███████▎  | 509/695 [11:44<03:53,  1.25s/it]\u001b[A\n",
            "Iteration:  73%|███████▎  | 510/695 [11:45<03:50,  1.25s/it]\u001b[A\n",
            "Iteration:  74%|███████▎  | 511/695 [11:46<03:48,  1.24s/it]\u001b[A\n",
            "Iteration:  74%|███████▎  | 512/695 [11:48<03:47,  1.24s/it]\u001b[A\n",
            "Iteration:  74%|███████▍  | 513/695 [11:49<03:47,  1.25s/it]\u001b[A\n",
            "Iteration:  74%|███████▍  | 514/695 [11:50<03:46,  1.25s/it]\u001b[A\n",
            "Iteration:  74%|███████▍  | 515/695 [11:51<03:44,  1.25s/it]\u001b[A\n",
            "Iteration:  74%|███████▍  | 516/695 [11:53<03:46,  1.26s/it]\u001b[A\n",
            "Iteration:  74%|███████▍  | 517/695 [11:54<03:42,  1.25s/it]\u001b[A\n",
            "Iteration:  75%|███████▍  | 518/695 [11:55<03:40,  1.25s/it]\u001b[A\n",
            "Iteration:  75%|███████▍  | 519/695 [11:56<03:39,  1.25s/it]\u001b[A\n",
            "Iteration:  75%|███████▍  | 520/695 [11:58<03:38,  1.25s/it]\u001b[A"
          ]
        },
        {
          "output_type": "stream",
          "name": "stdout",
          "text": [
            "\tGlobal step: 825 | LR: [1.7517517517517518e-06, 1.7517517517517518e-06] | Avg. loss: 0.233\n"
          ]
        },
        {
          "output_type": "stream",
          "name": "stderr",
          "text": [
            "\n",
            "Iteration:  75%|███████▍  | 521/695 [11:59<03:41,  1.27s/it]\u001b[A\n",
            "Iteration:  75%|███████▌  | 522/695 [12:00<03:41,  1.28s/it]\u001b[A\n",
            "Iteration:  75%|███████▌  | 523/695 [12:01<03:32,  1.24s/it]\u001b[A\n",
            "Iteration:  75%|███████▌  | 524/695 [12:03<03:33,  1.25s/it]\u001b[A\n",
            "Iteration:  76%|███████▌  | 525/695 [12:04<03:33,  1.25s/it]\u001b[A\n",
            "Iteration:  76%|███████▌  | 526/695 [12:05<03:30,  1.25s/it]\u001b[A\n",
            "Iteration:  76%|███████▌  | 527/695 [12:06<03:30,  1.26s/it]\u001b[A\n",
            "Iteration:  76%|███████▌  | 528/695 [12:08<03:26,  1.24s/it]\u001b[A\n",
            "Iteration:  76%|███████▌  | 529/695 [12:09<03:27,  1.25s/it]\u001b[A\n",
            "Iteration:  76%|███████▋  | 530/695 [12:10<03:25,  1.24s/it]\u001b[A\n",
            "Iteration:  76%|███████▋  | 531/695 [12:11<03:23,  1.24s/it]\u001b[A\n",
            "Iteration:  77%|███████▋  | 532/695 [12:13<03:22,  1.24s/it]\u001b[A\n",
            "Iteration:  77%|███████▋  | 533/695 [12:14<03:23,  1.25s/it]\u001b[A\n",
            "Iteration:  77%|███████▋  | 534/695 [12:15<03:20,  1.25s/it]\u001b[A\n",
            "Iteration:  77%|███████▋  | 535/695 [12:16<03:18,  1.24s/it]\u001b[A\n",
            "Iteration:  77%|███████▋  | 536/695 [12:18<03:18,  1.25s/it]\u001b[A\n",
            "Iteration:  77%|███████▋  | 537/695 [12:19<03:17,  1.25s/it]\u001b[A\n",
            "Iteration:  77%|███████▋  | 538/695 [12:20<03:15,  1.25s/it]\u001b[A\n",
            "Iteration:  78%|███████▊  | 539/695 [12:21<03:14,  1.25s/it]\u001b[A\n",
            "Iteration:  78%|███████▊  | 540/695 [12:23<03:13,  1.25s/it]\u001b[A\n",
            "Iteration:  78%|███████▊  | 541/695 [12:24<03:13,  1.26s/it]\u001b[A\n",
            "Iteration:  78%|███████▊  | 542/695 [12:25<03:10,  1.25s/it]\u001b[A\n",
            "Iteration:  78%|███████▊  | 543/695 [12:26<03:09,  1.25s/it]\u001b[A\n",
            "Iteration:  78%|███████▊  | 544/695 [12:28<03:08,  1.25s/it]\u001b[A\n",
            "Iteration:  78%|███████▊  | 545/695 [12:29<03:08,  1.26s/it]\u001b[A\n",
            "Iteration:  79%|███████▊  | 546/695 [12:30<03:06,  1.25s/it]\u001b[A\n",
            "Iteration:  79%|███████▊  | 547/695 [12:31<03:05,  1.25s/it]\u001b[A\n",
            "Iteration:  79%|███████▉  | 548/695 [12:33<03:04,  1.25s/it]\u001b[A\n",
            "Iteration:  79%|███████▉  | 549/695 [12:34<03:04,  1.26s/it]\u001b[A\n",
            "Iteration:  79%|███████▉  | 550/695 [12:35<03:02,  1.26s/it]\u001b[A\n",
            "Iteration:  79%|███████▉  | 551/695 [12:36<03:01,  1.26s/it]\u001b[A\n",
            "Iteration:  79%|███████▉  | 552/695 [12:38<02:59,  1.26s/it]\u001b[A\n",
            "Iteration:  80%|███████▉  | 553/695 [12:39<02:59,  1.27s/it]\u001b[A\n",
            "Iteration:  80%|███████▉  | 554/695 [12:40<02:57,  1.26s/it]\u001b[A\n",
            "Iteration:  80%|███████▉  | 555/695 [12:41<02:56,  1.26s/it]\u001b[A\n",
            "Iteration:  80%|████████  | 556/695 [12:43<02:54,  1.26s/it]\u001b[A\n",
            "Iteration:  80%|████████  | 557/695 [12:44<02:54,  1.27s/it]\u001b[A\n",
            "Iteration:  80%|████████  | 558/695 [12:45<02:53,  1.26s/it]\u001b[A\n",
            "Iteration:  80%|████████  | 559/695 [12:47<02:51,  1.26s/it]\u001b[A\n",
            "Iteration:  81%|████████  | 560/695 [12:48<02:50,  1.27s/it]\u001b[A\n",
            "Iteration:  81%|████████  | 561/695 [12:49<02:50,  1.27s/it]\u001b[A\n",
            "Iteration:  81%|████████  | 562/695 [12:50<02:47,  1.26s/it]\u001b[A\n",
            "Iteration:  81%|████████  | 563/695 [12:52<02:45,  1.26s/it]\u001b[A\n",
            "Iteration:  81%|████████  | 564/695 [12:53<02:44,  1.26s/it]\u001b[A\n",
            "Iteration:  81%|████████▏ | 565/695 [12:54<02:44,  1.27s/it]\u001b[A\n",
            "Iteration:  81%|████████▏ | 566/695 [12:55<02:43,  1.26s/it]\u001b[A\n",
            "Iteration:  82%|████████▏ | 567/695 [12:57<02:41,  1.26s/it]\u001b[A\n",
            "Iteration:  82%|████████▏ | 568/695 [12:58<02:40,  1.26s/it]\u001b[A\n",
            "Iteration:  82%|████████▏ | 569/695 [12:59<02:39,  1.27s/it]\u001b[A\n",
            "Iteration:  82%|████████▏ | 570/695 [13:00<02:38,  1.27s/it]\u001b[A\n",
            "Iteration:  82%|████████▏ | 571/695 [13:02<02:36,  1.26s/it]\u001b[A\n",
            "Iteration:  82%|████████▏ | 572/695 [13:03<02:35,  1.26s/it]\u001b[A\n",
            "Iteration:  82%|████████▏ | 573/695 [13:04<02:34,  1.27s/it]\u001b[A\n",
            "Iteration:  83%|████████▎ | 574/695 [13:05<02:32,  1.26s/it]\u001b[A\n",
            "Iteration:  83%|████████▎ | 575/695 [13:07<02:30,  1.26s/it]\u001b[A\n",
            "Iteration:  83%|████████▎ | 576/695 [13:08<02:29,  1.25s/it]\u001b[A\n",
            "Iteration:  83%|████████▎ | 577/695 [13:09<02:28,  1.26s/it]\u001b[A\n",
            "Iteration:  83%|████████▎ | 578/695 [13:10<02:26,  1.25s/it]\u001b[A\n",
            "Iteration:  83%|████████▎ | 579/695 [13:12<02:25,  1.25s/it]\u001b[A\n",
            "Iteration:  83%|████████▎ | 580/695 [13:13<02:24,  1.26s/it]\u001b[A\n",
            "Iteration:  84%|████████▎ | 581/695 [13:14<02:23,  1.26s/it]\u001b[A\n",
            "Iteration:  84%|████████▎ | 582/695 [13:15<02:21,  1.25s/it]\u001b[A\n",
            "Iteration:  84%|████████▍ | 583/695 [13:17<02:20,  1.25s/it]\u001b[A\n",
            "Iteration:  84%|████████▍ | 584/695 [13:18<02:18,  1.25s/it]\u001b[A\n",
            "Iteration:  84%|████████▍ | 585/695 [13:19<02:18,  1.26s/it]\u001b[A\n",
            "Iteration:  84%|████████▍ | 586/695 [13:20<02:16,  1.25s/it]\u001b[A\n",
            "Iteration:  84%|████████▍ | 587/695 [13:22<02:15,  1.25s/it]\u001b[A\n",
            "Iteration:  85%|████████▍ | 588/695 [13:23<02:13,  1.25s/it]\u001b[A\n",
            "Iteration:  85%|████████▍ | 589/695 [13:24<02:13,  1.26s/it]\u001b[A\n",
            "Iteration:  85%|████████▍ | 590/695 [13:26<02:11,  1.25s/it]\u001b[A\n",
            "Iteration:  85%|████████▌ | 591/695 [13:27<02:10,  1.25s/it]\u001b[A\n",
            "Iteration:  85%|████████▌ | 592/695 [13:28<02:09,  1.26s/it]\u001b[A\n",
            "Iteration:  85%|████████▌ | 593/695 [13:29<02:08,  1.26s/it]\u001b[A\n",
            "Iteration:  85%|████████▌ | 594/695 [13:31<02:06,  1.25s/it]\u001b[A\n",
            "Iteration:  86%|████████▌ | 595/695 [13:32<02:04,  1.25s/it]\u001b[A\n",
            "Iteration:  86%|████████▌ | 596/695 [13:33<02:03,  1.25s/it]\u001b[A\n",
            "Iteration:  86%|████████▌ | 597/695 [13:34<02:02,  1.25s/it]\u001b[A\n",
            "Iteration:  86%|████████▌ | 598/695 [13:36<02:01,  1.25s/it]\u001b[A\n",
            "Iteration:  86%|████████▌ | 599/695 [13:37<01:59,  1.25s/it]\u001b[A\n",
            "Iteration:  86%|████████▋ | 600/695 [13:38<01:58,  1.25s/it]\u001b[A\n",
            "Iteration:  86%|████████▋ | 601/695 [13:39<01:57,  1.25s/it]\u001b[A\n",
            "Iteration:  87%|████████▋ | 602/695 [13:41<01:56,  1.25s/it]\u001b[A\n",
            "Iteration:  87%|████████▋ | 603/695 [13:42<01:54,  1.25s/it]\u001b[A\n",
            "Iteration:  87%|████████▋ | 604/695 [13:43<01:53,  1.25s/it]\u001b[A\n",
            "Iteration:  87%|████████▋ | 605/695 [13:44<01:52,  1.26s/it]\u001b[A\n",
            "Iteration:  87%|████████▋ | 606/695 [13:46<01:50,  1.25s/it]\u001b[A\n",
            "Iteration:  87%|████████▋ | 607/695 [13:47<01:49,  1.24s/it]\u001b[A\n",
            "Iteration:  87%|████████▋ | 608/695 [13:48<01:48,  1.25s/it]\u001b[A\n",
            "Iteration:  88%|████████▊ | 609/695 [13:49<01:48,  1.26s/it]\u001b[A\n",
            "Iteration:  88%|████████▊ | 610/695 [13:50<01:45,  1.24s/it]\u001b[A\n",
            "Iteration:  88%|████████▊ | 611/695 [13:52<01:44,  1.24s/it]\u001b[A\n",
            "Iteration:  88%|████████▊ | 612/695 [13:53<01:43,  1.24s/it]\u001b[A\n",
            "Iteration:  88%|████████▊ | 613/695 [13:54<01:43,  1.26s/it]\u001b[A\n",
            "Iteration:  88%|████████▊ | 614/695 [13:56<01:41,  1.25s/it]\u001b[A\n",
            "Iteration:  88%|████████▊ | 615/695 [13:57<01:40,  1.25s/it]\u001b[A\n",
            "Iteration:  89%|████████▊ | 616/695 [13:58<01:38,  1.25s/it]\u001b[A\n",
            "Iteration:  89%|████████▉ | 617/695 [13:59<01:38,  1.26s/it]\u001b[A\n",
            "Iteration:  89%|████████▉ | 618/695 [14:01<01:36,  1.26s/it]\u001b[A\n",
            "Iteration:  89%|████████▉ | 619/695 [14:02<01:34,  1.25s/it]\u001b[A"
          ]
        },
        {
          "output_type": "stream",
          "name": "stdout",
          "text": [
            "\tGlobal step: 850 | LR: [1.5015015015015017e-06, 1.5015015015015017e-06] | Avg. loss: 0.220\n",
            "====================\n",
            "\tEvaluating on valiadtion set!\n"
          ]
        },
        {
          "output_type": "stream",
          "name": "stderr",
          "text": [
            "\n",
            "\n",
            "Evaluating:   0%|          | 0/32 [00:00<?, ?it/s]\u001b[A\u001b[A\n",
            "\n",
            "Evaluating:   3%|▎         | 1/32 [00:01<00:37,  1.22s/it]\u001b[A\u001b[A"
          ]
        },
        {
          "output_type": "stream",
          "name": "stdout",
          "text": [
            "1.0\n"
          ]
        },
        {
          "output_type": "stream",
          "name": "stderr",
          "text": [
            "\n",
            "\n",
            "Evaluating:   6%|▋         | 2/32 [00:01<00:22,  1.32it/s]\u001b[A\u001b[A"
          ]
        },
        {
          "output_type": "stream",
          "name": "stdout",
          "text": [
            "0.96875\n"
          ]
        },
        {
          "output_type": "stream",
          "name": "stderr",
          "text": [
            "\n",
            "\n",
            "Evaluating:   9%|▉         | 3/32 [00:02<00:17,  1.63it/s]\u001b[A\u001b[A"
          ]
        },
        {
          "output_type": "stream",
          "name": "stdout",
          "text": [
            "0.9375\n"
          ]
        },
        {
          "output_type": "stream",
          "name": "stderr",
          "text": [
            "\n",
            "\n",
            "Evaluating:  12%|█▎        | 4/32 [00:02<00:15,  1.84it/s]\u001b[A\u001b[A"
          ]
        },
        {
          "output_type": "stream",
          "name": "stdout",
          "text": [
            "0.84375\n"
          ]
        },
        {
          "output_type": "stream",
          "name": "stderr",
          "text": [
            "\n",
            "\n",
            "Evaluating:  16%|█▌        | 5/32 [00:02<00:13,  1.99it/s]\u001b[A\u001b[A"
          ]
        },
        {
          "output_type": "stream",
          "name": "stdout",
          "text": [
            "0.90625\n"
          ]
        },
        {
          "output_type": "stream",
          "name": "stderr",
          "text": [
            "\n",
            "\n",
            "Evaluating:  19%|█▉        | 6/32 [00:03<00:12,  2.09it/s]\u001b[A\u001b[A"
          ]
        },
        {
          "output_type": "stream",
          "name": "stdout",
          "text": [
            "0.84375\n"
          ]
        },
        {
          "output_type": "stream",
          "name": "stderr",
          "text": [
            "\n",
            "\n",
            "Evaluating:  22%|██▏       | 7/32 [00:03<00:11,  2.15it/s]\u001b[A\u001b[A"
          ]
        },
        {
          "output_type": "stream",
          "name": "stdout",
          "text": [
            "0.90625\n"
          ]
        },
        {
          "output_type": "stream",
          "name": "stderr",
          "text": [
            "\n",
            "\n",
            "Evaluating:  25%|██▌       | 8/32 [00:04<00:10,  2.19it/s]\u001b[A\u001b[A"
          ]
        },
        {
          "output_type": "stream",
          "name": "stdout",
          "text": [
            "0.9375\n"
          ]
        },
        {
          "output_type": "stream",
          "name": "stderr",
          "text": [
            "\n",
            "\n",
            "Evaluating:  28%|██▊       | 9/32 [00:04<00:10,  2.23it/s]\u001b[A\u001b[A"
          ]
        },
        {
          "output_type": "stream",
          "name": "stdout",
          "text": [
            "0.90625\n"
          ]
        },
        {
          "output_type": "stream",
          "name": "stderr",
          "text": [
            "\n",
            "\n",
            "Evaluating:  31%|███▏      | 10/32 [00:05<00:09,  2.25it/s]\u001b[A\u001b[A"
          ]
        },
        {
          "output_type": "stream",
          "name": "stdout",
          "text": [
            "0.875\n"
          ]
        },
        {
          "output_type": "stream",
          "name": "stderr",
          "text": [
            "\n",
            "\n",
            "Evaluating:  34%|███▍      | 11/32 [00:05<00:09,  2.26it/s]\u001b[A\u001b[A"
          ]
        },
        {
          "output_type": "stream",
          "name": "stdout",
          "text": [
            "1.0\n"
          ]
        },
        {
          "output_type": "stream",
          "name": "stderr",
          "text": [
            "\n",
            "\n",
            "Evaluating:  38%|███▊      | 12/32 [00:06<00:08,  2.28it/s]\u001b[A\u001b[A"
          ]
        },
        {
          "output_type": "stream",
          "name": "stdout",
          "text": [
            "0.9375\n"
          ]
        },
        {
          "output_type": "stream",
          "name": "stderr",
          "text": [
            "\n",
            "\n",
            "Evaluating:  41%|████      | 13/32 [00:06<00:08,  2.29it/s]\u001b[A\u001b[A"
          ]
        },
        {
          "output_type": "stream",
          "name": "stdout",
          "text": [
            "0.90625\n"
          ]
        },
        {
          "output_type": "stream",
          "name": "stderr",
          "text": [
            "\n",
            "\n",
            "Evaluating:  44%|████▍     | 14/32 [00:06<00:07,  2.29it/s]\u001b[A\u001b[A"
          ]
        },
        {
          "output_type": "stream",
          "name": "stdout",
          "text": [
            "0.9375\n"
          ]
        },
        {
          "output_type": "stream",
          "name": "stderr",
          "text": [
            "\n",
            "\n",
            "Evaluating:  47%|████▋     | 15/32 [00:07<00:07,  2.30it/s]\u001b[A\u001b[A"
          ]
        },
        {
          "output_type": "stream",
          "name": "stdout",
          "text": [
            "0.875\n"
          ]
        },
        {
          "output_type": "stream",
          "name": "stderr",
          "text": [
            "\n",
            "\n",
            "Evaluating:  50%|█████     | 16/32 [00:07<00:06,  2.30it/s]\u001b[A\u001b[A"
          ]
        },
        {
          "output_type": "stream",
          "name": "stdout",
          "text": [
            "0.90625\n"
          ]
        },
        {
          "output_type": "stream",
          "name": "stderr",
          "text": [
            "\n",
            "\n",
            "Evaluating:  53%|█████▎    | 17/32 [00:08<00:06,  2.30it/s]\u001b[A\u001b[A"
          ]
        },
        {
          "output_type": "stream",
          "name": "stdout",
          "text": [
            "0.8125\n"
          ]
        },
        {
          "output_type": "stream",
          "name": "stderr",
          "text": [
            "\n",
            "\n",
            "Evaluating:  56%|█████▋    | 18/32 [00:08<00:06,  2.30it/s]\u001b[A\u001b[A"
          ]
        },
        {
          "output_type": "stream",
          "name": "stdout",
          "text": [
            "0.84375\n"
          ]
        },
        {
          "output_type": "stream",
          "name": "stderr",
          "text": [
            "\n",
            "\n",
            "Evaluating:  59%|█████▉    | 19/32 [00:09<00:05,  2.29it/s]\u001b[A\u001b[A"
          ]
        },
        {
          "output_type": "stream",
          "name": "stdout",
          "text": [
            "0.90625\n"
          ]
        },
        {
          "output_type": "stream",
          "name": "stderr",
          "text": [
            "\n",
            "\n",
            "Evaluating:  62%|██████▎   | 20/32 [00:09<00:05,  2.29it/s]\u001b[A\u001b[A"
          ]
        },
        {
          "output_type": "stream",
          "name": "stdout",
          "text": [
            "0.875\n"
          ]
        },
        {
          "output_type": "stream",
          "name": "stderr",
          "text": [
            "\n",
            "\n",
            "Evaluating:  66%|██████▌   | 21/32 [00:09<00:04,  2.30it/s]\u001b[A\u001b[A"
          ]
        },
        {
          "output_type": "stream",
          "name": "stdout",
          "text": [
            "0.78125\n"
          ]
        },
        {
          "output_type": "stream",
          "name": "stderr",
          "text": [
            "\n",
            "\n",
            "Evaluating:  69%|██████▉   | 22/32 [00:10<00:04,  2.30it/s]\u001b[A\u001b[A"
          ]
        },
        {
          "output_type": "stream",
          "name": "stdout",
          "text": [
            "0.8125\n"
          ]
        },
        {
          "output_type": "stream",
          "name": "stderr",
          "text": [
            "\n",
            "\n",
            "Evaluating:  72%|███████▏  | 23/32 [00:10<00:03,  2.29it/s]\u001b[A\u001b[A"
          ]
        },
        {
          "output_type": "stream",
          "name": "stdout",
          "text": [
            "0.8125\n"
          ]
        },
        {
          "output_type": "stream",
          "name": "stderr",
          "text": [
            "\n",
            "\n",
            "Evaluating:  75%|███████▌  | 24/32 [00:11<00:03,  2.30it/s]\u001b[A\u001b[A"
          ]
        },
        {
          "output_type": "stream",
          "name": "stdout",
          "text": [
            "0.84375\n"
          ]
        },
        {
          "output_type": "stream",
          "name": "stderr",
          "text": [
            "\n",
            "\n",
            "Evaluating:  78%|███████▊  | 25/32 [00:11<00:03,  2.30it/s]\u001b[A\u001b[A"
          ]
        },
        {
          "output_type": "stream",
          "name": "stdout",
          "text": [
            "0.78125\n"
          ]
        },
        {
          "output_type": "stream",
          "name": "stderr",
          "text": [
            "\n",
            "\n",
            "Evaluating:  81%|████████▏ | 26/32 [00:12<00:02,  2.29it/s]\u001b[A\u001b[A"
          ]
        },
        {
          "output_type": "stream",
          "name": "stdout",
          "text": [
            "0.8125\n"
          ]
        },
        {
          "output_type": "stream",
          "name": "stderr",
          "text": [
            "\n",
            "\n",
            "Evaluating:  84%|████████▍ | 27/32 [00:12<00:02,  2.30it/s]\u001b[A\u001b[A"
          ]
        },
        {
          "output_type": "stream",
          "name": "stdout",
          "text": [
            "0.90625\n"
          ]
        },
        {
          "output_type": "stream",
          "name": "stderr",
          "text": [
            "\n",
            "\n",
            "Evaluating:  88%|████████▊ | 28/32 [00:12<00:01,  2.30it/s]\u001b[A\u001b[A"
          ]
        },
        {
          "output_type": "stream",
          "name": "stdout",
          "text": [
            "0.875\n"
          ]
        },
        {
          "output_type": "stream",
          "name": "stderr",
          "text": [
            "\n",
            "\n",
            "Evaluating:  91%|█████████ | 29/32 [00:13<00:01,  2.30it/s]\u001b[A\u001b[A"
          ]
        },
        {
          "output_type": "stream",
          "name": "stdout",
          "text": [
            "0.875\n"
          ]
        },
        {
          "output_type": "stream",
          "name": "stderr",
          "text": [
            "\n",
            "\n",
            "Evaluating:  94%|█████████▍| 30/32 [00:13<00:00,  2.30it/s]\u001b[A\u001b[A"
          ]
        },
        {
          "output_type": "stream",
          "name": "stdout",
          "text": [
            "0.8125\n"
          ]
        },
        {
          "output_type": "stream",
          "name": "stderr",
          "text": [
            "\n",
            "\n",
            "Evaluating:  97%|█████████▋| 31/32 [00:14<00:00,  2.31it/s]\u001b[A\u001b[A\n",
            "\n",
            "Evaluating: 100%|██████████| 32/32 [00:14<00:00,  2.22it/s]"
          ]
        },
        {
          "output_type": "stream",
          "name": "stdout",
          "text": [
            "0.75\n",
            "1.0\n",
            "== Finished evaluating model: next_sentence_cls_0 ==\n",
            "\tMean evaluation acc: 0.881\n"
          ]
        },
        {
          "output_type": "stream",
          "name": "stderr",
          "text": [
            "\n",
            "\n",
            "Iteration:  89%|████████▉ | 620/695 [14:23<09:14,  7.39s/it]\u001b[A"
          ]
        },
        {
          "output_type": "stream",
          "name": "stdout",
          "text": [
            "\tEvaluation accuracy: 0.881 | Stale count: 0\n",
            "====================\n"
          ]
        },
        {
          "output_type": "stream",
          "name": "stderr",
          "text": [
            "\n",
            "Iteration:  89%|████████▉ | 621/695 [14:24<06:35,  5.34s/it]\u001b[A\n",
            "Iteration:  89%|████████▉ | 622/695 [14:25<04:59,  4.11s/it]\u001b[A\n",
            "Iteration:  90%|████████▉ | 623/695 [14:26<03:53,  3.24s/it]\u001b[A\n",
            "Iteration:  90%|████████▉ | 624/695 [14:28<03:07,  2.64s/it]\u001b[A\n",
            "Iteration:  90%|████████▉ | 625/695 [14:29<02:35,  2.23s/it]\u001b[A\n",
            "Iteration:  90%|█████████ | 626/695 [14:30<02:13,  1.93s/it]\u001b[A\n",
            "Iteration:  90%|█████████ | 627/695 [14:31<01:56,  1.72s/it]\u001b[A\n",
            "Iteration:  90%|█████████ | 628/695 [14:33<01:45,  1.57s/it]\u001b[A\n",
            "Iteration:  91%|█████████ | 629/695 [14:34<01:37,  1.48s/it]\u001b[A\n",
            "Iteration:  91%|█████████ | 630/695 [14:35<01:31,  1.41s/it]\u001b[A\n",
            "Iteration:  91%|█████████ | 631/695 [14:36<01:26,  1.36s/it]\u001b[A\n",
            "Iteration:  91%|█████████ | 632/695 [14:38<01:23,  1.32s/it]\u001b[A\n",
            "Iteration:  91%|█████████ | 633/695 [14:39<01:21,  1.31s/it]\u001b[A\n",
            "Iteration:  91%|█████████ | 634/695 [14:40<01:18,  1.29s/it]\u001b[A\n",
            "Iteration:  91%|█████████▏| 635/695 [14:41<01:16,  1.27s/it]\u001b[A\n",
            "Iteration:  92%|█████████▏| 636/695 [14:43<01:14,  1.27s/it]\u001b[A\n",
            "Iteration:  92%|█████████▏| 637/695 [14:44<01:13,  1.27s/it]\u001b[A\n",
            "Iteration:  92%|█████████▏| 638/695 [14:45<01:11,  1.26s/it]\u001b[A\n",
            "Iteration:  92%|█████████▏| 639/695 [14:46<01:10,  1.25s/it]\u001b[A\n",
            "Iteration:  92%|█████████▏| 640/695 [14:48<01:08,  1.25s/it]\u001b[A\n",
            "Iteration:  92%|█████████▏| 641/695 [14:49<01:08,  1.26s/it]\u001b[A\n",
            "Iteration:  92%|█████████▏| 642/695 [14:50<01:06,  1.26s/it]\u001b[A\n",
            "Iteration:  93%|█████████▎| 643/695 [14:51<01:04,  1.25s/it]\u001b[A\n",
            "Iteration:  93%|█████████▎| 644/695 [14:53<01:03,  1.25s/it]\u001b[A\n",
            "Iteration:  93%|█████████▎| 645/695 [14:54<01:03,  1.26s/it]\u001b[A\n",
            "Iteration:  93%|█████████▎| 646/695 [14:55<01:01,  1.25s/it]\u001b[A\n",
            "Iteration:  93%|█████████▎| 647/695 [14:56<00:59,  1.25s/it]\u001b[A\n",
            "Iteration:  93%|█████████▎| 648/695 [14:58<00:58,  1.25s/it]\u001b[A\n",
            "Iteration:  93%|█████████▎| 649/695 [14:59<00:57,  1.26s/it]\u001b[A\n",
            "Iteration:  94%|█████████▎| 650/695 [15:00<00:56,  1.25s/it]\u001b[A\n",
            "Iteration:  94%|█████████▎| 651/695 [15:01<00:55,  1.25s/it]\u001b[A\n",
            "Iteration:  94%|█████████▍| 652/695 [15:03<00:53,  1.25s/it]\u001b[A\n",
            "Iteration:  94%|█████████▍| 653/695 [15:04<00:52,  1.26s/it]\u001b[A\n",
            "Iteration:  94%|█████████▍| 654/695 [15:05<00:51,  1.25s/it]\u001b[A\n",
            "Iteration:  94%|█████████▍| 655/695 [15:06<00:49,  1.25s/it]\u001b[A\n",
            "Iteration:  94%|█████████▍| 656/695 [15:08<00:48,  1.25s/it]\u001b[A\n",
            "Iteration:  95%|█████████▍| 657/695 [15:09<00:47,  1.26s/it]\u001b[A\n",
            "Iteration:  95%|█████████▍| 658/695 [15:10<00:46,  1.25s/it]\u001b[A\n",
            "Iteration:  95%|█████████▍| 659/695 [15:11<00:44,  1.25s/it]\u001b[A\n",
            "Iteration:  95%|█████████▍| 660/695 [15:13<00:43,  1.25s/it]\u001b[A\n",
            "Iteration:  95%|█████████▌| 661/695 [15:14<00:42,  1.26s/it]\u001b[A\n",
            "Iteration:  95%|█████████▌| 662/695 [15:15<00:41,  1.25s/it]\u001b[A\n",
            "Iteration:  95%|█████████▌| 663/695 [15:16<00:39,  1.25s/it]\u001b[A\n",
            "Iteration:  96%|█████████▌| 664/695 [15:18<00:38,  1.25s/it]\u001b[A\n",
            "Iteration:  96%|█████████▌| 665/695 [15:19<00:37,  1.26s/it]\u001b[A\n",
            "Iteration:  96%|█████████▌| 666/695 [15:20<00:36,  1.25s/it]\u001b[A\n",
            "Iteration:  96%|█████████▌| 667/695 [15:21<00:34,  1.24s/it]\u001b[A\n",
            "Iteration:  96%|█████████▌| 668/695 [15:23<00:33,  1.24s/it]\u001b[A\n",
            "Iteration:  96%|█████████▋| 669/695 [15:24<00:32,  1.25s/it]\u001b[A\n",
            "Iteration:  96%|█████████▋| 670/695 [15:25<00:31,  1.25s/it]\u001b[A\n",
            "Iteration:  97%|█████████▋| 671/695 [15:26<00:29,  1.25s/it]\u001b[A\n",
            "Iteration:  97%|█████████▋| 672/695 [15:28<00:28,  1.24s/it]\u001b[A\n",
            "Iteration:  97%|█████████▋| 673/695 [15:29<00:27,  1.25s/it]\u001b[A\n",
            "Iteration:  97%|█████████▋| 674/695 [15:30<00:26,  1.25s/it]\u001b[A\n",
            "Iteration:  97%|█████████▋| 675/695 [15:31<00:24,  1.24s/it]\u001b[A\n",
            "Iteration:  97%|█████████▋| 676/695 [15:33<00:23,  1.24s/it]\u001b[A\n",
            "Iteration:  97%|█████████▋| 677/695 [15:34<00:22,  1.25s/it]\u001b[A\n",
            "Iteration:  98%|█████████▊| 678/695 [15:35<00:21,  1.25s/it]\u001b[A\n",
            "Iteration:  98%|█████████▊| 679/695 [15:36<00:19,  1.24s/it]\u001b[A\n",
            "Iteration:  98%|█████████▊| 680/695 [15:38<00:18,  1.25s/it]\u001b[A\n",
            "Iteration:  98%|█████████▊| 681/695 [15:39<00:17,  1.25s/it]\u001b[A\n",
            "Iteration:  98%|█████████▊| 682/695 [15:40<00:16,  1.24s/it]\u001b[A\n",
            "Iteration:  98%|█████████▊| 683/695 [15:41<00:14,  1.24s/it]\u001b[A\n",
            "Iteration:  98%|█████████▊| 684/695 [15:43<00:13,  1.24s/it]\u001b[A\n",
            "Iteration:  99%|█████████▊| 685/695 [15:44<00:12,  1.25s/it]\u001b[A\n",
            "Iteration:  99%|█████████▊| 686/695 [15:45<00:11,  1.25s/it]\u001b[A\n",
            "Iteration:  99%|█████████▉| 687/695 [15:46<00:09,  1.24s/it]\u001b[A\n",
            "Iteration:  99%|█████████▉| 688/695 [15:48<00:08,  1.24s/it]\u001b[A\n",
            "Iteration:  99%|█████████▉| 689/695 [15:49<00:07,  1.25s/it]\u001b[A\n",
            "Iteration:  99%|█████████▉| 690/695 [15:50<00:06,  1.25s/it]\u001b[A\n",
            "Iteration:  99%|█████████▉| 691/695 [15:51<00:04,  1.24s/it]\u001b[A\n",
            "Iteration: 100%|█████████▉| 692/695 [15:53<00:03,  1.24s/it]\u001b[A\n",
            "Iteration: 100%|█████████▉| 693/695 [15:54<00:02,  1.25s/it]\u001b[A\n",
            "Iteration: 100%|█████████▉| 694/695 [15:55<00:01,  1.25s/it]\u001b[A\n",
            "Iteration: 100%|██████████| 695/695 [15:56<00:00,  1.38s/it]\n",
            "Epoch: 100%|██████████| 5/5 [1:18:48<00:00, 945.63s/it]\n"
          ]
        },
        {
          "output_type": "execute_result",
          "data": {
            "text/plain": [
              "(868, 0.0)"
            ]
          },
          "metadata": {},
          "execution_count": 11
        }
      ]
    },
    {
      "cell_type": "code",
      "source": [
        "# Test model\n",
        "trainer.test()\n"
      ],
      "metadata": {
        "id": "Bm3QofmxvEnS",
        "colab": {
          "base_uri": "https://localhost:8080/"
        },
        "outputId": "f3562d3f-7695-4ef0-86ca-379909efa5a3"
      },
      "execution_count": null,
      "outputs": [
        {
          "output_type": "stream",
          "name": "stdout",
          "text": [
            "Sampling a test item from the test data!\n",
            "Context: Person 1: It seems that nobody in your class likes Paul . Person 2: The boy is good for nothing . Person 1: As a teacher , I don ’ t know how to help him . Person 2: \n",
            "Targets: [\" Well , you're right , the resume is limited in how much it can tell someone about a person . That's why job interviews are important to let people know the real you that they can't see from a piece of paper . But resumes can be helpful in explaining things and giving a good impression to a potential employer . \", \" I love it . It's so festive ! And where did you get that cup ? It's got the same logo . \", \" I'm sorry , dad . But I would rather stay at school than go to cram school . \", ' No , thank you . ', ' That looks great . Do you have ties here ? ', \" Yes , I have , Mr . Thomas . We'll pack them two dozen to one carton , and the gross weight is around 25 kilos a carton . \"]\n",
            "Expected output: -1\n",
            "Encoding data ...\n"
          ]
        },
        {
          "output_type": "execute_result",
          "data": {
            "text/plain": [
              "-1"
            ]
          },
          "metadata": {},
          "execution_count": 23
        }
      ]
    },
    {
      "cell_type": "code",
      "source": [
        "context = [\"Person 1: Do you happen to have their email or phone number so we get in touch?\", \"Person 2: Email of who? Myself or the store owner ?\", \"Person 1:\"]\n",
        "targets = [\"I dont want to answer.\",\n",
        "           \"I dont know.\",\n",
        "           \"Email.\",\n",
        "           \"Sure, the email is example@companyname.com.\",\n",
        "           \"No.\",\n",
        "           \"Yes.\",\n",
        "           \"Maybe.\",\n",
        "           \"Something not understood.\",\n",
        "           \"Phone number.\",\n",
        "           \"I'm not entirely confident if I'm permitted to share contacts.\"]\n",
        "label = -1\n",
        "\n",
        "trainer.test(context=context, targets=targets)"
      ],
      "metadata": {
        "colab": {
          "base_uri": "https://localhost:8080/",
          "height": 125
        },
        "id": "4RY9d7ml-l6O",
        "outputId": "b37afa8d-6c55-4443-bc2c-12f03eea9081"
      },
      "execution_count": null,
      "outputs": [
        {
          "output_type": "stream",
          "name": "stdout",
          "text": [
            "Context: Person 1: Do you happen to have their email or phone number so we get in touch? Person 2: Email of who? Myself or the store owner ? Person 1:\n",
            "Targets: ['I dont want to answer.', 'I dont know.', 'Email.', 'Sure, the email is example@companyname.com.', 'No.', 'Yes.', 'Maybe.', 'Something not understood.', 'Phone number.', \"I'm not entirely confident if I'm permitted to share contacts.\"]\n",
            "Expected output: None\n",
            "Encoding data ...\n"
          ]
        },
        {
          "output_type": "execute_result",
          "data": {
            "text/plain": [
              "'Phone number.'"
            ],
            "application/vnd.google.colaboratory.intrinsic+json": {
              "type": "string"
            }
          },
          "metadata": {},
          "execution_count": 24
        }
      ]
    }
  ]
}